{
  "cells": [
    {
      "cell_type": "markdown",
      "metadata": {
        "id": "view-in-github",
        "colab_type": "text"
      },
      "source": [
        "<a href=\"https://colab.research.google.com/github/yshungria-uniandes/Data-Science-Fundamentals-/blob/main/Working_with_Text_Data_Exercises.ipynb\" target=\"_parent\"><img src=\"https://colab.research.google.com/assets/colab-badge.svg\" alt=\"Open In Colab\"/></a>"
      ]
    },
    {
      "cell_type": "markdown",
      "metadata": {
        "id": "TpsHPy_Opjpb"
      },
      "source": [
        "<hr style=\"border:5px solid #108999\"> </hr>"
      ]
    },
    {
      "cell_type": "markdown",
      "metadata": {
        "id": "CjU7mNHcpjpe"
      },
      "source": [
        "# Working with Text Data <hr style=\"border:4.5px solid #108999\"> </hr>"
      ]
    },
    {
      "cell_type": "markdown",
      "metadata": {
        "id": "lm-WWblspjpe"
      },
      "source": [
        "## Working with Text Data and Argument Specifiers"
      ]
    },
    {
      "cell_type": "markdown",
      "metadata": {
        "id": "S0AcP51dpjpf"
      },
      "source": [
        "Execute the following code cell to create four variables containing the following information: names of local car shops, brands of cars expected to be available for sale next year, the specific number of cars to be sold, and their price."
      ]
    },
    {
      "cell_type": "code",
      "execution_count": null,
      "metadata": {
        "id": "BhjnslZhpjpf"
      },
      "outputs": [],
      "source": [
        "car_shop = ['Fast Cars', 'Elegant Cars']\n",
        "car_brand = ['Audi', 'Ford']\n",
        "number_of_cars_for_sale = [1000, 1200]\n",
        "price_of_model = 37500.50"
      ]
    },
    {
      "cell_type": "markdown",
      "metadata": {
        "id": "mb8EDVt3pjpg"
      },
      "source": [
        "Use the string and integer argument specifiers, along with indexing, to create the following sentence with the help of the four variables you just created.\n",
        "<br>\"The \"Fast Cars\" shop are expecting to sell 1000 units of the new Audi model at 37500.50 per unit next year.\""
      ]
    },
    {
      "cell_type": "code",
      "execution_count": null,
      "metadata": {
        "scrolled": true,
        "id": "D7zy_MPgpjpg"
      },
      "outputs": [],
      "source": []
    },
    {
      "cell_type": "markdown",
      "metadata": {
        "id": "IHh67Mh4pjpg"
      },
      "source": [
        "Change the index value of the previous code cell to obtain the following string as an output:\n",
        "<br>\"The \"Elegant Cars\" shop are expecting to sell 1200 units of the new Ford model next year.\""
      ]
    },
    {
      "cell_type": "code",
      "execution_count": null,
      "metadata": {
        "id": "B6QuvEsGpjph"
      },
      "outputs": [],
      "source": []
    },
    {
      "cell_type": "markdown",
      "metadata": {
        "id": "_21GSSmVpjph"
      },
      "source": [
        "## Manipulating Python Strings"
      ]
    },
    {
      "cell_type": "markdown",
      "metadata": {
        "id": "FFL_yligpjph"
      },
      "source": [
        "Execute the following cell to create four variables you can complete the subsequent tasks with:"
      ]
    },
    {
      "cell_type": "code",
      "execution_count": null,
      "metadata": {
        "id": "HJGD63trpjph"
      },
      "outputs": [],
      "source": [
        "car_shop = ['Fast Cars', 'Elegant Cars']\n",
        "car_brand = ['Audi', 'Ford']\n",
        "number_of_cars_for_sale = [1000, 1200]\n",
        "price_of_model = 37500.50"
      ]
    },
    {
      "cell_type": "markdown",
      "metadata": {
        "id": "SI6x9zCApjph"
      },
      "source": [
        "Use the **print()** function, argument specifiers, the variables created above, and the combination of the escape character and the letter n, i.e. **\\n,** to display the following string, while preserving the number of lines:"
      ]
    },
    {
      "cell_type": "markdown",
      "metadata": {
        "id": "mcUqkJsVpjpi"
      },
      "source": [
        "Current list of local car shops:\n",
        "<br>\"Fast Cars\"\n",
        "<br>\"Elegant Cars\""
      ]
    },
    {
      "cell_type": "code",
      "execution_count": null,
      "metadata": {
        "id": "Ihbh0__1pjpi"
      },
      "outputs": [],
      "source": []
    },
    {
      "cell_type": "markdown",
      "metadata": {
        "id": "E-8es8IBpjpi"
      },
      "source": [
        "Use the **print()** function and carriage return to substitute \"Product A1\" with \"Category A\" and thus correct the following sentence:\n",
        "<br>\"Product A1 is our best category of products.\""
      ]
    },
    {
      "cell_type": "code",
      "execution_count": null,
      "metadata": {
        "id": "FVyvfIumpjpi"
      },
      "outputs": [],
      "source": []
    },
    {
      "cell_type": "markdown",
      "metadata": {
        "id": "7R5ENHXOpjpi"
      },
      "source": [
        "Use argument specifiers, the variables created above, and the plus sign (+) within the parentheses of a **print()** function, to create the following string: <br>The \"Fast Cars\" shop are expecting to sell 1000 units of the new Audi model next year. The \"Elegant Cars\" shop are expecting to sell 1200 units of the new Ford model next year.\n",
        "<br>*Hint: Please feel free to directly refer to the code you created earlier in this exercise. Also, don't forget that you can write code on several lines for better legibility!*"
      ]
    },
    {
      "cell_type": "code",
      "execution_count": null,
      "metadata": {
        "id": "TvpPnAhupjpi"
      },
      "outputs": [],
      "source": []
    },
    {
      "cell_type": "markdown",
      "metadata": {
        "id": "7alJMbGrpjpi"
      },
      "source": [
        "In the previous code cell, place the combination **\\t** at the correct place twice in order to separate the two sentences with two tabs as opposed to just combining them. <br> *Hint: There are several possible solutions to this task.*"
      ]
    },
    {
      "cell_type": "code",
      "execution_count": null,
      "metadata": {
        "id": "3ZOpGkcYpjpi"
      },
      "outputs": [],
      "source": []
    },
    {
      "cell_type": "markdown",
      "metadata": {
        "id": "4nVv_7SJpjpi"
      },
      "source": [
        "## Using Various String Methods"
      ]
    },
    {
      "cell_type": "markdown",
      "metadata": {
        "id": "ysuQOpWApjpi"
      },
      "source": [
        "Execute the next cell to create a variable called **s** (which stands for 'string') and assign the string \"Administrative expenses\" to it."
      ]
    },
    {
      "cell_type": "code",
      "execution_count": null,
      "metadata": {
        "scrolled": true,
        "id": "di85BGn_pjpi",
        "outputId": "0ae6daaf-b7b2-4428-a3c4-978445641930"
      },
      "outputs": [
        {
          "data": {
            "text/plain": [
              "'Administrative expenses'"
            ]
          },
          "execution_count": 9,
          "metadata": {},
          "output_type": "execute_result"
        }
      ],
      "source": [
        "s = 'Administrative expenses'\n",
        "s"
      ]
    },
    {
      "cell_type": "markdown",
      "metadata": {
        "id": "il67oBDUpjpj"
      },
      "source": [
        "Use the **.replace()** method to change the word \"Administrative\" with \"Selling\", thus making the variable **s** contain the string \"Selling expenses\".\n",
        "<br>As you are doing that, store the output in a new variable called **s1**."
      ]
    },
    {
      "cell_type": "code",
      "execution_count": null,
      "metadata": {
        "id": "3VIhix58pjpj"
      },
      "outputs": [],
      "source": []
    },
    {
      "cell_type": "markdown",
      "metadata": {
        "id": "h0aGQGUWpjpj"
      },
      "source": [
        "Check if the string **s** currently starts with \"Admin\"?"
      ]
    },
    {
      "cell_type": "code",
      "execution_count": null,
      "metadata": {
        "id": "x-MOnY_Fpjpj"
      },
      "outputs": [],
      "source": []
    },
    {
      "cell_type": "markdown",
      "metadata": {
        "id": "yXZfVvZ-pjpj"
      },
      "source": [
        "Verify that the string stored in **s1** now starts with \"Sell\"."
      ]
    },
    {
      "cell_type": "code",
      "execution_count": null,
      "metadata": {
        "id": "ionhmuKFpjpj"
      },
      "outputs": [],
      "source": []
    },
    {
      "cell_type": "markdown",
      "metadata": {
        "id": "Qtxo1zXcpjpj"
      },
      "source": [
        "Will you obtain the same output if you verified for \"sell\" instead of \"Sell\"?"
      ]
    },
    {
      "cell_type": "code",
      "execution_count": null,
      "metadata": {
        "id": "KvLAZ4f2pjpk"
      },
      "outputs": [],
      "source": []
    },
    {
      "cell_type": "markdown",
      "metadata": {
        "id": "4xpT9l9Rpjpk"
      },
      "source": [
        "Does the expression in **s1** end at \"diture\"?"
      ]
    },
    {
      "cell_type": "code",
      "execution_count": null,
      "metadata": {
        "id": "e87jnxnbpjpk"
      },
      "outputs": [],
      "source": []
    },
    {
      "cell_type": "markdown",
      "metadata": {
        "id": "WSBJDv9Hpjpk"
      },
      "source": [
        "Well, then you can verify that the expression in **s1** actually ends at \"ses\". Is this True?"
      ]
    },
    {
      "cell_type": "code",
      "execution_count": null,
      "metadata": {
        "id": "PX5R1oIUpjpk"
      },
      "outputs": [],
      "source": []
    },
    {
      "cell_type": "markdown",
      "metadata": {
        "id": "WDeoYL2opjpk"
      },
      "source": [
        "Use a Python method without passing any arguments into it to return a list containing the words from **s1** as its elements."
      ]
    },
    {
      "cell_type": "code",
      "execution_count": null,
      "metadata": {
        "id": "5SQVDH_Npjpk"
      },
      "outputs": [],
      "source": []
    },
    {
      "cell_type": "markdown",
      "metadata": {
        "id": "1sEBVvJ1pjpk"
      },
      "source": [
        "Obtain the same output while passing an argument within the parentheses of the same method this time."
      ]
    },
    {
      "cell_type": "code",
      "execution_count": null,
      "metadata": {
        "id": "HG5DACO_pjpn"
      },
      "outputs": [],
      "source": []
    },
    {
      "cell_type": "code",
      "execution_count": null,
      "metadata": {
        "id": "nUjHZ7yQpjpn"
      },
      "outputs": [],
      "source": []
    },
    {
      "cell_type": "markdown",
      "metadata": {
        "id": "oNXQ4zYnpjpn"
      },
      "source": [
        "Split the **s1** string by the letter s to explore a list with what elements you will obtain."
      ]
    },
    {
      "cell_type": "code",
      "execution_count": null,
      "metadata": {
        "id": "m1khuZuvpjpo"
      },
      "outputs": [],
      "source": []
    },
    {
      "cell_type": "markdown",
      "metadata": {
        "id": "OWvKqtN1pjpo"
      },
      "source": [
        "Execute the following code cell to create and display the string called **s2**."
      ]
    },
    {
      "cell_type": "code",
      "execution_count": null,
      "metadata": {
        "id": "n7Eqqv_hpjpo",
        "outputId": "4412a196-0804-4fc2-dba5-ad8ac85365c7"
      },
      "outputs": [
        {
          "data": {
            "text/plain": [
              "'personal ID, first name, last name, date of birth, place of birth, city of birth'"
            ]
          },
          "execution_count": 40,
          "metadata": {},
          "output_type": "execute_result"
        }
      ],
      "source": [
        "s2 = \"personal ID, first name, last name, date of birth, place of birth, city of birth\"\n",
        "s2"
      ]
    },
    {
      "cell_type": "markdown",
      "metadata": {
        "id": "Ul9GoA_3pjpo"
      },
      "source": [
        "Use a Python's method to split the text of **s2** into different elements as separated by the comma symbol.\n",
        "<br>*Note: Due to the length of the output, it might be displayed on several lines as opposed to a single one. You can try to display the elements from the obtained list on a single line, with the help of the **print()** function.*"
      ]
    },
    {
      "cell_type": "code",
      "execution_count": null,
      "metadata": {
        "id": "rly8ey1fpjpo"
      },
      "outputs": [],
      "source": []
    },
    {
      "cell_type": "code",
      "execution_count": null,
      "metadata": {
        "id": "xqEpIjrdpjpo"
      },
      "outputs": [],
      "source": []
    },
    {
      "cell_type": "markdown",
      "metadata": {
        "id": "rgESC_oapjpo"
      },
      "source": [
        "How many elements are there in the **s2** string currently?"
      ]
    },
    {
      "cell_type": "code",
      "execution_count": null,
      "metadata": {
        "id": "mxTEE_oRpjpo"
      },
      "outputs": [],
      "source": []
    },
    {
      "cell_type": "markdown",
      "metadata": {
        "id": "GH6-r4SKpjpo"
      },
      "source": [
        "If you've worked correctly, you should have obtained 80.\n",
        "<br>Therefore, now store the list obtained after splitting the elements from **s2** in a variable called **list_01**, and then print its output."
      ]
    },
    {
      "cell_type": "code",
      "execution_count": null,
      "metadata": {
        "id": "qZQk6tippjpp"
      },
      "outputs": [],
      "source": []
    },
    {
      "cell_type": "markdown",
      "metadata": {
        "id": "wK6gzqSHpjpp"
      },
      "source": [
        "How many elements are there in the **list_01** list currently?"
      ]
    },
    {
      "cell_type": "code",
      "execution_count": null,
      "metadata": {
        "id": "gJXhEA7Hpjpp"
      },
      "outputs": [],
      "source": []
    },
    {
      "cell_type": "markdown",
      "metadata": {
        "id": "t9VYCpZVpjpp"
      },
      "source": [
        "If you've worked correctly, you should have obtained the value of 6 as an output."
      ]
    },
    {
      "cell_type": "markdown",
      "metadata": {
        "id": "dTDIhYbdpjpp"
      },
      "source": [
        "Execute the next cell to remember what string was contained in the variable **s**."
      ]
    },
    {
      "cell_type": "code",
      "execution_count": null,
      "metadata": {
        "id": "GskqyktDpjpp"
      },
      "outputs": [],
      "source": []
    },
    {
      "cell_type": "markdown",
      "metadata": {
        "id": "IIKHuEuOpjpp"
      },
      "source": [
        "Use a Python method to display all letters of that string in the output as lowercase."
      ]
    },
    {
      "cell_type": "code",
      "execution_count": null,
      "metadata": {
        "id": "3zOFmoi4pjpp"
      },
      "outputs": [],
      "source": []
    },
    {
      "cell_type": "markdown",
      "metadata": {
        "id": "HykeFL_fpjpp"
      },
      "source": [
        "By analogy, use another Python method to display all letters as uppercase."
      ]
    },
    {
      "cell_type": "code",
      "execution_count": null,
      "metadata": {
        "id": "NfoFNegNpjpp"
      },
      "outputs": [],
      "source": []
    },
    {
      "cell_type": "markdown",
      "metadata": {
        "id": "AR4CpSEfpjpq"
      },
      "source": [
        "Apply a Python method that will return the first letter of each word of **s** as uppercase, while the rest of the letters remain lowercase."
      ]
    },
    {
      "cell_type": "code",
      "execution_count": null,
      "metadata": {
        "id": "KY71Jx2Hpjpq"
      },
      "outputs": [],
      "source": []
    },
    {
      "cell_type": "markdown",
      "metadata": {
        "id": "bz3_VsYHpjpq"
      },
      "source": [
        "Execute the following code cell to create and visualise a string called **name1**."
      ]
    },
    {
      "cell_type": "code",
      "execution_count": null,
      "metadata": {
        "id": "UuNh3g_Mpjpq"
      },
      "outputs": [],
      "source": [
        "name1 = 'Martin Peterson   '\n",
        "name1"
      ]
    },
    {
      "cell_type": "markdown",
      "metadata": {
        "id": "qyodHBYPpjpq"
      },
      "source": [
        "Use a Python's string method to remove the whitespaces at the right end of the string.\n",
        "<br>*Note that there are two solutions of this task so feel free to use any of them.*"
      ]
    },
    {
      "cell_type": "code",
      "execution_count": null,
      "metadata": {
        "id": "WUMuC9LDpjpq"
      },
      "outputs": [],
      "source": []
    },
    {
      "cell_type": "code",
      "execution_count": null,
      "metadata": {
        "id": "wSnofoeDpjpq"
      },
      "outputs": [],
      "source": []
    },
    {
      "cell_type": "markdown",
      "metadata": {
        "id": "y557m5fcpjpq"
      },
      "source": [
        "## String Accessors"
      ]
    },
    {
      "cell_type": "markdown",
      "metadata": {
        "id": "vSmJ4qICpjpq"
      },
      "source": [
        "In this Notebook Document, we'll be working on methods that apply to pandas objects, so you can start by importing the pandas library in the standard way."
      ]
    },
    {
      "cell_type": "code",
      "execution_count": null,
      "metadata": {
        "id": "ZFofu3lRpjpq"
      },
      "outputs": [],
      "source": [
        "import pandas as pd"
      ]
    },
    {
      "cell_type": "markdown",
      "metadata": {
        "id": "Unz_95Pxpjpq"
      },
      "source": [
        "Execute the next cell to create and visualise a pandas Series object containing the names of 3 people."
      ]
    },
    {
      "cell_type": "code",
      "execution_count": null,
      "metadata": {
        "id": "lhx6H3pFpjpr"
      },
      "outputs": [],
      "source": [
        "names = pd.Series([\"Martin Peterson\", \"John Fitzpatrick\", \"Kate Cruz\"])\n",
        "names"
      ]
    },
    {
      "cell_type": "markdown",
      "metadata": {
        "id": "6lkogsb9pjpr"
      },
      "source": [
        "Use the relevant string accessor *twice* – once with the **.split()** method and indexing (within parentheses) to remove the first names of all individuals. Store the obtained output in a new variable called **last_names**."
      ]
    },
    {
      "cell_type": "code",
      "execution_count": null,
      "metadata": {
        "id": "-Mxg70j5pjpr"
      },
      "outputs": [],
      "source": []
    },
    {
      "cell_type": "markdown",
      "metadata": {
        "id": "3388WGhVpjpr"
      },
      "source": [
        "Check the type of the **last_names** object."
      ]
    },
    {
      "cell_type": "code",
      "execution_count": null,
      "metadata": {
        "id": "Yvw3q9O5pjpr"
      },
      "outputs": [],
      "source": []
    },
    {
      "cell_type": "markdown",
      "metadata": {
        "id": "AqLN7d1Epjpr"
      },
      "source": [
        "Check which of the names in **last_names** contain the letter **s**.\n",
        "If you've worked correctly, you should obtain a True value only for the first element of the **last_names** Series."
      ]
    },
    {
      "cell_type": "code",
      "execution_count": null,
      "metadata": {
        "id": "M8gb6Mm_pjpr"
      },
      "outputs": [],
      "source": []
    },
    {
      "cell_type": "markdown",
      "metadata": {
        "id": "nmHwx6rVpjpr"
      },
      "source": [
        "## Using the .format() Method"
      ]
    },
    {
      "cell_type": "markdown",
      "metadata": {
        "id": "6DQerqJ7pjps"
      },
      "source": [
        "Consider the following string."
      ]
    },
    {
      "cell_type": "code",
      "execution_count": null,
      "metadata": {
        "id": "9MA18wizpjps",
        "outputId": "aedcd66a-6f0a-4f1c-f3a8-c6346d47e9d0"
      },
      "outputs": [
        {
          "data": {
            "text/plain": [
              "\"{} expect their next year's sales of Q{} to {}.\""
            ]
          },
          "execution_count": 2,
          "metadata": {},
          "output_type": "execute_result"
        }
      ],
      "source": [
        "\"{} expect their next year's sales of Q{} to {}.\""
      ]
    },
    {
      "cell_type": "markdown",
      "metadata": {
        "id": "fuS9hOr1pjps"
      },
      "source": [
        "Use the **.format()** method to substitute the pairs of braces in the string with the following three values, thus obtaining information about the sales of Company A for the third quarter of next year:\n",
        "<br>'Company A'\n",
        "<br>3\n",
        "<br>'increase'"
      ]
    },
    {
      "cell_type": "code",
      "execution_count": null,
      "metadata": {
        "id": "XtQYbwhEpjps"
      },
      "outputs": [],
      "source": []
    },
    {
      "cell_type": "markdown",
      "metadata": {
        "id": "8-ZXfCCqpjps"
      },
      "source": [
        "Execute the next cell to create three variables that store information about companies, quarters and sales performance predictions, respectively."
      ]
    },
    {
      "cell_type": "code",
      "execution_count": null,
      "metadata": {
        "id": "DFBrZj2kpjps"
      },
      "outputs": [],
      "source": [
        "companies = ['Company A', 'Company B']\n",
        "quarter = [1, 2, 3, 4]\n",
        "sales_performance_prediction = ['increase', 'decrease', 'remain the same']"
      ]
    },
    {
      "cell_type": "markdown",
      "metadata": {
        "id": "75GsjLccpjps"
      },
      "source": [
        "Obtain the same output as above while referring to the three lists you just created. Help yourself with using appropriate indexing.\n",
        "<br>Here's the output you need to aim for as a reference.\n",
        "<br>\"Company A expect their next year's sales of Q3 to increase.\""
      ]
    },
    {
      "cell_type": "code",
      "execution_count": null,
      "metadata": {
        "id": "KfyBkMefpjps"
      },
      "outputs": [],
      "source": []
    },
    {
      "cell_type": "markdown",
      "metadata": {
        "id": "lZikJjoLpjpt"
      },
      "source": [
        "Feel free to experiment with the same line of code while referencing different values from the three lists that have been given."
      ]
    },
    {
      "cell_type": "markdown",
      "metadata": {
        "id": "Io-9uAkqpjpt"
      },
      "source": [
        "Here's an example:"
      ]
    },
    {
      "cell_type": "code",
      "execution_count": null,
      "metadata": {
        "id": "zMZN32Qbpjpt",
        "outputId": "c9672dd1-837f-42b6-e4f3-e7bd599bb7f3"
      },
      "outputs": [
        {
          "data": {
            "text/plain": [
              "\"Company B expect their next year's sales of Q4 to remain the same.\""
            ]
          },
          "execution_count": 5,
          "metadata": {},
          "output_type": "execute_result"
        }
      ],
      "source": [
        "\"{} expect their next year's sales of Q{} to {}.\".format(companies[1], quarter[3], sales_performance_prediction[2])"
      ]
    }
  ],
  "metadata": {
    "kernelspec": {
      "display_name": "Python 3",
      "language": "python",
      "name": "python3"
    },
    "language_info": {
      "codemirror_mode": {
        "name": "ipython",
        "version": 3
      },
      "file_extension": ".py",
      "mimetype": "text/x-python",
      "name": "python",
      "nbconvert_exporter": "python",
      "pygments_lexer": "ipython3",
      "version": "3.8.5"
    },
    "colab": {
      "provenance": [],
      "include_colab_link": true
    }
  },
  "nbformat": 4,
  "nbformat_minor": 0
}