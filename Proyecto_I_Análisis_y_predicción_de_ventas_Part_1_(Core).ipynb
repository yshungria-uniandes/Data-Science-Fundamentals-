{
  "nbformat": 4,
  "nbformat_minor": 0,
  "metadata": {
    "colab": {
      "provenance": [],
      "mount_file_id": "15L0hDQBaPPYh7pbLnE9Wg-e0Bm08Dn0I",
      "authorship_tag": "ABX9TyOTBaqERrgWINyB3UuC8RCX",
      "include_colab_link": true
    },
    "kernelspec": {
      "name": "python3",
      "display_name": "Python 3"
    },
    "language_info": {
      "name": "python"
    }
  },
  "cells": [
    {
      "cell_type": "markdown",
      "metadata": {
        "id": "view-in-github",
        "colab_type": "text"
      },
      "source": [
        "<a href=\"https://colab.research.google.com/github/yshungria-uniandes/Data-Science-Fundamentals-/blob/main/Proyecto_I_An%C3%A1lisis_y_predicci%C3%B3n_de_ventas_Part_1_(Core).ipynb\" target=\"_parent\"><img src=\"https://colab.research.google.com/assets/colab-badge.svg\" alt=\"Open In Colab\"/></a>"
      ]
    },
    {
      "cell_type": "markdown",
      "source": [
        "# **1- Preprocesamiento Básico con numpy**"
      ],
      "metadata": {
        "id": "Y4Au3An4n8Mk"
      }
    },
    {
      "cell_type": "code",
      "execution_count": 12,
      "metadata": {
        "colab": {
          "base_uri": "https://localhost:8080/"
        },
        "id": "zy4So9gsO8oy",
        "outputId": "0667ad68-2700-4d89-81b8-cf363e67de2e"
      },
      "outputs": [
        {
          "output_type": "stream",
          "name": "stdout",
          "text": [
            "Drive already mounted at /content/drive; to attempt to forcibly remount, call drive.mount(\"/content/drive\", force_remount=True).\n"
          ]
        }
      ],
      "source": [
        "from google.colab import drive\n",
        "drive.mount('/content/drive')"
      ]
    },
    {
      "cell_type": "markdown",
      "source": [
        "##**a) Leer y procesar los datos**\n",
        "\n",
        "###**a.1) Leer y cargar data set desde un CSV**"
      ],
      "metadata": {
        "id": "eY0M24oRnz0J"
      }
    },
    {
      "cell_type": "code",
      "source": [
        "# Importamos la librería numpy, que es útil para trabajar con matrices y datos numéricos\n",
        "import numpy as np\n",
        "\n",
        "# Leemos el archivo CSV utilizando la función 'genfromtxt' de numpy.\n",
        "# Especificamos que el archivo está delimitado por comas, y que los datos tienen nombres de columna en la primera fila.\n",
        "# 'dtype=None' permite que numpy infiera el tipo de datos automáticamente.\n",
        "# 'encoding=\"utf-8\"' asegura que se manejen correctamente los caracteres especiales (como acentos).\n",
        "# 'names=True' asegura que la primera fila se utilice como los nombres de las columnas.\n",
        "data_csv = np.genfromtxt('/content/drive/MyDrive/DataSets/retail_sales_dataset.csv', delimiter=',', dtype=None, encoding='utf-8', names=True)\n",
        "\n",
        "\n",
        "# Mostramos los nombres de las columnas en el dataset utilizando 'dtype.names', que es un atributo del objeto numpy estructurado.\n",
        "# Este atributo nos da los nombres de las columnas leídas en el archivo CSV.\n",
        "print(\"Nombres de las columnas:\", data_csv.dtype.names)\n",
        "\n",
        "# Mostramos los primeros 5 registros del dataset usando 'data_csv[:5]'.\n",
        "# Esto nos permite ver una muestra de los datos cargados, pero limitando la salida a las primeras 5 filas.\n",
        "print(\"\\nDatos del dataset:\")\n",
        "print(data_csv[:5])"
      ],
      "metadata": {
        "colab": {
          "base_uri": "https://localhost:8080/"
        },
        "id": "Po_D-Ij8PYzy",
        "outputId": "fcd62044-c211-4960-b9f7-5629d6250cfb"
      },
      "execution_count": 13,
      "outputs": [
        {
          "output_type": "stream",
          "name": "stdout",
          "text": [
            "Nombres de las columnas: ('Transaction_ID', 'Date', 'Customer_ID', 'Gender', 'Age', 'Product_Category', 'Quantity', 'Price_per_Unit', 'Total_Amount')\n",
            "\n",
            "Datos del dataset:\n",
            "[(1, '2023-11-24', 'CUST001', 'Male', 34, 'Beauty', 3,  50,  150)\n",
            " (2, '2023-02-27', 'CUST002', 'Female', 26, 'Clothing', 2, 500, 1000)\n",
            " (3, '2023-01-13', 'CUST003', 'Male', 50, 'Electronics', 1,  30,   30)\n",
            " (4, '2023-05-21', 'CUST004', 'Male', 37, 'Clothing', 1, 500,  500)\n",
            " (5, '2023-05-06', 'CUST005', 'Male', 30, 'Beauty', 2,  50,  100)]\n"
          ]
        }
      ]
    },
    {
      "cell_type": "markdown",
      "source": [
        "## **b) Verificar si hay valores nulos y reemplazarlos**\n",
        "\n",
        "---"
      ],
      "metadata": {
        "id": "33EiqS-Dn2lx"
      }
    },
    {
      "cell_type": "markdown",
      "source": [
        "### **b.1) Verifir datos nulos dentro del data set**"
      ],
      "metadata": {
        "id": "py3NrPcLoQlw"
      }
    },
    {
      "cell_type": "code",
      "source": [
        "### **b.1) Verifir datos nulos dentro del data set**\n",
        "\n",
        "# Iteramos sobre cada nombre de columna en el dataset para verificar si hay valores nulos\n",
        "for column in data_csv.dtype.names:\n",
        "    # Comprobamos si la columna tiene tipo de dato 'float' (números decimales)\n",
        "    if data_csv[column].dtype == 'float':\n",
        "        # Si la columna es de tipo float, usamos np.isnan() para contar cuántos valores nulos (NaN) hay en esa columna\n",
        "        print(f\"\\nValores nulos en columna {column}:\", np.sum(np.isnan(data_csv[column])))\n",
        "    else:\n",
        "        # Si la columna no es de tipo float, asumimos que no contiene valores nulos\n",
        "        # (esto puede variar dependiendo del tipo de datos, pero este es un enfoque común)\n",
        "        print(f'No existen datos nulos en la columna {column}')"
      ],
      "metadata": {
        "colab": {
          "base_uri": "https://localhost:8080/"
        },
        "id": "3rtOcxLln1-A",
        "outputId": "1ffff63a-aa40-4ee0-bba6-b1b1b952fbac"
      },
      "execution_count": 14,
      "outputs": [
        {
          "output_type": "stream",
          "name": "stdout",
          "text": [
            "No existen datos nulos en la columna Transaction_ID\n",
            "No existen datos nulos en la columna Date\n",
            "No existen datos nulos en la columna Customer_ID\n",
            "No existen datos nulos en la columna Gender\n",
            "No existen datos nulos en la columna Age\n",
            "No existen datos nulos en la columna Product_Category\n",
            "No existen datos nulos en la columna Quantity\n",
            "No existen datos nulos en la columna Price_per_Unit\n",
            "No existen datos nulos en la columna Total_Amount\n"
          ]
        }
      ]
    },
    {
      "cell_type": "markdown",
      "source": [
        "## a) Calcular el total de ventas por categoría de producto\n",
        "\n",
        "### **a.1) Agrupación con np.unique y bucles**\n",
        "\n",
        "> Agregar bloque entrecomillado\n"
      ],
      "metadata": {
        "id": "N6rRYHpjrr8F"
      }
    },
    {
      "cell_type": "code",
      "source": [
        "# Obtener categorías únicas e índices inversos\n",
        "categories, inverse = np.unique(data_csv['Product_Category'], return_inverse=True)\n",
        "# np.unique encuentra todos los valores únicos en la columna 'Product_Category'.\n",
        "# La opción return_inverse=True devuelve un array de índices que mapea cada valor original\n",
        "# a su posición correspondiente en el array de categorías únicas.\n"
      ],
      "metadata": {
        "id": "KGoCm3I4ouYp"
      },
      "execution_count": 15,
      "outputs": []
    },
    {
      "cell_type": "markdown",
      "source": [
        "### Ejemplo práctico:\n",
        "\n",
        "Supongamos que la columna 'Product_Category' contiene estos valores:\n",
        "\n",
        "python\n",
        "\n",
        "\n",
        "```\n",
        "['A', 'B', 'A', 'C', 'B', 'C', 'A']\n",
        "\n",
        "```\n",
        "\n",
        "Al ejecutar el código:\n",
        "\n",
        "\n",
        "\n",
        "\n",
        "```\n",
        "categories, inverse = np.unique(data_csv['Product_Category'], return_inverse=True)\n",
        "\n",
        "```\n",
        "\n",
        "El resultado será:\n",
        "\n",
        "categories:\n",
        "\n",
        "\n",
        "\n",
        "```\n",
        "array(['A', 'B', 'C'])\n",
        "```\n",
        "\n",
        "\n",
        "inverse:\n",
        "\n",
        "\n",
        "\n",
        "\n",
        "```\n",
        "array([0, 1, 0, 2, 1, 2, 0])\n",
        "```\n",
        "\n",
        "\n",
        "Interpretación:\n",
        "\n",
        "categories tiene los valores únicos: 'A', 'B', 'C'.\n",
        "\n",
        "inverse te dice que el primer elemento original ('A') corresponde al índice 0 en categories, el segundo elemento ('B') al índice 1, y así sucesivamente.\n",
        "\n",
        "Esto es útil, por ejemplo, si quieres convertir categorías a índices numéricos para análisis o modelado."
      ],
      "metadata": {
        "id": "cbKrLzCEte40"
      }
    },
    {
      "cell_type": "code",
      "source": [
        "# Calcular el total de ventas por categoría\n",
        "total_ventas_por_categoria = {\n",
        "    category: np.sum(data_csv['Total_Amount'][inverse == idx])\n",
        "    for idx, category in enumerate(categories)\n",
        "}\n",
        "\n",
        "# Se crea un diccionario para almacenar el total de ventas por categoría.\n",
        "# - `enumerate(categories)`: Itera sobre cada categoría y su índice correspondiente.\n",
        "# - `inverse == idx`: Crea una máscara booleana que selecciona las filas de 'Transaction_ID'\n",
        "#   donde la categoría coincide con la actual (índice `idx`).\n",
        "# - `np.sum(...)`: Suma los valores de 'Transaction_ID' seleccionados por la máscara,\n",
        "#   lo que da el total de ventas para esa categoría.\n",
        "\n",
        "# Imprimir el total de ventas por categoría\n",
        "print(\"\\nTotal de ventas por categoría:\")\n",
        "print(total_ventas_por_categoria)\n",
        "# Se imprime el diccionario resultante, que muestra cada categoría y su total de ventas."
      ],
      "metadata": {
        "colab": {
          "base_uri": "https://localhost:8080/"
        },
        "id": "fSZAIcRJrmE1",
        "outputId": "4bf310d3-fb3e-407c-c763-c07a37dc4c7f"
      },
      "execution_count": 25,
      "outputs": [
        {
          "output_type": "stream",
          "name": "stdout",
          "text": [
            "\n",
            "Total de ventas por categoría:\n",
            "{'Beauty': 143515, 'Clothing': 155580, 'Electronics': 156905}\n"
          ]
        }
      ]
    },
    {
      "cell_type": "markdown",
      "source": [
        "## b) Calcular el promedio de ventas diarias por categoría de producto"
      ],
      "metadata": {
        "id": "OK3O9LJ9xF7k"
      }
    },
    {
      "cell_type": "code",
      "source": [],
      "metadata": {
        "id": "0sxZUpkaxFZ4"
      },
      "execution_count": null,
      "outputs": []
    }
  ]
}