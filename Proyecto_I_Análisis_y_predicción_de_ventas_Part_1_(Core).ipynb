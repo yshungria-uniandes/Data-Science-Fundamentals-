{
  "nbformat": 4,
  "nbformat_minor": 0,
  "metadata": {
    "colab": {
      "provenance": [],
      "mount_file_id": "15L0hDQBaPPYh7pbLnE9Wg-e0Bm08Dn0I",
      "authorship_tag": "ABX9TyNOpXJgpVVmHGtKfwBNxUtR",
      "include_colab_link": true
    },
    "kernelspec": {
      "name": "python3",
      "display_name": "Python 3"
    },
    "language_info": {
      "name": "python"
    }
  },
  "cells": [
    {
      "cell_type": "markdown",
      "metadata": {
        "id": "view-in-github",
        "colab_type": "text"
      },
      "source": [
        "<a href=\"https://colab.research.google.com/github/yshungria-uniandes/Data-Science-Fundamentals-/blob/main/Proyecto_I_An%C3%A1lisis_y_predicci%C3%B3n_de_ventas_Part_1_(Core).ipynb\" target=\"_parent\"><img src=\"https://colab.research.google.com/assets/colab-badge.svg\" alt=\"Open In Colab\"/></a>"
      ]
    },
    {
      "cell_type": "markdown",
      "source": [
        "# **Parte 1: Análisis Básico con NumPy**"
      ],
      "metadata": {
        "id": "Y4Au3An4n8Mk"
      }
    },
    {
      "cell_type": "code",
      "execution_count": 12,
      "metadata": {
        "colab": {
          "base_uri": "https://localhost:8080/"
        },
        "id": "zy4So9gsO8oy",
        "outputId": "0667ad68-2700-4d89-81b8-cf363e67de2e"
      },
      "outputs": [
        {
          "output_type": "stream",
          "name": "stdout",
          "text": [
            "Drive already mounted at /content/drive; to attempt to forcibly remount, call drive.mount(\"/content/drive\", force_remount=True).\n"
          ]
        }
      ],
      "source": [
        "from google.colab import drive\n",
        "drive.mount('/content/drive')"
      ]
    },
    {
      "cell_type": "markdown",
      "source": [
        "##**2. Carga y Preprocesamiento de Datos**\n",
        "\n",
        "###**a. Carga los datos del archivo CSV utilizando NumPy.**\n",
        "\n"
      ],
      "metadata": {
        "id": "eY0M24oRnz0J"
      }
    },
    {
      "cell_type": "code",
      "source": [
        "# Importamos la librería numpy, que es útil para trabajar con matrices y datos numéricos\n",
        "import numpy as np\n",
        "\n",
        "# Leemos el archivo CSV utilizando la función 'genfromtxt' de numpy.\n",
        "# Especificamos que el archivo está delimitado por comas, y que los datos tienen nombres de columna en la primera fila.\n",
        "# 'dtype=None' permite que numpy infiera el tipo de datos automáticamente.\n",
        "# 'encoding=\"utf-8\"' asegura que se manejen correctamente los caracteres especiales (como acentos).\n",
        "# 'names=True' asegura que la primera fila se utilice como los nombres de las columnas.\n",
        "data_csv = np.genfromtxt('/content/drive/MyDrive/DataSets/retail_sales_dataset.csv', delimiter=',', dtype=None, encoding='utf-8', names=True)\n",
        "\n",
        "\n",
        "# Mostramos los nombres de las columnas en el dataset utilizando 'dtype.names', que es un atributo del objeto numpy estructurado.\n",
        "# Este atributo nos da los nombres de las columnas leídas en el archivo CSV.\n",
        "print(\"Nombres de las columnas:\", data_csv.dtype.names)\n",
        "\n",
        "# Mostramos los primeros 5 registros del dataset usando 'data_csv[:5]'.\n",
        "# Esto nos permite ver una muestra de los datos cargados, pero limitando la salida a las primeras 5 filas.\n",
        "print(\"\\nDatos del dataset:\")\n",
        "print(data_csv[:5])"
      ],
      "metadata": {
        "colab": {
          "base_uri": "https://localhost:8080/"
        },
        "id": "Po_D-Ij8PYzy",
        "outputId": "fcd62044-c211-4960-b9f7-5629d6250cfb"
      },
      "execution_count": 13,
      "outputs": [
        {
          "output_type": "stream",
          "name": "stdout",
          "text": [
            "Nombres de las columnas: ('Transaction_ID', 'Date', 'Customer_ID', 'Gender', 'Age', 'Product_Category', 'Quantity', 'Price_per_Unit', 'Total_Amount')\n",
            "\n",
            "Datos del dataset:\n",
            "[(1, '2023-11-24', 'CUST001', 'Male', 34, 'Beauty', 3,  50,  150)\n",
            " (2, '2023-02-27', 'CUST002', 'Female', 26, 'Clothing', 2, 500, 1000)\n",
            " (3, '2023-01-13', 'CUST003', 'Male', 50, 'Electronics', 1,  30,   30)\n",
            " (4, '2023-05-21', 'CUST004', 'Male', 37, 'Clothing', 1, 500,  500)\n",
            " (5, '2023-05-06', 'CUST005', 'Male', 30, 'Beauty', 2,  50,  100)]\n"
          ]
        }
      ]
    },
    {
      "cell_type": "markdown",
      "source": [
        "## **b. Realiza un preprocesamiento básico para asegurarte de que los datos estén limpios y listos para su análisis.**\n",
        "\n",
        "---"
      ],
      "metadata": {
        "id": "33EiqS-Dn2lx"
      }
    },
    {
      "cell_type": "code",
      "source": [
        "# Reemplazar valores nulos (NaN) con la media de la columna\n",
        "for column in data_csv.dtype.names:\n",
        "    if data_csv[column].dtype == 'float64':\n",
        "        # Calcular la media de la columna, ignorando los valores NaN\n",
        "        media_columna = np.nanmean(data_csv[column])\n",
        "\n",
        "        # Reemplazar los valores NaN con la media calculada\n",
        "        data_csv[column] = np.nan_to_num(data_csv[column], nan=media_columna)\n",
        "\n",
        "# Verificar de nuevo si hay valores nulos después del reemplazo\n",
        "for column in data_csv.dtype.names:\n",
        "    if data_csv[column].dtype == 'float64':\n",
        "        print(f\"\\nValores nulos en columna {column} después del reemplazo:\", np.sum(np.isnan(data_csv[column])))\n",
        "    else:\n",
        "        print(f'No existen datos nulos en la columna {column}')\n",
        "\n",
        "print(\"\\nDatos del dataset después de reemplazar valores nulos:\")\n",
        "print(data_csv[:5])"
      ],
      "metadata": {
        "colab": {
          "base_uri": "https://localhost:8080/"
        },
        "id": "__MUSGcSuBBP",
        "outputId": "1bb24657-5378-44c7-c8ab-f0395bfa957a"
      },
      "execution_count": 53,
      "outputs": [
        {
          "output_type": "stream",
          "name": "stdout",
          "text": [
            "No existen datos nulos en la columna Transaction_ID\n",
            "No existen datos nulos en la columna Date\n",
            "No existen datos nulos en la columna Customer_ID\n",
            "No existen datos nulos en la columna Gender\n",
            "No existen datos nulos en la columna Age\n",
            "No existen datos nulos en la columna Product_Category\n",
            "No existen datos nulos en la columna Quantity\n",
            "No existen datos nulos en la columna Price_per_Unit\n",
            "No existen datos nulos en la columna Total_Amount\n",
            "\n",
            "Datos del dataset después de reemplazar valores nulos:\n",
            "[(1, '2023-11-24', 'CUST001', 'Male', 34, 'Beauty', 3,  50,  150)\n",
            " (2, '2023-02-27', 'CUST002', 'Female', 26, 'Clothing', 2, 500, 1000)\n",
            " (3, '2023-01-13', 'CUST003', 'Male', 50, 'Electronics', 1,  30,   30)\n",
            " (4, '2023-05-21', 'CUST004', 'Male', 37, 'Clothing', 1, 500,  500)\n",
            " (5, '2023-05-06', 'CUST005', 'Male', 30, 'Beauty', 2,  50,  100)]\n"
          ]
        }
      ]
    },
    {
      "cell_type": "markdown",
      "source": [
        "# 3. Exploración de Datos\n",
        "\n",
        "## a. Calcular el total de ventas por categoría de producto\n",
        "\n",
        "### **a. 1 Agrupación con np.unique y bucles**\n",
        "\n",
        "\n"
      ],
      "metadata": {
        "id": "N6rRYHpjrr8F"
      }
    },
    {
      "cell_type": "code",
      "source": [
        "# Obtener categorías únicas e índices inversos\n",
        "categories, inverse = np.unique(data_csv['Product_Category'], return_inverse=True)\n",
        "# np.unique encuentra todos los valores únicos en la columna 'Product_Category'.\n",
        "# La opción return_inverse=True devuelve un array de índices que mapea cada valor original\n",
        "# a su posición correspondiente en el array de categorías únicas.\n"
      ],
      "metadata": {
        "id": "KGoCm3I4ouYp"
      },
      "execution_count": 26,
      "outputs": []
    },
    {
      "cell_type": "markdown",
      "source": [
        "### Ejemplo práctico:\n",
        "\n",
        "Supongamos que la columna 'Product_Category' contiene estos valores:\n",
        "\n",
        "python\n",
        "\n",
        "\n",
        "```\n",
        "['A', 'B', 'A', 'C', 'B', 'C', 'A']\n",
        "\n",
        "```\n",
        "\n",
        "Al ejecutar el código:\n",
        "\n",
        "\n",
        "\n",
        "\n",
        "```\n",
        "categories, inverse = np.unique(data_csv['Product_Category'], return_inverse=True)\n",
        "\n",
        "```\n",
        "\n",
        "El resultado será:\n",
        "\n",
        "categories:\n",
        "\n",
        "\n",
        "\n",
        "```\n",
        "array(['A', 'B', 'C'])\n",
        "```\n",
        "\n",
        "\n",
        "inverse:\n",
        "\n",
        "\n",
        "\n",
        "\n",
        "```\n",
        "array([0, 1, 0, 2, 1, 2, 0])\n",
        "```\n",
        "\n",
        "\n",
        "Interpretación:\n",
        "\n",
        "categories tiene los valores únicos: 'A', 'B', 'C'.\n",
        "\n",
        "inverse te dice que el primer elemento original ('A') corresponde al índice 0 en categories, el segundo elemento ('B') al índice 1, y así sucesivamente.\n",
        "\n",
        "Esto es útil, por ejemplo, si quieres convertir categorías a índices numéricos para análisis o modelado."
      ],
      "metadata": {
        "id": "cbKrLzCEte40"
      }
    },
    {
      "cell_type": "code",
      "source": [
        "# Calcular el total de ventas por categoría\n",
        "total_ventas_por_categoria = {\n",
        "    category: np.sum(data_csv['Transaction_ID'][inverse == idx])\n",
        "    for idx, category in enumerate(categories)\n",
        "}\n",
        "\n",
        "# Se crea un diccionario para almacenar el total de ventas por categoría.\n",
        "# - `enumerate(categories)`: Itera sobre cada categoría y su índice correspondiente.\n",
        "# - `inverse == idx`: Crea una máscara booleana que selecciona las filas de 'Transaction_ID'\n",
        "#   donde la categoría coincide con la actual (índice `idx`).\n",
        "# - `np.sum(...)`: Suma los valores de 'Transaction_ID' seleccionados por la máscara,\n",
        "#   lo que da el total de ventas para esa categoría.\n",
        "\n",
        "# Imprimir el total de ventas por categoría\n",
        "print(\"\\nTotal de ventas por categoría:\")\n",
        "print(total_ventas_por_categoria)\n",
        "# Se imprime el diccionario resultante, que muestra cada categoría y su total de ventas."
      ],
      "metadata": {
        "colab": {
          "base_uri": "https://localhost:8080/"
        },
        "id": "fSZAIcRJrmE1",
        "outputId": "61b60c38-b358-4ccf-cc95-8c52a5fb2ce2"
      },
      "execution_count": 28,
      "outputs": [
        {
          "output_type": "stream",
          "name": "stdout",
          "text": [
            "\n",
            "Total de ventas por categoría:\n",
            "{'Beauty': 150864, 'Clothing': 173725, 'Electronics': 175911}\n"
          ]
        }
      ]
    },
    {
      "cell_type": "markdown",
      "source": [
        "## b. Calcular el promedio de ventas diarias por categoría de producto"
      ],
      "metadata": {
        "id": "OK3O9LJ9xF7k"
      }
    },
    {
      "cell_type": "code",
      "source": [
        "import numpy as np\n",
        "\n",
        "# Suponiendo que 'data_csv' ya está cargado como en el código anterior\n",
        "\n",
        "# Convertir la columna 'Date' a objetos datetime de NumPy\n",
        "# Primero verificamos que la columna 'Date' exista y tenga datos válidos.\n",
        "if 'Date' in data_csv.dtype.names:\n",
        "    try:\n",
        "        data_csv['Date'] = np.array([np.datetime64(date) for date in data_csv['Date']])\n",
        "    except ValueError as e:\n",
        "        print(f\"Error al convertir la columna 'Date': {e}\")\n",
        "        print(\"Verifica que la columna 'Date' tenga un formato de fecha válido.\")\n",
        "        # Aquí podrías manejar el error, por ejemplo, eliminando filas incorrectas o ajustando el formato.\n",
        "        exit() # Salimos del script para evitar errores posteriores.\n",
        "\n",
        "else:\n",
        "    print(\"La columna 'Date' no se encuentra en el dataset.\")\n",
        "    exit()\n",
        "\n",
        "\n",
        "# Obtener las categorías únicas\n",
        "categories, inverse = np.unique(data_csv['Product_Category'], return_inverse=True)\n",
        "\n",
        "# Crear un diccionario para almacenar las ventas diarias por categoría\n",
        "ventas_diarias_por_categoria = {}\n",
        "for category in categories:\n",
        "    ventas_diarias_por_categoria[category] = {}  # Un diccionario para cada categoría\n",
        "\n",
        "# Iterar sobre cada fila del dataset\n",
        "for i in range(len(data_csv)):\n",
        "  # Obtener la fecha, categoría y ventas de la fila actual\n",
        "  fecha = data_csv['Date'][i]\n",
        "  categoria = data_csv['Product_Category'][i]\n",
        "  venta = data_csv['Transaction_ID'][i]  # Asumiendo que Transaction_ID representa la venta\n",
        "\n",
        "  # Si la fecha no existe para la categoría, la creamos\n",
        "  if fecha not in ventas_diarias_por_categoria[categoria]:\n",
        "      ventas_diarias_por_categoria[categoria][fecha] = 0\n",
        "\n",
        "  # Sumar las ventas para esa categoría y fecha\n",
        "  ventas_diarias_por_categoria[categoria][fecha] += venta\n",
        "\n",
        "\n",
        "# Calcular el promedio de ventas diarias por categoría\n",
        "promedio_ventas_diarias = {}\n",
        "for categoria, ventas_diarias in ventas_diarias_por_categoria.items():\n",
        "    total_ventas = sum(ventas_diarias.values())\n",
        "    num_dias = len(ventas_diarias)\n",
        "    if num_dias > 0:\n",
        "        promedio = round(total_ventas / num_dias, 2)\n",
        "        promedio_ventas_diarias[categoria] = promedio\n",
        "    else:\n",
        "        promedio_ventas_diarias[categoria] = 0 # Si no hay datos, colocamos 0.\n",
        "\n",
        "# Imprimir los resultados\n",
        "print(\"\\nPromedio de ventas diarias por categoría:\")\n",
        "for categoria, promedio in promedio_ventas_diarias.items():\n",
        "    print(f\"Categoría {categoria}: {promedio}\")"
      ],
      "metadata": {
        "colab": {
          "base_uri": "https://localhost:8080/"
        },
        "id": "0sxZUpkaxFZ4",
        "outputId": "151ab677-3e68-40e5-c162-75292313ed18"
      },
      "execution_count": 32,
      "outputs": [
        {
          "output_type": "stream",
          "name": "stdout",
          "text": [
            "\n",
            "Promedio de ventas diarias por categoría:\n",
            "Categoría Beauty: 739.53\n",
            "Categoría Clothing: 748.81\n",
            "Categoría Electronics: 803.25\n"
          ]
        }
      ]
    },
    {
      "cell_type": "markdown",
      "source": [
        "## c. **Identifica las categorías de productos con mayores y menores ventas.**"
      ],
      "metadata": {
        "id": "P2pK6fuzq4uv"
      }
    },
    {
      "cell_type": "code",
      "source": [
        "import operator\n",
        "\n",
        "print(total_ventas_por_categoria)\n",
        "# Asumiendo que 'total_ventas_por_categoria' ya está calculado como en el código anterior\n",
        "# Encontrar la categoría con mayores ventas\n",
        "categoria_mayor_venta = max(total_ventas_por_categoria.items(), key=operator.itemgetter(1))\n",
        "\n",
        "# print(categoria_mayor_venta)\n",
        "\n",
        "# Encontrar la categoría con menores ventas\n",
        "categoria_menor_venta = min(total_ventas_por_categoria.items(), key=operator.itemgetter(1))\n",
        "\n",
        "print(f\"\\nCategoría con mayores ventas: {categoria_mayor_venta[0]} con un total de {categoria_mayor_venta[1]} ventas.\")\n",
        "print(f\"Categoría con menores ventas: {categoria_menor_venta[0]} con un total de {categoria_menor_venta[1]} ventas.\")"
      ],
      "metadata": {
        "colab": {
          "base_uri": "https://localhost:8080/"
        },
        "id": "u6-GwWFAnnh6",
        "outputId": "cbe30a88-dbe1-4519-8440-ec9e10edc86b"
      },
      "execution_count": 36,
      "outputs": [
        {
          "output_type": "stream",
          "name": "stdout",
          "text": [
            "{'Beauty': 150864, 'Clothing': 173725, 'Electronics': 175911}\n",
            "\n",
            "Categoría con mayores ventas: Electronics con un total de 175911 ventas.\n",
            "Categoría con menores ventas: Beauty con un total de 150864 ventas.\n"
          ]
        }
      ]
    },
    {
      "cell_type": "markdown",
      "source": [
        "# 4. Manipulación de Datos"
      ],
      "metadata": {
        "id": "numz3fnKrEag"
      }
    },
    {
      "cell_type": "markdown",
      "source": [
        "## a. **Filtra los datos para mostrar solo las ventas de una categoría de producto específica.**"
      ],
      "metadata": {
        "id": "Y4YSGCFjrMfl"
      }
    },
    {
      "cell_type": "code",
      "source": [
        "# Filtrar datos para una categoría específica (ejemplo: 'Category_A') y mostrar los primeros 10\n",
        "categoria_especifica = 'Electronics'  # Reemplaza con la categoría que desees\n",
        "\n",
        "# Crear una máscara booleana para seleccionar las filas que coincidan con la categoría\n",
        "mascara = data_csv['Product_Category'] == categoria_especifica\n",
        "\n",
        "# Aplicar la máscara a los datos para filtrar las filas\n",
        "datos_filtrados = data_csv[mascara]\n",
        "\n",
        "# Mostrar los primeros 10 resultados\n",
        "print(f\"\\nPrimeros 10 registros para la categoría '{categoria_especifica}':\")\n",
        "print(datos_filtrados[:10])"
      ],
      "metadata": {
        "colab": {
          "base_uri": "https://localhost:8080/"
        },
        "id": "SKL64dZMpXKD",
        "outputId": "aec5166c-1b14-4e9d-9489-df3b8f7bde21"
      },
      "execution_count": 44,
      "outputs": [
        {
          "output_type": "stream",
          "name": "stdout",
          "text": [
            "\n",
            "Primeros 10 registros para la categoría 'Electronics':\n",
            "[( 3, '2023-01-13', 'CUST003', 'Male', 50, 'Electronics', 1,  30,   30)\n",
            " ( 8, '2023-02-22', 'CUST008', 'Male', 30, 'Electronics', 4,  25,  100)\n",
            " ( 9, '2023-12-13', 'CUST009', 'Male', 63, 'Electronics', 2, 300,  600)\n",
            " (13, '2023-08-05', 'CUST013', 'Male', 22, 'Electronics', 3, 500, 1500)\n",
            " (15, '2023-01-16', 'CUST015', 'Female', 42, 'Electronics', 4, 500, 2000)\n",
            " (18, '2023-04-30', 'CUST018', 'Female', 47, 'Electronics', 2,  25,   50)\n",
            " (26, '2023-10-07', 'CUST026', 'Female', 28, 'Electronics', 2, 500, 1000)\n",
            " (29, '2023-08-18', 'CUST029', 'Female', 42, 'Electronics', 1,  30,   30)\n",
            " (31, '2023-05-23', 'CUST031', 'Male', 44, 'Electronics', 4, 300, 1200)\n",
            " (33, '2023-03-23', 'CUST033', 'Female', 50, 'Electronics', 2,  50,  100)]\n"
          ]
        }
      ]
    },
    {
      "cell_type": "markdown",
      "source": [
        "## b. **Realiza operaciones de suma, resta, multiplicación y división en los datos para obtener estadísticas adicionales.**"
      ],
      "metadata": {
        "id": "IZbWjJ3xulm0"
      }
    },
    {
      "cell_type": "code",
      "source": [
        "\n",
        "# Assuming 'total_ventas_por_categoria' is already calculated as in the previous code\n",
        "\n",
        "# Calculate sum, difference, product, and quotient of sales for each category\n",
        "sum_sales = sum(total_ventas_por_categoria.values())\n",
        "# Example: Difference between the highest and lowest sales\n",
        "max_sales = max(total_ventas_por_categoria.values())\n",
        "min_sales = min(total_ventas_por_categoria.values())\n",
        "diff_sales = max_sales - min_sales\n",
        "\n",
        "# Example: Product of the first two sales values (if there are at least two)\n",
        "sales_values = list(total_ventas_por_categoria.values())\n",
        "if len(sales_values) >= 2:\n",
        "    product_sales = sales_values[0] * sales_values[1]\n",
        "else:\n",
        "    product_sales = \"Not enough categories to calculate the product\"\n",
        "\n",
        "# Example: Quotient between the first two sales values (if there are at least two and the second is not zero)\n",
        "if len(sales_values) >= 2 and sales_values[1] != 0 :\n",
        "    quotient_sales = round(sales_values[0] / sales_values[1], 2)\n",
        "else:\n",
        "    quotient_sales = \"Not enough categories to calculate the quotient or division by zero\"\n",
        "\n",
        "print(f\"\\nSuma ventas de todas las categorias: {sum_sales}\")\n",
        "print(f\"\\nDiferencia entre la maxima y la minima venta: {diff_sales}\")\n",
        "print(f\"\\nMultiplicacion de las 2 primeras categorias de ventas: {product_sales}\")\n",
        "print(f\"\\nCociente de los dos primeros valores de venta: {quotient_sales}\")"
      ],
      "metadata": {
        "colab": {
          "base_uri": "https://localhost:8080/"
        },
        "id": "0RJXODTvrDsF",
        "outputId": "84b877db-6062-4f51-e138-4618b22928d6"
      },
      "execution_count": 49,
      "outputs": [
        {
          "output_type": "stream",
          "name": "stdout",
          "text": [
            "\n",
            "Suma ventas de todas las categorias: 500500\n",
            "\n",
            "Diferencia entre la maxima y la minima venta: 25047\n",
            "\n",
            "Multiplicacion de las 2 primeras categorias de ventas: 26208848400\n",
            "\n",
            "Cociente de los dos primeros valores de venta: 0.87\n"
          ]
        }
      ]
    }
  ]
}