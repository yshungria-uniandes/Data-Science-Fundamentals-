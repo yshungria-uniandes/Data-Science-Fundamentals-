{
  "nbformat": 4,
  "nbformat_minor": 0,
  "metadata": {
    "colab": {
      "provenance": [],
      "authorship_tag": "ABX9TyMcAzofoN+0Gie/x2ZrBxRO",
      "include_colab_link": true
    },
    "kernelspec": {
      "name": "python3",
      "display_name": "Python 3"
    },
    "language_info": {
      "name": "python"
    }
  },
  "cells": [
    {
      "cell_type": "markdown",
      "metadata": {
        "id": "view-in-github",
        "colab_type": "text"
      },
      "source": [
        "<a href=\"https://colab.research.google.com/github/yshungria-uniandes/Data-Science-Fundamentals-/blob/main/Explorando_Arrays_con_Numpy.ipynb\" target=\"_parent\"><img src=\"https://colab.research.google.com/assets/colab-badge.svg\" alt=\"Open In Colab\"/></a>"
      ]
    },
    {
      "cell_type": "code",
      "execution_count": 3,
      "metadata": {
        "colab": {
          "base_uri": "https://localhost:8080/"
        },
        "id": "N5zqJOE2f8Mz",
        "outputId": "33029cfa-d3ab-407a-bb37-5c375f2a5d05"
      },
      "outputs": [
        {
          "output_type": "stream",
          "name": "stdout",
          "text": [
            "[1 5 3 8]\n"
          ]
        }
      ],
      "source": [
        "import numpy as np\n",
        "\n",
        "x = np.array([1,5,3,8])\n",
        "print(x)"
      ]
    },
    {
      "cell_type": "code",
      "source": [
        "x_list = [1,5,3,8]\n",
        "print(x_list)"
      ],
      "metadata": {
        "colab": {
          "base_uri": "https://localhost:8080/"
        },
        "id": "wklcty-FgwUr",
        "outputId": "174d6f91-9ef8-43f8-8258-9e90e0f96941"
      },
      "execution_count": 5,
      "outputs": [
        {
          "output_type": "stream",
          "name": "stdout",
          "text": [
            "[1, 5, 3, 8]\n"
          ]
        }
      ]
    },
    {
      "cell_type": "code",
      "source": [
        "# x_list + 3 No es compatible, mientras que en numpy si."
      ],
      "metadata": {
        "id": "o74dtQa2g4uW"
      },
      "execution_count": 8,
      "outputs": []
    },
    {
      "cell_type": "code",
      "source": [
        "x + 3"
      ],
      "metadata": {
        "colab": {
          "base_uri": "https://localhost:8080/"
        },
        "id": "aSln92VDhF9R",
        "outputId": "30a51f6c-44ac-4f2a-e55f-de2119042d4f"
      },
      "execution_count": 14,
      "outputs": [
        {
          "output_type": "execute_result",
          "data": {
            "text/plain": [
              "array([ 4,  8,  6, 11])"
            ]
          },
          "metadata": {},
          "execution_count": 14
        }
      ]
    },
    {
      "cell_type": "code",
      "source": [
        "x_ones = np.ones(4)\n",
        "print(x_ones)"
      ],
      "metadata": {
        "colab": {
          "base_uri": "https://localhost:8080/"
        },
        "id": "yPYMdApZhn9l",
        "outputId": "f0aed83f-260b-4c1c-ad3a-c9e3583372d0"
      },
      "execution_count": 16,
      "outputs": [
        {
          "output_type": "stream",
          "name": "stdout",
          "text": [
            "[1. 1. 1. 1.]\n"
          ]
        }
      ]
    },
    {
      "cell_type": "code",
      "source": [
        "x_zeros = np.zeros(10)\n",
        "print(x_zeros)"
      ],
      "metadata": {
        "colab": {
          "base_uri": "https://localhost:8080/"
        },
        "id": "Boxj2wIYhuR9",
        "outputId": "2e2c4d87-98e6-4b23-f320-6b327cdfc8b7"
      },
      "execution_count": 19,
      "outputs": [
        {
          "output_type": "stream",
          "name": "stdout",
          "text": [
            "[0. 0. 0. 0. 0. 0. 0. 0. 0. 0.]\n"
          ]
        }
      ]
    },
    {
      "cell_type": "code",
      "source": [
        "np.arange(10)"
      ],
      "metadata": {
        "colab": {
          "base_uri": "https://localhost:8080/"
        },
        "id": "ndweQMPgh1o1",
        "outputId": "40e9ef81-a7c2-4017-d2bf-3437d0cd2242"
      },
      "execution_count": 21,
      "outputs": [
        {
          "output_type": "execute_result",
          "data": {
            "text/plain": [
              "array([0, 1, 2, 3, 4, 5, 6, 7, 8, 9])"
            ]
          },
          "metadata": {},
          "execution_count": 21
        }
      ]
    },
    {
      "cell_type": "code",
      "source": [
        "np.arange(2,10)"
      ],
      "metadata": {
        "colab": {
          "base_uri": "https://localhost:8080/"
        },
        "id": "H_tfzPmph_YA",
        "outputId": "f2b10d8e-7fd3-4028-93d0-75983cf73545"
      },
      "execution_count": 23,
      "outputs": [
        {
          "output_type": "execute_result",
          "data": {
            "text/plain": [
              "array([2, 3, 4, 5, 6, 7, 8, 9])"
            ]
          },
          "metadata": {},
          "execution_count": 23
        }
      ]
    },
    {
      "cell_type": "code",
      "source": [
        "np.arange(2,10,2)"
      ],
      "metadata": {
        "colab": {
          "base_uri": "https://localhost:8080/"
        },
        "id": "qKh1bUwKiCIB",
        "outputId": "da0f3bcc-af13-49e9-f90b-ce9ab19206f3"
      },
      "execution_count": 25,
      "outputs": [
        {
          "output_type": "execute_result",
          "data": {
            "text/plain": [
              "array([2, 4, 6, 8])"
            ]
          },
          "metadata": {},
          "execution_count": 25
        }
      ]
    },
    {
      "cell_type": "code",
      "source": [
        "np.linspace(0,10,5)"
      ],
      "metadata": {
        "colab": {
          "base_uri": "https://localhost:8080/"
        },
        "id": "scCP4ioAiEi_",
        "outputId": "3e6c470d-faae-4857-f813-001ee7f63c0c"
      },
      "execution_count": 27,
      "outputs": [
        {
          "output_type": "execute_result",
          "data": {
            "text/plain": [
              "array([ 0. ,  2.5,  5. ,  7.5, 10. ])"
            ]
          },
          "metadata": {},
          "execution_count": 27
        }
      ]
    },
    {
      "cell_type": "markdown",
      "source": [
        "## Creación de Arrays\n",
        "\n",
        "**NumPy** proporciona varias formas de crear arrays. Exploraremos algunas de las más comunes.\n",
        "\n",
        "**Arrays desde Listas:** Puedes crear un array de NumPy a partir de una lista de Python usando la función np.array"
      ],
      "metadata": {
        "id": "Cm3nSDwpihpJ"
      }
    },
    {
      "cell_type": "code",
      "source": [
        "lista = [1, 2, 3, 4, 5]\n",
        "array = np.array(lista)\n",
        "print(array)"
      ],
      "metadata": {
        "colab": {
          "base_uri": "https://localhost:8080/"
        },
        "id": "IJZRYKMPifTk",
        "outputId": "6329e8a3-93af-47dd-bf3b-87d72a473c32"
      },
      "execution_count": 30,
      "outputs": [
        {
          "output_type": "stream",
          "name": "stdout",
          "text": [
            "[1 2 3 4 5]\n"
          ]
        }
      ]
    },
    {
      "cell_type": "code",
      "source": [
        "array_ceros = np.zeros(5)\n",
        "print(array_ceros)\n",
        "\n",
        "array_unos = np.ones((3, 4))\n",
        "print(array_unos)"
      ],
      "metadata": {
        "colab": {
          "base_uri": "https://localhost:8080/"
        },
        "id": "-JGxddt0iw8h",
        "outputId": "3958c0c2-6be9-4763-dfab-583c622d061e"
      },
      "execution_count": 32,
      "outputs": [
        {
          "output_type": "stream",
          "name": "stdout",
          "text": [
            "[0. 0. 0. 0. 0.]\n",
            "[[1. 1. 1. 1.]\n",
            " [1. 1. 1. 1.]\n",
            " [1. 1. 1. 1.]]\n"
          ]
        }
      ]
    },
    {
      "cell_type": "code",
      "source": [
        "array_aleatorio = np.random.random(5)\n",
        "print(array_aleatorio)\n",
        "\n",
        "# Esto hace lo siguiente:\n",
        "\n",
        "array_aleatorio_entero = np.random.randint(0, 10, size=(3, 3))\n",
        "print(array_aleatorio_entero)"
      ],
      "metadata": {
        "colab": {
          "base_uri": "https://localhost:8080/"
        },
        "id": "Dmg2z8gDi3ts",
        "outputId": "740f3e12-cded-4871-a775-aeb3d353db8c"
      },
      "execution_count": 36,
      "outputs": [
        {
          "output_type": "stream",
          "name": "stdout",
          "text": [
            "[0.71425972 0.78540489 0.61396446 0.77281579 0.14125252]\n",
            "[[2 5 0]\n",
            " [5 0 7]\n",
            " [0 6 0]]\n"
          ]
        }
      ]
    },
    {
      "cell_type": "markdown",
      "source": [
        "## Propiedades y Métodos de los Arrays\n",
        "\n",
        "Una vez que tenemos arrays, es importante conocer sus propiedades y algunos métodos útiles para trabajar con ellos.\n",
        "\n",
        "```\n",
        "array = np.array([[1, 2, 3], [4, 5, 6]])\n",
        "print(array.shape)\n",
        "print(array.size)\n",
        "print(array.ndim)\n",
        "\n",
        "```\n",
        "\n",
        "### Propiedades Básicas:\n",
        "\n",
        "**Forma (shape):** Devuelve una tupla con las dimensiones del array.\n",
        "\n",
        "**Tamaño (size):** Devuelve el número total de elementos en el array.\n",
        "\n",
        "**Dimensión (ndim):** Devuelve el número de dimensiones del array.\n",
        "\n",
        "\n",
        "### Métodos Útiles\n",
        "\n",
        "**reshape:** Cambia la forma del array sin cambiar sus datos.\n",
        "\n",
        "**flatten:** Convierte un array multidimensional en un array unidimensional."
      ],
      "metadata": {
        "id": "xXZymJ54rVBk"
      }
    },
    {
      "cell_type": "code",
      "source": [
        "array = np.array([[1, 2, 3], [4, 5, 6]])\n",
        "print(array.shape)\n",
        "print(array.size)\n",
        "print(array.ndim)"
      ],
      "metadata": {
        "colab": {
          "base_uri": "https://localhost:8080/"
        },
        "id": "B7twIl7GrUWU",
        "outputId": "347cd430-cda5-4f6c-8869-18c26803e200"
      },
      "execution_count": 38,
      "outputs": [
        {
          "output_type": "stream",
          "name": "stdout",
          "text": [
            "(2, 3)\n",
            "6\n",
            "2\n"
          ]
        }
      ]
    },
    {
      "cell_type": "code",
      "source": [
        "array_reshape = array.reshape((3, 2))\n",
        "print(array_reshape)\n",
        "#[[1 2]\n",
        "# [3 4]\n",
        "# [5 6]]\n",
        "array_flatten = array.flatten()\n",
        "print(array_flatten)\n",
        "#[1 2 3 4 5 6]"
      ],
      "metadata": {
        "colab": {
          "base_uri": "https://localhost:8080/"
        },
        "id": "tqLGpAeKsehQ",
        "outputId": "092aa431-f129-400e-e9e1-fd211365e55a"
      },
      "execution_count": 40,
      "outputs": [
        {
          "output_type": "stream",
          "name": "stdout",
          "text": [
            "[[1 2]\n",
            " [3 4]\n",
            " [5 6]]\n",
            "[1 2 3 4 5 6]\n"
          ]
        }
      ]
    },
    {
      "cell_type": "markdown",
      "source": [
        "## Operaciones Básicas con Arrays\n",
        "\n",
        "NumPy permite realizar operaciones matemáticas básicas de manera eficiente."
      ],
      "metadata": {
        "id": "xi6_J1Z6ssOf"
      }
    },
    {
      "cell_type": "code",
      "source": [
        "#  Suma y Resta: Puedes sumar o restar arrays de la misma forma elemento por elemento.\n",
        "\n",
        "array1 = np.array([1, 2, 3])\n",
        "array2 = np.array([4, 5, 6])\n",
        "\n",
        "suma = array1 + array2\n",
        "resta = array1 - array2\n",
        "\n",
        "print(\"Suma:\", suma)\n",
        "print(\"Resta:\", resta)\n",
        "\n",
        "#Suma: [5 7 9]\n",
        "#Resta: [-3 -3 -3]\n",
        "\n"
      ],
      "metadata": {
        "colab": {
          "base_uri": "https://localhost:8080/"
        },
        "id": "qV2m6cTWsrgS",
        "outputId": "971d3f63-a45e-40df-f4ef-39a084372d2b"
      },
      "execution_count": 43,
      "outputs": [
        {
          "output_type": "stream",
          "name": "stdout",
          "text": [
            "Suma: [5 7 9]\n",
            "Resta: [-3 -3 -3]\n"
          ]
        }
      ]
    },
    {
      "cell_type": "code",
      "source": [
        "# Multiplicación y División: La multiplicación y división también se realizan elemento por elemento.\n",
        "\n",
        "multiplicacion = array1 * array2\n",
        "division = array1 / array2\n",
        "\n",
        "print(\"Multiplicación:\", multiplicacion)\n",
        "print(\"División:\", division)\n",
        "\n",
        "#Multiplicación: [ 4 10 18]\n",
        "#División: [0.25 0.4  0.5 ]"
      ],
      "metadata": {
        "colab": {
          "base_uri": "https://localhost:8080/"
        },
        "id": "-VpzkSeBs9Lw",
        "outputId": "0b6758d4-faaf-41fa-f956-f23cd869dd52"
      },
      "execution_count": 45,
      "outputs": [
        {
          "output_type": "stream",
          "name": "stdout",
          "text": [
            "Multiplicación: [ 4 10 18]\n",
            "División: [0.25 0.4  0.5 ]\n"
          ]
        }
      ]
    },
    {
      "cell_type": "code",
      "source": [
        "# Operaciones Universales (ufuncs): NumPy proporciona funciones universales (ufuncs) que realizan operaciones elemento por elemento.\n",
        "\n",
        "array = np.array([1, 2, 3])\n",
        "\n",
        "sqrt = np.sqrt(array)\n",
        "log = np.log(array)\n",
        "\n",
        "print(\"Raíz cuadrada:\", sqrt)\n",
        "print(\"Logaritmo natural:\", log)\n",
        "\n",
        "#Raíz cuadrada: [1.         1.41421356 1.73205081]\n",
        "#Logaritmo natural: [0.         0.69314718 1.09861229]"
      ],
      "metadata": {
        "colab": {
          "base_uri": "https://localhost:8080/"
        },
        "id": "kipnkX_YtKvN",
        "outputId": "32706c2c-2e42-4245-9df5-0ce66cdca9ba"
      },
      "execution_count": 47,
      "outputs": [
        {
          "output_type": "stream",
          "name": "stdout",
          "text": [
            "Raíz cuadrada: [1.         1.41421356 1.73205081]\n",
            "Logaritmo natural: [0.         0.69314718 1.09861229]\n"
          ]
        }
      ]
    },
    {
      "cell_type": "markdown",
      "source": [
        "###  Indexación y Slicing de Arrays\n",
        "\n",
        "La indexación y el slicing son técnicas para acceder a elementos específicos de un array.\n"
      ],
      "metadata": {
        "id": "O2BNfxG-tdr9"
      }
    },
    {
      "cell_type": "code",
      "source": [
        "# Indexación Básica:Puedes acceder a elementos individuales utilizando índices.\n",
        "\n",
        "array = np.array([1, 2, 3, 4, 5])\n",
        "print(array[0])  # Primer elemento\n",
        "print(array[-1])  # Último elemento\n",
        "\n",
        "# Slicing: Puedes acceder a subarrays utilizando la notación de slicing.\n",
        "array = np.array([1, 2, 3, 4, 5])\n",
        "print(array[1:4])  # Elementos del índice 1 al 3\n",
        "print(array[:3])  # Primeros tres elementos\n",
        "print(array[2:])  # Elementos desde el índice 2 hasta el final\n",
        "\n",
        "#[2 3 4]\n",
        "#[1 2 3]\n",
        "#[3 4 5]"
      ],
      "metadata": {
        "colab": {
          "base_uri": "https://localhost:8080/"
        },
        "id": "kQA1UGsEtWvc",
        "outputId": "c59ee2cc-d205-465d-fe4b-91ed5e2736c5"
      },
      "execution_count": 49,
      "outputs": [
        {
          "output_type": "stream",
          "name": "stdout",
          "text": [
            "1\n",
            "5\n",
            "[2 3 4]\n",
            "[1 2 3]\n",
            "[3 4 5]\n"
          ]
        }
      ]
    },
    {
      "cell_type": "code",
      "source": [
        "# Indexación y Slicing en Arrays Multidimensionales: La indexación y el slicing funcionan de manera similar en arrays multidimensionales.\n",
        "\n",
        "array = np.array([[1, 2, 3], [4, 5, 6], [7, 8, 9]])\n",
        "print(array)\n",
        "print(array[1, 2])  # Elemento en la fila 1, columna 2\n",
        "print(array[0:2, 1:3])  # Subarray desde fila 0 a 1 y columna 1 a 2\n",
        "\n",
        "#6\n",
        "#[[2 3]\n",
        "#[5 6]]\n",
        "\n"
      ],
      "metadata": {
        "colab": {
          "base_uri": "https://localhost:8080/"
        },
        "id": "9JrTr5tGt1Fc",
        "outputId": "e90c52f8-7bbf-48b7-d638-3daa6f442511"
      },
      "execution_count": 52,
      "outputs": [
        {
          "output_type": "stream",
          "name": "stdout",
          "text": [
            "[[1 2 3]\n",
            " [4 5 6]\n",
            " [7 8 9]]\n",
            "6\n",
            "[[2 3]\n",
            " [5 6]]\n"
          ]
        }
      ]
    },
    {
      "cell_type": "markdown",
      "source": [
        "### Agregaciones y Estadísticas\n",
        "\n",
        "NumPy proporciona funciones para realizar operaciones de agregación y calcular estadísticas básicas."
      ],
      "metadata": {
        "id": "95xcAyVJuo5h"
      }
    },
    {
      "cell_type": "code",
      "source": [
        "# Suma y Producto: Puedes calcular la suma y el producto de todos los elementos de un array.\n",
        "\n",
        "array = np.array([1, 2, 3, 4, 5])\n",
        "\n",
        "print(np.sum(array))  # Suma de todos los elementos\n",
        "print(np.prod(array))  # Producto de todos los elementos\n",
        "\n",
        "# 15\n",
        "# 120"
      ],
      "metadata": {
        "colab": {
          "base_uri": "https://localhost:8080/"
        },
        "id": "o7AES2CsuoZp",
        "outputId": "99e55bb0-cf7d-4aaa-cde1-b9cd5897a7b1"
      },
      "execution_count": 53,
      "outputs": [
        {
          "output_type": "stream",
          "name": "stdout",
          "text": [
            "15\n",
            "120\n"
          ]
        }
      ]
    },
    {
      "cell_type": "code",
      "source": [
        "# Estadísticas Básicas: NumPy también proporciona funciones para calcular estadísticas básicas.\n",
        "\n",
        "print(np.mean(array))  # Media (promedio)\n",
        "print(np.median(array))  # Mediana\n",
        "print(np.std(array))  # Desviación estándar\n",
        "print(np.var(array))  # Varianza\n",
        "\n",
        "# 3.0\n",
        "# 3.0\n",
        "# 1.4142135623730951\n",
        "# 2.0\n",
        "\n",
        "\n",
        "# # Resumen:\n",
        "\n",
        "# Estas funciones son útiles para análisis de datos:\n",
        "\n",
        "# Media (mean): Valor promedio.\n",
        "\n",
        "# Mediana (median): Valor central.\n",
        "\n",
        "# Desviación estándar (std): Mide la dispersión con respecto a la media.\n",
        "\n",
        "# Varianza (var): Mide la dispersión al cuadrado.\n",
        "\n",
        "# Usarlas en combinación ayuda a comprender mejor la distribución y variabilidad de los datos.\n"
      ],
      "metadata": {
        "colab": {
          "base_uri": "https://localhost:8080/"
        },
        "id": "mj6h1PK1u21S",
        "outputId": "2aa68467-0719-40fd-b19a-44ca7cbae859"
      },
      "execution_count": 57,
      "outputs": [
        {
          "output_type": "stream",
          "name": "stdout",
          "text": [
            "3.0\n",
            "3.0\n",
            "1.4142135623730951\n",
            "2.0\n"
          ]
        }
      ]
    },
    {
      "cell_type": "code",
      "source": [
        "# Agregaciones en Arrays Multidimensionales: Puedes realizar agregaciones a lo largo de un eje específico en arrays multidimensionales.\n",
        "\n",
        "array = np.array([[1, 2, 3], [4, 5, 6], [7, 8, 9]])\n",
        "print(array)\n",
        "print(np.sum(array, axis=0))  # Suma a lo largo de las columnas\n",
        "\n",
        "print(np.sum(array, axis=1))  # Suma a lo largo de las filas\n",
        "\n",
        "# [12 15 18]\n",
        "# [ 6 15 24]"
      ],
      "metadata": {
        "colab": {
          "base_uri": "https://localhost:8080/"
        },
        "id": "b0B_XUwXxXi0",
        "outputId": "178aa7ba-fbd8-4c9d-d0f1-a49714e648b3"
      },
      "execution_count": 59,
      "outputs": [
        {
          "output_type": "stream",
          "name": "stdout",
          "text": [
            "[[1 2 3]\n",
            " [4 5 6]\n",
            " [7 8 9]]\n",
            "[12 15 18]\n",
            "[ 6 15 24]\n"
          ]
        }
      ]
    }
  ]
}