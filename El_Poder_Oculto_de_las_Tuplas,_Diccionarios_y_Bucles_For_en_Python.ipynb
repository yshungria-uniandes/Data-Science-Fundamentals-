{
  "nbformat": 4,
  "nbformat_minor": 0,
  "metadata": {
    "colab": {
      "provenance": [],
      "authorship_tag": "ABX9TyMzUWVUIjbUrO0qOEJSL7Gz",
      "include_colab_link": true
    },
    "kernelspec": {
      "name": "python3",
      "display_name": "Python 3"
    },
    "language_info": {
      "name": "python"
    }
  },
  "cells": [
    {
      "cell_type": "markdown",
      "metadata": {
        "id": "view-in-github",
        "colab_type": "text"
      },
      "source": [
        "<a href=\"https://colab.research.google.com/github/yshungria-uniandes/Data-Science-Fundamentals-/blob/main/El_Poder_Oculto_de_las_Tuplas%2C_Diccionarios_y_Bucles_For_en_Python.ipynb\" target=\"_parent\"><img src=\"https://colab.research.google.com/assets/colab-badge.svg\" alt=\"Open In Colab\"/></a>"
      ]
    },
    {
      "cell_type": "markdown",
      "source": [
        "# El Poder Oculto de las Tuplas, Diccionarios y Bucles For en Python\n",
        "\n",
        "## Introducción\n",
        "\n",
        "En este capítulo, exploraremos tres componentes fundamentales de la programación en Python: tuplas, diccionarios y bucles for. Estos elementos son esenciales para escribir programas eficientes y organizados. Las tuplas son estructuras de datos inmutables que permiten almacenar múltiples valores en un solo objeto. Los diccionarios son colecciones de pares clave-valor que permiten un acceso rápido a los datos. Los bucles for son estructuras de control que permiten iterar sobre secuencias y realizar operaciones repetitivas de manera eficiente.\n",
        "\n"
      ],
      "metadata": {
        "id": "mnS89QZOzYm5"
      }
    },
    {
      "cell_type": "markdown",
      "source": [
        "## Listas"
      ],
      "metadata": {
        "id": "4cu-_GeO7Xf9"
      }
    },
    {
      "cell_type": "code",
      "source": [
        "lista_vacia = []\n",
        "lista_1 = [1, 'Yojan', 'a', 5, 76, 75, 3, True]\n",
        "print(lista_vacia)"
      ],
      "metadata": {
        "id": "KVrPKsNEzheO",
        "colab": {
          "base_uri": "https://localhost:8080/"
        },
        "outputId": "5a3d3694-bee1-4234-c890-967a62f70d3b"
      },
      "execution_count": 3,
      "outputs": [
        {
          "output_type": "stream",
          "name": "stdout",
          "text": [
            "[]\n"
          ]
        }
      ]
    },
    {
      "cell_type": "code",
      "source": [
        "print(lista_1)"
      ],
      "metadata": {
        "id": "Z7uXMpyAzcCX",
        "colab": {
          "base_uri": "https://localhost:8080/"
        },
        "outputId": "0be07c5b-76d9-4bcd-f937-eb4c36046f2c"
      },
      "execution_count": 4,
      "outputs": [
        {
          "output_type": "stream",
          "name": "stdout",
          "text": [
            "[1, 'Yojan', 'a', 5, 76, 75, 3, True]\n"
          ]
        }
      ]
    },
    {
      "cell_type": "code",
      "execution_count": 6,
      "metadata": {
        "id": "1gRU4b4jzVVd",
        "colab": {
          "base_uri": "https://localhost:8080/"
        },
        "outputId": "cfe243d6-d056-4903-fcc7-2fcddc06833d"
      },
      "outputs": [
        {
          "output_type": "stream",
          "name": "stdout",
          "text": [
            "1\n"
          ]
        }
      ],
      "source": [
        "print(lista_1[0])"
      ]
    },
    {
      "cell_type": "code",
      "source": [
        "print(lista_1[2])"
      ],
      "metadata": {
        "colab": {
          "base_uri": "https://localhost:8080/"
        },
        "id": "AnLcrUqx6a-_",
        "outputId": "e6526785-196c-4872-f1f6-98512dee17f9"
      },
      "execution_count": 20,
      "outputs": [
        {
          "output_type": "stream",
          "name": "stdout",
          "text": [
            "a\n"
          ]
        }
      ]
    },
    {
      "cell_type": "code",
      "source": [
        "len(lista_1)"
      ],
      "metadata": {
        "colab": {
          "base_uri": "https://localhost:8080/"
        },
        "id": "ovb_Ptl56iOq",
        "outputId": "1f62d99e-e049-4ef1-dc28-7a9c72218bc5"
      },
      "execution_count": 19,
      "outputs": [
        {
          "output_type": "execute_result",
          "data": {
            "text/plain": [
              "15"
            ]
          },
          "metadata": {},
          "execution_count": 19
        }
      ]
    },
    {
      "cell_type": "code",
      "source": [
        "lista_1.append('Hola')\n",
        "print(lista_1)"
      ],
      "metadata": {
        "colab": {
          "base_uri": "https://localhost:8080/"
        },
        "id": "k5WvOOKt6mXC",
        "outputId": "7200fac2-f9d4-4e1d-92c0-8611df23eccb"
      },
      "execution_count": 18,
      "outputs": [
        {
          "output_type": "stream",
          "name": "stdout",
          "text": [
            "[1, 'Yojan', 'a', 5, 76, 75, 3, True, 'Hola', 'Hola', 'Hola', 'Hola', 'Hola', 'Hola', 'Hola']\n"
          ]
        }
      ]
    },
    {
      "cell_type": "code",
      "source": [
        "lista_1.pop(0)\n",
        "print(lista_1)"
      ],
      "metadata": {
        "colab": {
          "base_uri": "https://localhost:8080/"
        },
        "id": "zpbSbybS63dQ",
        "outputId": "3566bb29-c1db-4cea-ef22-d9e099924ec1"
      },
      "execution_count": 24,
      "outputs": [
        {
          "output_type": "stream",
          "name": "stdout",
          "text": [
            "[5, 76, 75, 3, True, 'Hola', 'Hola', 'Hola', 'Hola', 'Hola', 'Hola', 'Hola']\n"
          ]
        }
      ]
    },
    {
      "cell_type": "code",
      "source": [
        "lista_1.reverse()\n",
        "print(lista_1)"
      ],
      "metadata": {
        "colab": {
          "base_uri": "https://localhost:8080/"
        },
        "id": "47GR8Av07ALV",
        "outputId": "589fd9ea-2e49-4147-a592-4bab9cf6f796"
      },
      "execution_count": 27,
      "outputs": [
        {
          "output_type": "stream",
          "name": "stdout",
          "text": [
            "['Hola', 'Hola', 'Hola', 'Hola', 'Hola', 'Hola', 'Hola', True, 3, 75, 76, 5]\n"
          ]
        }
      ]
    },
    {
      "cell_type": "markdown",
      "source": [
        "## Tuplas en Python\n",
        "\n",
        "### ¿Qué es una Tupla?\n",
        "\n",
        "Una tupla es una colección ordenada de elementos que es inmutable, lo que significa que no se puede modificar después de su creación. Las tuplas son útiles cuando se desea almacenar un conjunto de valores relacionados y asegurarse de que estos no cambien.\n",
        "\n",
        "### Creación de Tuplas\n",
        "\n",
        "Las tuplas se pueden crear usando paréntesis () y separando los elementos con comas.\n",
        "\n"
      ],
      "metadata": {
        "id": "fziokD6_7THm"
      }
    },
    {
      "cell_type": "markdown",
      "source": [
        "### Desempaquetado de Tuplas\n",
        "\n",
        "Puedes desempaquetar una tupla en variables individuales.\n",
        "\n"
      ],
      "metadata": {
        "id": "9CU9e2BQ-p4L"
      }
    },
    {
      "cell_type": "code",
      "source": [
        "tupla = (1, 2, 3)\n",
        "a, b, c = tupla\n",
        "print(a, b, c)"
      ],
      "metadata": {
        "colab": {
          "base_uri": "https://localhost:8080/"
        },
        "id": "n3RM2_ms-twZ",
        "outputId": "b7b56681-f335-4995-d21a-3821bcbdb8b6"
      },
      "execution_count": 83,
      "outputs": [
        {
          "output_type": "stream",
          "name": "stdout",
          "text": [
            "1 2 3\n"
          ]
        }
      ]
    },
    {
      "cell_type": "markdown",
      "source": [
        "Métodos y Operaciones con Tuplas\n",
        "\n",
        "Aunque las tuplas son inmutables, puedes realizar algunas operaciones con ellas, como concatenación y repetición.\n",
        "\n"
      ],
      "metadata": {
        "id": "WqAlU6yd-x-r"
      }
    },
    {
      "cell_type": "code",
      "source": [
        "tupla1 = (1, 2, 3)\n",
        "tupla2 = (4, 5, 6)\n",
        "\n",
        "# Concatenación\n",
        "tupla_concatenada = tupla1 + tupla2\n",
        "print(tupla_concatenada)\n",
        "\n",
        "# Repetición\n",
        "tupla_repetida = tupla1 * 2\n",
        "print(tupla_repetida)\n",
        "\n",
        "# (1, 2, 3, 4, 5, 6)\n",
        "# (1, 2, 3, 1, 2, 3)"
      ],
      "metadata": {
        "colab": {
          "base_uri": "https://localhost:8080/"
        },
        "id": "bGn8E0Tm-15g",
        "outputId": "49e6bfbd-63e0-4d04-8051-96756c5b43a3"
      },
      "execution_count": 84,
      "outputs": [
        {
          "output_type": "stream",
          "name": "stdout",
          "text": [
            "(1, 2, 3, 4, 5, 6)\n",
            "(1, 2, 3, 1, 2, 3)\n"
          ]
        }
      ]
    },
    {
      "cell_type": "code",
      "source": [
        "# Tuplas\n",
        "tupla_vacia = ()\n",
        "tupla_1 = (1, 'Yojan', 'a', 5, 76, 75, 3, True)\n",
        "print(tupla_vacia)\n",
        "print(tupla_1)"
      ],
      "metadata": {
        "colab": {
          "base_uri": "https://localhost:8080/"
        },
        "id": "FSboprpi7BoL",
        "outputId": "b9499653-c5fa-49a3-ffcd-1b1a5e89e454"
      },
      "execution_count": 31,
      "outputs": [
        {
          "output_type": "stream",
          "name": "stdout",
          "text": [
            "()\n",
            "(1, 'Yojan', 'a', 5, 76, 75, 3, True)\n"
          ]
        }
      ]
    },
    {
      "cell_type": "code",
      "source": [
        "# tupla_1.append(1)\n",
        "# Tupla has no attibute 'append'"
      ],
      "metadata": {
        "id": "DD68Bq1S7gD1"
      },
      "execution_count": 34,
      "outputs": []
    },
    {
      "cell_type": "code",
      "source": [
        "# tupla_vacia.append(1)\n",
        "# No se puede ni añadir ni eliminar"
      ],
      "metadata": {
        "id": "4Dw6IeD57tXw"
      },
      "execution_count": 36,
      "outputs": []
    },
    {
      "cell_type": "code",
      "source": [
        "print(tupla_1[0])"
      ],
      "metadata": {
        "colab": {
          "base_uri": "https://localhost:8080/"
        },
        "id": "_2-3-0IV71_t",
        "outputId": "e4596e48-597c-4b81-91e5-595adc1657d0"
      },
      "execution_count": 38,
      "outputs": [
        {
          "output_type": "stream",
          "name": "stdout",
          "text": [
            "1\n"
          ]
        }
      ]
    },
    {
      "cell_type": "code",
      "source": [
        "print(tupla_1[2])"
      ],
      "metadata": {
        "colab": {
          "base_uri": "https://localhost:8080/"
        },
        "id": "X1pRYdFE8YEV",
        "outputId": "4533356a-269f-4667-e62b-ff52b2d7a306"
      },
      "execution_count": 39,
      "outputs": [
        {
          "output_type": "stream",
          "name": "stdout",
          "text": [
            "a\n"
          ]
        }
      ]
    },
    {
      "cell_type": "markdown",
      "source": [
        "## Diccionarios en Python\n",
        "\n",
        "### ¿Qué es un Diccionario?\n",
        "\n",
        "Un diccionario es una colección desordenada de pares clave-valor. Cada clave en un diccionario es única y se utiliza para acceder a su valor correspondiente.\n",
        "\n",
        "Los diccionarios son mutables, lo que significa que puedes modificar sus elementos después de su creación.\n",
        "\n",
        "### Creación de Diccionarios\n",
        "Los diccionarios se crean usando llaves {} y separando los pares clave-valor con dos puntos :"
      ],
      "metadata": {
        "id": "ORJwLgmt8bNy"
      }
    },
    {
      "cell_type": "code",
      "source": [
        "diccionario_vacio = {}\n",
        "diccionario = {\"nombre\": \"Juan\", \"edad\": 25, \"ciudad\": \"Madrid\"}\n",
        "print(diccionario)\n",
        "\n",
        "# {'nombre': 'Juan', 'edad': 25, 'ciudad': 'Madrid'}"
      ],
      "metadata": {
        "colab": {
          "base_uri": "https://localhost:8080/"
        },
        "id": "-PXhircu_Xtv",
        "outputId": "abb51f1c-52dc-426a-fa90-97114b75f74b"
      },
      "execution_count": 85,
      "outputs": [
        {
          "output_type": "stream",
          "name": "stdout",
          "text": [
            "{'nombre': 'Juan', 'edad': 25, 'ciudad': 'Madrid'}\n"
          ]
        }
      ]
    },
    {
      "cell_type": "markdown",
      "source": [
        "### Acceso y Modificación de Valores\n",
        "\n",
        "Puedes acceder a los valores de un diccionario usando sus claves. También puedes modificar los valores asociados a una clave.\n",
        "\n",
        "### Métodos Útiles para Diccionarios\n",
        "\n",
        "Los diccionarios tienen varios métodos útiles para manipular sus elementos.\n",
        "\n",
        "keys(): Devuelve una vista de todas las claves del diccionario.\n",
        "\n",
        "values(): Devuelve una vista de todos los valores del diccionario.\n",
        "\n",
        "items(): Devuelve una vista de todos los pares clave-valor del diccionario.\n",
        "\n",
        "get(): Devuelve el valor de una clave, o un valor por defecto si la clave no existe.\n",
        "\n",
        "pop(): Elimina una clave y devuelve su valor.\n",
        "\n",
        "update(): Actualiza el diccionario con pares clave-valor de otro diccionario o iterable.\n"
      ],
      "metadata": {
        "id": "3wWZCTv__cHM"
      }
    },
    {
      "cell_type": "code",
      "source": [
        "diccionario = {\"nombre\": \"Juan\", \"edad\": 25, \"ciudad\": \"Madrid\"}"
      ],
      "metadata": {
        "id": "W_orK9Yq_pZt"
      },
      "execution_count": 87,
      "outputs": []
    },
    {
      "cell_type": "code",
      "source": [
        "\n",
        "# keys()\n",
        "print(diccionario.keys())\n",
        "\n",
        "# values()\n",
        "print(diccionario.values())\n",
        "\n",
        "# items()\n",
        "print(diccionario.items())\n",
        "\n",
        "# get()\n",
        "print(diccionario.get(\"nombre\"))\n",
        "print(diccionario.get(\"profesion\", \"Desconocido\"))\n",
        "\n",
        "# pop()\n",
        "edad = diccionario.pop(\"edad\")\n",
        "print(edad)\n",
        "print(diccionario)\n",
        "\n",
        "# update()\n",
        "diccionario.update({\"edad\": 26, \"pais\": \"España\"})\n",
        "print(diccionario)\n",
        "\n",
        "# dict_keys(['nombre', 'edad', 'ciudad'])\n",
        "#dict_values(['Juan', 25, 'Madrid'])\n",
        "#dict_items([('nombre', 'Juan'), ('edad', 25), ('ciudad', 'Madrid')])\n",
        "#Juan\n",
        "#Desconocido\n",
        "#25\n",
        "#{'nombre': 'Juan', 'ciudad': 'Madrid'}\n",
        "#{'nombre': 'Juan', 'ciudad': 'Madrid', 'edad': 26, 'pais': 'España'}"
      ],
      "metadata": {
        "colab": {
          "base_uri": "https://localhost:8080/"
        },
        "id": "KTkYY28A_sEj",
        "outputId": "a9e7d9c2-1dfd-47e7-c897-f8af9dbd9fe5"
      },
      "execution_count": 88,
      "outputs": [
        {
          "output_type": "stream",
          "name": "stdout",
          "text": [
            "dict_keys(['nombre', 'edad', 'ciudad'])\n",
            "dict_values(['Juan', 25, 'Madrid'])\n",
            "dict_items([('nombre', 'Juan'), ('edad', 25), ('ciudad', 'Madrid')])\n",
            "Juan\n",
            "Desconocido\n",
            "25\n",
            "{'nombre': 'Juan', 'ciudad': 'Madrid'}\n",
            "{'nombre': 'Juan', 'ciudad': 'Madrid', 'edad': 26, 'pais': 'España'}\n"
          ]
        }
      ]
    },
    {
      "cell_type": "code",
      "source": [
        "dict = {}\n",
        "dict1 = {1: 'Yojan', 'a': 5, 76: 75, 3: True}\n",
        "print(dict)\n",
        "print(dict1)"
      ],
      "metadata": {
        "colab": {
          "base_uri": "https://localhost:8080/"
        },
        "id": "HEyfqedD8ZnM",
        "outputId": "84902c2d-c432-4670-f866-4f146d59c352"
      },
      "execution_count": 41,
      "outputs": [
        {
          "output_type": "stream",
          "name": "stdout",
          "text": [
            "{}\n",
            "{1: 'Yojan', 'a': 5, 76: 75, 3: True}\n"
          ]
        }
      ]
    },
    {
      "cell_type": "code",
      "source": [
        "print(dict1[1])"
      ],
      "metadata": {
        "colab": {
          "base_uri": "https://localhost:8080/"
        },
        "id": "ejWL4UNc8tBR",
        "outputId": "66942ca4-6e9d-4996-c760-419edc9b54a0"
      },
      "execution_count": 42,
      "outputs": [
        {
          "output_type": "stream",
          "name": "stdout",
          "text": [
            "Yojan\n"
          ]
        }
      ]
    },
    {
      "cell_type": "code",
      "source": [
        "print(dict1['a'])"
      ],
      "metadata": {
        "colab": {
          "base_uri": "https://localhost:8080/"
        },
        "id": "rR390oTc8vyO",
        "outputId": "a3f7a021-0dda-4a42-9f6f-6579e7a23f7e"
      },
      "execution_count": 43,
      "outputs": [
        {
          "output_type": "stream",
          "name": "stdout",
          "text": [
            "5\n"
          ]
        }
      ]
    },
    {
      "cell_type": "code",
      "source": [
        "print(dict1[76])"
      ],
      "metadata": {
        "colab": {
          "base_uri": "https://localhost:8080/"
        },
        "id": "j2ZaMUZA8zVM",
        "outputId": "77261889-0f94-4360-e26e-e070264f08a8"
      },
      "execution_count": 44,
      "outputs": [
        {
          "output_type": "stream",
          "name": "stdout",
          "text": [
            "75\n"
          ]
        }
      ]
    },
    {
      "cell_type": "code",
      "source": [
        "dict1['Yojan'] = 'Hola'\n",
        "print(dict1)"
      ],
      "metadata": {
        "colab": {
          "base_uri": "https://localhost:8080/"
        },
        "id": "loTGdxLx81Cq",
        "outputId": "1743421a-ad09-4ace-b69d-2744ab041054"
      },
      "execution_count": 45,
      "outputs": [
        {
          "output_type": "stream",
          "name": "stdout",
          "text": [
            "{1: 'Yojan', 'a': 5, 76: 75, 3: True, 'Yojan': 'Hola'}\n"
          ]
        }
      ]
    },
    {
      "cell_type": "code",
      "source": [
        "dict1['Yojan'] = 'Adios'\n",
        "print(dict1)"
      ],
      "metadata": {
        "colab": {
          "base_uri": "https://localhost:8080/"
        },
        "id": "jeygrbZE834b",
        "outputId": "a59ca29b-d446-4a85-96cd-17d168ed5480"
      },
      "execution_count": 47,
      "outputs": [
        {
          "output_type": "stream",
          "name": "stdout",
          "text": [
            "{1: 'Yojan', 'a': 5, 76: 75, 3: True, 'Yojan': 'Adios'}\n"
          ]
        }
      ]
    },
    {
      "cell_type": "code",
      "source": [
        "#dict1.pop(3)\n",
        "print(dict1)"
      ],
      "metadata": {
        "colab": {
          "base_uri": "https://localhost:8080/"
        },
        "id": "XNJOnuHJ882c",
        "outputId": "5faa0028-a946-47fa-d001-ae86a5e98a10"
      },
      "execution_count": 50,
      "outputs": [
        {
          "output_type": "stream",
          "name": "stdout",
          "text": [
            "{1: 'Yojan', 'a': 5, 76: 75, 'Yojan': 'Adios'}\n"
          ]
        }
      ]
    },
    {
      "cell_type": "code",
      "source": [
        "dict1.items()"
      ],
      "metadata": {
        "colab": {
          "base_uri": "https://localhost:8080/"
        },
        "id": "J27aD-CS9ABA",
        "outputId": "65a8886d-139f-4da2-dbdf-a1c9617424ee"
      },
      "execution_count": 52,
      "outputs": [
        {
          "output_type": "execute_result",
          "data": {
            "text/plain": [
              "dict_items([(1, 'Yojan'), ('a', 5), (76, 75), ('Yojan', 'Adios')])"
            ]
          },
          "metadata": {},
          "execution_count": 52
        }
      ]
    },
    {
      "cell_type": "code",
      "source": [
        "dict1.keys()"
      ],
      "metadata": {
        "colab": {
          "base_uri": "https://localhost:8080/"
        },
        "id": "_79TGN_W9PR_",
        "outputId": "7db94be2-8bd0-4947-ba96-4e10ce1f5915"
      },
      "execution_count": 54,
      "outputs": [
        {
          "output_type": "execute_result",
          "data": {
            "text/plain": [
              "dict_keys([1, 'a', 76, 'Yojan'])"
            ]
          },
          "metadata": {},
          "execution_count": 54
        }
      ]
    },
    {
      "cell_type": "code",
      "source": [
        "dict1.values()"
      ],
      "metadata": {
        "colab": {
          "base_uri": "https://localhost:8080/"
        },
        "id": "uhyP7xGH9RX7",
        "outputId": "24382fdf-9bf9-41ce-e5cb-11c2f61541db"
      },
      "execution_count": 56,
      "outputs": [
        {
          "output_type": "execute_result",
          "data": {
            "text/plain": [
              "dict_values(['Yojan', 5, 75, 'Adios'])"
            ]
          },
          "metadata": {},
          "execution_count": 56
        }
      ]
    },
    {
      "cell_type": "markdown",
      "source": [
        "## Bucles For en Python\n",
        "\n",
        "### ¿Qué es un Bucle For?\n",
        "\n",
        "Un bucle for en Python se utiliza para iterar sobre una secuencia (como una lista, tupla, diccionario, conjunto o cadena) y ejecutar un bloque de código para cada elemento de la secuencia.\n",
        "\n",
        "\n",
        "### Bucle For con Listas\n",
        "\n",
        "Puedes usar un bucle for para iterar sobre los elementos de una lista."
      ],
      "metadata": {
        "id": "BobXu7mP9d39"
      }
    },
    {
      "cell_type": "code",
      "source": [
        "lista = [1, 2, 3, 4, 5]\n",
        "for elemento in lista:\n",
        "    print(elemento)\n",
        "#"
      ],
      "metadata": {
        "colab": {
          "base_uri": "https://localhost:8080/"
        },
        "id": "epP29DsdAHZw",
        "outputId": "3cf88a9f-18a3-4bc5-aadc-1a75e20cbb79"
      },
      "execution_count": 90,
      "outputs": [
        {
          "output_type": "stream",
          "name": "stdout",
          "text": [
            "1\n",
            "2\n",
            "3\n",
            "4\n",
            "5\n"
          ]
        }
      ]
    },
    {
      "cell_type": "markdown",
      "source": [
        "### For con Tuplas\n",
        "\n",
        "Los bucles for también funcionan con tuplas."
      ],
      "metadata": {
        "id": "7GcsnzzwB-9u"
      }
    },
    {
      "cell_type": "code",
      "source": [
        "tupla = (10, 20, 30, 40, 50)\n",
        "for elemento in tupla:\n",
        "    print(elemento)\n",
        "\n",
        "#10\n",
        "#20\n",
        "#30\n",
        "#40\n",
        "#50"
      ],
      "metadata": {
        "colab": {
          "base_uri": "https://localhost:8080/"
        },
        "id": "-sRDm40OB-Ma",
        "outputId": "0a936ea2-2ed1-41ea-c575-9e7322e4c74c"
      },
      "execution_count": 92,
      "outputs": [
        {
          "output_type": "stream",
          "name": "stdout",
          "text": [
            "10\n",
            "20\n",
            "30\n",
            "40\n",
            "50\n"
          ]
        }
      ]
    },
    {
      "cell_type": "markdown",
      "source": [
        "### Bucle For con Diccionarios\n",
        "\n",
        "Puedes iterar sobre los elementos de un diccionario de diferentes maneras.\n",
        "\n",
        "Iterar sobre claves:"
      ],
      "metadata": {
        "id": "OYAgd4U0CGe9"
      }
    },
    {
      "cell_type": "code",
      "source": [
        "diccionario = {\"nombre\": \"Juan\", \"edad\": 25, \"ciudad\": \"Madrid\"}\n",
        "for clave in diccionario:\n",
        "    print(clave)\n",
        "\n",
        "#nombre\n",
        "#edad\n",
        "#ciudad"
      ],
      "metadata": {
        "colab": {
          "base_uri": "https://localhost:8080/"
        },
        "id": "nVPwXQsFCGE7",
        "outputId": "68b3695e-a3f6-40c3-afa5-b4ba9a7228ae"
      },
      "execution_count": 94,
      "outputs": [
        {
          "output_type": "stream",
          "name": "stdout",
          "text": [
            "nombre\n",
            "edad\n",
            "ciudad\n"
          ]
        }
      ]
    },
    {
      "cell_type": "code",
      "source": [
        "# Iterar sobre valores:\n",
        "for valor in diccionario.values():\n",
        "    print(valor)\n",
        "\n",
        "#Juan\n",
        "#25\n",
        "#Madrid"
      ],
      "metadata": {
        "colab": {
          "base_uri": "https://localhost:8080/"
        },
        "id": "g5WTY6B5CPuL",
        "outputId": "c2a867e0-7190-4c4f-96fc-ec3f526f8d42"
      },
      "execution_count": 97,
      "outputs": [
        {
          "output_type": "stream",
          "name": "stdout",
          "text": [
            "Juan\n",
            "25\n",
            "Madrid\n"
          ]
        }
      ]
    },
    {
      "cell_type": "code",
      "source": [
        "# Iterar sobre pares clave-valor:\n",
        "for clave, valor in diccionario.items():\n",
        "    print(f\"{clave}: {valor}\")\n",
        "\n",
        "#nombre: Juan\n",
        "#edad: 25\n",
        "#ciudad: Madrid"
      ],
      "metadata": {
        "colab": {
          "base_uri": "https://localhost:8080/"
        },
        "id": "hl0kqTUQCRhM",
        "outputId": "2d2f6b08-4ea8-414e-e89d-df79301ae5c1"
      },
      "execution_count": 98,
      "outputs": [
        {
          "output_type": "stream",
          "name": "stdout",
          "text": [
            "nombre: Juan\n",
            "edad: 25\n",
            "ciudad: Madrid\n"
          ]
        }
      ]
    },
    {
      "cell_type": "code",
      "source": [
        "for key, value in dict1.items():\n",
        "    print(key, value)"
      ],
      "metadata": {
        "colab": {
          "base_uri": "https://localhost:8080/"
        },
        "id": "WnZJP0P69VKq",
        "outputId": "894881d5-b7d2-4429-e804-1955fc293c24"
      },
      "execution_count": 58,
      "outputs": [
        {
          "output_type": "stream",
          "name": "stdout",
          "text": [
            "1 Yojan\n",
            "a 5\n",
            "76 75\n",
            "Yojan Adios\n"
          ]
        }
      ]
    },
    {
      "cell_type": "code",
      "source": [
        "for key in dict1.keys():\n",
        "    print(key)"
      ],
      "metadata": {
        "colab": {
          "base_uri": "https://localhost:8080/"
        },
        "id": "PzEqfDli9Y_b",
        "outputId": "358fc695-b0a3-4c69-d8bc-389222e49a8b"
      },
      "execution_count": 60,
      "outputs": [
        {
          "output_type": "stream",
          "name": "stdout",
          "text": [
            "1\n",
            "a\n",
            "76\n",
            "Yojan\n"
          ]
        }
      ]
    },
    {
      "cell_type": "code",
      "source": [
        "for value in dict1.values():\n",
        "    print(value)"
      ],
      "metadata": {
        "colab": {
          "base_uri": "https://localhost:8080/"
        },
        "id": "ZQ2r6agY9i76",
        "outputId": "dbb9eac8-2884-4402-e753-7fa196b5e99e"
      },
      "execution_count": 62,
      "outputs": [
        {
          "output_type": "stream",
          "name": "stdout",
          "text": [
            "Yojan\n",
            "5\n",
            "75\n",
            "Adios\n"
          ]
        }
      ]
    },
    {
      "cell_type": "code",
      "source": [
        "for key in dict1:\n",
        "    print(key)"
      ],
      "metadata": {
        "colab": {
          "base_uri": "https://localhost:8080/"
        },
        "id": "InpxRHW19kTY",
        "outputId": "c284c23e-b3ae-4eab-a8f7-c9cff6154bac"
      },
      "execution_count": 64,
      "outputs": [
        {
          "output_type": "stream",
          "name": "stdout",
          "text": [
            "1\n",
            "a\n",
            "76\n",
            "Yojan\n"
          ]
        }
      ]
    },
    {
      "cell_type": "code",
      "source": [
        "for i in range(10):\n",
        "    print(i)"
      ],
      "metadata": {
        "colab": {
          "base_uri": "https://localhost:8080/"
        },
        "id": "Vah2u_zd9ocg",
        "outputId": "677c5af3-9935-4b3e-9920-d3a3c998d079"
      },
      "execution_count": 66,
      "outputs": [
        {
          "output_type": "stream",
          "name": "stdout",
          "text": [
            "0\n",
            "1\n",
            "2\n",
            "3\n",
            "4\n",
            "5\n",
            "6\n",
            "7\n",
            "8\n",
            "9\n"
          ]
        }
      ]
    },
    {
      "cell_type": "code",
      "source": [
        "for i in range(1, 100, 2):\n",
        "    print(i)"
      ],
      "metadata": {
        "colab": {
          "base_uri": "https://localhost:8080/"
        },
        "id": "u0QyUply9wNh",
        "outputId": "edc6b0fd-6bd6-457c-d9b1-4b97f51df106"
      },
      "execution_count": 68,
      "outputs": [
        {
          "output_type": "stream",
          "name": "stdout",
          "text": [
            "1\n",
            "3\n",
            "5\n",
            "7\n",
            "9\n",
            "11\n",
            "13\n",
            "15\n",
            "17\n",
            "19\n",
            "21\n",
            "23\n",
            "25\n",
            "27\n",
            "29\n",
            "31\n",
            "33\n",
            "35\n",
            "37\n",
            "39\n",
            "41\n",
            "43\n",
            "45\n",
            "47\n",
            "49\n",
            "51\n",
            "53\n",
            "55\n",
            "57\n",
            "59\n",
            "61\n",
            "63\n",
            "65\n",
            "67\n",
            "69\n",
            "71\n",
            "73\n",
            "75\n",
            "77\n",
            "79\n",
            "81\n",
            "83\n",
            "85\n",
            "87\n",
            "89\n",
            "91\n",
            "93\n",
            "95\n",
            "97\n",
            "99\n"
          ]
        }
      ]
    },
    {
      "cell_type": "code",
      "source": [
        "for i in range(10, 0, -1):\n",
        "    print(i)"
      ],
      "metadata": {
        "colab": {
          "base_uri": "https://localhost:8080/"
        },
        "id": "mGIXli1Q9z5M",
        "outputId": "8cb13e9e-e715-4506-b98f-6ab3c705d5e3"
      },
      "execution_count": 69,
      "outputs": [
        {
          "output_type": "stream",
          "name": "stdout",
          "text": [
            "10\n",
            "9\n",
            "8\n",
            "7\n",
            "6\n",
            "5\n",
            "4\n",
            "3\n",
            "2\n",
            "1\n"
          ]
        }
      ]
    },
    {
      "cell_type": "code",
      "source": [
        "for i in range(10, 0, -2):\n",
        "    print(i)"
      ],
      "metadata": {
        "colab": {
          "base_uri": "https://localhost:8080/"
        },
        "id": "rZgl6WVc919x",
        "outputId": "c55e715f-77f7-4428-a476-a0a3de1ef570"
      },
      "execution_count": 70,
      "outputs": [
        {
          "output_type": "stream",
          "name": "stdout",
          "text": [
            "10\n",
            "8\n",
            "6\n",
            "4\n",
            "2\n"
          ]
        }
      ]
    },
    {
      "cell_type": "code",
      "source": [
        "for valores in tupla_1:\n",
        "    print(valores)"
      ],
      "metadata": {
        "colab": {
          "base_uri": "https://localhost:8080/"
        },
        "id": "yhLHtSNu94MW",
        "outputId": "e15fe108-5b7a-4775-8912-64d6f8163ea4"
      },
      "execution_count": 72,
      "outputs": [
        {
          "output_type": "stream",
          "name": "stdout",
          "text": [
            "1\n",
            "Yojan\n",
            "a\n",
            "5\n",
            "76\n",
            "75\n",
            "3\n",
            "True\n"
          ]
        }
      ]
    },
    {
      "cell_type": "code",
      "source": [
        "for valores in lista_1:\n",
        "    print(valores)"
      ],
      "metadata": {
        "colab": {
          "base_uri": "https://localhost:8080/"
        },
        "id": "mLREj8SE-GHy",
        "outputId": "f30b5d01-2760-474b-84dc-f9619723e1d5"
      },
      "execution_count": 74,
      "outputs": [
        {
          "output_type": "stream",
          "name": "stdout",
          "text": [
            "Hola\n",
            "Hola\n",
            "Hola\n",
            "Hola\n",
            "Hola\n",
            "Hola\n",
            "Hola\n",
            "True\n",
            "3\n",
            "75\n",
            "76\n",
            "5\n"
          ]
        }
      ]
    },
    {
      "cell_type": "code",
      "source": [
        "for valores in dict1:\n",
        "    print(valores)"
      ],
      "metadata": {
        "colab": {
          "base_uri": "https://localhost:8080/"
        },
        "id": "nYHZikpa-H7y",
        "outputId": "596313b8-f058-405d-ea4f-3b8dd8a4b1ed"
      },
      "execution_count": 76,
      "outputs": [
        {
          "output_type": "stream",
          "name": "stdout",
          "text": [
            "1\n",
            "a\n",
            "76\n",
            "Yojan\n"
          ]
        }
      ]
    },
    {
      "cell_type": "code",
      "source": [
        "for valores in dict1.items():\n",
        "    print(valores)"
      ],
      "metadata": {
        "colab": {
          "base_uri": "https://localhost:8080/"
        },
        "id": "fwM8dKJP-JNW",
        "outputId": "01040b2b-ebd7-4312-fc16-1ab990ec7108"
      },
      "execution_count": 77,
      "outputs": [
        {
          "output_type": "stream",
          "name": "stdout",
          "text": [
            "(1, 'Yojan')\n",
            "('a', 5)\n",
            "(76, 75)\n",
            "('Yojan', 'Adios')\n"
          ]
        }
      ]
    },
    {
      "cell_type": "code",
      "source": [
        "for valores in dict1.keys():\n",
        "    print(valores)"
      ],
      "metadata": {
        "colab": {
          "base_uri": "https://localhost:8080/"
        },
        "id": "kyvgsB6N-KAU",
        "outputId": "623df2fc-512c-40a8-95e7-a1158ac30a77"
      },
      "execution_count": 78,
      "outputs": [
        {
          "output_type": "stream",
          "name": "stdout",
          "text": [
            "1\n",
            "a\n",
            "76\n",
            "Yojan\n"
          ]
        }
      ]
    },
    {
      "cell_type": "code",
      "source": [
        "for valores in dict1.values():\n",
        "    print(valores)"
      ],
      "metadata": {
        "colab": {
          "base_uri": "https://localhost:8080/"
        },
        "id": "H28qRBG--LsM",
        "outputId": "24d25304-1ee9-45ac-e4c4-0dd166b9c2fc"
      },
      "execution_count": 80,
      "outputs": [
        {
          "output_type": "stream",
          "name": "stdout",
          "text": [
            "Yojan\n",
            "5\n",
            "75\n",
            "Adios\n"
          ]
        }
      ]
    },
    {
      "cell_type": "code",
      "source": [
        "for i in range(len(lista_1)):\n",
        "    print(lista_1[i])"
      ],
      "metadata": {
        "colab": {
          "base_uri": "https://localhost:8080/"
        },
        "id": "TIRo1Ht1-OOc",
        "outputId": "cf0965a5-e759-410d-9ee5-c351bfa76277"
      },
      "execution_count": 81,
      "outputs": [
        {
          "output_type": "stream",
          "name": "stdout",
          "text": [
            "Hola\n",
            "Hola\n",
            "Hola\n",
            "Hola\n",
            "Hola\n",
            "Hola\n",
            "Hola\n",
            "True\n",
            "3\n",
            "75\n",
            "76\n",
            "5\n"
          ]
        }
      ]
    },
    {
      "cell_type": "code",
      "source": [
        "for i in range(len(tupla_1)):\n",
        "    print(tupla_1[i])"
      ],
      "metadata": {
        "colab": {
          "base_uri": "https://localhost:8080/"
        },
        "id": "1ONaFutG-Ugi",
        "outputId": "a1539d5b-e609-4839-a990-344d875da63c"
      },
      "execution_count": 82,
      "outputs": [
        {
          "output_type": "stream",
          "name": "stdout",
          "text": [
            "1\n",
            "Yojan\n",
            "a\n",
            "5\n",
            "76\n",
            "75\n",
            "3\n",
            "True\n"
          ]
        }
      ]
    }
  ]
}