{
  "nbformat": 4,
  "nbformat_minor": 0,
  "metadata": {
    "colab": {
      "provenance": [],
      "authorship_tag": "ABX9TyN94CMTBGN5JAL/BV04MPoI",
      "include_colab_link": true
    },
    "kernelspec": {
      "name": "python3",
      "display_name": "Python 3"
    },
    "language_info": {
      "name": "python"
    }
  },
  "cells": [
    {
      "cell_type": "markdown",
      "metadata": {
        "id": "view-in-github",
        "colab_type": "text"
      },
      "source": [
        "<a href=\"https://colab.research.google.com/github/yshungria-uniandes/Data-Science-Fundamentals-/blob/main/Sistema_de_Calificaciones_(Core).ipynb\" target=\"_parent\"><img src=\"https://colab.research.google.com/assets/colab-badge.svg\" alt=\"Open In Colab\"/></a>"
      ]
    },
    {
      "cell_type": "markdown",
      "source": [
        "# Sistema de Calificaciones (Core)\n",
        "\n",
        "## Objetivo:\n",
        "\n",
        "Evaluar las capacidades de los estudiantes en el uso de operaciones matemáticas básicas, booleanos y condicionales en Python, así como su capacidad para analizar problemas, comprender requerimientos y desarrollar lógica de programación."
      ],
      "metadata": {
        "id": "m7PC7sH4XugI"
      }
    },
    {
      "cell_type": "markdown",
      "source": [
        "## Instrucciones:\n",
        "\n",
        "Descripción del Problema: Imagina que estás desarrollando un sistema de gestión de calificaciones para una escuela. El sistema debe permitir a los profesores ingresar las calificaciones de los estudiantes para diferentes asignaturas y luego calcular el promedio de cada estudiante. Además, el sistema debe determinar si el estudiante ha aprobado o reprobado basándose en su promedio. Para aprobar, un estudiante debe tener un promedio de al menos 6.0.\n",
        "Requisitos del Sistema:\n",
        "\n",
        "El programa debe pedir al usuario que ingrese el número de estudiantes.\n",
        "Para cada estudiante, el programa debe pedir al usuario que ingrese su nombre.\n",
        "Luego, el programa debe pedir al usuario que ingrese el número de asignaturas.\n",
        "Para cada asignatura, el programa debe pedir al usuario que ingrese el nombre de la asignatura y la calificación obtenida.\n",
        "\n",
        "El programa debe calcular el promedio de calificaciones para cada estudiante.\n",
        "Finalmente, el programa debe imprimir el nombre del estudiante, su promedio y un mensaje indicando si ha aprobado o reprobado.\n",
        "\n",
        "### Detalles Específicos:\n",
        "\n",
        "Si se ingresa un valor no numérico para una calificación, el programa debe manejar el error e indicar que se ha ingresado un valor no válido.\n",
        "\n",
        "Si se ingresa una calificación fuera del rango de 0 a 10, el programa debe ignorar esa calificación y pedir al usuario que ingrese una calificación válida.\n",
        "El programa debe imprimir un resumen al final que incluya el nombre de todos los estudiantes, sus promedios y su estado (aprobado o reprobado).\n",
        "\n",
        "El programa debe ser robusto y manejar casos en los que no se ingresen datos o se ingresen datos incorrectos.\n",
        "\n",
        "## Consideraciones Adicionales:\n",
        "\n",
        "Asegúrate de utilizar funciones para organizar tu código y evitar redundancias.\n",
        "Usa comentarios para explicar cada sección de tu código.\n",
        "\n",
        "Considera posibles errores y cómo manejarlos adecuadamente.\n",
        "\n",
        "Piensa en la experiencia del usuario y asegúrate de que las instrucciones sean claras y concisas."
      ],
      "metadata": {
        "id": "TUvD3kf2X3rv"
      }
    },
    {
      "cell_type": "code",
      "execution_count": 2,
      "metadata": {
        "colab": {
          "base_uri": "https://localhost:8080/"
        },
        "id": "XrcOsvYnXp3C",
        "outputId": "86380e7e-ff16-4769-b055-278b49e2fb5e"
      },
      "outputs": [
        {
          "output_type": "stream",
          "name": "stdout",
          "text": [
            "Ingrese el número de estudiantes: 1\n",
            "Ingrese el nombre del estudiante: Yojan\n",
            "Ingrese el número de asignaturas: 1\n",
            "Ingrese la calificación para la asignatura 1: 50\n",
            "La calificación debe estar en el rango de 0 a 10. Intente nuevamente.\n",
            "Ingrese la calificación para la asignatura 1: 5\n",
            "\n",
            "Resumen de Calificaciones:\n",
            "Nombre: Yojan, Promedio: 5.00, Estado: Reprobado\n"
          ]
        }
      ],
      "source": [
        "def obtener_numero_estudiantes():\n",
        "    # Pide al usuario el número de estudiantes y devuelve el valor\n",
        "    numero_estudiantes = int(input(\"Ingrese el número de estudiantes: \"))\n",
        "    return numero_estudiantes\n",
        "\n",
        "def obtener_nombre_estudiante():\n",
        "    # Pide al usuario el nombre del estudiante y devuelve el valor\n",
        "    nombre_estudiante = input(\"Ingrese el nombre del estudiante: \")\n",
        "    return nombre_estudiante\n",
        "\n",
        "def obtener_numero_asignaturas():\n",
        "    # Pide al usuario el número de asignaturas y devuelve el valor\n",
        "    numero_asignaturas = int(input(\"Ingrese el número de asignaturas: \"))\n",
        "    return numero_asignaturas\n",
        "\n",
        "def obtener_calificaciones(num_asignaturas):\n",
        "    # Pide al usuario las calificaciones para cada asignatura y las devuelve en una lista\n",
        "    calificaciones = []\n",
        "    for i in range(num_asignaturas):\n",
        "        while True:\n",
        "            try:\n",
        "                calificacion = float(input(f\"Ingrese la calificación para la asignatura {i + 1}: \"))\n",
        "                if 0 <= calificacion <= 10:\n",
        "                    calificaciones.append(calificacion)\n",
        "                    break\n",
        "                else:\n",
        "                    print(\"La calificación debe estar en el rango de 0 a 10. Intente nuevamente.\")\n",
        "            except ValueError:\n",
        "                print(\"Valor no válido. Intente nuevamente.\")\n",
        "    return calificaciones\n",
        "\n",
        "def calcular_promedio(calificaciones):\n",
        "    # Calcula y devuelve el promedio de las calificaciones\n",
        "    promedio = sum(calificaciones) / len(calificaciones)\n",
        "    return promedio\n",
        "\n",
        "def determinar_estado(promedio):\n",
        "    # Determina si el estudiante ha aprobado o reprobado basándose en el promedio\n",
        "    if promedio >= 6.0:\n",
        "        return \"Aprobado\"\n",
        "    else:\n",
        "        return \"Reprobado\"\n",
        "\n",
        "def imprimir_resumen(estudiantes):\n",
        "    # Imprime un resumen con el nombre de los estudiantes, su promedio y su estado\n",
        "    print(\"\\nResumen de Calificaciones:\")\n",
        "    for estudiante in estudiantes:\n",
        "        print(f\"Nombre: {estudiante['nombre']}, Promedio: {estudiante['promedio']:.2f}, Estado: {estudiante['estado']}\")\n",
        "\n",
        "num_estudiantes = obtener_numero_estudiantes()\n",
        "estudiantes = []\n",
        "\n",
        "for _ in range(num_estudiantes):\n",
        "    nombre = obtener_nombre_estudiante()\n",
        "    num_asignaturas = obtener_numero_asignaturas()\n",
        "    calificaciones = obtener_calificaciones(num_asignaturas)\n",
        "    promedio = calcular_promedio(calificaciones)\n",
        "    estado = determinar_estado(promedio)\n",
        "\n",
        "    estudiantes.append({\n",
        "        'nombre': nombre,\n",
        "        'promedio': promedio,\n",
        "        'estado': estado\n",
        "    })\n",
        "\n",
        "\n",
        "imprimir_resumen(estudiantes)"
      ]
    }
  ]
}