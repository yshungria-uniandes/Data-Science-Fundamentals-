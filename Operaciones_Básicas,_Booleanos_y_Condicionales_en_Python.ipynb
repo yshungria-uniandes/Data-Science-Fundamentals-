{
  "nbformat": 4,
  "nbformat_minor": 0,
  "metadata": {
    "colab": {
      "provenance": [],
      "authorship_tag": "ABX9TyPXVX2iufUbm/pYYMSfcSO2",
      "include_colab_link": true
    },
    "kernelspec": {
      "name": "python3",
      "display_name": "Python 3"
    },
    "language_info": {
      "name": "python"
    }
  },
  "cells": [
    {
      "cell_type": "markdown",
      "metadata": {
        "id": "view-in-github",
        "colab_type": "text"
      },
      "source": [
        "<a href=\"https://colab.research.google.com/github/yshungria-uniandes/Data-Science-Fundamentals-/blob/main/Operaciones_B%C3%A1sicas%2C_Booleanos_y_Condicionales_en_Python.ipynb\" target=\"_parent\"><img src=\"https://colab.research.google.com/assets/colab-badge.svg\" alt=\"Open In Colab\"/></a>"
      ]
    },
    {
      "cell_type": "markdown",
      "source": [
        "# Matemáticas Mágicas y Lógica Inquebrantable: Explorando Operaciones Básicas, Booleanos y Condicionales en Python\n",
        "\n",
        "En este capítulo, nos adentraremos en el fascinante mundo de las matemáticas básicas y la lógica en Python. Aprenderemos cómo realizar operaciones aritméticas fundamentales, trabajar con valores booleanos y utilizar condicionales para tomar decisiones en nuestros programas. Estas habilidades son esenciales para desarrollar programas efectivos y eficientes, ya que permiten manipular datos y controlar el flujo de ejecución del código.\n",
        "\n",
        "## 1. Operaciones Matemáticas Básicas en Python"
      ],
      "metadata": {
        "id": "xAYE4iEYPuEm"
      }
    },
    {
      "cell_type": "code",
      "execution_count": 1,
      "metadata": {
        "colab": {
          "base_uri": "https://localhost:8080/"
        },
        "id": "l8wsV7i7PqJi",
        "outputId": "ebeb12cf-182c-47c3-8e81-772cd478d873"
      },
      "outputs": [
        {
          "output_type": "stream",
          "name": "stdout",
          "text": [
            "La suma de a y b es: 15\n"
          ]
        }
      ],
      "source": [
        "a = 10\n",
        "b = 5\n",
        "suma = a + b\n",
        "print(\"La suma de a y b es:\", suma)"
      ]
    },
    {
      "cell_type": "code",
      "source": [
        "resta = a - b\n",
        "print(\"La resta de a y b es:\", resta)"
      ],
      "metadata": {
        "colab": {
          "base_uri": "https://localhost:8080/"
        },
        "id": "CAb6GZhaQI_k",
        "outputId": "e4bc2094-30a6-4280-f6fe-bf37b6c69531"
      },
      "execution_count": 2,
      "outputs": [
        {
          "output_type": "stream",
          "name": "stdout",
          "text": [
            "La resta de a y b es: 5\n"
          ]
        }
      ]
    },
    {
      "cell_type": "code",
      "source": [
        "multiplicacion = a * b\n",
        "print(\"La multiplicación de a y b es:\", multiplicacion)"
      ],
      "metadata": {
        "colab": {
          "base_uri": "https://localhost:8080/"
        },
        "id": "XSPTVb6PQNdP",
        "outputId": "1d5852a1-9473-4de5-b972-a3ce4ec72815"
      },
      "execution_count": 3,
      "outputs": [
        {
          "output_type": "stream",
          "name": "stdout",
          "text": [
            "La multiplicación de a y b es: 50\n"
          ]
        }
      ]
    },
    {
      "cell_type": "code",
      "source": [
        "division = a / b\n",
        "print(\"La división de a entre b es:\", division)"
      ],
      "metadata": {
        "colab": {
          "base_uri": "https://localhost:8080/"
        },
        "id": "eaPT0eH4QPzT",
        "outputId": "771e2b07-a0e9-4e8b-ccb9-e6305c8e16eb"
      },
      "execution_count": 4,
      "outputs": [
        {
          "output_type": "stream",
          "name": "stdout",
          "text": [
            "La división de a entre b es: 2.0\n"
          ]
        }
      ]
    },
    {
      "cell_type": "code",
      "source": [
        "# Módulo (%): El operador módulo devuelve el resto de la división.\n",
        "\n",
        "modulo = a % b\n",
        "print(\"El módulo de a entre b es:\", modulo)"
      ],
      "metadata": {
        "colab": {
          "base_uri": "https://localhost:8080/"
        },
        "id": "Debdj1skQSTs",
        "outputId": "f49c2c5f-c3bb-4d49-f5bf-76ff69a7f8ef"
      },
      "execution_count": 5,
      "outputs": [
        {
          "output_type": "stream",
          "name": "stdout",
          "text": [
            "El módulo de a entre b es: 0\n"
          ]
        }
      ]
    },
    {
      "cell_type": "code",
      "source": [
        "potencia = a ** b\n",
        "print(\"a elevado a la potencia de b es:\", potencia)"
      ],
      "metadata": {
        "colab": {
          "base_uri": "https://localhost:8080/"
        },
        "id": "zRe9exNWQc7V",
        "outputId": "9d77287b-c947-44f4-d80c-1e643be6a522"
      },
      "execution_count": 6,
      "outputs": [
        {
          "output_type": "stream",
          "name": "stdout",
          "text": [
            "a elevado a la potencia de b es: 100000\n"
          ]
        }
      ]
    },
    {
      "cell_type": "markdown",
      "source": [
        "## Valores Booleanos\n",
        "\n",
        "Los valores booleanos son esenciales para la lógica en programación. En Python, los valores booleanos pueden ser True o False.\n",
        "\n",
        "Operadores de Comparación: Los operadores de comparación se utilizan para comparar dos valores y devuelven un valor booleano.\n",
        "\n",
        "\n",
        "\n",
        "```\n",
        "* ==: Igual a\n",
        "* !=: Diferente de\n",
        "* <:  Menor que\n",
        "* >:  Mayor que\n",
        "* <=: Menor o igual que\n",
        "* >=: Mayor o igual que\n",
        "```\n",
        "\n"
      ],
      "metadata": {
        "id": "cHtMvW4MQnHi"
      }
    },
    {
      "cell_type": "code",
      "source": [
        "a = 10\n",
        "b = 5\n",
        "\n",
        "print(a == b)  # False\n",
        "print(a != b)  # True\n",
        "print(a > b)   # True\n",
        "print(a < b)   # False\n",
        "print(a >= b)  # True\n",
        "print(a <= b)  # False"
      ],
      "metadata": {
        "colab": {
          "base_uri": "https://localhost:8080/"
        },
        "id": "3ueCHiXlQe-5",
        "outputId": "35d0f996-391a-42e7-df72-77601435dcba"
      },
      "execution_count": 8,
      "outputs": [
        {
          "output_type": "stream",
          "name": "stdout",
          "text": [
            "False\n",
            "True\n",
            "True\n",
            "False\n",
            "True\n",
            "False\n"
          ]
        }
      ]
    },
    {
      "cell_type": "markdown",
      "source": [
        "### Operadores Lógicos:\n",
        "\n",
        "Los operadores lógicos se utilizan para combinar valores booleanos.\n",
        "\n",
        "\n",
        "```\n",
        "and: Devuelve True si ambas expresiones son verdaderas\n",
        "or: Devuelve True si al menos una expresión es verdadera\n",
        "not: Invierte el valor booleano\n",
        "```\n",
        "\n"
      ],
      "metadata": {
        "id": "a99r0zU6Rs9O"
      }
    },
    {
      "cell_type": "code",
      "source": [
        "x = True\n",
        "y = False\n",
        "\n",
        "print(x and y)  # False\n",
        "print(x or y)   # True\n",
        "print(not x)    # False"
      ],
      "metadata": {
        "colab": {
          "base_uri": "https://localhost:8080/"
        },
        "id": "iKla7CHdRq2J",
        "outputId": "48edcf20-fe5a-4024-c9ae-f0b6740f6324"
      },
      "execution_count": 10,
      "outputs": [
        {
          "output_type": "stream",
          "name": "stdout",
          "text": [
            "False\n",
            "True\n",
            "False\n"
          ]
        }
      ]
    },
    {
      "cell_type": "markdown",
      "source": [
        "## Condicionales en Python\n",
        "\n",
        "Las estructuras condicionales permiten tomar decisiones en el código basadas en condiciones específicas. Las condicionales se construyen utilizando las palabras clave if, elif y else.\n",
        "\n",
        "**Estructura Básica de if:** La estructura básica de un condicional if evalúa una expresión booleana y ejecuta el bloque de código correspondiente si la condición es verdadera.\n"
      ],
      "metadata": {
        "id": "6QWl1jc4SA6F"
      }
    },
    {
      "cell_type": "code",
      "source": [
        "a = 10\n",
        "b = 5\n",
        "\n",
        "if a > b:\n",
        "  print(\"a es mayor que b\")"
      ],
      "metadata": {
        "colab": {
          "base_uri": "https://localhost:8080/"
        },
        "id": "BpOV9ZTHR98f",
        "outputId": "ce86a928-03dc-498e-fac5-b20a8814c804"
      },
      "execution_count": 13,
      "outputs": [
        {
          "output_type": "stream",
          "name": "stdout",
          "text": [
            "a es mayor que b\n"
          ]
        }
      ]
    },
    {
      "cell_type": "code",
      "source": [
        "a = 10\n",
        "b = 15\n",
        "\n",
        "if a > b:\n",
        "  print(\"a es mayor que b\")\n",
        "else:\n",
        "  print(\"a no es mayor que b\")"
      ],
      "metadata": {
        "colab": {
          "base_uri": "https://localhost:8080/"
        },
        "id": "LWq1TPLeSXLH",
        "outputId": "133642ef-9222-4df0-e36f-fd55e379d9b4"
      },
      "execution_count": 16,
      "outputs": [
        {
          "output_type": "stream",
          "name": "stdout",
          "text": [
            "a no es mayor que b\n"
          ]
        }
      ]
    },
    {
      "cell_type": "code",
      "source": [
        "a = 10\n",
        "b = 10\n",
        "\n",
        "if a > b:\n",
        "    print(\"a es mayor que b\")\n",
        "elif a < b:\n",
        "    print(\"a es menor que b\")\n",
        "else:\n",
        "    print(\"a es igual a b\")"
      ],
      "metadata": {
        "colab": {
          "base_uri": "https://localhost:8080/"
        },
        "id": "wVWVfxyNSc5U",
        "outputId": "2cab0a9b-0bf7-41c9-9818-b2085f231467"
      },
      "execution_count": 18,
      "outputs": [
        {
          "output_type": "stream",
          "name": "stdout",
          "text": [
            "a es igual a b\n"
          ]
        }
      ]
    },
    {
      "cell_type": "markdown",
      "source": [
        "\n",
        "\n",
        "*   **Condicionales Anidados:** Puedes anidar condicionales dentro de otros condicionales para comprobar condiciones más complejas.\n",
        "\n",
        "\n"
      ],
      "metadata": {
        "id": "JgI2jUMGSgfv"
      }
    },
    {
      "cell_type": "code",
      "source": [
        "a = 10\n",
        "b = 5\n",
        "c = 15\n",
        "\n",
        "if a > b:\n",
        "    if a > c:\n",
        "        print(\"a es el mayor\")\n",
        "    else:\n",
        "        print(\"a es mayor que b pero menor o igual a c\")\n",
        "else:\n",
        "    print(\"a no es mayor que b\")"
      ],
      "metadata": {
        "colab": {
          "base_uri": "https://localhost:8080/"
        },
        "id": "cMNaLsd9SeRE",
        "outputId": "5be1cdc1-b8eb-42b8-f937-3793866eac42"
      },
      "execution_count": 20,
      "outputs": [
        {
          "output_type": "stream",
          "name": "stdout",
          "text": [
            "a es mayor que b pero menor o igual a c\n"
          ]
        }
      ]
    },
    {
      "cell_type": "markdown",
      "source": [
        "# Matematicas y condicionales (Práctica)\n",
        "## Ejercicios Prácticos\n",
        "\n",
        "### Ejercicio 1: Calculadora Básica\n",
        "\n",
        "Crea un programa que pida al usuario dos números y luego le ofrezca un menú para realizar operaciones básicas (suma, resta, multiplicación, división). El programa debe mostrar el resultado de la operación seleccionada"
      ],
      "metadata": {
        "id": "ecI1HLrOTBMe"
      }
    },
    {
      "cell_type": "code",
      "source": [
        "def calculadora():\n",
        "    \"\"\"\n",
        "        Calculadora que realiza operaciones matemáticas básicas.\n",
        "    \"\"\"\n",
        "    num1 = float(input(\"Ingrese el primer número: \"))\n",
        "    num2 = float(input(\"Ingrese el segundo número: \"))\n",
        "\n",
        "    print(\"Seleccione una operación:\")\n",
        "    print(\"1. Suma\")\n",
        "    print(\"2. Resta\")\n",
        "    print(\"3. Multiplicación\")\n",
        "    print(\"4. División\")\n",
        "\n",
        "    opcion = input(\"Ingrese el número de la operación que desea realizar: \")\n",
        "\n",
        "    if opcion == '1':\n",
        "        resultado = num1 + num2\n",
        "        print(\"El resultado de la suma es:\", resultado)\n",
        "\n",
        "    elif opcion == '2':\n",
        "        resultado = num1 - num2\n",
        "        print(\"El resultado de la resta es:\", resultado)\n",
        "\n",
        "    elif opcion == '3':\n",
        "        resultado = num1 * num2\n",
        "        print(\"El resultado de la multiplicación es:\", resultado)\n",
        "\n",
        "    elif opcion == '4':\n",
        "        if num2 != 0:\n",
        "            resultado = num1 / num2\n",
        "            print(\"El resultado de la división es:\", resultado)\n",
        "        else:\n",
        "            print(\"Error: No se puede dividir entre cero.\")\n",
        "\n",
        "    else:\n",
        "        print(\"Opción no válida.\")\n",
        "\n",
        "    print(\"¡Gracias por usar la calculadora!\")\n",
        "\n",
        "calculadora()2"
      ],
      "metadata": {
        "colab": {
          "base_uri": "https://localhost:8080/"
        },
        "id": "6m9dSQGaTAxJ",
        "outputId": "b652e197-3fc3-476c-ef8e-5ba9e276770f"
      },
      "execution_count": 25,
      "outputs": [
        {
          "output_type": "stream",
          "name": "stdout",
          "text": [
            "Ingrese el primer número: 2\n",
            "Ingrese el segundo número: 2\n",
            "Seleccione una operación:\n",
            "1. Suma\n",
            "2. Resta\n",
            "3. Multiplicación\n",
            "4. División\n",
            "Ingrese el número de la operación que desea realizar: \n",
            "Opción no válida.\n",
            "¡Gracias por usar la calculadora!\n"
          ]
        }
      ]
    },
    {
      "cell_type": "markdown",
      "source": [
        "## Ejercicio 2: Determinar la Mayoría de Edad\n",
        "Crea un programa que pida al usuario su edad y determine si es mayor de edad (18 años o más).\n",
        "\n"
      ],
      "metadata": {
        "id": "V5V7r5F6UQfd"
      }
    },
    {
      "cell_type": "code",
      "source": [
        "edad = int(input(\"¿Cuál es tu edad? \"))\n",
        "\n",
        "if edad >= 18:\n",
        "    print(\"Eres mayor de edad.\")\n",
        "else:\n",
        "    print(\"No eres mayor de edad.\")"
      ],
      "metadata": {
        "colab": {
          "base_uri": "https://localhost:8080/"
        },
        "id": "16Cb8OUXUL3W",
        "outputId": "232acd6a-48d7-4429-dc3b-3830040dbe9f"
      },
      "execution_count": 27,
      "outputs": [
        {
          "output_type": "stream",
          "name": "stdout",
          "text": [
            "¿Cuál es tu edad? 32\n",
            "Eres mayor de edad.\n"
          ]
        }
      ]
    },
    {
      "cell_type": "markdown",
      "source": [
        "# Ejercicio 3: Juego de Adivinanza\n",
        "\n",
        "Crea un juego donde el programa elija un número aleatorio entre 1 y 100 y el usuario tenga que adivinarlo. El programa debe indicar si el número ingresado por el usuario es mayor, menor o igual al número secreto."
      ],
      "metadata": {
        "id": "XP3lcnY6UPYb"
      }
    },
    {
      "cell_type": "code",
      "source": [
        "import random\n",
        "\n",
        "numero_secreto = random.randint(1, 100)\n",
        "intentos = 0\n",
        "encontrado = False\n",
        "\n",
        "print(\"¡Bienvenido al juego de adivinanza!\")\n",
        "print(\"He seleccionado un número entre 1 y 100. ¡Adivina cuál es!\")\n",
        "\n",
        "while not encontrado:\n",
        "    intento = int(input(\"Ingresa tu número: \"))\n",
        "    intentos += 1\n",
        "\n",
        "    if intento < numero_secreto:\n",
        "        print(\"El número es mayor.\")\n",
        "    elif intento > numero_secreto:\n",
        "        print(\"El número es menor.\")\n",
        "    else:\n",
        "        print(f\"¡Felicidades! Has adivinado el número en {intentos} intentos.\")\n",
        "        encontrado = True"
      ],
      "metadata": {
        "colab": {
          "base_uri": "https://localhost:8080/"
        },
        "id": "iFHKpRSiUn97",
        "outputId": "e2c534af-0096-426d-f90e-16fdfbe708c6"
      },
      "execution_count": 28,
      "outputs": [
        {
          "output_type": "stream",
          "name": "stdout",
          "text": [
            "¡Bienvenido al juego de adivinanza!\n",
            "He seleccionado un número entre 1 y 100. ¡Adivina cuál es!\n",
            "Ingresa tu número: 8\n",
            "El número es mayor.\n",
            "Ingresa tu número: 16\n",
            "El número es mayor.\n",
            "Ingresa tu número: 50\n",
            "El número es mayor.\n",
            "Ingresa tu número: 65\n",
            "El número es mayor.\n",
            "Ingresa tu número: 90\n",
            "El número es menor.\n",
            "Ingresa tu número: 80\n",
            "El número es mayor.\n",
            "Ingresa tu número: 85\n",
            "El número es mayor.\n",
            "Ingresa tu número: 87\n",
            "El número es mayor.\n",
            "Ingresa tu número: 87\n",
            "El número es mayor.\n",
            "Ingresa tu número: 88\n",
            "El número es mayor.\n",
            "Ingresa tu número: 89\n",
            "¡Felicidades! Has adivinado el número en 11 intentos.\n"
          ]
        }
      ]
    },
    {
      "cell_type": "markdown",
      "source": [
        " ## Ejercicio 4: Comparación de Tres Números\n",
        "\n",
        "Crea un programa que pida al usuario tres números y determine cuál es el mayor."
      ],
      "metadata": {
        "id": "LajSoiaBVVJE"
      }
    },
    {
      "cell_type": "code",
      "source": [
        "num1 = float(input(\"Ingresa el primer número: \"))\n",
        "num2 = float(input(\"Ingresa el segundo número: \"))\n",
        "num3 = float(input(\"Ingresa el tercer número: \"))\n",
        "\n",
        "if num1 >= num2 and num1 >= num3:\n",
        "    print(\"El primer número es el mayor.\")\n",
        "elif num2 >= num1 and num2 >= num3:\n",
        "    print(\"El segundo número es el mayor.\")\n",
        "else:\n",
        "    print(\"El tercer número es el mayor.\")"
      ],
      "metadata": {
        "colab": {
          "base_uri": "https://localhost:8080/"
        },
        "id": "5nrnUjy1VXhz",
        "outputId": "7b849e07-5754-49cc-bd74-ccfb2997ff9c"
      },
      "execution_count": 29,
      "outputs": [
        {
          "output_type": "stream",
          "name": "stdout",
          "text": [
            "Ingresa el primer número: 4\n",
            "Ingresa el segundo número: 6\n",
            "Ingresa el tercer número: 2\n",
            "El segundo número es el mayor.\n"
          ]
        }
      ]
    }
  ]
}