{
  "nbformat": 4,
  "nbformat_minor": 0,
  "metadata": {
    "colab": {
      "provenance": [],
      "authorship_tag": "ABX9TyOYCEHJrQdyKW8JHjoNdvqh",
      "include_colab_link": true
    },
    "kernelspec": {
      "name": "python3",
      "display_name": "Python 3"
    },
    "language_info": {
      "name": "python"
    }
  },
  "cells": [
    {
      "cell_type": "markdown",
      "metadata": {
        "id": "view-in-github",
        "colab_type": "text"
      },
      "source": [
        "<a href=\"https://colab.research.google.com/github/yshungria-uniandes/Data-Science-Fundamentals-/blob/main/An%C3%A1lisis_de_Datos_con_Pandas_y_JSON_(Opcional).ipynb\" target=\"_parent\"><img src=\"https://colab.research.google.com/assets/colab-badge.svg\" alt=\"Open In Colab\"/></a>"
      ]
    },
    {
      "cell_type": "markdown",
      "source": [
        "# Análisis de Datos con Pandas y JSON (Opcional)\n",
        "\n",
        "## Objetivo\n",
        "\n",
        "El objetivo de este desafío es evaluar tus habilidades en el manejo de datos utilizando Pandas. Trabajarás con un dataset en formato JSON extraído de una API y aplicarás técnicas de carga, exploración, filtrado y slicing de datos.\n",
        "\n",
        "\n",
        "\n",
        "## Dataset\n",
        "\n",
        "Utilizaremos datos de clima de una API pública. El dataset incluye información sobre la temperatura, humedad, condiciones meteorológicas y otros detalles relacionados con el clima en diferentes ciudades. Puedes obtener datos de clima de la API OpenWeatherMap.\n",
        "\n",
        "\n",
        "\n",
        "**Nota:** Para realizar este desafío, necesitarás tu propia clave de API de OpenWeatherMap. Puedes registrarte gratuitamente en su sitio web y obtener tu API key, la cual debes reemplazar en el código donde se indica api_key = 'tu_api_key'."
      ],
      "metadata": {
        "id": "UT3-wSROVwzF"
      }
    },
    {
      "cell_type": "markdown",
      "source": [
        "## Instrucciones\n",
        "\n",
        "## 1. Preparación del Entorno\n",
        "\n",
        "Asegúrate de tener instalado Pandas en tu entorno de trabajo.\n",
        "\n",
        "Instala la biblioteca requests para realizar solicitudes HTTP."
      ],
      "metadata": {
        "id": "1n1ygvBMXVjU"
      }
    },
    {
      "cell_type": "code",
      "source": [
        "# Instala la biblioteca requests para realizar solicitudes HTTP.\n",
        "# !pip install requests\n",
        "import pandas as pd\n",
        "import requests\n"
      ],
      "metadata": {
        "id": "yDrkZVa0XUQ0"
      },
      "execution_count": 7,
      "outputs": []
    },
    {
      "cell_type": "markdown",
      "source": [
        "## 2. Obtener los Datos\n",
        "\n",
        "Realiza una solicitud HTTP a la API de OpenWeatherMap para obtener datos de clima en formato JSON.\n",
        "\n",
        "Recuerda reemplazar 'tu_api_key' por tu propia clave de API.\n",
        "\n",
        "Carga los datos en un DataFrame de Pandas.\n",
        "\n",
        "Muestra las primeras 10 filas del DataFrame para confirmar que los datos se han cargado correctamente."
      ],
      "metadata": {
        "id": "KZ2sk26SYGkl"
      }
    },
    {
      "cell_type": "code",
      "source": [
        "import requests\n",
        "import json  # Importar el módulo json para formatear los datos\n",
        "import pandas as pd  # Importar pandas para manejar DataFrames\n",
        "\n",
        "# Configura tu clave de API y la ciudad\n",
        "api_key = '3198a52f3cd8332153bc6594a604b310'  # Reemplaza con tu propia clave\n",
        "city = 'Bogota'\n",
        "url = f\"http://api.openweathermap.org/data/2.5/weather?q={city}&appid={api_key}&units=metric\"\n",
        "\n",
        "# Realiza la solicitud HTTP a la API\n",
        "response = requests.get(url)\n",
        "\n",
        "# Verifica si la solicitud fue exitosa\n",
        "if response.status_code == 200:\n",
        "    # Obtén los datos JSON\n",
        "    data = response.json()\n",
        "\n",
        "    # Muestra los datos JSON de forma ordenada con sangrías\n",
        "    print(\"Datos JSON ordenados:\")\n",
        "    print(json.dumps(data, indent=4))  # Utiliza json.dumps para formatear los datos\n",
        "\n",
        "    # Normaliza el JSON en un DataFrame\n",
        "    print(\"\\nDatos JSON procesados en DataFrame:\")\n",
        "    df = pd.json_normalize(data)\n",
        "    df_head_10 =  df.head(10)\n",
        "    print(df_head_10.to_string(index=False))  # Imprime la tabla completa en la consola, sin índices\n",
        "\n",
        "else:\n",
        "    # Muestra el error si la solicitud no fue exitosa\n",
        "    print(f\"Error en la solicitud. Código de estado: {response.status_code}\")\n",
        "    print(f\"Mensaje de error: {response.text}\")\n",
        "\n"
      ],
      "metadata": {
        "colab": {
          "base_uri": "https://localhost:8080/"
        },
        "id": "1JoIrBdzX7hG",
        "outputId": "a323718c-b27a-4b2c-b6e5-9c9a613908fb"
      },
      "execution_count": 51,
      "outputs": [
        {
          "output_type": "stream",
          "name": "stdout",
          "text": [
            "Datos JSON ordenados:\n",
            "{\n",
            "    \"coord\": {\n",
            "        \"lon\": -74.0817,\n",
            "        \"lat\": 4.6097\n",
            "    },\n",
            "    \"weather\": [\n",
            "        {\n",
            "            \"id\": 802,\n",
            "            \"main\": \"Clouds\",\n",
            "            \"description\": \"scattered clouds\",\n",
            "            \"icon\": \"03d\"\n",
            "        }\n",
            "    ],\n",
            "    \"base\": \"stations\",\n",
            "    \"main\": {\n",
            "        \"temp\": 17.41,\n",
            "        \"feels_like\": 16.98,\n",
            "        \"temp_min\": 16.92,\n",
            "        \"temp_max\": 19.26,\n",
            "        \"pressure\": 1010,\n",
            "        \"humidity\": 68,\n",
            "        \"sea_level\": 1010,\n",
            "        \"grnd_level\": 734\n",
            "    },\n",
            "    \"visibility\": 8000,\n",
            "    \"wind\": {\n",
            "        \"speed\": 5.66,\n",
            "        \"deg\": 280\n",
            "    },\n",
            "    \"clouds\": {\n",
            "        \"all\": 40\n",
            "    },\n",
            "    \"dt\": 1733430408,\n",
            "    \"sys\": {\n",
            "        \"type\": 1,\n",
            "        \"id\": 8582,\n",
            "        \"country\": \"CO\",\n",
            "        \"sunrise\": 1733395882,\n",
            "        \"sunset\": 1733438599\n",
            "    },\n",
            "    \"timezone\": -18000,\n",
            "    \"id\": 3688689,\n",
            "    \"name\": \"Bogota\",\n",
            "    \"cod\": 200\n",
            "}\n",
            "\n",
            "Datos JSON procesados en DataFrame:\n",
            "                                                                          weather     base  visibility         dt  timezone      id   name  cod  coord.lon  coord.lat  main.temp  main.feels_like  main.temp_min  main.temp_max  main.pressure  main.humidity  main.sea_level  main.grnd_level  wind.speed  wind.deg  clouds.all  sys.type  sys.id sys.country  sys.sunrise  sys.sunset\n",
            "[{'id': 802, 'main': 'Clouds', 'description': 'scattered clouds', 'icon': '03d'}] stations        8000 1733430408    -18000 3688689 Bogota  200   -74.0817     4.6097      17.41            16.98          16.92          19.26           1010             68            1010              734        5.66       280          40         1    8582          CO   1733395882  1733438599\n"
          ]
        }
      ]
    },
    {
      "cell_type": "code",
      "source": [
        "import requests\n",
        "import json  # Importar el módulo json para formatear los datos\n",
        "import pandas as pd  # Importar pandas para manejar DataFrames\n",
        "\n",
        "# Configura tu clave de API y la ciudad\n",
        "api_key = '3198a52f3cd8332153bc6594a604b310'  # Reemplaza con tu propia clave\n",
        "city = 'Bogota'\n",
        "url = f\"http://api.openweathermap.org/data/2.5/weather?q={city}&appid={api_key}&units=metric\"\n",
        "\n",
        "# Realiza la solicitud HTTP a la API\n",
        "response = requests.get(url)\n",
        "\n",
        "data = response.json()\n",
        "\n",
        "# Crear un DataFrame a partir de los datos JSON\n",
        "df = pd.json_normalize(data)\n",
        "print(\"Primeras 10 filas del DataFrame:\")\n",
        "print(df.head(10))\n",
        "\n"
      ],
      "metadata": {
        "colab": {
          "base_uri": "https://localhost:8080/"
        },
        "id": "9AlljjCgXqUw",
        "outputId": "d509aafc-bf3f-41f5-d4dc-e6d0ed7183d6"
      },
      "execution_count": 58,
      "outputs": [
        {
          "output_type": "stream",
          "name": "stdout",
          "text": [
            "Primeras 10 filas del DataFrame:\n",
            "                                             weather      base  visibility  \\\n",
            "0  [{'id': 802, 'main': 'Clouds', 'description': ...  stations        8000   \n",
            "\n",
            "           dt  timezone       id    name  cod  coord.lon  coord.lat  ...  \\\n",
            "0  1733431153    -18000  3688689  Bogota  200   -74.0817     4.6097  ...   \n",
            "\n",
            "   main.sea_level  main.grnd_level  wind.speed  wind.deg  clouds.all  \\\n",
            "0            1011              735        5.66       280          40   \n",
            "\n",
            "   sys.type  sys.id  sys.country  sys.sunrise  sys.sunset  \n",
            "0         1    8582           CO   1733395882  1733438599  \n",
            "\n",
            "[1 rows x 26 columns]\n",
            "nÚltimas 5 filas del DataFrame:\n",
            "                                             weather      base  visibility  \\\n",
            "0  [{'id': 802, 'main': 'Clouds', 'description': ...  stations        8000   \n",
            "\n",
            "           dt  timezone       id    name  cod  coord.lon  coord.lat  ...  \\\n",
            "0  1733431153    -18000  3688689  Bogota  200   -74.0817     4.6097  ...   \n",
            "\n",
            "   main.sea_level  main.grnd_level  wind.speed  wind.deg  clouds.all  \\\n",
            "0            1011              735        5.66       280          40   \n",
            "\n",
            "   sys.type  sys.id  sys.country  sys.sunrise  sys.sunset  \n",
            "0         1    8582           CO   1733395882  1733438599  \n",
            "\n",
            "[1 rows x 26 columns]\n"
          ]
        }
      ]
    },
    {
      "cell_type": "markdown",
      "source": [
        "## Exploración Inicial de los Datos\n",
        "\n",
        "Muestra las últimas 5 filas del DataFrame.\n",
        "\n",
        "Utiliza el método info() para obtener información general sobre el DataFrame, incluyendo el número de entradas, nombres de las columnas, tipos de datos y memoria utilizada.\n",
        "\n",
        "Genera estadísticas descriptivas del DataFrame utilizando el método describe()."
      ],
      "metadata": {
        "id": "mYadZSHUkap7"
      }
    },
    {
      "cell_type": "code",
      "execution_count": 66,
      "metadata": {
        "colab": {
          "base_uri": "https://localhost:8080/"
        },
        "id": "eagzgEaEVu2I",
        "outputId": "66cfd657-757e-4baf-da74-3c8cef5b2ce6"
      },
      "outputs": [
        {
          "output_type": "stream",
          "name": "stdout",
          "text": [
            "\n",
            "Ultimas 5 filas del DataFrame:\n",
            "                                             weather      base  visibility  \\\n",
            "0  [{'id': 802, 'main': 'Clouds', 'description': ...  stations        8000   \n",
            "\n",
            "           dt  timezone       id    name  cod  coord.lon  coord.lat  ...  \\\n",
            "0  1733431153    -18000  3688689  Bogota  200   -74.0817     4.6097  ...   \n",
            "\n",
            "   main.sea_level  main.grnd_level  wind.speed  wind.deg  clouds.all  \\\n",
            "0            1011              735        5.66       280          40   \n",
            "\n",
            "   sys.type  sys.id  sys.country  sys.sunrise  sys.sunset  \n",
            "0         1    8582           CO   1733395882  1733438599  \n",
            "\n",
            "[1 rows x 26 columns]\n",
            "\n",
            "Información del DataFrame:\n",
            "<class 'pandas.core.frame.DataFrame'>\n",
            "RangeIndex: 1 entries, 0 to 0\n",
            "Data columns (total 26 columns):\n",
            " #   Column           Non-Null Count  Dtype  \n",
            "---  ------           --------------  -----  \n",
            " 0   weather          1 non-null      object \n",
            " 1   base             1 non-null      object \n",
            " 2   visibility       1 non-null      int64  \n",
            " 3   dt               1 non-null      int64  \n",
            " 4   timezone         1 non-null      int64  \n",
            " 5   id               1 non-null      int64  \n",
            " 6   name             1 non-null      object \n",
            " 7   cod              1 non-null      int64  \n",
            " 8   coord.lon        1 non-null      float64\n",
            " 9   coord.lat        1 non-null      float64\n",
            " 10  main.temp        1 non-null      float64\n",
            " 11  main.feels_like  1 non-null      float64\n",
            " 12  main.temp_min    1 non-null      float64\n",
            " 13  main.temp_max    1 non-null      float64\n",
            " 14  main.pressure    1 non-null      int64  \n",
            " 15  main.humidity    1 non-null      int64  \n",
            " 16  main.sea_level   1 non-null      int64  \n",
            " 17  main.grnd_level  1 non-null      int64  \n",
            " 18  wind.speed       1 non-null      float64\n",
            " 19  wind.deg         1 non-null      int64  \n",
            " 20  clouds.all       1 non-null      int64  \n",
            " 21  sys.type         1 non-null      int64  \n",
            " 22  sys.id           1 non-null      int64  \n",
            " 23  sys.country      1 non-null      object \n",
            " 24  sys.sunrise      1 non-null      int64  \n",
            " 25  sys.sunset       1 non-null      int64  \n",
            "dtypes: float64(7), int64(15), object(4)\n",
            "memory usage: 336.0+ bytes\n",
            "None\n",
            "\n",
            "Estadísticas descriptivas del DataFrame:\n",
            "       visibility            dt  timezone         id    cod  coord.lon  \\\n",
            "count         1.0  1.000000e+00       1.0        1.0    1.0     1.0000   \n",
            "mean       8000.0  1.733431e+09  -18000.0  3688689.0  200.0   -74.0817   \n",
            "std           NaN           NaN       NaN        NaN    NaN        NaN   \n",
            "min        8000.0  1.733431e+09  -18000.0  3688689.0  200.0   -74.0817   \n",
            "25%        8000.0  1.733431e+09  -18000.0  3688689.0  200.0   -74.0817   \n",
            "50%        8000.0  1.733431e+09  -18000.0  3688689.0  200.0   -74.0817   \n",
            "75%        8000.0  1.733431e+09  -18000.0  3688689.0  200.0   -74.0817   \n",
            "max        8000.0  1.733431e+09  -18000.0  3688689.0  200.0   -74.0817   \n",
            "\n",
            "       coord.lat  main.temp  main.feels_like  main.temp_min  ...  \\\n",
            "count     1.0000       1.00             1.00           1.00  ...   \n",
            "mean      4.6097      17.73            17.33          16.92  ...   \n",
            "std          NaN        NaN              NaN            NaN  ...   \n",
            "min       4.6097      17.73            17.33          16.92  ...   \n",
            "25%       4.6097      17.73            17.33          16.92  ...   \n",
            "50%       4.6097      17.73            17.33          16.92  ...   \n",
            "75%       4.6097      17.73            17.33          16.92  ...   \n",
            "max       4.6097      17.73            17.33          16.92  ...   \n",
            "\n",
            "       main.humidity  main.sea_level  main.grnd_level  wind.speed  wind.deg  \\\n",
            "count            1.0             1.0              1.0        1.00       1.0   \n",
            "mean            68.0          1011.0            735.0        5.66     280.0   \n",
            "std              NaN             NaN              NaN         NaN       NaN   \n",
            "min             68.0          1011.0            735.0        5.66     280.0   \n",
            "25%             68.0          1011.0            735.0        5.66     280.0   \n",
            "50%             68.0          1011.0            735.0        5.66     280.0   \n",
            "75%             68.0          1011.0            735.0        5.66     280.0   \n",
            "max             68.0          1011.0            735.0        5.66     280.0   \n",
            "\n",
            "       clouds.all  sys.type  sys.id   sys.sunrise    sys.sunset  \n",
            "count         1.0       1.0     1.0  1.000000e+00  1.000000e+00  \n",
            "mean         40.0       1.0  8582.0  1.733396e+09  1.733439e+09  \n",
            "std           NaN       NaN     NaN           NaN           NaN  \n",
            "min          40.0       1.0  8582.0  1.733396e+09  1.733439e+09  \n",
            "25%          40.0       1.0  8582.0  1.733396e+09  1.733439e+09  \n",
            "50%          40.0       1.0  8582.0  1.733396e+09  1.733439e+09  \n",
            "75%          40.0       1.0  8582.0  1.733396e+09  1.733439e+09  \n",
            "max          40.0       1.0  8582.0  1.733396e+09  1.733439e+09  \n",
            "\n",
            "[8 rows x 22 columns]\n"
          ]
        }
      ],
      "source": [
        "# Paso 3: Exploración Inicial de los Datos\n",
        "print(\"\\nUltimas 5 filas del DataFrame:\")\n",
        "print(df.tail(5))\n",
        "\n",
        "\n",
        "print(\"\\nInformación del DataFrame:\")\n",
        "print(df.info())\n",
        "\n",
        "print(\"\\nEstadísticas descriptivas del DataFrame:\")\n",
        "print(df.describe())\n"
      ]
    },
    {
      "cell_type": "markdown",
      "source": [
        "## 4. Inspección de los Datos\n",
        "\n",
        "Inspecciona los tipos de datos de cada columna utilizando el atributo dtypes.\n",
        "\n",
        "Cuenta los valores únicos en la columna weather utilizando el método value_counts().\n",
        "\n",
        "Muestra todos los valores únicos en la columna city utilizando el método unique()."
      ],
      "metadata": {
        "id": "oxcJTE_xmEKz"
      }
    },
    {
      "cell_type": "code",
      "source": [
        "# Inspecciona los tipos de datos de cada columna utilizando el atributo dtypes.\n",
        "\n",
        "print(\"\\nTipos de datos de cada columna:\")\n",
        "df.dtypes"
      ],
      "metadata": {
        "colab": {
          "base_uri": "https://localhost:8080/",
          "height": 934
        },
        "id": "NdyaokW2mIj2",
        "outputId": "71c0a1df-4e69-4b08-c499-8789b7a23e30"
      },
      "execution_count": 68,
      "outputs": [
        {
          "output_type": "stream",
          "name": "stdout",
          "text": [
            "\n",
            "Tipos de datos de cada columna:\n"
          ]
        },
        {
          "output_type": "execute_result",
          "data": {
            "text/plain": [
              "weather             object\n",
              "base                object\n",
              "visibility           int64\n",
              "dt                   int64\n",
              "timezone             int64\n",
              "id                   int64\n",
              "name                object\n",
              "cod                  int64\n",
              "coord.lon          float64\n",
              "coord.lat          float64\n",
              "main.temp          float64\n",
              "main.feels_like    float64\n",
              "main.temp_min      float64\n",
              "main.temp_max      float64\n",
              "main.pressure        int64\n",
              "main.humidity        int64\n",
              "main.sea_level       int64\n",
              "main.grnd_level      int64\n",
              "wind.speed         float64\n",
              "wind.deg             int64\n",
              "clouds.all           int64\n",
              "sys.type             int64\n",
              "sys.id               int64\n",
              "sys.country         object\n",
              "sys.sunrise          int64\n",
              "sys.sunset           int64\n",
              "dtype: object"
            ],
            "text/html": [
              "<div>\n",
              "<style scoped>\n",
              "    .dataframe tbody tr th:only-of-type {\n",
              "        vertical-align: middle;\n",
              "    }\n",
              "\n",
              "    .dataframe tbody tr th {\n",
              "        vertical-align: top;\n",
              "    }\n",
              "\n",
              "    .dataframe thead th {\n",
              "        text-align: right;\n",
              "    }\n",
              "</style>\n",
              "<table border=\"1\" class=\"dataframe\">\n",
              "  <thead>\n",
              "    <tr style=\"text-align: right;\">\n",
              "      <th></th>\n",
              "      <th>0</th>\n",
              "    </tr>\n",
              "  </thead>\n",
              "  <tbody>\n",
              "    <tr>\n",
              "      <th>weather</th>\n",
              "      <td>object</td>\n",
              "    </tr>\n",
              "    <tr>\n",
              "      <th>base</th>\n",
              "      <td>object</td>\n",
              "    </tr>\n",
              "    <tr>\n",
              "      <th>visibility</th>\n",
              "      <td>int64</td>\n",
              "    </tr>\n",
              "    <tr>\n",
              "      <th>dt</th>\n",
              "      <td>int64</td>\n",
              "    </tr>\n",
              "    <tr>\n",
              "      <th>timezone</th>\n",
              "      <td>int64</td>\n",
              "    </tr>\n",
              "    <tr>\n",
              "      <th>id</th>\n",
              "      <td>int64</td>\n",
              "    </tr>\n",
              "    <tr>\n",
              "      <th>name</th>\n",
              "      <td>object</td>\n",
              "    </tr>\n",
              "    <tr>\n",
              "      <th>cod</th>\n",
              "      <td>int64</td>\n",
              "    </tr>\n",
              "    <tr>\n",
              "      <th>coord.lon</th>\n",
              "      <td>float64</td>\n",
              "    </tr>\n",
              "    <tr>\n",
              "      <th>coord.lat</th>\n",
              "      <td>float64</td>\n",
              "    </tr>\n",
              "    <tr>\n",
              "      <th>main.temp</th>\n",
              "      <td>float64</td>\n",
              "    </tr>\n",
              "    <tr>\n",
              "      <th>main.feels_like</th>\n",
              "      <td>float64</td>\n",
              "    </tr>\n",
              "    <tr>\n",
              "      <th>main.temp_min</th>\n",
              "      <td>float64</td>\n",
              "    </tr>\n",
              "    <tr>\n",
              "      <th>main.temp_max</th>\n",
              "      <td>float64</td>\n",
              "    </tr>\n",
              "    <tr>\n",
              "      <th>main.pressure</th>\n",
              "      <td>int64</td>\n",
              "    </tr>\n",
              "    <tr>\n",
              "      <th>main.humidity</th>\n",
              "      <td>int64</td>\n",
              "    </tr>\n",
              "    <tr>\n",
              "      <th>main.sea_level</th>\n",
              "      <td>int64</td>\n",
              "    </tr>\n",
              "    <tr>\n",
              "      <th>main.grnd_level</th>\n",
              "      <td>int64</td>\n",
              "    </tr>\n",
              "    <tr>\n",
              "      <th>wind.speed</th>\n",
              "      <td>float64</td>\n",
              "    </tr>\n",
              "    <tr>\n",
              "      <th>wind.deg</th>\n",
              "      <td>int64</td>\n",
              "    </tr>\n",
              "    <tr>\n",
              "      <th>clouds.all</th>\n",
              "      <td>int64</td>\n",
              "    </tr>\n",
              "    <tr>\n",
              "      <th>sys.type</th>\n",
              "      <td>int64</td>\n",
              "    </tr>\n",
              "    <tr>\n",
              "      <th>sys.id</th>\n",
              "      <td>int64</td>\n",
              "    </tr>\n",
              "    <tr>\n",
              "      <th>sys.country</th>\n",
              "      <td>object</td>\n",
              "    </tr>\n",
              "    <tr>\n",
              "      <th>sys.sunrise</th>\n",
              "      <td>int64</td>\n",
              "    </tr>\n",
              "    <tr>\n",
              "      <th>sys.sunset</th>\n",
              "      <td>int64</td>\n",
              "    </tr>\n",
              "  </tbody>\n",
              "</table>\n",
              "</div><br><label><b>dtype:</b> object</label>"
            ]
          },
          "metadata": {},
          "execution_count": 68
        }
      ]
    },
    {
      "cell_type": "code",
      "source": [
        "# Cuenta los valores únicos en la columna weather utilizando el método value_counts().\n",
        "\n",
        "print(\"\\nValores únicos en la columna weather:\")\n",
        "df['weather'].value_counts()"
      ],
      "metadata": {
        "colab": {
          "base_uri": "https://localhost:8080/",
          "height": 181
        },
        "id": "gMxmNlM5mdWy",
        "outputId": "9e519e55-23ac-4903-88cd-41a3d4eb4492"
      },
      "execution_count": 70,
      "outputs": [
        {
          "output_type": "stream",
          "name": "stdout",
          "text": [
            "\n",
            "Valores únicos en la columna weather:\n"
          ]
        },
        {
          "output_type": "execute_result",
          "data": {
            "text/plain": [
              "weather\n",
              "[{'id': 802, 'main': 'Clouds', 'description': 'scattered clouds', 'icon': '03d'}]    1\n",
              "Name: count, dtype: int64"
            ],
            "text/html": [
              "<div>\n",
              "<style scoped>\n",
              "    .dataframe tbody tr th:only-of-type {\n",
              "        vertical-align: middle;\n",
              "    }\n",
              "\n",
              "    .dataframe tbody tr th {\n",
              "        vertical-align: top;\n",
              "    }\n",
              "\n",
              "    .dataframe thead th {\n",
              "        text-align: right;\n",
              "    }\n",
              "</style>\n",
              "<table border=\"1\" class=\"dataframe\">\n",
              "  <thead>\n",
              "    <tr style=\"text-align: right;\">\n",
              "      <th></th>\n",
              "      <th>count</th>\n",
              "    </tr>\n",
              "    <tr>\n",
              "      <th>weather</th>\n",
              "      <th></th>\n",
              "    </tr>\n",
              "  </thead>\n",
              "  <tbody>\n",
              "    <tr>\n",
              "      <th>[{'id': 802, 'main': 'Clouds', 'description': 'scattered clouds', 'icon': '03d'}]</th>\n",
              "      <td>1</td>\n",
              "    </tr>\n",
              "  </tbody>\n",
              "</table>\n",
              "</div><br><label><b>dtype:</b> int64</label>"
            ]
          },
          "metadata": {},
          "execution_count": 70
        }
      ]
    },
    {
      "cell_type": "code",
      "source": [
        "# Muestra todos los valores únicos en la columna city utilizando el método unique().\n",
        "\n",
        "print(\"\\nValores únicos en la columna city:\")\n",
        "df['name'].unique()"
      ],
      "metadata": {
        "colab": {
          "base_uri": "https://localhost:8080/"
        },
        "id": "j3ecK3NNmjuz",
        "outputId": "06131e05-46fb-4cc8-913b-d1a2f629fff3"
      },
      "execution_count": 75,
      "outputs": [
        {
          "output_type": "stream",
          "name": "stdout",
          "text": [
            "\n",
            "Valores únicos en la columna city:\n"
          ]
        },
        {
          "output_type": "execute_result",
          "data": {
            "text/plain": [
              "array(['Bogota'], dtype=object)"
            ]
          },
          "metadata": {},
          "execution_count": 75
        }
      ]
    },
    {
      "cell_type": "markdown",
      "source": [
        "## 5. Filtrado de Datos\n",
        "\n",
        "Filtra el DataFrame para mostrar solo las filas donde la temperatura (temp) sea mayor a 20 grados Celsius.\n",
        "\n",
        "Filtra el DataFrame para mostrar solo las filas donde la humedad (humidity) sea menor a 50%.\n",
        "\n",
        "Utilizando el método query(), filtra el DataFrame para mostrar las filas donde la ciudad sea London y la temperatura sea menor a 15 grados Celsius."
      ],
      "metadata": {
        "id": "7PJtTlKgmw4l"
      }
    },
    {
      "cell_type": "code",
      "source": [
        "# Filtra el DataFrame para mostrar solo las filas donde la temperatura (temp) sea mayor a 20 grados Celsius.\n",
        "\n",
        "df_temp_20 = df[df['main.temp'] > 10]\n",
        "print(\"\\nFilas con temperatura mayor a 20 grados Celsius:\")\n",
        "print(df_temp_20)\n"
      ],
      "metadata": {
        "colab": {
          "base_uri": "https://localhost:8080/"
        },
        "id": "o9PXRdPDmwcp",
        "outputId": "2573e8dc-ae05-45f9-be29-4ce25f34fdfa"
      },
      "execution_count": 79,
      "outputs": [
        {
          "output_type": "stream",
          "name": "stdout",
          "text": [
            "\n",
            "Filas con temperatura mayor a 20 grados Celsius:\n",
            "                                             weather      base  visibility  \\\n",
            "0  [{'id': 802, 'main': 'Clouds', 'description': ...  stations        8000   \n",
            "\n",
            "           dt  timezone       id    name  cod  coord.lon  coord.lat  ...  \\\n",
            "0  1733431153    -18000  3688689  Bogota  200   -74.0817     4.6097  ...   \n",
            "\n",
            "   main.sea_level  main.grnd_level  wind.speed  wind.deg  clouds.all  \\\n",
            "0            1011              735        5.66       280          40   \n",
            "\n",
            "   sys.type  sys.id  sys.country  sys.sunrise  sys.sunset  \n",
            "0         1    8582           CO   1733395882  1733438599  \n",
            "\n",
            "[1 rows x 26 columns]\n"
          ]
        }
      ]
    },
    {
      "cell_type": "code",
      "source": [
        "# Filtra el DataFrame para mostrar solo las filas donde la humedad (humidity) sea menor a 50%.\n",
        "\n",
        "df_humidity_50 = df[df['main.humidity'] < 50]\n",
        "print(\"\\nFilas con humedad menor a 50%:\")\n",
        "print(df_humidity_50)\n",
        "#"
      ],
      "metadata": {
        "colab": {
          "base_uri": "https://localhost:8080/"
        },
        "id": "PTTgo0I1ndx_",
        "outputId": "ad7f2595-e6f5-43fd-c758-d4aff71f8559"
      },
      "execution_count": 85,
      "outputs": [
        {
          "output_type": "stream",
          "name": "stdout",
          "text": [
            "\n",
            "Filas con humedad menor a 50%:\n",
            "Empty DataFrame\n",
            "Columns: [weather, base, visibility, dt, timezone, id, name, cod, coord.lon, coord.lat, main.temp, main.feels_like, main.temp_min, main.temp_max, main.pressure, main.humidity, main.sea_level, main.grnd_level, wind.speed, wind.deg, clouds.all, sys.type, sys.id, sys.country, sys.sunrise, sys.sunset]\n",
            "Index: []\n",
            "\n",
            "[0 rows x 26 columns]\n"
          ]
        }
      ]
    },
    {
      "cell_type": "code",
      "source": [
        "# Utilizando el método query(), filtra el DataFrame para mostrar las filas donde la ciudad sea London y la temperatura sea menor a 15 grados Celsius.\n",
        "\n",
        "# Renombra las columnas para facilitar la consulta\n",
        "df = df.rename(columns={'main.temp': 'main_temp', 'name': 'city'})\n",
        "\n",
        "# Filtra los datos con query()\n",
        "filtered_df = df.query(\"city == 'Bogota' and main_temp > 15\")\n",
        "\n",
        "# Muestra el resultado\n",
        "print(filtered_df)"
      ],
      "metadata": {
        "colab": {
          "base_uri": "https://localhost:8080/"
        },
        "id": "RASLn86dnsLM",
        "outputId": "7de6cb74-1fe2-48db-81cf-a1182f023498"
      },
      "execution_count": 90,
      "outputs": [
        {
          "output_type": "stream",
          "name": "stdout",
          "text": [
            "                                             weather      base  visibility  \\\n",
            "0  [{'id': 802, 'main': 'Clouds', 'description': ...  stations        8000   \n",
            "\n",
            "           dt  timezone       id    city  cod  coord.lon  coord.lat  ...  \\\n",
            "0  1733431153    -18000  3688689  Bogota  200   -74.0817     4.6097  ...   \n",
            "\n",
            "   main.sea_level  main.grnd_level  wind.speed  wind.deg  clouds.all  \\\n",
            "0            1011              735        5.66       280          40   \n",
            "\n",
            "   sys.type  sys.id  sys.country  sys.sunrise  sys.sunset  \n",
            "0         1    8582           CO   1733395882  1733438599  \n",
            "\n",
            "[1 rows x 26 columns]\n"
          ]
        }
      ]
    },
    {
      "cell_type": "markdown",
      "source": [
        "## 6 Slicing de Datos\n",
        "\n",
        "Selecciona y muestra solo las columnas city y temp del DataFrame.\n",
        "\n",
        "Utilizando loc[], selecciona y muestra las filas de la 5 a la 10 (inclusive) y las columnas city y weather.\n",
        "\n",
        "Utilizando iloc[], selecciona y muestra las primeras 5 filas y las primeras 3 columnas del DataFrame."
      ],
      "metadata": {
        "id": "aQSO7o_2obpo"
      }
    },
    {
      "cell_type": "code",
      "source": [
        "# Selecciona y muestra solo las columnas city y temp del DataFrame.\n",
        "\n",
        "print(\"\\nColumnas city y temp:\")\n",
        "print(df[['city', 'main_temp']])"
      ],
      "metadata": {
        "colab": {
          "base_uri": "https://localhost:8080/"
        },
        "id": "_8Fm1CZLoSNa",
        "outputId": "c6157dd2-c092-4143-bd57-72d8ca54d807"
      },
      "execution_count": 92,
      "outputs": [
        {
          "output_type": "stream",
          "name": "stdout",
          "text": [
            "\n",
            "Columnas city y temp:\n",
            "     city  main_temp\n",
            "0  Bogota      17.73\n"
          ]
        }
      ]
    },
    {
      "cell_type": "code",
      "source": [
        "# Utilizando loc[], selecciona y muestra las filas de la 5 a la 10 (inclusive) y las columnas city y weather.\n",
        "\n",
        "print(\"\\nFilas de la 5 a la 10 (inclusive) y columnas city y weather:\")\n",
        "print(df.loc[5:10, ['city', 'weather']])"
      ],
      "metadata": {
        "colab": {
          "base_uri": "https://localhost:8080/"
        },
        "id": "ITJ46M7honbS",
        "outputId": "c80a4f57-1ea3-49f8-8e26-b4c89a117ff2"
      },
      "execution_count": 93,
      "outputs": [
        {
          "output_type": "stream",
          "name": "stdout",
          "text": [
            "\n",
            "Filas de la 5 a la 10 (inclusive) y columnas city y weather:\n",
            "Empty DataFrame\n",
            "Columns: [city, weather]\n",
            "Index: []\n"
          ]
        }
      ]
    },
    {
      "cell_type": "code",
      "source": [
        "# Utilizando iloc[], selecciona y muestra las primeras 5 filas y las primeras 3 columnas del DataFrame.\n",
        "\n",
        "df_iloc = df.iloc[:5, :3]\n",
        "print(\"\\nFilas y columnas seleccionadas con iloc:\")\n",
        "print(df_iloc)"
      ],
      "metadata": {
        "colab": {
          "base_uri": "https://localhost:8080/"
        },
        "id": "YQEUpYK8ovG7",
        "outputId": "6535d84d-190a-4cf3-ae33-e6b82bdad1cd"
      },
      "execution_count": 94,
      "outputs": [
        {
          "output_type": "stream",
          "name": "stdout",
          "text": [
            "\n",
            "Filas y columnas seleccionadas con iloc:\n",
            "                                             weather      base  visibility\n",
            "0  [{'id': 802, 'main': 'Clouds', 'description': ...  stations        8000\n"
          ]
        }
      ]
    }
  ]
}