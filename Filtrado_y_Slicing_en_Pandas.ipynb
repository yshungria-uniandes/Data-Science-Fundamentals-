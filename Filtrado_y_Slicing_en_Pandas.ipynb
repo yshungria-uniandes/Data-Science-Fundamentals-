{
  "nbformat": 4,
  "nbformat_minor": 0,
  "metadata": {
    "colab": {
      "provenance": [],
      "authorship_tag": "ABX9TyOCPUtMv2OhGVCT0YUABWCK",
      "include_colab_link": true
    },
    "kernelspec": {
      "name": "python3",
      "display_name": "Python 3"
    },
    "language_info": {
      "name": "python"
    }
  },
  "cells": [
    {
      "cell_type": "markdown",
      "metadata": {
        "id": "view-in-github",
        "colab_type": "text"
      },
      "source": [
        "<a href=\"https://colab.research.google.com/github/yshungria-uniandes/Data-Science-Fundamentals-/blob/main/Filtrado_y_Slicing_en_Pandas.ipynb\" target=\"_parent\"><img src=\"https://colab.research.google.com/assets/colab-badge.svg\" alt=\"Open In Colab\"/></a>"
      ]
    },
    {
      "cell_type": "markdown",
      "source": [
        "# Filtrado y Slicing en Pandas\n",
        "\n",
        "En este capítulo, aprenderemos cómo filtrar y seleccionar datos en Pandas utilizando técnicas de filtrado y slicing. Estas técnicas son esenciales para extraer subconjuntos específicos de datos y realizar análisis más detallados.\n",
        "\n",
        "\n",
        "## Filtrado de Datos en Pandas\n",
        "\n",
        "Filtrado con Condiciones Simples: Pandas permite filtrar filas de un DataFrame utilizando condiciones simples. Para filtrar un DataFrame basado en una condición, puedes usar la notación de corchetes [] con una expresión booleana.\n",
        "\n"
      ],
      "metadata": {
        "id": "G7Zl8ZPXKhv5"
      }
    },
    {
      "cell_type": "code",
      "execution_count": 3,
      "metadata": {
        "colab": {
          "base_uri": "https://localhost:8080/"
        },
        "id": "LjEYg2QjKdiv",
        "outputId": "933f59c7-ffbf-4157-9b29-74a2f9dd0190"
      },
      "outputs": [
        {
          "output_type": "stream",
          "name": "stdout",
          "text": [
            "  Producto  Ventas  Precio\n",
            "3    Peras      60     0.4\n"
          ]
        }
      ],
      "source": [
        "import pandas as pd\n",
        "\n",
        "# Crear un DataFrame de ejemplo\n",
        "data = {\n",
        "    'Producto': ['Manzanas', 'Naranjas', 'Bananas', 'Peras'],\n",
        "    'Ventas': [50, 30, 20, 60],\n",
        "    'Precio': [0.5, 0.75, 0.3, 0.4]\n",
        "}\n",
        "df = pd.DataFrame(data)\n",
        "\n",
        "# Filtrar filas donde las ventas son mayores a 25\n",
        "ventas_mayores_25 = df[df['Ventas'] > 50]\n",
        "print(ventas_mayores_25)"
      ]
    },
    {
      "cell_type": "markdown",
      "source": [
        "**Filtrado con Condiciones Múltiples:** Para aplicar múltiples condiciones de filtrado, puedes usar operadores lógicos como & (y), | (o) y ~ (no). Es importante usar paréntesis alrededor de cada condición para asegurar que las operaciones lógicas se evalúen correctamente."
      ],
      "metadata": {
        "id": "j0Ihr96-MkAg"
      }
    },
    {
      "cell_type": "code",
      "source": [
        "# Filtrar filas donde las ventas son mayores a 25 y el precio es menor a 0.5\n",
        "ventas_mayores_25_precio_menor_05 = df[(df['Ventas'] > 25) & (df['Precio'] < 0.5)]\n",
        "print(ventas_mayores_25_precio_menor_05)"
      ],
      "metadata": {
        "colab": {
          "base_uri": "https://localhost:8080/"
        },
        "id": "5Ob3tVF3MTkw",
        "outputId": "2d5b5f5c-5dba-4c5e-cbfb-7cf7baf03f07"
      },
      "execution_count": 5,
      "outputs": [
        {
          "output_type": "stream",
          "name": "stdout",
          "text": [
            "  Producto  Ventas  Precio\n",
            "3    Peras      60     0.4\n"
          ]
        }
      ]
    },
    {
      "cell_type": "markdown",
      "source": [
        "**Filtrado con el Método query():** El método query() permite filtrar un DataFrame utilizando una cadena de texto con condiciones. Este método puede ser más legible y conveniente para condiciones complejas."
      ],
      "metadata": {
        "id": "o2R41S1POe_w"
      }
    },
    {
      "cell_type": "code",
      "source": [
        "# Filtrar filas utilizando el método query\n",
        "query_result = df.query('Ventas > 25 & Precio < 0.5')\n",
        "print(query_result)"
      ],
      "metadata": {
        "colab": {
          "base_uri": "https://localhost:8080/"
        },
        "id": "escTn1ZTOewo",
        "outputId": "487f8993-9689-44ee-c7d2-76131eb561e0"
      },
      "execution_count": 6,
      "outputs": [
        {
          "output_type": "stream",
          "name": "stdout",
          "text": [
            "  Producto  Ventas  Precio\n",
            "3    Peras      60     0.4\n"
          ]
        }
      ]
    },
    {
      "cell_type": "markdown",
      "source": [
        "**Filtrado Basado en Índices:** También puedes filtrar un DataFrame utilizando sus índices. Pandas permite seleccionar filas específicas utilizando el índice del DataFrame"
      ],
      "metadata": {
        "id": "rNu9l8e_OznE"
      }
    },
    {
      "cell_type": "code",
      "source": [
        "# Filtrar filas utilizando el índice\n",
        "df_indexed = df.set_index('Producto')\n",
        "print(df_indexed)"
      ],
      "metadata": {
        "colab": {
          "base_uri": "https://localhost:8080/"
        },
        "id": "Dx5geH0OPpNi",
        "outputId": "c6f83bbf-4a07-4fa3-b4ad-bea4dc3c52e4"
      },
      "execution_count": 8,
      "outputs": [
        {
          "output_type": "stream",
          "name": "stdout",
          "text": [
            "          Ventas  Precio\n",
            "Producto                \n",
            "Manzanas      50    0.50\n",
            "Naranjas      30    0.75\n",
            "Bananas       20    0.30\n",
            "Peras         60    0.40\n"
          ]
        }
      ]
    },
    {
      "cell_type": "code",
      "source": [
        "# Filtrar filas utilizando el índice\n",
        "# La función loc se utiliza para acceder a filas o columnas del DataFrame basándose en etiquetas.\n",
        "df_indexed = df.set_index('Producto')\n",
        "ventas_manzanas = df_indexed.loc['Manzanas']\n",
        "print(ventas_manzanas)"
      ],
      "metadata": {
        "colab": {
          "base_uri": "https://localhost:8080/"
        },
        "id": "K168ryvuOTmK",
        "outputId": "8dc4560a-48d8-4a8b-b861-f14450553e91"
      },
      "execution_count": 9,
      "outputs": [
        {
          "output_type": "stream",
          "name": "stdout",
          "text": [
            "Ventas    50.0\n",
            "Precio     0.5\n",
            "Name: Manzanas, dtype: float64\n"
          ]
        }
      ]
    },
    {
      "cell_type": "markdown",
      "source": [
        "**Filtrado Basado en Valores Únicos:** Pandas proporciona métodos para filtrar filas basadas en valores únicos en una columna. Esto puede ser útil para seleccionar todas las filas que contienen ciertos valores específicos"
      ],
      "metadata": {
        "id": "iZ-b7JY3QJwo"
      }
    },
    {
      "cell_type": "code",
      "source": [
        "# Filtrar filas donde el producto es 'Manzanas' o 'Bananas'\n",
        "ventas_manzanas_bananas = df[df['Producto'].isin(['Manzanas', 'Bananas'])]\n",
        "print(ventas_manzanas_bananas)"
      ],
      "metadata": {
        "colab": {
          "base_uri": "https://localhost:8080/"
        },
        "id": "-2bVDoM1O7ZT",
        "outputId": "f16729a8-27eb-4107-91e6-d03fab59f00c"
      },
      "execution_count": 10,
      "outputs": [
        {
          "output_type": "stream",
          "name": "stdout",
          "text": [
            "   Producto  Ventas  Precio\n",
            "0  Manzanas      50     0.5\n",
            "2   Bananas      20     0.3\n"
          ]
        }
      ]
    },
    {
      "cell_type": "markdown",
      "source": [
        "## Slicing en Pandas\n",
        "\n",
        "Slicing de Filas y Columnas: Pandas permite seleccionar subconjuntos de filas y columnas utilizando slicing. Esto es similar a la notación de slicing en listas de Python, pero se aplica a DataFrames."
      ],
      "metadata": {
        "id": "KrPPjDorSWIP"
      }
    },
    {
      "cell_type": "code",
      "source": [
        "# Seleccionar filas de la 1 a la 3\n",
        "sliced_rows = df[1:3]\n",
        "print(sliced_rows)"
      ],
      "metadata": {
        "colab": {
          "base_uri": "https://localhost:8080/"
        },
        "id": "3s24DhuwR-mm",
        "outputId": "93456c65-5603-4255-ac7b-7bbcbfe0918c"
      },
      "execution_count": 11,
      "outputs": [
        {
          "output_type": "stream",
          "name": "stdout",
          "text": [
            "   Producto  Ventas  Precio\n",
            "1  Naranjas      30    0.75\n",
            "2   Bananas      20    0.30\n"
          ]
        }
      ]
    },
    {
      "cell_type": "code",
      "source": [
        "df\n"
      ],
      "metadata": {
        "colab": {
          "base_uri": "https://localhost:8080/",
          "height": 175
        },
        "id": "xmmF9XBNSdSs",
        "outputId": "1dbc0846-ee0a-46a3-b66f-7756ccf84de5"
      },
      "execution_count": 12,
      "outputs": [
        {
          "output_type": "execute_result",
          "data": {
            "text/plain": [
              "   Producto  Ventas  Precio\n",
              "0  Manzanas      50    0.50\n",
              "1  Naranjas      30    0.75\n",
              "2   Bananas      20    0.30\n",
              "3     Peras      60    0.40"
            ],
            "text/html": [
              "\n",
              "  <div id=\"df-e52197e3-289f-4327-beff-c0311af9f8f7\" class=\"colab-df-container\">\n",
              "    <div>\n",
              "<style scoped>\n",
              "    .dataframe tbody tr th:only-of-type {\n",
              "        vertical-align: middle;\n",
              "    }\n",
              "\n",
              "    .dataframe tbody tr th {\n",
              "        vertical-align: top;\n",
              "    }\n",
              "\n",
              "    .dataframe thead th {\n",
              "        text-align: right;\n",
              "    }\n",
              "</style>\n",
              "<table border=\"1\" class=\"dataframe\">\n",
              "  <thead>\n",
              "    <tr style=\"text-align: right;\">\n",
              "      <th></th>\n",
              "      <th>Producto</th>\n",
              "      <th>Ventas</th>\n",
              "      <th>Precio</th>\n",
              "    </tr>\n",
              "  </thead>\n",
              "  <tbody>\n",
              "    <tr>\n",
              "      <th>0</th>\n",
              "      <td>Manzanas</td>\n",
              "      <td>50</td>\n",
              "      <td>0.50</td>\n",
              "    </tr>\n",
              "    <tr>\n",
              "      <th>1</th>\n",
              "      <td>Naranjas</td>\n",
              "      <td>30</td>\n",
              "      <td>0.75</td>\n",
              "    </tr>\n",
              "    <tr>\n",
              "      <th>2</th>\n",
              "      <td>Bananas</td>\n",
              "      <td>20</td>\n",
              "      <td>0.30</td>\n",
              "    </tr>\n",
              "    <tr>\n",
              "      <th>3</th>\n",
              "      <td>Peras</td>\n",
              "      <td>60</td>\n",
              "      <td>0.40</td>\n",
              "    </tr>\n",
              "  </tbody>\n",
              "</table>\n",
              "</div>\n",
              "    <div class=\"colab-df-buttons\">\n",
              "\n",
              "  <div class=\"colab-df-container\">\n",
              "    <button class=\"colab-df-convert\" onclick=\"convertToInteractive('df-e52197e3-289f-4327-beff-c0311af9f8f7')\"\n",
              "            title=\"Convert this dataframe to an interactive table.\"\n",
              "            style=\"display:none;\">\n",
              "\n",
              "  <svg xmlns=\"http://www.w3.org/2000/svg\" height=\"24px\" viewBox=\"0 -960 960 960\">\n",
              "    <path d=\"M120-120v-720h720v720H120Zm60-500h600v-160H180v160Zm220 220h160v-160H400v160Zm0 220h160v-160H400v160ZM180-400h160v-160H180v160Zm440 0h160v-160H620v160ZM180-180h160v-160H180v160Zm440 0h160v-160H620v160Z\"/>\n",
              "  </svg>\n",
              "    </button>\n",
              "\n",
              "  <style>\n",
              "    .colab-df-container {\n",
              "      display:flex;\n",
              "      gap: 12px;\n",
              "    }\n",
              "\n",
              "    .colab-df-convert {\n",
              "      background-color: #E8F0FE;\n",
              "      border: none;\n",
              "      border-radius: 50%;\n",
              "      cursor: pointer;\n",
              "      display: none;\n",
              "      fill: #1967D2;\n",
              "      height: 32px;\n",
              "      padding: 0 0 0 0;\n",
              "      width: 32px;\n",
              "    }\n",
              "\n",
              "    .colab-df-convert:hover {\n",
              "      background-color: #E2EBFA;\n",
              "      box-shadow: 0px 1px 2px rgba(60, 64, 67, 0.3), 0px 1px 3px 1px rgba(60, 64, 67, 0.15);\n",
              "      fill: #174EA6;\n",
              "    }\n",
              "\n",
              "    .colab-df-buttons div {\n",
              "      margin-bottom: 4px;\n",
              "    }\n",
              "\n",
              "    [theme=dark] .colab-df-convert {\n",
              "      background-color: #3B4455;\n",
              "      fill: #D2E3FC;\n",
              "    }\n",
              "\n",
              "    [theme=dark] .colab-df-convert:hover {\n",
              "      background-color: #434B5C;\n",
              "      box-shadow: 0px 1px 3px 1px rgba(0, 0, 0, 0.15);\n",
              "      filter: drop-shadow(0px 1px 2px rgba(0, 0, 0, 0.3));\n",
              "      fill: #FFFFFF;\n",
              "    }\n",
              "  </style>\n",
              "\n",
              "    <script>\n",
              "      const buttonEl =\n",
              "        document.querySelector('#df-e52197e3-289f-4327-beff-c0311af9f8f7 button.colab-df-convert');\n",
              "      buttonEl.style.display =\n",
              "        google.colab.kernel.accessAllowed ? 'block' : 'none';\n",
              "\n",
              "      async function convertToInteractive(key) {\n",
              "        const element = document.querySelector('#df-e52197e3-289f-4327-beff-c0311af9f8f7');\n",
              "        const dataTable =\n",
              "          await google.colab.kernel.invokeFunction('convertToInteractive',\n",
              "                                                    [key], {});\n",
              "        if (!dataTable) return;\n",
              "\n",
              "        const docLinkHtml = 'Like what you see? Visit the ' +\n",
              "          '<a target=\"_blank\" href=https://colab.research.google.com/notebooks/data_table.ipynb>data table notebook</a>'\n",
              "          + ' to learn more about interactive tables.';\n",
              "        element.innerHTML = '';\n",
              "        dataTable['output_type'] = 'display_data';\n",
              "        await google.colab.output.renderOutput(dataTable, element);\n",
              "        const docLink = document.createElement('div');\n",
              "        docLink.innerHTML = docLinkHtml;\n",
              "        element.appendChild(docLink);\n",
              "      }\n",
              "    </script>\n",
              "  </div>\n",
              "\n",
              "\n",
              "<div id=\"df-acad2f59-1397-4b3a-a140-720cab4b3640\">\n",
              "  <button class=\"colab-df-quickchart\" onclick=\"quickchart('df-acad2f59-1397-4b3a-a140-720cab4b3640')\"\n",
              "            title=\"Suggest charts\"\n",
              "            style=\"display:none;\">\n",
              "\n",
              "<svg xmlns=\"http://www.w3.org/2000/svg\" height=\"24px\"viewBox=\"0 0 24 24\"\n",
              "     width=\"24px\">\n",
              "    <g>\n",
              "        <path d=\"M19 3H5c-1.1 0-2 .9-2 2v14c0 1.1.9 2 2 2h14c1.1 0 2-.9 2-2V5c0-1.1-.9-2-2-2zM9 17H7v-7h2v7zm4 0h-2V7h2v10zm4 0h-2v-4h2v4z\"/>\n",
              "    </g>\n",
              "</svg>\n",
              "  </button>\n",
              "\n",
              "<style>\n",
              "  .colab-df-quickchart {\n",
              "      --bg-color: #E8F0FE;\n",
              "      --fill-color: #1967D2;\n",
              "      --hover-bg-color: #E2EBFA;\n",
              "      --hover-fill-color: #174EA6;\n",
              "      --disabled-fill-color: #AAA;\n",
              "      --disabled-bg-color: #DDD;\n",
              "  }\n",
              "\n",
              "  [theme=dark] .colab-df-quickchart {\n",
              "      --bg-color: #3B4455;\n",
              "      --fill-color: #D2E3FC;\n",
              "      --hover-bg-color: #434B5C;\n",
              "      --hover-fill-color: #FFFFFF;\n",
              "      --disabled-bg-color: #3B4455;\n",
              "      --disabled-fill-color: #666;\n",
              "  }\n",
              "\n",
              "  .colab-df-quickchart {\n",
              "    background-color: var(--bg-color);\n",
              "    border: none;\n",
              "    border-radius: 50%;\n",
              "    cursor: pointer;\n",
              "    display: none;\n",
              "    fill: var(--fill-color);\n",
              "    height: 32px;\n",
              "    padding: 0;\n",
              "    width: 32px;\n",
              "  }\n",
              "\n",
              "  .colab-df-quickchart:hover {\n",
              "    background-color: var(--hover-bg-color);\n",
              "    box-shadow: 0 1px 2px rgba(60, 64, 67, 0.3), 0 1px 3px 1px rgba(60, 64, 67, 0.15);\n",
              "    fill: var(--button-hover-fill-color);\n",
              "  }\n",
              "\n",
              "  .colab-df-quickchart-complete:disabled,\n",
              "  .colab-df-quickchart-complete:disabled:hover {\n",
              "    background-color: var(--disabled-bg-color);\n",
              "    fill: var(--disabled-fill-color);\n",
              "    box-shadow: none;\n",
              "  }\n",
              "\n",
              "  .colab-df-spinner {\n",
              "    border: 2px solid var(--fill-color);\n",
              "    border-color: transparent;\n",
              "    border-bottom-color: var(--fill-color);\n",
              "    animation:\n",
              "      spin 1s steps(1) infinite;\n",
              "  }\n",
              "\n",
              "  @keyframes spin {\n",
              "    0% {\n",
              "      border-color: transparent;\n",
              "      border-bottom-color: var(--fill-color);\n",
              "      border-left-color: var(--fill-color);\n",
              "    }\n",
              "    20% {\n",
              "      border-color: transparent;\n",
              "      border-left-color: var(--fill-color);\n",
              "      border-top-color: var(--fill-color);\n",
              "    }\n",
              "    30% {\n",
              "      border-color: transparent;\n",
              "      border-left-color: var(--fill-color);\n",
              "      border-top-color: var(--fill-color);\n",
              "      border-right-color: var(--fill-color);\n",
              "    }\n",
              "    40% {\n",
              "      border-color: transparent;\n",
              "      border-right-color: var(--fill-color);\n",
              "      border-top-color: var(--fill-color);\n",
              "    }\n",
              "    60% {\n",
              "      border-color: transparent;\n",
              "      border-right-color: var(--fill-color);\n",
              "    }\n",
              "    80% {\n",
              "      border-color: transparent;\n",
              "      border-right-color: var(--fill-color);\n",
              "      border-bottom-color: var(--fill-color);\n",
              "    }\n",
              "    90% {\n",
              "      border-color: transparent;\n",
              "      border-bottom-color: var(--fill-color);\n",
              "    }\n",
              "  }\n",
              "</style>\n",
              "\n",
              "  <script>\n",
              "    async function quickchart(key) {\n",
              "      const quickchartButtonEl =\n",
              "        document.querySelector('#' + key + ' button');\n",
              "      quickchartButtonEl.disabled = true;  // To prevent multiple clicks.\n",
              "      quickchartButtonEl.classList.add('colab-df-spinner');\n",
              "      try {\n",
              "        const charts = await google.colab.kernel.invokeFunction(\n",
              "            'suggestCharts', [key], {});\n",
              "      } catch (error) {\n",
              "        console.error('Error during call to suggestCharts:', error);\n",
              "      }\n",
              "      quickchartButtonEl.classList.remove('colab-df-spinner');\n",
              "      quickchartButtonEl.classList.add('colab-df-quickchart-complete');\n",
              "    }\n",
              "    (() => {\n",
              "      let quickchartButtonEl =\n",
              "        document.querySelector('#df-acad2f59-1397-4b3a-a140-720cab4b3640 button');\n",
              "      quickchartButtonEl.style.display =\n",
              "        google.colab.kernel.accessAllowed ? 'block' : 'none';\n",
              "    })();\n",
              "  </script>\n",
              "</div>\n",
              "\n",
              "  <div id=\"id_61279482-0b70-4194-a27c-cc0dc3ccbb28\">\n",
              "    <style>\n",
              "      .colab-df-generate {\n",
              "        background-color: #E8F0FE;\n",
              "        border: none;\n",
              "        border-radius: 50%;\n",
              "        cursor: pointer;\n",
              "        display: none;\n",
              "        fill: #1967D2;\n",
              "        height: 32px;\n",
              "        padding: 0 0 0 0;\n",
              "        width: 32px;\n",
              "      }\n",
              "\n",
              "      .colab-df-generate:hover {\n",
              "        background-color: #E2EBFA;\n",
              "        box-shadow: 0px 1px 2px rgba(60, 64, 67, 0.3), 0px 1px 3px 1px rgba(60, 64, 67, 0.15);\n",
              "        fill: #174EA6;\n",
              "      }\n",
              "\n",
              "      [theme=dark] .colab-df-generate {\n",
              "        background-color: #3B4455;\n",
              "        fill: #D2E3FC;\n",
              "      }\n",
              "\n",
              "      [theme=dark] .colab-df-generate:hover {\n",
              "        background-color: #434B5C;\n",
              "        box-shadow: 0px 1px 3px 1px rgba(0, 0, 0, 0.15);\n",
              "        filter: drop-shadow(0px 1px 2px rgba(0, 0, 0, 0.3));\n",
              "        fill: #FFFFFF;\n",
              "      }\n",
              "    </style>\n",
              "    <button class=\"colab-df-generate\" onclick=\"generateWithVariable('df')\"\n",
              "            title=\"Generate code using this dataframe.\"\n",
              "            style=\"display:none;\">\n",
              "\n",
              "  <svg xmlns=\"http://www.w3.org/2000/svg\" height=\"24px\"viewBox=\"0 0 24 24\"\n",
              "       width=\"24px\">\n",
              "    <path d=\"M7,19H8.4L18.45,9,17,7.55,7,17.6ZM5,21V16.75L18.45,3.32a2,2,0,0,1,2.83,0l1.4,1.43a1.91,1.91,0,0,1,.58,1.4,1.91,1.91,0,0,1-.58,1.4L9.25,21ZM18.45,9,17,7.55Zm-12,3A5.31,5.31,0,0,0,4.9,8.1,5.31,5.31,0,0,0,1,6.5,5.31,5.31,0,0,0,4.9,4.9,5.31,5.31,0,0,0,6.5,1,5.31,5.31,0,0,0,8.1,4.9,5.31,5.31,0,0,0,12,6.5,5.46,5.46,0,0,0,6.5,12Z\"/>\n",
              "  </svg>\n",
              "    </button>\n",
              "    <script>\n",
              "      (() => {\n",
              "      const buttonEl =\n",
              "        document.querySelector('#id_61279482-0b70-4194-a27c-cc0dc3ccbb28 button.colab-df-generate');\n",
              "      buttonEl.style.display =\n",
              "        google.colab.kernel.accessAllowed ? 'block' : 'none';\n",
              "\n",
              "      buttonEl.onclick = () => {\n",
              "        google.colab.notebook.generateWithVariable('df');\n",
              "      }\n",
              "      })();\n",
              "    </script>\n",
              "  </div>\n",
              "\n",
              "    </div>\n",
              "  </div>\n"
            ],
            "application/vnd.google.colaboratory.intrinsic+json": {
              "type": "dataframe",
              "variable_name": "df",
              "summary": "{\n  \"name\": \"df\",\n  \"rows\": 4,\n  \"fields\": [\n    {\n      \"column\": \"Producto\",\n      \"properties\": {\n        \"dtype\": \"string\",\n        \"num_unique_values\": 4,\n        \"samples\": [\n          \"Naranjas\",\n          \"Peras\",\n          \"Manzanas\"\n        ],\n        \"semantic_type\": \"\",\n        \"description\": \"\"\n      }\n    },\n    {\n      \"column\": \"Ventas\",\n      \"properties\": {\n        \"dtype\": \"number\",\n        \"std\": 18,\n        \"min\": 20,\n        \"max\": 60,\n        \"num_unique_values\": 4,\n        \"samples\": [\n          30,\n          60,\n          50\n        ],\n        \"semantic_type\": \"\",\n        \"description\": \"\"\n      }\n    },\n    {\n      \"column\": \"Precio\",\n      \"properties\": {\n        \"dtype\": \"number\",\n        \"std\": 0.19311050377094113,\n        \"min\": 0.3,\n        \"max\": 0.75,\n        \"num_unique_values\": 4,\n        \"samples\": [\n          0.75,\n          0.4,\n          0.5\n        ],\n        \"semantic_type\": \"\",\n        \"description\": \"\"\n      }\n    }\n  ]\n}"
            }
          },
          "metadata": {},
          "execution_count": 12
        }
      ]
    },
    {
      "cell_type": "code",
      "source": [
        "\n",
        "# Seleccionar columnas por nombre\n",
        "sliced_columns = df[['Producto', 'Ventas']]\n",
        "print(sliced_columns)"
      ],
      "metadata": {
        "colab": {
          "base_uri": "https://localhost:8080/"
        },
        "id": "f7guaxluSiP3",
        "outputId": "bea373bc-bf7e-4d81-de02-666660e0b82e"
      },
      "execution_count": 13,
      "outputs": [
        {
          "output_type": "stream",
          "name": "stdout",
          "text": [
            "   Producto  Ventas\n",
            "0  Manzanas      50\n",
            "1  Naranjas      30\n",
            "2   Bananas      20\n",
            "3     Peras      60\n"
          ]
        }
      ]
    },
    {
      "cell_type": "markdown",
      "source": [
        "**Slicing con loc[]:** El método loc[] se utiliza para seleccionar datos basados en etiquetas de fila y columna. Puedes especificar etiquetas de fila y columna para obtener subconjuntos específicos de datos."
      ],
      "metadata": {
        "id": "FSeV-mNDSrtg"
      }
    },
    {
      "cell_type": "code",
      "source": [
        "# Seleccionar filas y columnas específicas con loc\n",
        "loc_result = df.loc[0:2, ['Producto', 'Ventas']]\n",
        "print(loc_result)"
      ],
      "metadata": {
        "colab": {
          "base_uri": "https://localhost:8080/"
        },
        "id": "ghneU2XDSo7_",
        "outputId": "95151f81-bcd1-4ac2-a1ad-31ea75cf0e2d"
      },
      "execution_count": 14,
      "outputs": [
        {
          "output_type": "stream",
          "name": "stdout",
          "text": [
            "   Producto  Ventas\n",
            "0  Manzanas      50\n",
            "1  Naranjas      30\n",
            "2   Bananas      20\n"
          ]
        }
      ]
    },
    {
      "cell_type": "markdown",
      "source": [
        "\n",
        "**Slicing con iloc[]:** El método iloc[] se utiliza para seleccionar datos basados en posiciones de fila y columna. Puedes especificar índices de fila y columna para obtener subconjuntos específicos de datos."
      ],
      "metadata": {
        "id": "oPWePasdS4_w"
      }
    },
    {
      "cell_type": "code",
      "source": [
        "# Seleccionar filas y columnas específicas con iloc\n",
        "iloc_result = df.iloc[0:3, 0:2]\n",
        "print(iloc_result)"
      ],
      "metadata": {
        "colab": {
          "base_uri": "https://localhost:8080/"
        },
        "id": "BVwbxNZaSyUC",
        "outputId": "56d5c617-f98f-424e-ae05-9b3a1c0f56d4"
      },
      "execution_count": 20,
      "outputs": [
        {
          "output_type": "stream",
          "name": "stdout",
          "text": [
            "   Producto  Ventas\n",
            "0  Manzanas      50\n",
            "1  Naranjas      30\n",
            "2   Bananas      20\n"
          ]
        }
      ]
    },
    {
      "cell_type": "markdown",
      "source": [
        "## Combinación de Filtrado y Slicing\n",
        "\n",
        "Filtrado y Slicing Simultáneos: Puedes combinar técnicas de filtrado y slicing para seleccionar subconjuntos específicos de datos. Esto permite aplicar condiciones de filtrado y seleccionar filas y columnas específicas al mismo tiempo.\n"
      ],
      "metadata": {
        "id": "f7UAXb1rTRJp"
      }
    },
    {
      "cell_type": "code",
      "source": [
        "# Filtrar y luego hacer slicing de columnas\n",
        "filtered_sliced = df[df['Ventas'] > 50].loc[:, ['Producto', 'Ventas']]\n",
        "print(filtered_sliced)\n"
      ],
      "metadata": {
        "colab": {
          "base_uri": "https://localhost:8080/"
        },
        "id": "jhKW6fkQS-rM",
        "outputId": "0a8ba11d-b1bf-4b34-a713-29ee4679853f"
      },
      "execution_count": 22,
      "outputs": [
        {
          "output_type": "stream",
          "name": "stdout",
          "text": [
            "  Producto  Ventas\n",
            "3    Peras      60\n"
          ]
        }
      ]
    },
    {
      "cell_type": "markdown",
      "source": [
        "# Resumen"
      ],
      "metadata": {
        "id": "7Dy0EkegT18o"
      }
    },
    {
      "cell_type": "code",
      "source": [
        "# Resumen de Métodos Comunes para Filtrado y Slicing\n",
        "# Filtrado con Condiciones Simples:\n",
        "# df[df[‘columna’] > valor]\n",
        "# Filtrado con Condiciones Múltiples:\n",
        "# df[(df[‘columna1’] > valor1) & (df[‘columna2’] < valor2)]\n",
        "# Filtrado con query():\n",
        "# df.query(‘columna1 > valor1 & columna2 < valor2’)\n",
        "# Filtrado Basado en Índices:\n",
        "# df.loc[indice]\n",
        "# Filtrado Basado en Valores Únicos:\n",
        "# df[df[‘columna’].isin([valor1, valor2])]\n",
        "# Slicing de Filas y Columnas:\n",
        "# df[start:stop]\n",
        "# Slicing con loc[]:\n",
        "# df.loc[fila_inicio:fila_fin, columna_inicio:columna_fin]\n",
        "# Slicing con iloc[]:\n",
        "# df.iloc[fila_inicio:fila_fin, columna_inicio:columna_fin]"
      ],
      "metadata": {
        "id": "a8p2JDrpTFNs"
      },
      "execution_count": null,
      "outputs": []
    }
  ]
}