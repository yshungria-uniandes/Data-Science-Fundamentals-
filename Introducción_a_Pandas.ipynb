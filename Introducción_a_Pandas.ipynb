{
  "nbformat": 4,
  "nbformat_minor": 0,
  "metadata": {
    "colab": {
      "provenance": [],
      "authorship_tag": "ABX9TyPJiBY2eziBsGYoP/QT95ew",
      "include_colab_link": true
    },
    "kernelspec": {
      "name": "python3",
      "display_name": "Python 3"
    },
    "language_info": {
      "name": "python"
    }
  },
  "cells": [
    {
      "cell_type": "markdown",
      "metadata": {
        "id": "view-in-github",
        "colab_type": "text"
      },
      "source": [
        "<a href=\"https://colab.research.google.com/github/yshungria-uniandes/Data-Science-Fundamentals-/blob/main/Introducci%C3%B3n_a_Pandas.ipynb\" target=\"_parent\"><img src=\"https://colab.research.google.com/assets/colab-badge.svg\" alt=\"Open In Colab\"/></a>"
      ]
    },
    {
      "cell_type": "code",
      "source": [
        "# configurar carpeta de drive\n",
        "from google.colab import drive\n",
        "drive.mount('/content/drive')"
      ],
      "metadata": {
        "colab": {
          "base_uri": "https://localhost:8080/"
        },
        "id": "f14xfZ6g_sWI",
        "outputId": "fd375ef2-02c2-49be-85c0-df040a17e7af"
      },
      "execution_count": 16,
      "outputs": [
        {
          "output_type": "stream",
          "name": "stdout",
          "text": [
            "Mounted at /content/drive\n"
          ]
        }
      ]
    },
    {
      "cell_type": "markdown",
      "source": [
        "# Introdución a Pandas\n",
        "\n",
        "En este módulo, profundizaremos en el análisis de datos utilizando la biblioteca Pandas. Pandas es una herramienta poderosa y flexible para la manipulación y análisis de datos en Python. Este módulo se centrará en técnicas avanzadas de manipulación de datos, limpieza, transformación y análisis exploratorio. Continuaremos desarrollando nuestro proyecto de análisis de ventas, aplicando lo aprendido en Pandas para obtener insights más profundos.\n",
        "\n",
        "\n",
        "\n"
      ],
      "metadata": {
        "id": "-JFf0sG3GiXV"
      }
    },
    {
      "cell_type": "markdown",
      "source": [
        "## ¿Qué es Pandas?\n",
        "\n",
        "Pandas es una biblioteca de código abierto de Python que proporciona estructuras de datos de alto rendimiento y herramientas de análisis de datos fáciles de usar. Su nombre es una combinación de «panel data» y «Python data analysis library». Pandas es ideal para trabajar con datos tabulares y series temporales."
      ],
      "metadata": {
        "id": "E_DsXbF2Grc4"
      }
    },
    {
      "cell_type": "code",
      "execution_count": null,
      "metadata": {
        "id": "hDqXpE29-mLF"
      },
      "outputs": [],
      "source": [
        "import pandas as pd"
      ]
    },
    {
      "cell_type": "markdown",
      "source": [
        "### Estructuras de Datos en Pandas\n",
        "\n",
        "Pandas introduce dos estructuras de datos principales: Series y DataFrames.\n",
        "\n",
        "Series: Una Serie es una estructura de datos unidimensional que puede contener cualquier tipo de datos. Es similar a un array de NumPy, pero con etiquetas de índice que permiten un acceso más conveniente a los datos.\n",
        "\n",
        "Creación de una Serie: Puedes crear una Serie a partir de una lista, un array de NumPy, un diccionario o un valor escalar."
      ],
      "metadata": {
        "id": "nrpvnizPHFNm"
      }
    },
    {
      "cell_type": "code",
      "source": [
        "# Creando una Serie a partir de una lista\n",
        "lista = [1, 2, 3, 4, 5]\n",
        "serie = pd.Series(lista)\n",
        "\n",
        "print(serie)\n"
      ],
      "metadata": {
        "colab": {
          "base_uri": "https://localhost:8080/"
        },
        "id": "D--WR_e1G-zh",
        "outputId": "6991cb01-1f66-45dd-d39e-1d159cac8c05"
      },
      "execution_count": null,
      "outputs": [
        {
          "output_type": "stream",
          "name": "stdout",
          "text": [
            "0    1\n",
            "1    2\n",
            "2    3\n",
            "3    4\n",
            "4    5\n",
            "dtype: int64\n"
          ]
        }
      ]
    },
    {
      "cell_type": "code",
      "source": [
        "print(serie[0])"
      ],
      "metadata": {
        "colab": {
          "base_uri": "https://localhost:8080/"
        },
        "id": "ET7k_zMPMCF3",
        "outputId": "b2f32aa6-8212-45ce-e289-768864637f4d"
      },
      "execution_count": null,
      "outputs": [
        {
          "output_type": "stream",
          "name": "stdout",
          "text": [
            "1\n"
          ]
        }
      ]
    },
    {
      "cell_type": "code",
      "source": [
        "dict = {'a': 1, 'b': 2, 'c': 3}\n",
        "serie_dicc = pd.Series(dict)\n",
        "print(serie)"
      ],
      "metadata": {
        "colab": {
          "base_uri": "https://localhost:8080/"
        },
        "id": "5c3ipy_9HCb1",
        "outputId": "c3c4d7d9-ab13-4f92-e5b8-fbebb96aa028"
      },
      "execution_count": null,
      "outputs": [
        {
          "output_type": "stream",
          "name": "stdout",
          "text": [
            "a    1\n",
            "b    2\n",
            "c    3\n",
            "dtype: int64\n"
          ]
        }
      ]
    },
    {
      "cell_type": "code",
      "source": [
        "print(serie_dicc['a'])"
      ],
      "metadata": {
        "colab": {
          "base_uri": "https://localhost:8080/"
        },
        "id": "4AGqBGtpMEGL",
        "outputId": "edac2ef7-91f8-4acc-8bb2-7fd2f8fc7acf"
      },
      "execution_count": null,
      "outputs": [
        {
          "output_type": "stream",
          "name": "stdout",
          "text": [
            "1\n"
          ]
        }
      ]
    },
    {
      "cell_type": "code",
      "source": [
        "import numpy as np\n",
        "array = np.array([1, 2, 3, 4, 5])\n",
        "serie = pd.Series(array)\n",
        "print(serie)"
      ],
      "metadata": {
        "colab": {
          "base_uri": "https://localhost:8080/"
        },
        "id": "J1OJDdncHeIk",
        "outputId": "a9f8a044-f1ee-46fc-877e-9b9becd9c515"
      },
      "execution_count": null,
      "outputs": [
        {
          "output_type": "stream",
          "name": "stdout",
          "text": [
            "0    1\n",
            "1    2\n",
            "2    3\n",
            "3    4\n",
            "4    5\n",
            "dtype: int64\n"
          ]
        }
      ]
    },
    {
      "cell_type": "code",
      "source": [
        "scalar = 5\n",
        "serie = pd.Series(scalar, index=[0, 1, 2, 3, 4])\n",
        "print(serie)"
      ],
      "metadata": {
        "colab": {
          "base_uri": "https://localhost:8080/"
        },
        "id": "SjuFy1E-Hkc7",
        "outputId": "c29639d8-2fec-4e80-b804-2a8e12e78ebb"
      },
      "execution_count": null,
      "outputs": [
        {
          "output_type": "stream",
          "name": "stdout",
          "text": [
            "0    5\n",
            "1    5\n",
            "2    5\n",
            "3    5\n",
            "4    5\n",
            "dtype: int64\n"
          ]
        }
      ]
    },
    {
      "cell_type": "code",
      "source": [
        "# Creando una Serie a partir de un valor escalar\n",
        "valor_escalar = 5\n",
        "serie_escalar = pd.Series(valor_escalar, index=['x', 'y', 'z'])\n",
        "print(serie_escalar)"
      ],
      "metadata": {
        "colab": {
          "base_uri": "https://localhost:8080/"
        },
        "id": "_NI-q1OhHt_X",
        "outputId": "1fca61dd-7a3a-48e4-e2cd-e8799276f917"
      },
      "execution_count": null,
      "outputs": [
        {
          "output_type": "stream",
          "name": "stdout",
          "text": [
            "x    5\n",
            "y    5\n",
            "z    5\n",
            "dtype: int64\n"
          ]
        }
      ]
    },
    {
      "cell_type": "markdown",
      "source": [
        "DataFrame: Un DataFrame es una estructura de datos bidimensional, similar a una tabla en una base de datos o una hoja de cálculo. Un DataFrame tiene ejes etiquetados (filas y columnas) y puede contener diferentes tipos de datos (numéricos, cadenas, etc.).\n",
        "\n",
        "Creación de un DataFrame: Puedes crear un DataFrame a partir de un diccionario de listas, un array de NumPy, una lista de diccionarios o una Serie de Pandas."
      ],
      "metadata": {
        "id": "NhmCQ8F39rUl"
      }
    },
    {
      "cell_type": "code",
      "source": [
        "import pandas as pd\n"
      ],
      "metadata": {
        "id": "G40CJ0t4HvIS"
      },
      "execution_count": 1,
      "outputs": []
    },
    {
      "cell_type": "code",
      "source": [
        "# Creando un DataFrame a partir de un diccionario de listas\n",
        "data = {\n",
        "    'Producto': ['Manzanas', 'Naranjas', 'Bananas'],\n",
        "    'Ventas': [50, 30, 20]\n",
        "}\n",
        "df = pd.DataFrame(data)\n",
        "print(df)"
      ],
      "metadata": {
        "colab": {
          "base_uri": "https://localhost:8080/"
        },
        "id": "8qMSQGRX98yd",
        "outputId": "c200ec1a-a76b-4073-8413-cf82b076afe9"
      },
      "execution_count": 2,
      "outputs": [
        {
          "output_type": "stream",
          "name": "stdout",
          "text": [
            "   Producto  Ventas\n",
            "0  Manzanas      50\n",
            "1  Naranjas      30\n",
            "2   Bananas      20\n"
          ]
        }
      ]
    },
    {
      "cell_type": "code",
      "source": [
        "import numpy as np\n",
        "\n",
        "array = np.array([[1, 2, 3], [4, 5, 6], [7, 8, 9]])\n",
        "df_array = pd.DataFrame(array, columns=['A', 'B', 'C'])\n",
        "print(df_array)\n"
      ],
      "metadata": {
        "colab": {
          "base_uri": "https://localhost:8080/"
        },
        "id": "Q6a2N7T99_JT",
        "outputId": "7db93b4a-5b49-4974-a35e-139e9e30717f"
      },
      "execution_count": 3,
      "outputs": [
        {
          "output_type": "stream",
          "name": "stdout",
          "text": [
            "   A  B  C\n",
            "0  1  2  3\n",
            "1  4  5  6\n",
            "2  7  8  9\n"
          ]
        }
      ]
    },
    {
      "cell_type": "code",
      "source": [
        "\n",
        "# Creando un DataFrame a partir de una lista de diccionarios\n",
        "lista_dicc = [\n",
        "    {'Producto': 'Manzanas', 'Ventas': 50},\n",
        "    {'Producto': 'Naranjas', 'Ventas': 30},\n",
        "    {'Producto': 'Bananas', 'Ventas': 20}\n",
        "]\n",
        "df_lista_dicc = pd.DataFrame(lista_dicc)\n",
        "print(df_lista_dicc)\n"
      ],
      "metadata": {
        "colab": {
          "base_uri": "https://localhost:8080/"
        },
        "id": "3VX0K30g-LYO",
        "outputId": "e7eb0ccc-c5ee-4ec0-a5df-048367065603"
      },
      "execution_count": 4,
      "outputs": [
        {
          "output_type": "stream",
          "name": "stdout",
          "text": [
            "   Producto  Ventas\n",
            "0  Manzanas      50\n",
            "1  Naranjas      30\n",
            "2   Bananas      20\n"
          ]
        }
      ]
    },
    {
      "cell_type": "code",
      "source": [
        "# Acceso a columnas\n",
        "print(df['Producto'])  # Acceder a una columna\n",
        "  # Acceder a múltiples columnas"
      ],
      "metadata": {
        "colab": {
          "base_uri": "https://localhost:8080/"
        },
        "id": "T5Q9Ivoq-S5K",
        "outputId": "77df7612-a9d7-4377-db42-4b5e610b84ef"
      },
      "execution_count": 7,
      "outputs": [
        {
          "output_type": "stream",
          "name": "stdout",
          "text": [
            "0    Manzanas\n",
            "1    Naranjas\n",
            "2     Bananas\n",
            "Name: Producto, dtype: object\n"
          ]
        }
      ]
    },
    {
      "cell_type": "code",
      "source": [
        "print(df[['Producto', 'Ventas']])"
      ],
      "metadata": {
        "colab": {
          "base_uri": "https://localhost:8080/"
        },
        "id": "SOurM3O4-fZb",
        "outputId": "52e99ebd-8a43-4c40-8117-1a40ce7acc1b"
      },
      "execution_count": 6,
      "outputs": [
        {
          "output_type": "stream",
          "name": "stdout",
          "text": [
            "   Producto  Ventas\n",
            "0  Manzanas      50\n",
            "1  Naranjas      30\n",
            "2   Bananas      20\n"
          ]
        }
      ]
    },
    {
      "cell_type": "code",
      "source": [
        "# Acceso a filas por índice\n",
        "print(df.loc[0])  # Primera fila"
      ],
      "metadata": {
        "colab": {
          "base_uri": "https://localhost:8080/"
        },
        "id": "juV_os1H-ktB",
        "outputId": "b8ca9ca1-8264-46f5-ee16-e4a36393622e"
      },
      "execution_count": 8,
      "outputs": [
        {
          "output_type": "stream",
          "name": "stdout",
          "text": [
            "Producto    Manzanas\n",
            "Ventas            50\n",
            "Name: 0, dtype: object\n"
          ]
        }
      ]
    },
    {
      "cell_type": "code",
      "source": [
        "print(df.iloc[1])  # Segunda fila"
      ],
      "metadata": {
        "colab": {
          "base_uri": "https://localhost:8080/"
        },
        "id": "zyCrxx4g-pY_",
        "outputId": "5c1329af-d380-4282-eeeb-2885794707d8"
      },
      "execution_count": 9,
      "outputs": [
        {
          "output_type": "stream",
          "name": "stdout",
          "text": [
            "Producto    Naranjas\n",
            "Ventas            30\n",
            "Name: 1, dtype: object\n"
          ]
        }
      ]
    },
    {
      "cell_type": "code",
      "source": [
        "# Acceso a un elemento específico\n",
        "print(df.loc[0, 'Producto'])  # Primera fila, columna 'Producto'"
      ],
      "metadata": {
        "colab": {
          "base_uri": "https://localhost:8080/"
        },
        "id": "_t1hD-jF-uA8",
        "outputId": "a15b9270-1e9f-4fb4-f705-f46cf6c6322a"
      },
      "execution_count": 10,
      "outputs": [
        {
          "output_type": "stream",
          "name": "stdout",
          "text": [
            "Manzanas\n"
          ]
        }
      ]
    },
    {
      "cell_type": "code",
      "source": [
        "print(df.iloc[1, 1])  # Segunda fila, segunda columna\n"
      ],
      "metadata": {
        "colab": {
          "base_uri": "https://localhost:8080/"
        },
        "id": "rL1_wDga-z9Y",
        "outputId": "4c11234f-5b09-4e59-ba9c-656100ad83c1"
      },
      "execution_count": 11,
      "outputs": [
        {
          "output_type": "stream",
          "name": "stdout",
          "text": [
            "30\n"
          ]
        }
      ]
    },
    {
      "cell_type": "markdown",
      "source": [
        "Métodos y Operaciones en DataFrames: Los DataFrames tienen muchos métodos útiles para realizar operaciones como agregar filas, eliminar columnas, filtrar datos y más."
      ],
      "metadata": {
        "id": "hYgJa2OU_DID"
      }
    },
    {
      "cell_type": "code",
      "source": [
        "# Agregar una nueva columna\n",
        "df['Precio'] = [0.5, 0.75, 0.3]\n",
        "print(df)\n"
      ],
      "metadata": {
        "colab": {
          "base_uri": "https://localhost:8080/"
        },
        "id": "nM8Ej_ko-9z3",
        "outputId": "aa0ee72a-7b12-4954-fff4-ee3d3bab984e"
      },
      "execution_count": 12,
      "outputs": [
        {
          "output_type": "stream",
          "name": "stdout",
          "text": [
            "   Producto  Ventas  Precio\n",
            "0  Manzanas      50    0.50\n",
            "1  Naranjas      30    0.75\n",
            "2   Bananas      20    0.30\n"
          ]
        }
      ]
    },
    {
      "cell_type": "code",
      "source": [
        "# Eliminar una columna\n",
        "df = df.drop('Precio', axis=1)\n",
        "print(df)"
      ],
      "metadata": {
        "colab": {
          "base_uri": "https://localhost:8080/"
        },
        "id": "SD2diR5V_H4p",
        "outputId": "d201a9b0-4082-4255-b90b-1bf157b9fa75"
      },
      "execution_count": 13,
      "outputs": [
        {
          "output_type": "stream",
          "name": "stdout",
          "text": [
            "   Producto  Ventas\n",
            "0  Manzanas      50\n",
            "1  Naranjas      30\n",
            "2   Bananas      20\n"
          ]
        }
      ]
    },
    {
      "cell_type": "code",
      "source": [
        "# Filtrar datos\n",
        "filtro = df['Ventas'] > 20\n",
        "df_filtrado = df[filtro]\n",
        "print(df_filtrado)"
      ],
      "metadata": {
        "colab": {
          "base_uri": "https://localhost:8080/"
        },
        "id": "sg-0nRNi_Lll",
        "outputId": "f6609daf-12f5-41c3-a830-88de192e1f57"
      },
      "execution_count": 14,
      "outputs": [
        {
          "output_type": "stream",
          "name": "stdout",
          "text": [
            "   Producto  Ventas\n",
            "0  Manzanas      50\n",
            "1  Naranjas      30\n"
          ]
        }
      ]
    },
    {
      "cell_type": "markdown",
      "source": [
        "Operaciones Básicas con Pandas\n",
        "Cargar Datos: Pandas ofrece funciones fáciles de usar para cargar datos desde diferentes fuentes, como archivos CSV, Excel, SQL, entre otros.\n",
        "\n",
        "\n",
        "Cargar Datos desde un Archivo CSV\n"
      ],
      "metadata": {
        "id": "QI2ermg6_ct1"
      }
    },
    {
      "cell_type": "code",
      "source": [
        "import pandas as pd\n",
        "\n",
        "# Cargar datos desde un archivo CSV\n",
        "df = pd.read_csv('/content/drive/MyDrive/DataSets/retail_sales_dataset.csv')\n",
        "\n",
        "# Mostrar las primeras filas del DataFrame\n",
        "print(df.head())\n"
      ],
      "metadata": {
        "colab": {
          "base_uri": "https://localhost:8080/"
        },
        "id": "qLlkYjLf_P5c",
        "outputId": "eef5c6a7-9642-4965-e4be-200c93c09832"
      },
      "execution_count": 19,
      "outputs": [
        {
          "output_type": "stream",
          "name": "stdout",
          "text": [
            "   Transaction ID        Date Customer ID  Gender  Age Product Category  \\\n",
            "0               1  2023-11-24     CUST001    Male   34           Beauty   \n",
            "1               2  2023-02-27     CUST002  Female   26         Clothing   \n",
            "2               3  2023-01-13     CUST003    Male   50      Electronics   \n",
            "3               4  2023-05-21     CUST004    Male   37         Clothing   \n",
            "4               5  2023-05-06     CUST005    Male   30           Beauty   \n",
            "\n",
            "   Quantity  Price per Unit  Total Amount  \n",
            "0         3              50           150  \n",
            "1         2             500          1000  \n",
            "2         1              30            30  \n",
            "3         1             500           500  \n",
            "4         2              50           100  \n"
          ]
        }
      ]
    },
    {
      "cell_type": "markdown",
      "source": [
        "Exploración de Datos\n",
        "\n",
        "Ver las Primeras y Últimas Filas: Los métodos head() y tail() son útiles para ver las primeras y últimas filas del DataFrame, respectivamente."
      ],
      "metadata": {
        "id": "uup7rrs-ClFI"
      }
    },
    {
      "cell_type": "code",
      "source": [
        "# Ver las primeras 5 filas del DataFrame\n",
        "print(df.head())\n",
        "# Ver las primeras 10 filas del DataFrame\n",
        "print(df.head(10))\n",
        "# Ver las últimas 5 filas del DataFrame\n",
        "print(df.tail())\n",
        "# Ver las últimas 10 filas del DataFrame\n",
        "print(df.tail(10))\n"
      ],
      "metadata": {
        "colab": {
          "base_uri": "https://localhost:8080/"
        },
        "id": "yosSeCAMCjVp",
        "outputId": "0f90b62f-528c-4ec3-99d5-eefb6d99130f"
      },
      "execution_count": 23,
      "outputs": [
        {
          "output_type": "stream",
          "name": "stdout",
          "text": [
            "   Transaction ID        Date Customer ID  Gender  Age Product Category  \\\n",
            "0               1  2023-11-24     CUST001    Male   34           Beauty   \n",
            "1               2  2023-02-27     CUST002  Female   26         Clothing   \n",
            "2               3  2023-01-13     CUST003    Male   50      Electronics   \n",
            "3               4  2023-05-21     CUST004    Male   37         Clothing   \n",
            "4               5  2023-05-06     CUST005    Male   30           Beauty   \n",
            "\n",
            "   Quantity  Price per Unit  Total Amount  \n",
            "0         3              50           150  \n",
            "1         2             500          1000  \n",
            "2         1              30            30  \n",
            "3         1             500           500  \n",
            "4         2              50           100  \n",
            "   Transaction ID        Date Customer ID  Gender  Age Product Category  \\\n",
            "0               1  2023-11-24     CUST001    Male   34           Beauty   \n",
            "1               2  2023-02-27     CUST002  Female   26         Clothing   \n",
            "2               3  2023-01-13     CUST003    Male   50      Electronics   \n",
            "3               4  2023-05-21     CUST004    Male   37         Clothing   \n",
            "4               5  2023-05-06     CUST005    Male   30           Beauty   \n",
            "5               6  2023-04-25     CUST006  Female   45           Beauty   \n",
            "6               7  2023-03-13     CUST007    Male   46         Clothing   \n",
            "7               8  2023-02-22     CUST008    Male   30      Electronics   \n",
            "8               9  2023-12-13     CUST009    Male   63      Electronics   \n",
            "9              10  2023-10-07     CUST010  Female   52         Clothing   \n",
            "\n",
            "   Quantity  Price per Unit  Total Amount  \n",
            "0         3              50           150  \n",
            "1         2             500          1000  \n",
            "2         1              30            30  \n",
            "3         1             500           500  \n",
            "4         2              50           100  \n",
            "5         1              30            30  \n",
            "6         2              25            50  \n",
            "7         4              25           100  \n",
            "8         2             300           600  \n",
            "9         4              50           200  \n",
            "     Transaction ID        Date Customer ID  Gender  Age Product Category  \\\n",
            "995             996  2023-05-16     CUST996    Male   62         Clothing   \n",
            "996             997  2023-11-17     CUST997    Male   52           Beauty   \n",
            "997             998  2023-10-29     CUST998  Female   23           Beauty   \n",
            "998             999  2023-12-05     CUST999  Female   36      Electronics   \n",
            "999            1000  2023-04-12    CUST1000    Male   47      Electronics   \n",
            "\n",
            "     Quantity  Price per Unit  Total Amount  \n",
            "995         1              50            50  \n",
            "996         3              30            90  \n",
            "997         4              25           100  \n",
            "998         3              50           150  \n",
            "999         4              30           120  \n",
            "     Transaction ID        Date Customer ID  Gender  Age Product Category  \\\n",
            "990             991  2023-12-26     CUST991  Female   34         Clothing   \n",
            "991             992  2023-08-21     CUST992  Female   57      Electronics   \n",
            "992             993  2023-02-06     CUST993  Female   48      Electronics   \n",
            "993             994  2023-12-18     CUST994  Female   51           Beauty   \n",
            "994             995  2023-04-30     CUST995  Female   41         Clothing   \n",
            "995             996  2023-05-16     CUST996    Male   62         Clothing   \n",
            "996             997  2023-11-17     CUST997    Male   52           Beauty   \n",
            "997             998  2023-10-29     CUST998  Female   23           Beauty   \n",
            "998             999  2023-12-05     CUST999  Female   36      Electronics   \n",
            "999            1000  2023-04-12    CUST1000    Male   47      Electronics   \n",
            "\n",
            "     Quantity  Price per Unit  Total Amount  \n",
            "990         2              50           100  \n",
            "991         2              30            60  \n",
            "992         3              50           150  \n",
            "993         2             500          1000  \n",
            "994         1              30            30  \n",
            "995         1              50            50  \n",
            "996         3              30            90  \n",
            "997         4              25           100  \n",
            "998         3              50           150  \n",
            "999         4              30           120  \n"
          ]
        }
      ]
    },
    {
      "cell_type": "markdown",
      "source": [
        "Obtener Información General sobre el DataFrame: El método info() proporciona un resumen conciso del DataFrame, incluyendo el número de entradas, nombres de las columnas, tipos de datos, y el uso de memoria.\n"
      ],
      "metadata": {
        "id": "qkOVsP1hC1uM"
      }
    },
    {
      "cell_type": "code",
      "source": [
        "# Información general del DataFrame\n",
        "print(df.info())"
      ],
      "metadata": {
        "colab": {
          "base_uri": "https://localhost:8080/"
        },
        "id": "JQ942G3nC2TG",
        "outputId": "086531e8-2c44-4902-d1a0-1618d4a02c30"
      },
      "execution_count": 24,
      "outputs": [
        {
          "output_type": "stream",
          "name": "stdout",
          "text": [
            "<class 'pandas.core.frame.DataFrame'>\n",
            "RangeIndex: 1000 entries, 0 to 999\n",
            "Data columns (total 9 columns):\n",
            " #   Column            Non-Null Count  Dtype \n",
            "---  ------            --------------  ----- \n",
            " 0   Transaction ID    1000 non-null   int64 \n",
            " 1   Date              1000 non-null   object\n",
            " 2   Customer ID       1000 non-null   object\n",
            " 3   Gender            1000 non-null   object\n",
            " 4   Age               1000 non-null   int64 \n",
            " 5   Product Category  1000 non-null   object\n",
            " 6   Quantity          1000 non-null   int64 \n",
            " 7   Price per Unit    1000 non-null   int64 \n",
            " 8   Total Amount      1000 non-null   int64 \n",
            "dtypes: int64(5), object(4)\n",
            "memory usage: 70.4+ KB\n",
            "None\n"
          ]
        }
      ]
    },
    {
      "cell_type": "markdown",
      "source": [
        "Estadísticas Descriptivas: El método describe() genera estadísticas descriptivas que resumen la tendencia central, dispersión y forma de la distribución de un conjunto de datos."
      ],
      "metadata": {
        "id": "18v1PHlIDOtZ"
      }
    },
    {
      "cell_type": "code",
      "source": [
        "# Estadísticas descriptivas del DataFrame\n",
        "print(df.describe())"
      ],
      "metadata": {
        "colab": {
          "base_uri": "https://localhost:8080/"
        },
        "id": "4RrMtfcfDPMj",
        "outputId": "8f2cd7da-feb9-49d6-ceb1-7e0fbf859a9f"
      },
      "execution_count": 26,
      "outputs": [
        {
          "output_type": "stream",
          "name": "stdout",
          "text": [
            "       Transaction ID         Age     Quantity  Price per Unit  Total Amount\n",
            "count     1000.000000  1000.00000  1000.000000     1000.000000   1000.000000\n",
            "mean       500.500000    41.39200     2.514000      179.890000    456.000000\n",
            "std        288.819436    13.68143     1.132734      189.681356    559.997632\n",
            "min          1.000000    18.00000     1.000000       25.000000     25.000000\n",
            "25%        250.750000    29.00000     1.000000       30.000000     60.000000\n",
            "50%        500.500000    42.00000     3.000000       50.000000    135.000000\n",
            "75%        750.250000    53.00000     4.000000      300.000000    900.000000\n",
            "max       1000.000000    64.00000     4.000000      500.000000   2000.000000\n"
          ]
        }
      ]
    },
    {
      "cell_type": "markdown",
      "source": [
        "Inspeccionar los Tipos de Datos de las Columnas: El atributo dtypes permite inspeccionar los tipos de datos de cada columna en el DataFrame.\n"
      ],
      "metadata": {
        "id": "SQoBiNTZELn4"
      }
    },
    {
      "cell_type": "code",
      "source": [
        "# Tipos de datos de las columnas\n",
        "print(df.dtypes)"
      ],
      "metadata": {
        "colab": {
          "base_uri": "https://localhost:8080/"
        },
        "id": "sfuMghXcEJVO",
        "outputId": "510b6cf6-fe02-4b2f-e9d8-c197bc45494e"
      },
      "execution_count": 28,
      "outputs": [
        {
          "output_type": "stream",
          "name": "stdout",
          "text": [
            "Transaction ID       int64\n",
            "Date                object\n",
            "Customer ID         object\n",
            "Gender              object\n",
            "Age                  int64\n",
            "Product Category    object\n",
            "Quantity             int64\n",
            "Price per Unit       int64\n",
            "Total Amount         int64\n",
            "dtype: object\n"
          ]
        }
      ]
    },
    {
      "cell_type": "markdown",
      "source": [
        "Conteo de Valores Únicos: El método value_counts() es útil para contar las ocurrencias de cada valor único en una columna."
      ],
      "metadata": {
        "id": "Bf9WEoa7EUUr"
      }
    },
    {
      "cell_type": "code",
      "source": [
        "# Conteo de valores únicos en una columna específica\n",
        "print(df['Customer ID'].value_counts())"
      ],
      "metadata": {
        "colab": {
          "base_uri": "https://localhost:8080/"
        },
        "id": "9zusE8MiESt7",
        "outputId": "a4383ff2-8c48-43ca-f484-d157dcceb0fc"
      },
      "execution_count": 30,
      "outputs": [
        {
          "output_type": "stream",
          "name": "stdout",
          "text": [
            "Customer ID\n",
            "CUST001     1\n",
            "CUST672     1\n",
            "CUST659     1\n",
            "CUST660     1\n",
            "CUST661     1\n",
            "           ..\n",
            "CUST339     1\n",
            "CUST340     1\n",
            "CUST341     1\n",
            "CUST342     1\n",
            "CUST1000    1\n",
            "Name: count, Length: 1000, dtype: int64\n"
          ]
        }
      ]
    },
    {
      "cell_type": "markdown",
      "source": [
        "Resumen de Datos Categóricos: El método unique() devuelve una lista de todos los valores únicos en una columna, y el método nunique() devuelve el número de valores únicos.\n"
      ],
      "metadata": {
        "id": "ZB1iJM_ZEwyl"
      }
    },
    {
      "cell_type": "code",
      "source": [
        "# Valores únicos en una columna específica\n",
        "print(df['Customer ID'].unique())\n"
      ],
      "metadata": {
        "colab": {
          "base_uri": "https://localhost:8080/"
        },
        "id": "keTpswhdEiL4",
        "outputId": "c71e2b53-42b8-4e1b-e118-c686f54c4a90"
      },
      "execution_count": 35,
      "outputs": [
        {
          "output_type": "stream",
          "name": "stdout",
          "text": [
            "['CUST001' 'CUST002' 'CUST003' 'CUST004' 'CUST005' 'CUST006' 'CUST007'\n",
            " 'CUST008' 'CUST009' 'CUST010' 'CUST011' 'CUST012' 'CUST013' 'CUST014'\n",
            " 'CUST015' 'CUST016' 'CUST017' 'CUST018' 'CUST019' 'CUST020' 'CUST021'\n",
            " 'CUST022' 'CUST023' 'CUST024' 'CUST025' 'CUST026' 'CUST027' 'CUST028'\n",
            " 'CUST029' 'CUST030' 'CUST031' 'CUST032' 'CUST033' 'CUST034' 'CUST035'\n",
            " 'CUST036' 'CUST037' 'CUST038' 'CUST039' 'CUST040' 'CUST041' 'CUST042'\n",
            " 'CUST043' 'CUST044' 'CUST045' 'CUST046' 'CUST047' 'CUST048' 'CUST049'\n",
            " 'CUST050' 'CUST051' 'CUST052' 'CUST053' 'CUST054' 'CUST055' 'CUST056'\n",
            " 'CUST057' 'CUST058' 'CUST059' 'CUST060' 'CUST061' 'CUST062' 'CUST063'\n",
            " 'CUST064' 'CUST065' 'CUST066' 'CUST067' 'CUST068' 'CUST069' 'CUST070'\n",
            " 'CUST071' 'CUST072' 'CUST073' 'CUST074' 'CUST075' 'CUST076' 'CUST077'\n",
            " 'CUST078' 'CUST079' 'CUST080' 'CUST081' 'CUST082' 'CUST083' 'CUST084'\n",
            " 'CUST085' 'CUST086' 'CUST087' 'CUST088' 'CUST089' 'CUST090' 'CUST091'\n",
            " 'CUST092' 'CUST093' 'CUST094' 'CUST095' 'CUST096' 'CUST097' 'CUST098'\n",
            " 'CUST099' 'CUST100' 'CUST101' 'CUST102' 'CUST103' 'CUST104' 'CUST105'\n",
            " 'CUST106' 'CUST107' 'CUST108' 'CUST109' 'CUST110' 'CUST111' 'CUST112'\n",
            " 'CUST113' 'CUST114' 'CUST115' 'CUST116' 'CUST117' 'CUST118' 'CUST119'\n",
            " 'CUST120' 'CUST121' 'CUST122' 'CUST123' 'CUST124' 'CUST125' 'CUST126'\n",
            " 'CUST127' 'CUST128' 'CUST129' 'CUST130' 'CUST131' 'CUST132' 'CUST133'\n",
            " 'CUST134' 'CUST135' 'CUST136' 'CUST137' 'CUST138' 'CUST139' 'CUST140'\n",
            " 'CUST141' 'CUST142' 'CUST143' 'CUST144' 'CUST145' 'CUST146' 'CUST147'\n",
            " 'CUST148' 'CUST149' 'CUST150' 'CUST151' 'CUST152' 'CUST153' 'CUST154'\n",
            " 'CUST155' 'CUST156' 'CUST157' 'CUST158' 'CUST159' 'CUST160' 'CUST161'\n",
            " 'CUST162' 'CUST163' 'CUST164' 'CUST165' 'CUST166' 'CUST167' 'CUST168'\n",
            " 'CUST169' 'CUST170' 'CUST171' 'CUST172' 'CUST173' 'CUST174' 'CUST175'\n",
            " 'CUST176' 'CUST177' 'CUST178' 'CUST179' 'CUST180' 'CUST181' 'CUST182'\n",
            " 'CUST183' 'CUST184' 'CUST185' 'CUST186' 'CUST187' 'CUST188' 'CUST189'\n",
            " 'CUST190' 'CUST191' 'CUST192' 'CUST193' 'CUST194' 'CUST195' 'CUST196'\n",
            " 'CUST197' 'CUST198' 'CUST199' 'CUST200' 'CUST201' 'CUST202' 'CUST203'\n",
            " 'CUST204' 'CUST205' 'CUST206' 'CUST207' 'CUST208' 'CUST209' 'CUST210'\n",
            " 'CUST211' 'CUST212' 'CUST213' 'CUST214' 'CUST215' 'CUST216' 'CUST217'\n",
            " 'CUST218' 'CUST219' 'CUST220' 'CUST221' 'CUST222' 'CUST223' 'CUST224'\n",
            " 'CUST225' 'CUST226' 'CUST227' 'CUST228' 'CUST229' 'CUST230' 'CUST231'\n",
            " 'CUST232' 'CUST233' 'CUST234' 'CUST235' 'CUST236' 'CUST237' 'CUST238'\n",
            " 'CUST239' 'CUST240' 'CUST241' 'CUST242' 'CUST243' 'CUST244' 'CUST245'\n",
            " 'CUST246' 'CUST247' 'CUST248' 'CUST249' 'CUST250' 'CUST251' 'CUST252'\n",
            " 'CUST253' 'CUST254' 'CUST255' 'CUST256' 'CUST257' 'CUST258' 'CUST259'\n",
            " 'CUST260' 'CUST261' 'CUST262' 'CUST263' 'CUST264' 'CUST265' 'CUST266'\n",
            " 'CUST267' 'CUST268' 'CUST269' 'CUST270' 'CUST271' 'CUST272' 'CUST273'\n",
            " 'CUST274' 'CUST275' 'CUST276' 'CUST277' 'CUST278' 'CUST279' 'CUST280'\n",
            " 'CUST281' 'CUST282' 'CUST283' 'CUST284' 'CUST285' 'CUST286' 'CUST287'\n",
            " 'CUST288' 'CUST289' 'CUST290' 'CUST291' 'CUST292' 'CUST293' 'CUST294'\n",
            " 'CUST295' 'CUST296' 'CUST297' 'CUST298' 'CUST299' 'CUST300' 'CUST301'\n",
            " 'CUST302' 'CUST303' 'CUST304' 'CUST305' 'CUST306' 'CUST307' 'CUST308'\n",
            " 'CUST309' 'CUST310' 'CUST311' 'CUST312' 'CUST313' 'CUST314' 'CUST315'\n",
            " 'CUST316' 'CUST317' 'CUST318' 'CUST319' 'CUST320' 'CUST321' 'CUST322'\n",
            " 'CUST323' 'CUST324' 'CUST325' 'CUST326' 'CUST327' 'CUST328' 'CUST329'\n",
            " 'CUST330' 'CUST331' 'CUST332' 'CUST333' 'CUST334' 'CUST335' 'CUST336'\n",
            " 'CUST337' 'CUST338' 'CUST339' 'CUST340' 'CUST341' 'CUST342' 'CUST343'\n",
            " 'CUST344' 'CUST345' 'CUST346' 'CUST347' 'CUST348' 'CUST349' 'CUST350'\n",
            " 'CUST351' 'CUST352' 'CUST353' 'CUST354' 'CUST355' 'CUST356' 'CUST357'\n",
            " 'CUST358' 'CUST359' 'CUST360' 'CUST361' 'CUST362' 'CUST363' 'CUST364'\n",
            " 'CUST365' 'CUST366' 'CUST367' 'CUST368' 'CUST369' 'CUST370' 'CUST371'\n",
            " 'CUST372' 'CUST373' 'CUST374' 'CUST375' 'CUST376' 'CUST377' 'CUST378'\n",
            " 'CUST379' 'CUST380' 'CUST381' 'CUST382' 'CUST383' 'CUST384' 'CUST385'\n",
            " 'CUST386' 'CUST387' 'CUST388' 'CUST389' 'CUST390' 'CUST391' 'CUST392'\n",
            " 'CUST393' 'CUST394' 'CUST395' 'CUST396' 'CUST397' 'CUST398' 'CUST399'\n",
            " 'CUST400' 'CUST401' 'CUST402' 'CUST403' 'CUST404' 'CUST405' 'CUST406'\n",
            " 'CUST407' 'CUST408' 'CUST409' 'CUST410' 'CUST411' 'CUST412' 'CUST413'\n",
            " 'CUST414' 'CUST415' 'CUST416' 'CUST417' 'CUST418' 'CUST419' 'CUST420'\n",
            " 'CUST421' 'CUST422' 'CUST423' 'CUST424' 'CUST425' 'CUST426' 'CUST427'\n",
            " 'CUST428' 'CUST429' 'CUST430' 'CUST431' 'CUST432' 'CUST433' 'CUST434'\n",
            " 'CUST435' 'CUST436' 'CUST437' 'CUST438' 'CUST439' 'CUST440' 'CUST441'\n",
            " 'CUST442' 'CUST443' 'CUST444' 'CUST445' 'CUST446' 'CUST447' 'CUST448'\n",
            " 'CUST449' 'CUST450' 'CUST451' 'CUST452' 'CUST453' 'CUST454' 'CUST455'\n",
            " 'CUST456' 'CUST457' 'CUST458' 'CUST459' 'CUST460' 'CUST461' 'CUST462'\n",
            " 'CUST463' 'CUST464' 'CUST465' 'CUST466' 'CUST467' 'CUST468' 'CUST469'\n",
            " 'CUST470' 'CUST471' 'CUST472' 'CUST473' 'CUST474' 'CUST475' 'CUST476'\n",
            " 'CUST477' 'CUST478' 'CUST479' 'CUST480' 'CUST481' 'CUST482' 'CUST483'\n",
            " 'CUST484' 'CUST485' 'CUST486' 'CUST487' 'CUST488' 'CUST489' 'CUST490'\n",
            " 'CUST491' 'CUST492' 'CUST493' 'CUST494' 'CUST495' 'CUST496' 'CUST497'\n",
            " 'CUST498' 'CUST499' 'CUST500' 'CUST501' 'CUST502' 'CUST503' 'CUST504'\n",
            " 'CUST505' 'CUST506' 'CUST507' 'CUST508' 'CUST509' 'CUST510' 'CUST511'\n",
            " 'CUST512' 'CUST513' 'CUST514' 'CUST515' 'CUST516' 'CUST517' 'CUST518'\n",
            " 'CUST519' 'CUST520' 'CUST521' 'CUST522' 'CUST523' 'CUST524' 'CUST525'\n",
            " 'CUST526' 'CUST527' 'CUST528' 'CUST529' 'CUST530' 'CUST531' 'CUST532'\n",
            " 'CUST533' 'CUST534' 'CUST535' 'CUST536' 'CUST537' 'CUST538' 'CUST539'\n",
            " 'CUST540' 'CUST541' 'CUST542' 'CUST543' 'CUST544' 'CUST545' 'CUST546'\n",
            " 'CUST547' 'CUST548' 'CUST549' 'CUST550' 'CUST551' 'CUST552' 'CUST553'\n",
            " 'CUST554' 'CUST555' 'CUST556' 'CUST557' 'CUST558' 'CUST559' 'CUST560'\n",
            " 'CUST561' 'CUST562' 'CUST563' 'CUST564' 'CUST565' 'CUST566' 'CUST567'\n",
            " 'CUST568' 'CUST569' 'CUST570' 'CUST571' 'CUST572' 'CUST573' 'CUST574'\n",
            " 'CUST575' 'CUST576' 'CUST577' 'CUST578' 'CUST579' 'CUST580' 'CUST581'\n",
            " 'CUST582' 'CUST583' 'CUST584' 'CUST585' 'CUST586' 'CUST587' 'CUST588'\n",
            " 'CUST589' 'CUST590' 'CUST591' 'CUST592' 'CUST593' 'CUST594' 'CUST595'\n",
            " 'CUST596' 'CUST597' 'CUST598' 'CUST599' 'CUST600' 'CUST601' 'CUST602'\n",
            " 'CUST603' 'CUST604' 'CUST605' 'CUST606' 'CUST607' 'CUST608' 'CUST609'\n",
            " 'CUST610' 'CUST611' 'CUST612' 'CUST613' 'CUST614' 'CUST615' 'CUST616'\n",
            " 'CUST617' 'CUST618' 'CUST619' 'CUST620' 'CUST621' 'CUST622' 'CUST623'\n",
            " 'CUST624' 'CUST625' 'CUST626' 'CUST627' 'CUST628' 'CUST629' 'CUST630'\n",
            " 'CUST631' 'CUST632' 'CUST633' 'CUST634' 'CUST635' 'CUST636' 'CUST637'\n",
            " 'CUST638' 'CUST639' 'CUST640' 'CUST641' 'CUST642' 'CUST643' 'CUST644'\n",
            " 'CUST645' 'CUST646' 'CUST647' 'CUST648' 'CUST649' 'CUST650' 'CUST651'\n",
            " 'CUST652' 'CUST653' 'CUST654' 'CUST655' 'CUST656' 'CUST657' 'CUST658'\n",
            " 'CUST659' 'CUST660' 'CUST661' 'CUST662' 'CUST663' 'CUST664' 'CUST665'\n",
            " 'CUST666' 'CUST667' 'CUST668' 'CUST669' 'CUST670' 'CUST671' 'CUST672'\n",
            " 'CUST673' 'CUST674' 'CUST675' 'CUST676' 'CUST677' 'CUST678' 'CUST679'\n",
            " 'CUST680' 'CUST681' 'CUST682' 'CUST683' 'CUST684' 'CUST685' 'CUST686'\n",
            " 'CUST687' 'CUST688' 'CUST689' 'CUST690' 'CUST691' 'CUST692' 'CUST693'\n",
            " 'CUST694' 'CUST695' 'CUST696' 'CUST697' 'CUST698' 'CUST699' 'CUST700'\n",
            " 'CUST701' 'CUST702' 'CUST703' 'CUST704' 'CUST705' 'CUST706' 'CUST707'\n",
            " 'CUST708' 'CUST709' 'CUST710' 'CUST711' 'CUST712' 'CUST713' 'CUST714'\n",
            " 'CUST715' 'CUST716' 'CUST717' 'CUST718' 'CUST719' 'CUST720' 'CUST721'\n",
            " 'CUST722' 'CUST723' 'CUST724' 'CUST725' 'CUST726' 'CUST727' 'CUST728'\n",
            " 'CUST729' 'CUST730' 'CUST731' 'CUST732' 'CUST733' 'CUST734' 'CUST735'\n",
            " 'CUST736' 'CUST737' 'CUST738' 'CUST739' 'CUST740' 'CUST741' 'CUST742'\n",
            " 'CUST743' 'CUST744' 'CUST745' 'CUST746' 'CUST747' 'CUST748' 'CUST749'\n",
            " 'CUST750' 'CUST751' 'CUST752' 'CUST753' 'CUST754' 'CUST755' 'CUST756'\n",
            " 'CUST757' 'CUST758' 'CUST759' 'CUST760' 'CUST761' 'CUST762' 'CUST763'\n",
            " 'CUST764' 'CUST765' 'CUST766' 'CUST767' 'CUST768' 'CUST769' 'CUST770'\n",
            " 'CUST771' 'CUST772' 'CUST773' 'CUST774' 'CUST775' 'CUST776' 'CUST777'\n",
            " 'CUST778' 'CUST779' 'CUST780' 'CUST781' 'CUST782' 'CUST783' 'CUST784'\n",
            " 'CUST785' 'CUST786' 'CUST787' 'CUST788' 'CUST789' 'CUST790' 'CUST791'\n",
            " 'CUST792' 'CUST793' 'CUST794' 'CUST795' 'CUST796' 'CUST797' 'CUST798'\n",
            " 'CUST799' 'CUST800' 'CUST801' 'CUST802' 'CUST803' 'CUST804' 'CUST805'\n",
            " 'CUST806' 'CUST807' 'CUST808' 'CUST809' 'CUST810' 'CUST811' 'CUST812'\n",
            " 'CUST813' 'CUST814' 'CUST815' 'CUST816' 'CUST817' 'CUST818' 'CUST819'\n",
            " 'CUST820' 'CUST821' 'CUST822' 'CUST823' 'CUST824' 'CUST825' 'CUST826'\n",
            " 'CUST827' 'CUST828' 'CUST829' 'CUST830' 'CUST831' 'CUST832' 'CUST833'\n",
            " 'CUST834' 'CUST835' 'CUST836' 'CUST837' 'CUST838' 'CUST839' 'CUST840'\n",
            " 'CUST841' 'CUST842' 'CUST843' 'CUST844' 'CUST845' 'CUST846' 'CUST847'\n",
            " 'CUST848' 'CUST849' 'CUST850' 'CUST851' 'CUST852' 'CUST853' 'CUST854'\n",
            " 'CUST855' 'CUST856' 'CUST857' 'CUST858' 'CUST859' 'CUST860' 'CUST861'\n",
            " 'CUST862' 'CUST863' 'CUST864' 'CUST865' 'CUST866' 'CUST867' 'CUST868'\n",
            " 'CUST869' 'CUST870' 'CUST871' 'CUST872' 'CUST873' 'CUST874' 'CUST875'\n",
            " 'CUST876' 'CUST877' 'CUST878' 'CUST879' 'CUST880' 'CUST881' 'CUST882'\n",
            " 'CUST883' 'CUST884' 'CUST885' 'CUST886' 'CUST887' 'CUST888' 'CUST889'\n",
            " 'CUST890' 'CUST891' 'CUST892' 'CUST893' 'CUST894' 'CUST895' 'CUST896'\n",
            " 'CUST897' 'CUST898' 'CUST899' 'CUST900' 'CUST901' 'CUST902' 'CUST903'\n",
            " 'CUST904' 'CUST905' 'CUST906' 'CUST907' 'CUST908' 'CUST909' 'CUST910'\n",
            " 'CUST911' 'CUST912' 'CUST913' 'CUST914' 'CUST915' 'CUST916' 'CUST917'\n",
            " 'CUST918' 'CUST919' 'CUST920' 'CUST921' 'CUST922' 'CUST923' 'CUST924'\n",
            " 'CUST925' 'CUST926' 'CUST927' 'CUST928' 'CUST929' 'CUST930' 'CUST931'\n",
            " 'CUST932' 'CUST933' 'CUST934' 'CUST935' 'CUST936' 'CUST937' 'CUST938'\n",
            " 'CUST939' 'CUST940' 'CUST941' 'CUST942' 'CUST943' 'CUST944' 'CUST945'\n",
            " 'CUST946' 'CUST947' 'CUST948' 'CUST949' 'CUST950' 'CUST951' 'CUST952'\n",
            " 'CUST953' 'CUST954' 'CUST955' 'CUST956' 'CUST957' 'CUST958' 'CUST959'\n",
            " 'CUST960' 'CUST961' 'CUST962' 'CUST963' 'CUST964' 'CUST965' 'CUST966'\n",
            " 'CUST967' 'CUST968' 'CUST969' 'CUST970' 'CUST971' 'CUST972' 'CUST973'\n",
            " 'CUST974' 'CUST975' 'CUST976' 'CUST977' 'CUST978' 'CUST979' 'CUST980'\n",
            " 'CUST981' 'CUST982' 'CUST983' 'CUST984' 'CUST985' 'CUST986' 'CUST987'\n",
            " 'CUST988' 'CUST989' 'CUST990' 'CUST991' 'CUST992' 'CUST993' 'CUST994'\n",
            " 'CUST995' 'CUST996' 'CUST997' 'CUST998' 'CUST999' 'CUST1000']\n"
          ]
        }
      ]
    },
    {
      "cell_type": "code",
      "source": [
        "# Número de valores únicos en una columna específica\n",
        "print(df['Customer ID'].nunique())"
      ],
      "metadata": {
        "colab": {
          "base_uri": "https://localhost:8080/"
        },
        "id": "1zrAuBgoGNIU",
        "outputId": "7cf1fb83-4a42-49cc-c5ec-f019cf1de1ce"
      },
      "execution_count": 38,
      "outputs": [
        {
          "output_type": "stream",
          "name": "stdout",
          "text": [
            "1000\n"
          ]
        }
      ]
    },
    {
      "cell_type": "markdown",
      "source": [
        "Operaciones Adicionales\n",
        "\n",
        "Renombrar Columnas: El método rename() permite renombrar las columnas del DataFrame."
      ],
      "metadata": {
        "id": "np9H9vPVGYK7"
      }
    },
    {
      "cell_type": "code",
      "source": [
        "# Renombrar columnas\n",
        "df.rename(columns={'ID Cliente': 'Cliente ID'}, inplace=True)\n",
        "print(df.head())"
      ],
      "metadata": {
        "colab": {
          "base_uri": "https://localhost:8080/"
        },
        "id": "HNzc3WDAGXpN",
        "outputId": "a31dd721-83ae-4901-876d-d9f3fe1d11b0"
      },
      "execution_count": 43,
      "outputs": [
        {
          "output_type": "stream",
          "name": "stdout",
          "text": [
            "   Transaction ID        Date Cliente ID  Gender  Age Product Category  \\\n",
            "0               1  2023-11-24    CUST001    Male   34           Beauty   \n",
            "1               2  2023-02-27    CUST002  Female   26         Clothing   \n",
            "2               3  2023-01-13    CUST003    Male   50      Electronics   \n",
            "3               4  2023-05-21    CUST004    Male   37         Clothing   \n",
            "4               5  2023-05-06    CUST005    Male   30           Beauty   \n",
            "\n",
            "   Quantity  Price per Unit  Total Amount  \n",
            "0         3              50           150  \n",
            "1         2             500          1000  \n",
            "2         1              30            30  \n",
            "3         1             500           500  \n",
            "4         2              50           100  \n"
          ]
        }
      ]
    },
    {
      "cell_type": "markdown",
      "source": [
        "Cambiar el Índice del DataFrame: El método set_index() permite establecer una columna como el índice del DataFrame."
      ],
      "metadata": {
        "id": "Ix-Q_OUqG0Be"
      }
    },
    {
      "cell_type": "code",
      "source": [
        "# # Cambiar el índice del DataFrame\n",
        "# df.set_index('Cliente ID', inplace=True)\n",
        "# print(df.head())"
      ],
      "metadata": {
        "id": "PtMVai8tGzCX"
      },
      "execution_count": 50,
      "outputs": []
    },
    {
      "cell_type": "code",
      "source": [
        "df\n"
      ],
      "metadata": {
        "colab": {
          "base_uri": "https://localhost:8080/",
          "height": 455
        },
        "id": "vf61KVMjH2je",
        "outputId": "f658ec29-bdcb-4bdc-eba2-d20740ece193"
      },
      "execution_count": 51,
      "outputs": [
        {
          "output_type": "execute_result",
          "data": {
            "text/plain": [
              "            Transaction ID        Date  Gender  Age Product Category  \\\n",
              "Cliente ID                                                             \n",
              "CUST001                  1  2023-11-24    Male   34           Beauty   \n",
              "CUST002                  2  2023-02-27  Female   26         Clothing   \n",
              "CUST003                  3  2023-01-13    Male   50      Electronics   \n",
              "CUST004                  4  2023-05-21    Male   37         Clothing   \n",
              "CUST005                  5  2023-05-06    Male   30           Beauty   \n",
              "...                    ...         ...     ...  ...              ...   \n",
              "CUST996                996  2023-05-16    Male   62         Clothing   \n",
              "CUST997                997  2023-11-17    Male   52           Beauty   \n",
              "CUST998                998  2023-10-29  Female   23           Beauty   \n",
              "CUST999                999  2023-12-05  Female   36      Electronics   \n",
              "CUST1000              1000  2023-04-12    Male   47      Electronics   \n",
              "\n",
              "            Quantity  Price per Unit  Total Amount  \n",
              "Cliente ID                                          \n",
              "CUST001            3              50           150  \n",
              "CUST002            2             500          1000  \n",
              "CUST003            1              30            30  \n",
              "CUST004            1             500           500  \n",
              "CUST005            2              50           100  \n",
              "...              ...             ...           ...  \n",
              "CUST996            1              50            50  \n",
              "CUST997            3              30            90  \n",
              "CUST998            4              25           100  \n",
              "CUST999            3              50           150  \n",
              "CUST1000           4              30           120  \n",
              "\n",
              "[1000 rows x 8 columns]"
            ],
            "text/html": [
              "\n",
              "  <div id=\"df-99bad1b6-d9c8-4d67-ba65-c6d976665224\" class=\"colab-df-container\">\n",
              "    <div>\n",
              "<style scoped>\n",
              "    .dataframe tbody tr th:only-of-type {\n",
              "        vertical-align: middle;\n",
              "    }\n",
              "\n",
              "    .dataframe tbody tr th {\n",
              "        vertical-align: top;\n",
              "    }\n",
              "\n",
              "    .dataframe thead th {\n",
              "        text-align: right;\n",
              "    }\n",
              "</style>\n",
              "<table border=\"1\" class=\"dataframe\">\n",
              "  <thead>\n",
              "    <tr style=\"text-align: right;\">\n",
              "      <th></th>\n",
              "      <th>Transaction ID</th>\n",
              "      <th>Date</th>\n",
              "      <th>Gender</th>\n",
              "      <th>Age</th>\n",
              "      <th>Product Category</th>\n",
              "      <th>Quantity</th>\n",
              "      <th>Price per Unit</th>\n",
              "      <th>Total Amount</th>\n",
              "    </tr>\n",
              "    <tr>\n",
              "      <th>Cliente ID</th>\n",
              "      <th></th>\n",
              "      <th></th>\n",
              "      <th></th>\n",
              "      <th></th>\n",
              "      <th></th>\n",
              "      <th></th>\n",
              "      <th></th>\n",
              "      <th></th>\n",
              "    </tr>\n",
              "  </thead>\n",
              "  <tbody>\n",
              "    <tr>\n",
              "      <th>CUST001</th>\n",
              "      <td>1</td>\n",
              "      <td>2023-11-24</td>\n",
              "      <td>Male</td>\n",
              "      <td>34</td>\n",
              "      <td>Beauty</td>\n",
              "      <td>3</td>\n",
              "      <td>50</td>\n",
              "      <td>150</td>\n",
              "    </tr>\n",
              "    <tr>\n",
              "      <th>CUST002</th>\n",
              "      <td>2</td>\n",
              "      <td>2023-02-27</td>\n",
              "      <td>Female</td>\n",
              "      <td>26</td>\n",
              "      <td>Clothing</td>\n",
              "      <td>2</td>\n",
              "      <td>500</td>\n",
              "      <td>1000</td>\n",
              "    </tr>\n",
              "    <tr>\n",
              "      <th>CUST003</th>\n",
              "      <td>3</td>\n",
              "      <td>2023-01-13</td>\n",
              "      <td>Male</td>\n",
              "      <td>50</td>\n",
              "      <td>Electronics</td>\n",
              "      <td>1</td>\n",
              "      <td>30</td>\n",
              "      <td>30</td>\n",
              "    </tr>\n",
              "    <tr>\n",
              "      <th>CUST004</th>\n",
              "      <td>4</td>\n",
              "      <td>2023-05-21</td>\n",
              "      <td>Male</td>\n",
              "      <td>37</td>\n",
              "      <td>Clothing</td>\n",
              "      <td>1</td>\n",
              "      <td>500</td>\n",
              "      <td>500</td>\n",
              "    </tr>\n",
              "    <tr>\n",
              "      <th>CUST005</th>\n",
              "      <td>5</td>\n",
              "      <td>2023-05-06</td>\n",
              "      <td>Male</td>\n",
              "      <td>30</td>\n",
              "      <td>Beauty</td>\n",
              "      <td>2</td>\n",
              "      <td>50</td>\n",
              "      <td>100</td>\n",
              "    </tr>\n",
              "    <tr>\n",
              "      <th>...</th>\n",
              "      <td>...</td>\n",
              "      <td>...</td>\n",
              "      <td>...</td>\n",
              "      <td>...</td>\n",
              "      <td>...</td>\n",
              "      <td>...</td>\n",
              "      <td>...</td>\n",
              "      <td>...</td>\n",
              "    </tr>\n",
              "    <tr>\n",
              "      <th>CUST996</th>\n",
              "      <td>996</td>\n",
              "      <td>2023-05-16</td>\n",
              "      <td>Male</td>\n",
              "      <td>62</td>\n",
              "      <td>Clothing</td>\n",
              "      <td>1</td>\n",
              "      <td>50</td>\n",
              "      <td>50</td>\n",
              "    </tr>\n",
              "    <tr>\n",
              "      <th>CUST997</th>\n",
              "      <td>997</td>\n",
              "      <td>2023-11-17</td>\n",
              "      <td>Male</td>\n",
              "      <td>52</td>\n",
              "      <td>Beauty</td>\n",
              "      <td>3</td>\n",
              "      <td>30</td>\n",
              "      <td>90</td>\n",
              "    </tr>\n",
              "    <tr>\n",
              "      <th>CUST998</th>\n",
              "      <td>998</td>\n",
              "      <td>2023-10-29</td>\n",
              "      <td>Female</td>\n",
              "      <td>23</td>\n",
              "      <td>Beauty</td>\n",
              "      <td>4</td>\n",
              "      <td>25</td>\n",
              "      <td>100</td>\n",
              "    </tr>\n",
              "    <tr>\n",
              "      <th>CUST999</th>\n",
              "      <td>999</td>\n",
              "      <td>2023-12-05</td>\n",
              "      <td>Female</td>\n",
              "      <td>36</td>\n",
              "      <td>Electronics</td>\n",
              "      <td>3</td>\n",
              "      <td>50</td>\n",
              "      <td>150</td>\n",
              "    </tr>\n",
              "    <tr>\n",
              "      <th>CUST1000</th>\n",
              "      <td>1000</td>\n",
              "      <td>2023-04-12</td>\n",
              "      <td>Male</td>\n",
              "      <td>47</td>\n",
              "      <td>Electronics</td>\n",
              "      <td>4</td>\n",
              "      <td>30</td>\n",
              "      <td>120</td>\n",
              "    </tr>\n",
              "  </tbody>\n",
              "</table>\n",
              "<p>1000 rows × 8 columns</p>\n",
              "</div>\n",
              "    <div class=\"colab-df-buttons\">\n",
              "\n",
              "  <div class=\"colab-df-container\">\n",
              "    <button class=\"colab-df-convert\" onclick=\"convertToInteractive('df-99bad1b6-d9c8-4d67-ba65-c6d976665224')\"\n",
              "            title=\"Convert this dataframe to an interactive table.\"\n",
              "            style=\"display:none;\">\n",
              "\n",
              "  <svg xmlns=\"http://www.w3.org/2000/svg\" height=\"24px\" viewBox=\"0 -960 960 960\">\n",
              "    <path d=\"M120-120v-720h720v720H120Zm60-500h600v-160H180v160Zm220 220h160v-160H400v160Zm0 220h160v-160H400v160ZM180-400h160v-160H180v160Zm440 0h160v-160H620v160ZM180-180h160v-160H180v160Zm440 0h160v-160H620v160Z\"/>\n",
              "  </svg>\n",
              "    </button>\n",
              "\n",
              "  <style>\n",
              "    .colab-df-container {\n",
              "      display:flex;\n",
              "      gap: 12px;\n",
              "    }\n",
              "\n",
              "    .colab-df-convert {\n",
              "      background-color: #E8F0FE;\n",
              "      border: none;\n",
              "      border-radius: 50%;\n",
              "      cursor: pointer;\n",
              "      display: none;\n",
              "      fill: #1967D2;\n",
              "      height: 32px;\n",
              "      padding: 0 0 0 0;\n",
              "      width: 32px;\n",
              "    }\n",
              "\n",
              "    .colab-df-convert:hover {\n",
              "      background-color: #E2EBFA;\n",
              "      box-shadow: 0px 1px 2px rgba(60, 64, 67, 0.3), 0px 1px 3px 1px rgba(60, 64, 67, 0.15);\n",
              "      fill: #174EA6;\n",
              "    }\n",
              "\n",
              "    .colab-df-buttons div {\n",
              "      margin-bottom: 4px;\n",
              "    }\n",
              "\n",
              "    [theme=dark] .colab-df-convert {\n",
              "      background-color: #3B4455;\n",
              "      fill: #D2E3FC;\n",
              "    }\n",
              "\n",
              "    [theme=dark] .colab-df-convert:hover {\n",
              "      background-color: #434B5C;\n",
              "      box-shadow: 0px 1px 3px 1px rgba(0, 0, 0, 0.15);\n",
              "      filter: drop-shadow(0px 1px 2px rgba(0, 0, 0, 0.3));\n",
              "      fill: #FFFFFF;\n",
              "    }\n",
              "  </style>\n",
              "\n",
              "    <script>\n",
              "      const buttonEl =\n",
              "        document.querySelector('#df-99bad1b6-d9c8-4d67-ba65-c6d976665224 button.colab-df-convert');\n",
              "      buttonEl.style.display =\n",
              "        google.colab.kernel.accessAllowed ? 'block' : 'none';\n",
              "\n",
              "      async function convertToInteractive(key) {\n",
              "        const element = document.querySelector('#df-99bad1b6-d9c8-4d67-ba65-c6d976665224');\n",
              "        const dataTable =\n",
              "          await google.colab.kernel.invokeFunction('convertToInteractive',\n",
              "                                                    [key], {});\n",
              "        if (!dataTable) return;\n",
              "\n",
              "        const docLinkHtml = 'Like what you see? Visit the ' +\n",
              "          '<a target=\"_blank\" href=https://colab.research.google.com/notebooks/data_table.ipynb>data table notebook</a>'\n",
              "          + ' to learn more about interactive tables.';\n",
              "        element.innerHTML = '';\n",
              "        dataTable['output_type'] = 'display_data';\n",
              "        await google.colab.output.renderOutput(dataTable, element);\n",
              "        const docLink = document.createElement('div');\n",
              "        docLink.innerHTML = docLinkHtml;\n",
              "        element.appendChild(docLink);\n",
              "      }\n",
              "    </script>\n",
              "  </div>\n",
              "\n",
              "\n",
              "<div id=\"df-f97b9a0c-ab82-49ce-85ae-3f1b28100e04\">\n",
              "  <button class=\"colab-df-quickchart\" onclick=\"quickchart('df-f97b9a0c-ab82-49ce-85ae-3f1b28100e04')\"\n",
              "            title=\"Suggest charts\"\n",
              "            style=\"display:none;\">\n",
              "\n",
              "<svg xmlns=\"http://www.w3.org/2000/svg\" height=\"24px\"viewBox=\"0 0 24 24\"\n",
              "     width=\"24px\">\n",
              "    <g>\n",
              "        <path d=\"M19 3H5c-1.1 0-2 .9-2 2v14c0 1.1.9 2 2 2h14c1.1 0 2-.9 2-2V5c0-1.1-.9-2-2-2zM9 17H7v-7h2v7zm4 0h-2V7h2v10zm4 0h-2v-4h2v4z\"/>\n",
              "    </g>\n",
              "</svg>\n",
              "  </button>\n",
              "\n",
              "<style>\n",
              "  .colab-df-quickchart {\n",
              "      --bg-color: #E8F0FE;\n",
              "      --fill-color: #1967D2;\n",
              "      --hover-bg-color: #E2EBFA;\n",
              "      --hover-fill-color: #174EA6;\n",
              "      --disabled-fill-color: #AAA;\n",
              "      --disabled-bg-color: #DDD;\n",
              "  }\n",
              "\n",
              "  [theme=dark] .colab-df-quickchart {\n",
              "      --bg-color: #3B4455;\n",
              "      --fill-color: #D2E3FC;\n",
              "      --hover-bg-color: #434B5C;\n",
              "      --hover-fill-color: #FFFFFF;\n",
              "      --disabled-bg-color: #3B4455;\n",
              "      --disabled-fill-color: #666;\n",
              "  }\n",
              "\n",
              "  .colab-df-quickchart {\n",
              "    background-color: var(--bg-color);\n",
              "    border: none;\n",
              "    border-radius: 50%;\n",
              "    cursor: pointer;\n",
              "    display: none;\n",
              "    fill: var(--fill-color);\n",
              "    height: 32px;\n",
              "    padding: 0;\n",
              "    width: 32px;\n",
              "  }\n",
              "\n",
              "  .colab-df-quickchart:hover {\n",
              "    background-color: var(--hover-bg-color);\n",
              "    box-shadow: 0 1px 2px rgba(60, 64, 67, 0.3), 0 1px 3px 1px rgba(60, 64, 67, 0.15);\n",
              "    fill: var(--button-hover-fill-color);\n",
              "  }\n",
              "\n",
              "  .colab-df-quickchart-complete:disabled,\n",
              "  .colab-df-quickchart-complete:disabled:hover {\n",
              "    background-color: var(--disabled-bg-color);\n",
              "    fill: var(--disabled-fill-color);\n",
              "    box-shadow: none;\n",
              "  }\n",
              "\n",
              "  .colab-df-spinner {\n",
              "    border: 2px solid var(--fill-color);\n",
              "    border-color: transparent;\n",
              "    border-bottom-color: var(--fill-color);\n",
              "    animation:\n",
              "      spin 1s steps(1) infinite;\n",
              "  }\n",
              "\n",
              "  @keyframes spin {\n",
              "    0% {\n",
              "      border-color: transparent;\n",
              "      border-bottom-color: var(--fill-color);\n",
              "      border-left-color: var(--fill-color);\n",
              "    }\n",
              "    20% {\n",
              "      border-color: transparent;\n",
              "      border-left-color: var(--fill-color);\n",
              "      border-top-color: var(--fill-color);\n",
              "    }\n",
              "    30% {\n",
              "      border-color: transparent;\n",
              "      border-left-color: var(--fill-color);\n",
              "      border-top-color: var(--fill-color);\n",
              "      border-right-color: var(--fill-color);\n",
              "    }\n",
              "    40% {\n",
              "      border-color: transparent;\n",
              "      border-right-color: var(--fill-color);\n",
              "      border-top-color: var(--fill-color);\n",
              "    }\n",
              "    60% {\n",
              "      border-color: transparent;\n",
              "      border-right-color: var(--fill-color);\n",
              "    }\n",
              "    80% {\n",
              "      border-color: transparent;\n",
              "      border-right-color: var(--fill-color);\n",
              "      border-bottom-color: var(--fill-color);\n",
              "    }\n",
              "    90% {\n",
              "      border-color: transparent;\n",
              "      border-bottom-color: var(--fill-color);\n",
              "    }\n",
              "  }\n",
              "</style>\n",
              "\n",
              "  <script>\n",
              "    async function quickchart(key) {\n",
              "      const quickchartButtonEl =\n",
              "        document.querySelector('#' + key + ' button');\n",
              "      quickchartButtonEl.disabled = true;  // To prevent multiple clicks.\n",
              "      quickchartButtonEl.classList.add('colab-df-spinner');\n",
              "      try {\n",
              "        const charts = await google.colab.kernel.invokeFunction(\n",
              "            'suggestCharts', [key], {});\n",
              "      } catch (error) {\n",
              "        console.error('Error during call to suggestCharts:', error);\n",
              "      }\n",
              "      quickchartButtonEl.classList.remove('colab-df-spinner');\n",
              "      quickchartButtonEl.classList.add('colab-df-quickchart-complete');\n",
              "    }\n",
              "    (() => {\n",
              "      let quickchartButtonEl =\n",
              "        document.querySelector('#df-f97b9a0c-ab82-49ce-85ae-3f1b28100e04 button');\n",
              "      quickchartButtonEl.style.display =\n",
              "        google.colab.kernel.accessAllowed ? 'block' : 'none';\n",
              "    })();\n",
              "  </script>\n",
              "</div>\n",
              "\n",
              "  <div id=\"id_01055976-fbfc-4f3a-baf6-51a2f0d0d162\">\n",
              "    <style>\n",
              "      .colab-df-generate {\n",
              "        background-color: #E8F0FE;\n",
              "        border: none;\n",
              "        border-radius: 50%;\n",
              "        cursor: pointer;\n",
              "        display: none;\n",
              "        fill: #1967D2;\n",
              "        height: 32px;\n",
              "        padding: 0 0 0 0;\n",
              "        width: 32px;\n",
              "      }\n",
              "\n",
              "      .colab-df-generate:hover {\n",
              "        background-color: #E2EBFA;\n",
              "        box-shadow: 0px 1px 2px rgba(60, 64, 67, 0.3), 0px 1px 3px 1px rgba(60, 64, 67, 0.15);\n",
              "        fill: #174EA6;\n",
              "      }\n",
              "\n",
              "      [theme=dark] .colab-df-generate {\n",
              "        background-color: #3B4455;\n",
              "        fill: #D2E3FC;\n",
              "      }\n",
              "\n",
              "      [theme=dark] .colab-df-generate:hover {\n",
              "        background-color: #434B5C;\n",
              "        box-shadow: 0px 1px 3px 1px rgba(0, 0, 0, 0.15);\n",
              "        filter: drop-shadow(0px 1px 2px rgba(0, 0, 0, 0.3));\n",
              "        fill: #FFFFFF;\n",
              "      }\n",
              "    </style>\n",
              "    <button class=\"colab-df-generate\" onclick=\"generateWithVariable('df')\"\n",
              "            title=\"Generate code using this dataframe.\"\n",
              "            style=\"display:none;\">\n",
              "\n",
              "  <svg xmlns=\"http://www.w3.org/2000/svg\" height=\"24px\"viewBox=\"0 0 24 24\"\n",
              "       width=\"24px\">\n",
              "    <path d=\"M7,19H8.4L18.45,9,17,7.55,7,17.6ZM5,21V16.75L18.45,3.32a2,2,0,0,1,2.83,0l1.4,1.43a1.91,1.91,0,0,1,.58,1.4,1.91,1.91,0,0,1-.58,1.4L9.25,21ZM18.45,9,17,7.55Zm-12,3A5.31,5.31,0,0,0,4.9,8.1,5.31,5.31,0,0,0,1,6.5,5.31,5.31,0,0,0,4.9,4.9,5.31,5.31,0,0,0,6.5,1,5.31,5.31,0,0,0,8.1,4.9,5.31,5.31,0,0,0,12,6.5,5.46,5.46,0,0,0,6.5,12Z\"/>\n",
              "  </svg>\n",
              "    </button>\n",
              "    <script>\n",
              "      (() => {\n",
              "      const buttonEl =\n",
              "        document.querySelector('#id_01055976-fbfc-4f3a-baf6-51a2f0d0d162 button.colab-df-generate');\n",
              "      buttonEl.style.display =\n",
              "        google.colab.kernel.accessAllowed ? 'block' : 'none';\n",
              "\n",
              "      buttonEl.onclick = () => {\n",
              "        google.colab.notebook.generateWithVariable('df');\n",
              "      }\n",
              "      })();\n",
              "    </script>\n",
              "  </div>\n",
              "\n",
              "    </div>\n",
              "  </div>\n"
            ],
            "application/vnd.google.colaboratory.intrinsic+json": {
              "type": "dataframe",
              "variable_name": "df",
              "summary": "{\n  \"name\": \"df\",\n  \"rows\": 1000,\n  \"fields\": [\n    {\n      \"column\": \"Cliente ID\",\n      \"properties\": {\n        \"dtype\": \"string\",\n        \"num_unique_values\": 1000,\n        \"samples\": [\n          \"CUST522\",\n          \"CUST738\",\n          \"CUST741\"\n        ],\n        \"semantic_type\": \"\",\n        \"description\": \"\"\n      }\n    },\n    {\n      \"column\": \"Transaction ID\",\n      \"properties\": {\n        \"dtype\": \"number\",\n        \"std\": 288,\n        \"min\": 1,\n        \"max\": 1000,\n        \"num_unique_values\": 1000,\n        \"samples\": [\n          522,\n          738,\n          741\n        ],\n        \"semantic_type\": \"\",\n        \"description\": \"\"\n      }\n    },\n    {\n      \"column\": \"Date\",\n      \"properties\": {\n        \"dtype\": \"object\",\n        \"num_unique_values\": 345,\n        \"samples\": [\n          \"2023-04-04\",\n          \"2023-04-13\",\n          \"2023-04-15\"\n        ],\n        \"semantic_type\": \"\",\n        \"description\": \"\"\n      }\n    },\n    {\n      \"column\": \"Gender\",\n      \"properties\": {\n        \"dtype\": \"category\",\n        \"num_unique_values\": 2,\n        \"samples\": [\n          \"Female\",\n          \"Male\"\n        ],\n        \"semantic_type\": \"\",\n        \"description\": \"\"\n      }\n    },\n    {\n      \"column\": \"Age\",\n      \"properties\": {\n        \"dtype\": \"number\",\n        \"std\": 13,\n        \"min\": 18,\n        \"max\": 64,\n        \"num_unique_values\": 47,\n        \"samples\": [\n          48,\n          61\n        ],\n        \"semantic_type\": \"\",\n        \"description\": \"\"\n      }\n    },\n    {\n      \"column\": \"Product Category\",\n      \"properties\": {\n        \"dtype\": \"category\",\n        \"num_unique_values\": 3,\n        \"samples\": [\n          \"Beauty\",\n          \"Clothing\"\n        ],\n        \"semantic_type\": \"\",\n        \"description\": \"\"\n      }\n    },\n    {\n      \"column\": \"Quantity\",\n      \"properties\": {\n        \"dtype\": \"number\",\n        \"std\": 1,\n        \"min\": 1,\n        \"max\": 4,\n        \"num_unique_values\": 4,\n        \"samples\": [\n          2,\n          4\n        ],\n        \"semantic_type\": \"\",\n        \"description\": \"\"\n      }\n    },\n    {\n      \"column\": \"Price per Unit\",\n      \"properties\": {\n        \"dtype\": \"number\",\n        \"std\": 189,\n        \"min\": 25,\n        \"max\": 500,\n        \"num_unique_values\": 5,\n        \"samples\": [\n          500,\n          300\n        ],\n        \"semantic_type\": \"\",\n        \"description\": \"\"\n      }\n    },\n    {\n      \"column\": \"Total Amount\",\n      \"properties\": {\n        \"dtype\": \"number\",\n        \"std\": 559,\n        \"min\": 25,\n        \"max\": 2000,\n        \"num_unique_values\": 18,\n        \"samples\": [\n          150,\n          1000\n        ],\n        \"semantic_type\": \"\",\n        \"description\": \"\"\n      }\n    }\n  ]\n}"
            }
          },
          "metadata": {},
          "execution_count": 51
        }
      ]
    },
    {
      "cell_type": "markdown",
      "source": [
        "Ordenar Datos:  El método sort_values() permite ordenar el DataFrame por una o más columnas."
      ],
      "metadata": {
        "id": "N-biRNCCISs1"
      }
    },
    {
      "cell_type": "code",
      "source": [
        "# Ordenar el DataFrame por una columna\n",
        "df_ordenado = df.sort_values(by='Date')\n",
        "print(df_ordenado.head())"
      ],
      "metadata": {
        "colab": {
          "base_uri": "https://localhost:8080/"
        },
        "id": "dF1qHaTSIRwt",
        "outputId": "58eb84a9-b259-481b-bba1-4b4f218a5f1d"
      },
      "execution_count": 54,
      "outputs": [
        {
          "output_type": "stream",
          "name": "stdout",
          "text": [
            "            Transaction ID        Date  Gender  Age Product Category  \\\n",
            "Cliente ID                                                             \n",
            "CUST522                522  2023-01-01    Male   46           Beauty   \n",
            "CUST180                180  2023-01-01    Male   41         Clothing   \n",
            "CUST559                559  2023-01-01  Female   40         Clothing   \n",
            "CUST303                303  2023-01-02    Male   19      Electronics   \n",
            "CUST979                979  2023-01-02  Female   19           Beauty   \n",
            "\n",
            "            Quantity  Price per Unit  Total Amount  \n",
            "Cliente ID                                          \n",
            "CUST522            3             500          1500  \n",
            "CUST180            3             300           900  \n",
            "CUST559            4             300          1200  \n",
            "CUST303            3              30            90  \n",
            "CUST979            1              25            25  \n"
          ]
        }
      ]
    },
    {
      "cell_type": "code",
      "source": [
        "# Ordenar el DataFrame por múltiples columnas\n",
        "df_ordenado = df.sort_values(by=['Date', 'Age'], ascending=[True, False])\n",
        "\n",
        "print(df_ordenado.head())"
      ],
      "metadata": {
        "colab": {
          "base_uri": "https://localhost:8080/"
        },
        "id": "YS61ydmxImAV",
        "outputId": "bd43b33b-a2cc-4944-a7b2-3a5fc1ae3041"
      },
      "execution_count": 58,
      "outputs": [
        {
          "output_type": "stream",
          "name": "stdout",
          "text": [
            "            Transaction ID        Date  Gender  Age Product Category  \\\n",
            "Cliente ID                                                             \n",
            "CUST522                522  2023-01-01    Male   46           Beauty   \n",
            "CUST180                180  2023-01-01    Male   41         Clothing   \n",
            "CUST559                559  2023-01-01  Female   40         Clothing   \n",
            "CUST163                163  2023-01-02  Female   64         Clothing   \n",
            "CUST421                421  2023-01-02  Female   37         Clothing   \n",
            "\n",
            "            Quantity  Price per Unit  Total Amount  \n",
            "Cliente ID                                          \n",
            "CUST522            3             500          1500  \n",
            "CUST180            3             300           900  \n",
            "CUST559            4             300          1200  \n",
            "CUST163            3              50           150  \n",
            "CUST421            3             500          1500  \n"
          ]
        }
      ]
    },
    {
      "cell_type": "markdown",
      "source": [
        "Cargar Datos desde un Archivo Excel"
      ],
      "metadata": {
        "id": "bxIioNvQIPcz"
      }
    },
    {
      "cell_type": "code",
      "source": [
        "# Cargar datos desde un archivo Excel\n",
        "df_excel = pd.read_excel('/content/drive/MyDrive/DataSets/Data_Set_Test.xlsx')\n",
        "print(df_excel.head())"
      ],
      "metadata": {
        "colab": {
          "base_uri": "https://localhost:8080/"
        },
        "id": "t5KXm1kG_isg",
        "outputId": "396922c3-cd0c-43dd-82a3-f8528351d653"
      },
      "execution_count": 53,
      "outputs": [
        {
          "output_type": "stream",
          "name": "stdout",
          "text": [
            "                 Nombres  Apellidos   Edad\n",
            "0  Yojan Stiben Hungria          NaN    18\n",
            "1         Carlos Andres       Perea     23\n",
            "2            Lina Maria   Rodriguez     19\n"
          ]
        }
      ]
    },
    {
      "cell_type": "markdown",
      "source": [
        "Cargar Datos desde una Base de Datos SQL"
      ],
      "metadata": {
        "id": "b-YNAYQiCGtn"
      }
    },
    {
      "cell_type": "code",
      "source": [
        "# import sqlite3\n",
        "# import pandas as pd\n",
        "\n",
        "# # Conectar a la base de datos\n",
        "# conexion = sqlite3.connect('ruta/al/archivo.db')\n",
        "\n",
        "# # Leer datos desde una tabla SQL\n",
        "# df_sql = pd.read_sql_query(\"SELECT * FROM nombre_tabla\", conexion)\n",
        "# print(df_sql.head())\n",
        "\n",
        "# # Cerrar la conexión\n",
        "# conexion.close()"
      ],
      "metadata": {
        "id": "5iu4Ns9YB53x"
      },
      "execution_count": 22,
      "outputs": []
    }
  ]
}