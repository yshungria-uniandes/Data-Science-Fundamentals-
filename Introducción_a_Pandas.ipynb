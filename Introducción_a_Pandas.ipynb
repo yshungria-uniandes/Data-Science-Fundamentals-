{
  "nbformat": 4,
  "nbformat_minor": 0,
  "metadata": {
    "colab": {
      "provenance": [],
      "authorship_tag": "ABX9TyMNgtLlvtsnTvLwaSD6Oe3Q",
      "include_colab_link": true
    },
    "kernelspec": {
      "name": "python3",
      "display_name": "Python 3"
    },
    "language_info": {
      "name": "python"
    }
  },
  "cells": [
    {
      "cell_type": "markdown",
      "metadata": {
        "id": "view-in-github",
        "colab_type": "text"
      },
      "source": [
        "<a href=\"https://colab.research.google.com/github/yshungria-uniandes/Data-Science-Fundamentals-/blob/main/Introducci%C3%B3n_a_Pandas.ipynb\" target=\"_parent\"><img src=\"https://colab.research.google.com/assets/colab-badge.svg\" alt=\"Open In Colab\"/></a>"
      ]
    },
    {
      "cell_type": "markdown",
      "source": [
        "# Introdución a Pandas\n",
        "\n",
        "En este módulo, profundizaremos en el análisis de datos utilizando la biblioteca Pandas. Pandas es una herramienta poderosa y flexible para la manipulación y análisis de datos en Python. Este módulo se centrará en técnicas avanzadas de manipulación de datos, limpieza, transformación y análisis exploratorio. Continuaremos desarrollando nuestro proyecto de análisis de ventas, aplicando lo aprendido en Pandas para obtener insights más profundos.\n",
        "\n",
        "\n",
        "\n"
      ],
      "metadata": {
        "id": "-JFf0sG3GiXV"
      }
    },
    {
      "cell_type": "markdown",
      "source": [
        "## ¿Qué es Pandas?\n",
        "\n",
        "Pandas es una biblioteca de código abierto de Python que proporciona estructuras de datos de alto rendimiento y herramientas de análisis de datos fáciles de usar. Su nombre es una combinación de «panel data» y «Python data analysis library». Pandas es ideal para trabajar con datos tabulares y series temporales."
      ],
      "metadata": {
        "id": "E_DsXbF2Grc4"
      }
    },
    {
      "cell_type": "code",
      "execution_count": 1,
      "metadata": {
        "id": "hDqXpE29-mLF"
      },
      "outputs": [],
      "source": [
        "import pandas as pd"
      ]
    },
    {
      "cell_type": "markdown",
      "source": [
        "### Estructuras de Datos en Pandas\n",
        "\n",
        "Pandas introduce dos estructuras de datos principales: Series y DataFrames.\n",
        "\n",
        "Series: Una Serie es una estructura de datos unidimensional que puede contener cualquier tipo de datos. Es similar a un array de NumPy, pero con etiquetas de índice que permiten un acceso más conveniente a los datos.\n",
        "\n",
        "Creación de una Serie: Puedes crear una Serie a partir de una lista, un array de NumPy, un diccionario o un valor escalar."
      ],
      "metadata": {
        "id": "nrpvnizPHFNm"
      }
    },
    {
      "cell_type": "code",
      "source": [
        "# Creando una Serie a partir de una lista\n",
        "lista = [1, 2, 3, 4, 5]\n",
        "serie = pd.Series(lista)\n",
        "\n",
        "print(serie)\n"
      ],
      "metadata": {
        "colab": {
          "base_uri": "https://localhost:8080/"
        },
        "id": "D--WR_e1G-zh",
        "outputId": "6991cb01-1f66-45dd-d39e-1d159cac8c05"
      },
      "execution_count": 13,
      "outputs": [
        {
          "output_type": "stream",
          "name": "stdout",
          "text": [
            "0    1\n",
            "1    2\n",
            "2    3\n",
            "3    4\n",
            "4    5\n",
            "dtype: int64\n"
          ]
        }
      ]
    },
    {
      "cell_type": "code",
      "source": [
        "print(serie[0])"
      ],
      "metadata": {
        "colab": {
          "base_uri": "https://localhost:8080/"
        },
        "id": "ET7k_zMPMCF3",
        "outputId": "b2f32aa6-8212-45ce-e289-768864637f4d"
      },
      "execution_count": 14,
      "outputs": [
        {
          "output_type": "stream",
          "name": "stdout",
          "text": [
            "1\n"
          ]
        }
      ]
    },
    {
      "cell_type": "code",
      "source": [
        "dict = {'a': 1, 'b': 2, 'c': 3}\n",
        "serie_dicc = pd.Series(dict)\n",
        "print(serie)"
      ],
      "metadata": {
        "colab": {
          "base_uri": "https://localhost:8080/"
        },
        "id": "5c3ipy_9HCb1",
        "outputId": "c3c4d7d9-ab13-4f92-e5b8-fbebb96aa028"
      },
      "execution_count": 17,
      "outputs": [
        {
          "output_type": "stream",
          "name": "stdout",
          "text": [
            "a    1\n",
            "b    2\n",
            "c    3\n",
            "dtype: int64\n"
          ]
        }
      ]
    },
    {
      "cell_type": "code",
      "source": [
        "print(serie_dicc['a'])"
      ],
      "metadata": {
        "colab": {
          "base_uri": "https://localhost:8080/"
        },
        "id": "4AGqBGtpMEGL",
        "outputId": "edac2ef7-91f8-4acc-8bb2-7fd2f8fc7acf"
      },
      "execution_count": 18,
      "outputs": [
        {
          "output_type": "stream",
          "name": "stdout",
          "text": [
            "1\n"
          ]
        }
      ]
    },
    {
      "cell_type": "code",
      "source": [
        "import numpy as np\n",
        "array = np.array([1, 2, 3, 4, 5])\n",
        "serie = pd.Series(array)\n",
        "print(serie)"
      ],
      "metadata": {
        "colab": {
          "base_uri": "https://localhost:8080/"
        },
        "id": "J1OJDdncHeIk",
        "outputId": "a9f8a044-f1ee-46fc-877e-9b9becd9c515"
      },
      "execution_count": 6,
      "outputs": [
        {
          "output_type": "stream",
          "name": "stdout",
          "text": [
            "0    1\n",
            "1    2\n",
            "2    3\n",
            "3    4\n",
            "4    5\n",
            "dtype: int64\n"
          ]
        }
      ]
    },
    {
      "cell_type": "code",
      "source": [
        "scalar = 5\n",
        "serie = pd.Series(scalar, index=[0, 1, 2, 3, 4])\n",
        "print(serie)"
      ],
      "metadata": {
        "colab": {
          "base_uri": "https://localhost:8080/"
        },
        "id": "SjuFy1E-Hkc7",
        "outputId": "c29639d8-2fec-4e80-b804-2a8e12e78ebb"
      },
      "execution_count": 8,
      "outputs": [
        {
          "output_type": "stream",
          "name": "stdout",
          "text": [
            "0    5\n",
            "1    5\n",
            "2    5\n",
            "3    5\n",
            "4    5\n",
            "dtype: int64\n"
          ]
        }
      ]
    },
    {
      "cell_type": "code",
      "source": [
        "# Creando una Serie a partir de un valor escalar\n",
        "valor_escalar = 5\n",
        "serie_escalar = pd.Series(valor_escalar, index=['x', 'y', 'z'])\n",
        "print(serie_escalar)"
      ],
      "metadata": {
        "colab": {
          "base_uri": "https://localhost:8080/"
        },
        "id": "_NI-q1OhHt_X",
        "outputId": "1fca61dd-7a3a-48e4-e2cd-e8799276f917"
      },
      "execution_count": 11,
      "outputs": [
        {
          "output_type": "stream",
          "name": "stdout",
          "text": [
            "x    5\n",
            "y    5\n",
            "z    5\n",
            "dtype: int64\n"
          ]
        }
      ]
    },
    {
      "cell_type": "code",
      "source": [],
      "metadata": {
        "id": "G40CJ0t4HvIS"
      },
      "execution_count": null,
      "outputs": []
    }
  ]
}