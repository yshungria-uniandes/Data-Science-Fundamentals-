{
  "nbformat": 4,
  "nbformat_minor": 0,
  "metadata": {
    "colab": {
      "provenance": [],
      "authorship_tag": "ABX9TyPNx8UChKkdOIpSVvLQKmqA",
      "include_colab_link": true
    },
    "kernelspec": {
      "name": "python3",
      "display_name": "Python 3"
    },
    "language_info": {
      "name": "python"
    }
  },
  "cells": [
    {
      "cell_type": "markdown",
      "metadata": {
        "id": "view-in-github",
        "colab_type": "text"
      },
      "source": [
        "<a href=\"https://colab.research.google.com/github/yshungria-uniandes/Data-Science-Fundamentals-/blob/main/Practicando_con_ciclos_(Pr%C3%A1ctica).ipynb\" target=\"_parent\"><img src=\"https://colab.research.google.com/assets/colab-badge.svg\" alt=\"Open In Colab\"/></a>"
      ]
    },
    {
      "cell_type": "markdown",
      "source": [
        "# Practicando con ciclos (Práctica)\n",
        "\n",
        "## Ejercicios Prácticos\n",
        "\n",
        "### Ejercicio 1: Gestión de Inventario\n",
        "\n",
        "Crea un diccionario para gestionar el inventario de una tienda. Las claves del diccionario deben ser los nombres de los productos y los valores deben ser la cantidad de cada producto en inventario.\n",
        "\n",
        "Usa un bucle for para mostrar todos los productos y sus cantidades.\n",
        "Actualiza la cantidad de un producto específico.\n",
        "\n",
        "Agrega un nuevo producto al inventario.\n",
        "\n",
        "Elimina un producto del inventario.\n"
      ],
      "metadata": {
        "id": "L9VM5q7AC__g"
      }
    },
    {
      "cell_type": "code",
      "execution_count": 5,
      "metadata": {
        "colab": {
          "base_uri": "https://localhost:8080/"
        },
        "id": "97UJQJWYC-ak",
        "outputId": "2a88ddd4-4c95-487f-b466-913b790cb002"
      },
      "outputs": [
        {
          "output_type": "stream",
          "name": "stdout",
          "text": [
            "Inventario actual:\n",
            "Camiseta: 50\n",
            "Zapatos: 30\n",
            "Pantalones: 40\n",
            "Gorra: 20\n",
            "\n",
            "Inventario Después de la actualización:\n",
            "Camiseta: 50\n",
            "Zapatos: 25\n",
            "Pantalones: 40\n",
            "Gorra: 20\n",
            "\n",
            "Inventario Después de la adición de Gorra:\n",
            "Camiseta: 50\n",
            "Zapatos: 25\n",
            "Pantalones: 40\n",
            "Gorra: 15\n",
            "\n",
            "Inventario Después de la eliminación de Pantalones:\n",
            "Camiseta: 50\n",
            "Zapatos: 25\n",
            "Gorra: 15\n",
            "\n",
            "Inventario final:\n",
            "Camiseta: 50\n",
            "Zapatos: 25\n",
            "Gorra: 15\n"
          ]
        }
      ],
      "source": [
        "# Creación del diccionario Inventario\n",
        "\n",
        "inventario = {\n",
        "    \"Camiseta\": 50,\n",
        "    \"Zapatos\": 30,\n",
        "    \"Pantalones\": 40,\n",
        "    \"Gorra\": 20\n",
        "}\n",
        "\n",
        "print(\"Inventario actual:\")\n",
        "for producto, cantidad in inventario.items():\n",
        "    print(f\"{producto}: {cantidad}\")\n",
        "\n",
        "# Actualizar la cantidad de un producto específico (e.g., Zapatos)\n",
        "inventario[\"Zapatos\"] = 25\n",
        "\n",
        "print(\"\\nInventario Después de la actualización:\")\n",
        "for producto, cantidad in inventario.items():\n",
        "    print(f\"{producto}: {cantidad}\")\n",
        "\n",
        "# Agregar un nuevo producto al inventario (e.g., Gorra)\n",
        "inventario[\"Gorra\"] = 15\n",
        "\n",
        "print(\"\\nInventario Después de la adición de Gorra:\")\n",
        "for producto, cantidad in inventario.items():\n",
        "    print(f\"{producto}: {cantidad}\")\n",
        "\n",
        "# Eliminar un producto del inventario (e.g., Pantalones)\n",
        "del inventario[\"Pantalones\"]\n",
        "\n",
        "print(\"\\nInventario Después de la eliminación de Pantalones:\")\n",
        "for producto, cantidad in inventario.items():\n",
        "    print(f\"{producto}: {cantidad}\")\n",
        "\n",
        "print(\"\\nInventario final:\")\n",
        "for producto, cantidad in inventario.items():\n",
        "    print(f\"{producto}: {cantidad}\")\n"
      ]
    },
    {
      "cell_type": "markdown",
      "source": [
        "\n",
        "\n",
        "## Ejercicio 2: Procesamiento de Datos de Estudiantes\n",
        "\n",
        "Crea una lista de tuplas donde cada tupla contenga el nombre de un estudiante y su calificación en un examen.\n",
        "\n",
        "Usa un bucle for para mostrar todos los nombres y calificaciones.\n",
        "\n",
        "Calcula y muestra la calificación promedio.\n",
        "\n",
        "Encuentra y muestra la calificación más alta y la más baja.\n"
      ],
      "metadata": {
        "id": "ihL1XLoSEmHV"
      }
    },
    {
      "cell_type": "code",
      "source": [
        "# Creación de la lista de tuplas con nombres y calificaciones\n",
        "\n",
        "estudiantes = [(\"Juan\", 85), (\"María\", 92), (\"Pedro\", 78), (\"Ana\", 89), (\"Luis\", 95)]"
      ],
      "metadata": {
        "id": "Fqa5tk63ElmV"
      },
      "execution_count": 7,
      "outputs": []
    },
    {
      "cell_type": "code",
      "source": [
        "# Mostrar todos los nombres y calificaciones\n",
        "for nombre, calificacion in estudiantes:\n",
        "    print(f\"{nombre}: {calificacion}\")"
      ],
      "metadata": {
        "colab": {
          "base_uri": "https://localhost:8080/"
        },
        "id": "URiT1HP4HpG2",
        "outputId": "24e38b51-b124-4e75-958f-7cecb06e5b72"
      },
      "execution_count": 9,
      "outputs": [
        {
          "output_type": "stream",
          "name": "stdout",
          "text": [
            "Juan: 85\n",
            "María: 92\n",
            "Pedro: 78\n",
            "Ana: 89\n",
            "Luis: 95\n"
          ]
        }
      ]
    },
    {
      "cell_type": "code",
      "source": [
        "# Calcular la calificación promedio\n",
        "suma_calificaciones = sum(calificacion for nombre, calificacion in estudiantes)\n",
        "promedio = suma_calificaciones / len(estudiantes)\n",
        "print(f\"nCalificación promedio: {promedio:.2f}\")"
      ],
      "metadata": {
        "colab": {
          "base_uri": "https://localhost:8080/"
        },
        "id": "ukvCxyRpHu_J",
        "outputId": "c58611ff-12a6-4091-e517-e0861c04cb10"
      },
      "execution_count": 10,
      "outputs": [
        {
          "output_type": "stream",
          "name": "stdout",
          "text": [
            "nCalificación promedio: 87.80\n"
          ]
        }
      ]
    },
    {
      "cell_type": "code",
      "source": [
        "# Encontrar la calificación más alta y más baja\n",
        "calificaciones = [calificacion for nombre, calificacion in estudiantes]\n",
        "calificacion_maxima = max(calificaciones)\n",
        "calificacion_minima = min(calificaciones)\n",
        "print(f\"Calificación más alta: {calificacion_maxima}\")\n",
        "print(f\"Calificación más baja: {calificacion_minima}\")"
      ],
      "metadata": {
        "colab": {
          "base_uri": "https://localhost:8080/"
        },
        "id": "YE3m5OfiIf6y",
        "outputId": "8bf3d7a6-7d51-4c1d-fd34-12f2825a246b"
      },
      "execution_count": 11,
      "outputs": [
        {
          "output_type": "stream",
          "name": "stdout",
          "text": [
            "Calificación más alta: 95\n",
            "Calificación más baja: 78\n"
          ]
        }
      ]
    },
    {
      "cell_type": "markdown",
      "source": [
        "### Ejercicio 3: Registro de Ventas\n",
        "\n",
        "Crea un diccionario donde las claves sean los nombres de los vendedores y los valores sean listas de ventas realizadas por cada vendedor en una semana.\n",
        "Usa un bucle for para mostrar el total de ventas de cada vendedor.\n",
        "Calcula y muestra el vendedor con el mayor total de ventas."
      ],
      "metadata": {
        "id": "68_aTlqnInwq"
      }
    },
    {
      "cell_type": "code",
      "source": [
        "# Creación del diccionario de ventas\n",
        "ventas = {\n",
        "    \"Carlos\": [100, 200, 150, 300, 250, 400, 350],\n",
        "    \"María\": [200, 300, 250, 350, 300, 450, 500],\n",
        "    \"Luis\": [150, 250, 200, 300, 350, 400, 450],\n",
        "    \"Ana\": [300, 350, 400, 450, 500, 550, 600]\n",
        "}\n"
      ],
      "metadata": {
        "id": "RwsYy8QiIr-1"
      },
      "execution_count": 13,
      "outputs": []
    },
    {
      "cell_type": "code",
      "source": [
        "# Mostrar el total de ventas de cada vendedor\n",
        "for vendedor, lista_ventas in ventas.items():\n",
        "    total_ventas = sum(lista_ventas)\n",
        "    print(f\"{vendedor}: {total_ventas}\")"
      ],
      "metadata": {
        "colab": {
          "base_uri": "https://localhost:8080/"
        },
        "id": "xHSGSi-sI1X9",
        "outputId": "828a3269-2c69-4b52-d303-40a8bf14047c"
      },
      "execution_count": 15,
      "outputs": [
        {
          "output_type": "stream",
          "name": "stdout",
          "text": [
            "Carlos: 1750\n",
            "María: 2350\n",
            "Luis: 2100\n",
            "Ana: 3150\n"
          ]
        }
      ]
    },
    {
      "cell_type": "code",
      "source": [
        "# Calcular y mostrar el vendedor con el mayor total de ventas\n",
        "ventas_totales = {vendedor: sum(lista_ventas) for vendedor, lista_ventas in ventas.items()}\n",
        "vendedor_maximo = max(ventas_totales, key=ventas_totales.get)\n",
        "print(f\"nVendedor con el mayor total de ventas: {vendedor_maximo} con {ventas_totales[vendedor_maximo]} ventas\")"
      ],
      "metadata": {
        "colab": {
          "base_uri": "https://localhost:8080/"
        },
        "id": "rbQazBDxI_JH",
        "outputId": "41adc7b0-ae79-4fe0-9cf0-3b0fa699ea47"
      },
      "execution_count": 17,
      "outputs": [
        {
          "output_type": "stream",
          "name": "stdout",
          "text": [
            "nVendedor con el mayor total de ventas: Ana con 3150 ventas\n"
          ]
        }
      ]
    },
    {
      "cell_type": "markdown",
      "source": [
        "https://www.youtube.com/watch?v=F19tasIOYoE\n",
        "\n",
        "Este es un video para comprender mejor el tema de comprensión de diccionarios."
      ],
      "metadata": {
        "id": "hZreLW1lPP01"
      }
    }
  ]
}