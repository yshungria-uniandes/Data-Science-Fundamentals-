{
  "nbformat": 4,
  "nbformat_minor": 0,
  "metadata": {
    "colab": {
      "provenance": [],
      "authorship_tag": "ABX9TyOr0Osnb9HwBOB5hbpuXC/D",
      "include_colab_link": true
    },
    "kernelspec": {
      "name": "python3",
      "display_name": "Python 3"
    },
    "language_info": {
      "name": "python"
    }
  },
  "cells": [
    {
      "cell_type": "markdown",
      "metadata": {
        "id": "view-in-github",
        "colab_type": "text"
      },
      "source": [
        "<a href=\"https://colab.research.google.com/github/yshungria-uniandes/Data-Science-Fundamentals-/blob/main/Aplicaci%C3%B3n_de_Funciones_con_el_M%C3%A9todo_apply_en_Pandas.ipynb\" target=\"_parent\"><img src=\"https://colab.research.google.com/assets/colab-badge.svg\" alt=\"Open In Colab\"/></a>"
      ]
    },
    {
      "cell_type": "markdown",
      "source": [
        "# Aplicación de Funciones con el Método apply en Pandas\n",
        "\n",
        "\n",
        "El método apply de Pandas es una herramienta extremadamente poderosa y versátil que permite a los usuarios aplicar funciones personalizadas a las filas o columnas de un DataFrame. Este capítulo explorará en profundidad el uso del método apply, su importancia, sus aplicaciones comunes y algunos ejemplos prácticos para ilustrar su uso.\n",
        "\n",
        "\n",
        "\n",
        "## Introducción al Método apply\n",
        "\n",
        "El método apply en Pandas permite aplicar una función a lo largo de un eje del DataFrame (filas o columnas). Este método es especialmente útil cuando se necesita realizar operaciones más complejas que las proporcionadas por las funciones de agregación estándar como sum, mean, count, etc.\n",
        "\n",
        "\n",
        "\n",
        "## Sintaxis Básica\n",
        "\n",
        "La sintaxis básica del método apply es:\n",
        "\n",
        "`DataFrame.apply(func, axis=0, raw=False, result_type=None, args=(), **kwds)`\n",
        "\n",
        "func: La función que se va a aplicar.\n",
        "\n",
        "axis: El eje a lo largo del cual se aplica la función (0 para columnas, 1 para filas).\n",
        "\n",
        "raw: Si es True, la función se aplica a los valores de la matriz, en lugar de a los Series.\n",
        "\n",
        "result_type: Puede ser ‘expand’, ‘reduce’, ‘broadcast’, o None.\n",
        "\n",
        "args y **kwds: Argumentos y palabras clave adicionales que se pasan a la función.\n",
        "\n",
        "\n",
        "## Importancia del Método apply\n",
        "\n",
        "El método apply es fundamental para varias tareas en el análisis de datos debido a su flexibilidad:\n",
        "\n",
        "Personalización: Permite aplicar funciones personalizadas que no están disponibles en las funciones de agregación estándar.\n",
        "\n",
        "Versatilidad: Puede utilizarse para transformar, filtrar, y agregar datos de maneras muy específicas.\n",
        "\n",
        "Compatibilidad: Funciona bien con otras funciones y métodos de Pandas, lo que facilita la integración en pipelines de datos complejos.\n",
        ""
      ],
      "metadata": {
        "id": "9v7u8upiEcGM"
      }
    },
    {
      "cell_type": "markdown",
      "source": [
        "## Aplicaciones Comunes del Método apply\n",
        "\n",
        "1. Aplicación de Funciones a Columnas: Ejemplo: Aplicar una Función Matemática a una Columna\n",
        "\n"
      ],
      "metadata": {
        "id": "V3rs0W6zFo7W"
      }
    },
    {
      "cell_type": "code",
      "execution_count": 1,
      "metadata": {
        "colab": {
          "base_uri": "https://localhost:8080/"
        },
        "id": "zXs96-FJEOLz",
        "outputId": "42532378-e9b2-45df-fbea-c220f538a5e8"
      },
      "outputs": [
        {
          "output_type": "stream",
          "name": "stdout",
          "text": [
            "   A   B  A_squared\n",
            "0  1  10          1\n",
            "1  2  20          4\n",
            "2  3  30          9\n",
            "3  4  40         16\n"
          ]
        }
      ],
      "source": [
        "import pandas as pd\n",
        "\n",
        "# Crear un DataFrame de ejemplo\n",
        "data = {\n",
        "    'A': [1, 2, 3, 4],\n",
        "    'B': [10, 20, 30, 40]\n",
        "}\n",
        "df = pd.DataFrame(data)\n",
        "\n",
        "# Aplicar una función a la columna 'A'\n",
        "df['A_squared'] = df['A'].apply(lambda x: x ** 2)\n",
        "print(df)"
      ]
    },
    {
      "cell_type": "code",
      "source": [],
      "metadata": {
        "id": "uMQ_kH-SFxIN"
      },
      "execution_count": null,
      "outputs": []
    }
  ]
}