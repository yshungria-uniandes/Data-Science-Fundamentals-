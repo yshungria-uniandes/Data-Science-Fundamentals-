{
  "nbformat": 4,
  "nbformat_minor": 0,
  "metadata": {
    "colab": {
      "provenance": [],
      "authorship_tag": "ABX9TyPcwtpAIXKhKVD0MImts5gO",
      "include_colab_link": true
    },
    "kernelspec": {
      "name": "python3",
      "display_name": "Python 3"
    },
    "language_info": {
      "name": "python"
    }
  },
  "cells": [
    {
      "cell_type": "markdown",
      "metadata": {
        "id": "view-in-github",
        "colab_type": "text"
      },
      "source": [
        "<a href=\"https://colab.research.google.com/github/yshungria-uniandes/Data-Science-Fundamentals-/blob/main/Limpieza_de_datos_y_manejo_de_datos_faltantes_(Nulos).ipynb\" target=\"_parent\"><img src=\"https://colab.research.google.com/assets/colab-badge.svg\" alt=\"Open In Colab\"/></a>"
      ]
    },
    {
      "cell_type": "markdown",
      "source": [
        "# Introducción\n",
        "\n",
        "La limpieza de datos es una de las etapas más cruciales en el proceso de análisis de datos. Un dataset limpio y bien estructurado es fundamental para obtener resultados precisos y confiables. Los datos faltantes, también conocidos como datos nulos, son uno de los problemas más comunes y desafiantes que enfrentan los científicos de datos. Este capítulo explorará la importancia de la limpieza de datos, diferentes técnicas para manejar datos faltantes y las mejores prácticas para garantizar la integridad y completitud de los datos.\n",
        "\n",
        "\n",
        "# Por qué es Crucial la Limpieza de Datos\n",
        "\n",
        "1. Calidad de los Resultados: Los datos sucios pueden llevar a resultados incorrectos y análisis sesgados. La calidad de las decisiones basadas en datos depende directamente de la calidad de los datos utilizados.\n",
        "\n",
        "2. Eficiencia del Modelo: Los algoritmos de machine learning y los modelos estadísticos funcionan mejor con datos limpios. Datos inconsistentes o incompletos pueden afectar el rendimiento y la precisión de los modelos.\n",
        "\n",
        "3. Integridad de los Datos: La limpieza de datos garantiza que los datos sean coherentes y válidos, lo que es esencial para mantener la integridad de la base de datos.\n",
        "\n",
        "4. Experiencia del Usuario: En aplicaciones y productos basados en datos, la experiencia del usuario mejora cuando los datos están bien estructurados y sin errores.\n",
        "\n",
        "\n",
        "# Completeness (Completitud)\n",
        "\n",
        "La completitud se refiere al estado en el que todos los datos necesarios están presentes en un dataset. Un dataset completo es aquel que no tiene datos faltantes o nulos. La falta de datos puede surgir por varias razones, como errores en la recolección de datos, problemas de transmisión de datos, o simplemente porque ciertos datos no están disponibles. La completitud es fundamental para asegurar que el análisis y las decisiones basadas en los datos sean precisos y representativos.\n",
        "\n",
        "\n",
        "\n",
        "## Tipos de Datos Faltantes\n",
        "\n",
        "1. MCAR (Missing Completely at Random): Los datos faltantes no están relacionados ni con las observaciones de la variable en sí ni con ninguna otra variable del dataset. Su ausencia es completamente aleatoria.\n",
        "\n",
        "2. MAR (Missing at Random): Los datos faltantes están relacionados con otras variables observadas en el dataset, pero no con la variable en sí.\n",
        "\n",
        "3. MNAR (Missing Not at Random): Los datos faltantes dependen de la variable misma, es decir, la ausencia de datos está relacionada con el valor de los datos que faltan.\n",
        "\n",
        "\n",
        "## Técnicas para Manejar Datos Faltantes"
      ],
      "metadata": {
        "id": "qiF-wTo59p0X"
      }
    },
    {
      "cell_type": "code",
      "execution_count": 1,
      "metadata": {
        "id": "SMyoBvnkveqc",
        "colab": {
          "base_uri": "https://localhost:8080/"
        },
        "outputId": "00906415-0aca-4042-d84c-f140e6304139"
      },
      "outputs": [
        {
          "output_type": "stream",
          "name": "stdout",
          "text": [
            "Mounted at /content/drive\n"
          ]
        }
      ],
      "source": [
        "# Google Drive\n",
        "from google.colab import drive\n",
        "drive.mount('/content/drive')"
      ]
    },
    {
      "cell_type": "markdown",
      "source": [
        "1. Identificación de Datos Faltantes: El primer paso en el manejo de datos faltantes es identificarlos. Pandas ofrece varias funciones para detectar datos nulos en un DataFrame.\n"
      ],
      "metadata": {
        "id": "whXM_45l-gHR"
      }
    },
    {
      "cell_type": "code",
      "source": [
        "import pandas as pd\n",
        "\n",
        "\n",
        "\n",
        "df = pd.read_csv('/content/drive/MyDrive/DataSets/ds_salaries.csv')\n",
        "\n",
        "# Identificar valores nulos en todo el DataFrame\n",
        "print(df.isnull().sum())"
      ],
      "metadata": {
        "colab": {
          "base_uri": "https://localhost:8080/"
        },
        "id": "nHu6WUNp-Rti",
        "outputId": "1f8ed070-accf-4ade-bb78-482a747c7911"
      },
      "execution_count": 2,
      "outputs": [
        {
          "output_type": "stream",
          "name": "stdout",
          "text": [
            "work_year             0\n",
            "experience_level      0\n",
            "employment_type       0\n",
            "job_title             0\n",
            "salary                0\n",
            "salary_currency       0\n",
            "salary_in_usd         0\n",
            "employee_residence    0\n",
            "remote_ratio          0\n",
            "company_location      0\n",
            "company_size          0\n",
            "dtype: int64\n"
          ]
        }
      ]
    },
    {
      "cell_type": "code",
      "source": [
        "# Identificar valores nulos en una columna específica\n",
        "\n",
        "print(df['salary_in_usd'].isnull().sum())"
      ],
      "metadata": {
        "colab": {
          "base_uri": "https://localhost:8080/"
        },
        "id": "bmYButABAuUY",
        "outputId": "d8ec9ca6-b302-42ed-b444-da9d3401d96f"
      },
      "execution_count": 4,
      "outputs": [
        {
          "output_type": "stream",
          "name": "stdout",
          "text": [
            "0\n"
          ]
        }
      ]
    },
    {
      "cell_type": "markdown",
      "source": [
        "2. Recuperar Datos con la Misma Columna: Cuando los datos faltantes están en una sola columna, una opción es recuperarlos utilizando otras entradas de la misma columna. Esto se puede hacer usando técnicas como la interpolación o el relleno hacia adelante y hacia atrás.\n",
        "\n",
        "## Interpolación\n",
        "\n",
        "La interpolación se utiliza para estimar valores faltantes utilizando valores conocidos a ambos lados del dato faltante.\n",
        "\n"
      ],
      "metadata": {
        "id": "SLcbx5KWBQrN"
      }
    },
    {
      "cell_type": "code",
      "source": [],
      "metadata": {
        "id": "9pJ22Qq_A2pK"
      },
      "execution_count": null,
      "outputs": []
    }
  ]
}