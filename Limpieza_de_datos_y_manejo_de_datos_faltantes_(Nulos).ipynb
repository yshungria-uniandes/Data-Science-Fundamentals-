{
  "nbformat": 4,
  "nbformat_minor": 0,
  "metadata": {
    "colab": {
      "provenance": [],
      "authorship_tag": "ABX9TyOSk/tmZ9MPdA5B+zB5j+Qq",
      "include_colab_link": true
    },
    "kernelspec": {
      "name": "python3",
      "display_name": "Python 3"
    },
    "language_info": {
      "name": "python"
    }
  },
  "cells": [
    {
      "cell_type": "markdown",
      "metadata": {
        "id": "view-in-github",
        "colab_type": "text"
      },
      "source": [
        "<a href=\"https://colab.research.google.com/github/yshungria-uniandes/Data-Science-Fundamentals-/blob/main/Limpieza_de_datos_y_manejo_de_datos_faltantes_(Nulos).ipynb\" target=\"_parent\"><img src=\"https://colab.research.google.com/assets/colab-badge.svg\" alt=\"Open In Colab\"/></a>"
      ]
    },
    {
      "cell_type": "markdown",
      "source": [
        "# Introducción\n",
        "\n",
        "La limpieza de datos es una de las etapas más cruciales en el proceso de análisis de datos. Un dataset limpio y bien estructurado es fundamental para obtener resultados precisos y confiables. Los datos faltantes, también conocidos como datos nulos, son uno de los problemas más comunes y desafiantes que enfrentan los científicos de datos. Este capítulo explorará la importancia de la limpieza de datos, diferentes técnicas para manejar datos faltantes y las mejores prácticas para garantizar la integridad y completitud de los datos.\n",
        "\n",
        "\n",
        "# Por qué es Crucial la Limpieza de Datos\n",
        "\n",
        "1. Calidad de los Resultados: Los datos sucios pueden llevar a resultados incorrectos y análisis sesgados. La calidad de las decisiones basadas en datos depende directamente de la calidad de los datos utilizados.\n",
        "\n",
        "2. Eficiencia del Modelo: Los algoritmos de machine learning y los modelos estadísticos funcionan mejor con datos limpios. Datos inconsistentes o incompletos pueden afectar el rendimiento y la precisión de los modelos.\n",
        "\n",
        "3. Integridad de los Datos: La limpieza de datos garantiza que los datos sean coherentes y válidos, lo que es esencial para mantener la integridad de la base de datos.\n",
        "\n",
        "4. Experiencia del Usuario: En aplicaciones y productos basados en datos, la experiencia del usuario mejora cuando los datos están bien estructurados y sin errores.\n",
        "\n",
        "\n",
        "# Completeness (Completitud)\n",
        "\n",
        "La completitud se refiere al estado en el que todos los datos necesarios están presentes en un dataset. Un dataset completo es aquel que no tiene datos faltantes o nulos. La falta de datos puede surgir por varias razones, como errores en la recolección de datos, problemas de transmisión de datos, o simplemente porque ciertos datos no están disponibles. La completitud es fundamental para asegurar que el análisis y las decisiones basadas en los datos sean precisos y representativos.\n",
        "\n",
        "\n",
        "\n",
        "## Tipos de Datos Faltantes\n",
        "\n",
        "1. MCAR (Missing Completely at Random): Los datos faltantes no están relacionados ni con las observaciones de la variable en sí ni con ninguna otra variable del dataset. Su ausencia es completamente aleatoria.\n",
        "\n",
        "2. MAR (Missing at Random): Los datos faltantes están relacionados con otras variables observadas en el dataset, pero no con la variable en sí.\n",
        "\n",
        "3. MNAR (Missing Not at Random): Los datos faltantes dependen de la variable misma, es decir, la ausencia de datos está relacionada con el valor de los datos que faltan.\n",
        "\n",
        "\n",
        "## Técnicas para Manejar Datos Faltantes"
      ],
      "metadata": {
        "id": "qiF-wTo59p0X"
      }
    },
    {
      "cell_type": "code",
      "execution_count": 1,
      "metadata": {
        "id": "SMyoBvnkveqc",
        "colab": {
          "base_uri": "https://localhost:8080/"
        },
        "outputId": "00906415-0aca-4042-d84c-f140e6304139"
      },
      "outputs": [
        {
          "output_type": "stream",
          "name": "stdout",
          "text": [
            "Mounted at /content/drive\n"
          ]
        }
      ],
      "source": [
        "# Google Drive\n",
        "from google.colab import drive\n",
        "drive.mount('/content/drive')"
      ]
    },
    {
      "cell_type": "markdown",
      "source": [
        "1. Identificación de Datos Faltantes: El primer paso en el manejo de datos faltantes es identificarlos. Pandas ofrece varias funciones para detectar datos nulos en un DataFrame.\n"
      ],
      "metadata": {
        "id": "whXM_45l-gHR"
      }
    },
    {
      "cell_type": "code",
      "source": [
        "import pandas as pd\n",
        "\n",
        "\n",
        "\n",
        "df = pd.read_csv('/content/drive/MyDrive/DataSets/ds_salaries.csv')\n",
        "\n",
        "# Identificar valores nulos en todo el DataFrame\n",
        "print(df.isnull().sum())"
      ],
      "metadata": {
        "colab": {
          "base_uri": "https://localhost:8080/"
        },
        "id": "nHu6WUNp-Rti",
        "outputId": "1f8ed070-accf-4ade-bb78-482a747c7911"
      },
      "execution_count": 2,
      "outputs": [
        {
          "output_type": "stream",
          "name": "stdout",
          "text": [
            "work_year             0\n",
            "experience_level      0\n",
            "employment_type       0\n",
            "job_title             0\n",
            "salary                0\n",
            "salary_currency       0\n",
            "salary_in_usd         0\n",
            "employee_residence    0\n",
            "remote_ratio          0\n",
            "company_location      0\n",
            "company_size          0\n",
            "dtype: int64\n"
          ]
        }
      ]
    },
    {
      "cell_type": "code",
      "source": [
        "# Identificar valores nulos en una columna específica\n",
        "\n",
        "print(df['salary_in_usd'].isnull().sum())"
      ],
      "metadata": {
        "colab": {
          "base_uri": "https://localhost:8080/"
        },
        "id": "bmYButABAuUY",
        "outputId": "d8ec9ca6-b302-42ed-b444-da9d3401d96f"
      },
      "execution_count": 4,
      "outputs": [
        {
          "output_type": "stream",
          "name": "stdout",
          "text": [
            "0\n"
          ]
        }
      ]
    },
    {
      "cell_type": "markdown",
      "source": [
        "2. Recuperar Datos con la Misma Columna: Cuando los datos faltantes están en una sola columna, una opción es recuperarlos utilizando otras entradas de la misma columna. Esto se puede hacer usando técnicas como la interpolación o el relleno hacia adelante y hacia atrás.\n",
        "\n",
        "## Interpolación\n",
        "\n",
        "La interpolación se utiliza para estimar valores faltantes utilizando valores conocidos a ambos lados del dato faltante.\n",
        "\n"
      ],
      "metadata": {
        "id": "SLcbx5KWBQrN"
      }
    },
    {
      "cell_type": "code",
      "source": [
        "# Rellenar valores nulos con interpolación\n",
        "df['salary_in_usd'] = df['salary_in_usd'].interpolate()\n",
        "\n",
        "print(df['salary_in_usd'].isnull().sum())"
      ],
      "metadata": {
        "colab": {
          "base_uri": "https://localhost:8080/"
        },
        "id": "9pJ22Qq_A2pK",
        "outputId": "9b5a7f0b-fbd4-4b8b-8b35-b5aa77f4c0ec"
      },
      "execution_count": 15,
      "outputs": [
        {
          "output_type": "stream",
          "name": "stdout",
          "text": [
            "0\n"
          ]
        }
      ]
    },
    {
      "cell_type": "markdown",
      "source": [
        "Relleno Hacia Adelante y Hacia Atrás\n",
        "\n",
        "El relleno hacia adelante (ffill) y el relleno hacia atrás (bfill) utilizan el valor anterior o posterior inmediato para llenar los datos faltantes."
      ],
      "metadata": {
        "id": "o3YZq1cbNlmb"
      }
    },
    {
      "cell_type": "code",
      "source": [
        "# prompt: # Rellenar valores nulos hacia adelante\n",
        "# # Rellenar valores nulos hacia atrás\n",
        "\n",
        "# Rellenar valores nulos hacia adelante\n",
        "df['salary_in_usd'] = df['salary_in_usd'].fillna(method='ffill')\n",
        "\n",
        "print(df['salary_in_usd'].isnull().sum())\n",
        "\n",
        "# Rellenar valores nulos hacia atrás\n",
        "df['salary_in_usd'] = df['salary_in_usd'].fillna(method='bfill')\n",
        "\n",
        "print(df['salary_in_usd'].isnull().sum())"
      ],
      "metadata": {
        "colab": {
          "base_uri": "https://localhost:8080/"
        },
        "id": "02JUwkU6Nzu1",
        "outputId": "0cd482e6-aaca-426f-e842-ecadab8a9148"
      },
      "execution_count": 16,
      "outputs": [
        {
          "output_type": "stream",
          "name": "stdout",
          "text": [
            "0\n",
            "0\n"
          ]
        },
        {
          "output_type": "stream",
          "name": "stderr",
          "text": [
            "<ipython-input-16-bf0d7dd3b3a3>:5: FutureWarning: Series.fillna with 'method' is deprecated and will raise in a future version. Use obj.ffill() or obj.bfill() instead.\n",
            "  df['salary_in_usd'] = df['salary_in_usd'].fillna(method='ffill')\n",
            "<ipython-input-16-bf0d7dd3b3a3>:10: FutureWarning: Series.fillna with 'method' is deprecated and will raise in a future version. Use obj.ffill() or obj.bfill() instead.\n",
            "  df['salary_in_usd'] = df['salary_in_usd'].fillna(method='bfill')\n"
          ]
        }
      ]
    },
    {
      "cell_type": "markdown",
      "source": [
        "3. Recuperar Datos con Otras Columnas:Otra técnica para manejar datos faltantes es usar la información de otras columnas que puedan estar relacionadas con la columna con datos faltantes"
      ],
      "metadata": {
        "id": "Xs00_0B5OEy0"
      }
    },
    {
      "cell_type": "markdown",
      "source": [
        "## Regresión\n",
        "\n",
        "Puedes utilizar técnicas de regresión para predecir los valores faltantes basados en otras variables del dataset.\n",
        "\n"
      ],
      "metadata": {
        "id": "ZDLEVz9oOKso"
      }
    },
    {
      "cell_type": "code",
      "source": [
        "import pandas as pd\n",
        "from sklearn.linear_model import LinearRegression\n",
        "from sklearn.model_selection import train_test_split\n",
        "\n",
        "# Crear un modelo de regresión lineal\n",
        "model = LinearRegression()\n",
        "\n",
        "# Filtrar filas sin valores nulos en las columnas relevantes\n",
        "train_data = df.dropna(subset=['salary_in_usd', 'work_year'])\n",
        "\n",
        "# Separar las características (X) y el objetivo (y) para el entrenamiento\n",
        "X_train = train_data[['work_year']]\n",
        "y_train = train_data['salary_in_usd']\n",
        "\n",
        "# Entrenar el modelo\n",
        "model.fit(X_train, y_train)\n",
        "\n",
        "# Identificar las filas con valores nulos en 'salary_in_usd'\n",
        "missing_data = df[df['salary_in_usd'].isnull()]\n",
        "\n",
        "# Verificar que hay datos faltantes para predecir\n",
        "if not missing_data.empty:\n",
        "    # Extraer las características para las predicciones\n",
        "    X_missing = missing_data[['work_year']]\n",
        "\n",
        "    # Realizar las predicciones y asignarlas a la columna correspondiente\n",
        "    df.loc[df['salary_in_usd'].isnull(), 'salary_in_usd'] = model.predict(X_missing)\n",
        "\n",
        "# Imprimir una muestra del DataFrame para confirmar los resultados\n",
        "print(df.head())\n"
      ],
      "metadata": {
        "colab": {
          "base_uri": "https://localhost:8080/"
        },
        "id": "iGewR1yFN3dT",
        "outputId": "93c079fc-2fa4-44a2-c950-d47011979035"
      },
      "execution_count": 23,
      "outputs": [
        {
          "output_type": "stream",
          "name": "stdout",
          "text": [
            "   work_year experience_level employment_type                 job_title  \\\n",
            "0       2023               SE              FT  Principal Data Scientist   \n",
            "1       2023               MI              CT               ML Engineer   \n",
            "2       2023               MI              CT               ML Engineer   \n",
            "3       2023               SE              FT            Data Scientist   \n",
            "4       2023               SE              FT            Data Scientist   \n",
            "\n",
            "   salary salary_currency  salary_in_usd employee_residence  remote_ratio  \\\n",
            "0   80000             EUR          85847                 ES           100   \n",
            "1   30000             USD          30000                 US           100   \n",
            "2   25500             USD          25500                 US           100   \n",
            "3  175000             USD         175000                 CA           100   \n",
            "4  120000             USD         120000                 CA           100   \n",
            "\n",
            "  company_location company_size  experience_level_numeric  \n",
            "0               ES            L                         3  \n",
            "1               US            S                         2  \n",
            "2               US            S                         2  \n",
            "3               CA            M                         3  \n",
            "4               CA            M                         3  \n"
          ]
        }
      ]
    },
    {
      "cell_type": "markdown",
      "source": [
        "## Valores Estadísticos\n",
        "\n",
        "El uso de estadísticas como la media, la mediana o la moda puede ser útil para llenar valores faltantes, especialmente en grandes datasets donde estas métricas pueden representar bien los datos.\n",
        "\n"
      ],
      "metadata": {
        "id": "5WGoOb9LSJp8"
      }
    },
    {
      "cell_type": "code",
      "source": [
        "# Rellenar valores nulos con la media de la columna\n",
        "df['salary_in_usd'] = df['salary_in_usd'].fillna(df['salary_in_usd'].mean())\n",
        "\n",
        "print(df['salary_in_usd'].isnull().sum())\n",
        "\n",
        "# Rellenar valores nulos con la mediana de la columna\n",
        "df['salary_in_usd'] = df['salary_in_usd'].fillna(df['salary_in_usd'].median())\n",
        "\n",
        "print(df['salary_in_usd'].isnull().sum())\n",
        "\n",
        "# Rellenar valores nulos con la moda de la columna\n",
        "df['salary_in_usd'] = df['salary_in_usd'].fillna(df['salary_in_usd'].mode()[0])\n",
        "\n",
        "print(df['salary_in_usd'].isnull().sum())\n",
        "\n",
        ""
      ],
      "metadata": {
        "colab": {
          "base_uri": "https://localhost:8080/"
        },
        "id": "qPz31qXYOP--",
        "outputId": "18306cbd-c3af-46a1-dd73-5458822609d4"
      },
      "execution_count": 26,
      "outputs": [
        {
          "output_type": "stream",
          "name": "stdout",
          "text": [
            "0\n",
            "0\n",
            "0\n"
          ]
        }
      ]
    },
    {
      "cell_type": "markdown",
      "source": [
        "\n",
        "## Eliminación de Datos Faltantes\n",
        "\n",
        "La eliminación de datos faltantes debe ser la última opción y usarse con precaución, ya que puede llevar a la pérdida de información valiosa. Sin embargo, en algunos casos, es necesario eliminar filas o columnas completas si el porcentaje de datos faltantes es muy alto y no hay otra manera de recuperarlos.\n",
        "\n",
        "## Eliminación de Filas con Datos Faltantes\n",
        "\n",
        "1. Puedes eliminar filas que contienen datos faltantes usando el método dropna()."
      ],
      "metadata": {
        "id": "ebpPLbwoSjIq"
      }
    },
    {
      "cell_type": "code",
      "source": [
        "# Eliminar filas con datos faltantes\n",
        "df = df.dropna()\n",
        "\n",
        "print(df.isnull().sum())"
      ],
      "metadata": {
        "colab": {
          "base_uri": "https://localhost:8080/"
        },
        "id": "RBOCj-2ySU17",
        "outputId": "0c747476-53bd-49d3-cd3b-40ecdcc4bd7b"
      },
      "execution_count": 27,
      "outputs": [
        {
          "output_type": "stream",
          "name": "stdout",
          "text": [
            "work_year                   0\n",
            "experience_level            0\n",
            "employment_type             0\n",
            "job_title                   0\n",
            "salary                      0\n",
            "salary_currency             0\n",
            "salary_in_usd               0\n",
            "employee_residence          0\n",
            "remote_ratio                0\n",
            "company_location            0\n",
            "company_size                0\n",
            "experience_level_numeric    0\n",
            "dtype: int64\n"
          ]
        }
      ]
    },
    {
      "cell_type": "markdown",
      "source": [
        "2. Eliminación de Columnas con Datos Faltantes\n",
        "\n",
        "Si una columna tiene un porcentaje muy alto de datos faltantes y no es posible recuperarlos de manera efectiva, puedes eliminar la columna completa."
      ],
      "metadata": {
        "id": "IxF33cAKS8Sp"
      }
    },
    {
      "cell_type": "code",
      "source": [
        "# Eliminar columnas con datos faltantes\n",
        "df = df.drop(columns=['columna'])"
      ],
      "metadata": {
        "id": "_ESTNbsRS4Km"
      },
      "execution_count": null,
      "outputs": []
    },
    {
      "cell_type": "markdown",
      "source": [
        "## Consideraciones y Mejores Prácticas\n",
        "\n",
        "1. Evaluación del Impacto: Antes de tomar cualquier acción, evalúa el impacto de los datos faltantes en tu análisis. ¿Cuántas filas o columnas tienen datos faltantes? ¿Cuál es el porcentaje de datos faltantes?\n",
        "\n",
        "2. Priorización de Técnicas: No todas las técnicas son adecuadas para todos los tipos de datos faltantes. Prioriza las técnicas que preservan la mayor cantidad de información posible.\n",
        "\n",
        "3. Documentación: Documenta cualquier técnica utilizada para manejar datos faltantes. Esto es crucial para reproducibilidad y transparencia en el análisis.\n",
        "\n",
        "4. Completitud: Evalúa regularmente la completitud de tus datos. Un dataset completo es más valioso y útil para análisis precisos y modelos predictivos confiables.\n"
      ],
      "metadata": {
        "id": "Bd5z_RFETh6o"
      }
    }
  ]
}