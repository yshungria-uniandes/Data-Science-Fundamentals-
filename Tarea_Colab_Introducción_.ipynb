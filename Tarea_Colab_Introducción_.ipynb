{
  "nbformat": 4,
  "nbformat_minor": 0,
  "metadata": {
    "colab": {
      "provenance": [],
      "authorship_tag": "ABX9TyOJG46vPo5cHwwLDEY/eOPG",
      "include_colab_link": true
    },
    "kernelspec": {
      "name": "python3",
      "display_name": "Python 3"
    },
    "language_info": {
      "name": "python"
    }
  },
  "cells": [
    {
      "cell_type": "markdown",
      "metadata": {
        "id": "view-in-github",
        "colab_type": "text"
      },
      "source": [
        "<a href=\"https://colab.research.google.com/github/yshungria-uniandes/Data-Science-Fundamentals-/blob/main/Tarea_Colab_Introducci%C3%B3n_.ipynb\" target=\"_parent\"><img src=\"https://colab.research.google.com/assets/colab-badge.svg\" alt=\"Open In Colab\"/></a>"
      ]
    },
    {
      "cell_type": "markdown",
      "source": [
        "# Tarea: Introducción a Google Colaboratory y Python Básico\n",
        "\n",
        "**Nombre:**  Yojan Stiben Hungría"
      ],
      "metadata": {
        "id": "lUz5HoxEd9-2"
      }
    },
    {
      "cell_type": "code",
      "source": [
        "# Asigna el valor de 10 a la variable a\n",
        "a = 10\n",
        "\n",
        "# Asigna el valor de 20 a la variable b\n",
        "b = 20\n",
        "\n",
        "# Calcula la suma de a y b\n",
        "suma = a + b\n",
        "\n",
        "# Imprime el resultado\n",
        "print('La suma de a y b es:', suma)"
      ],
      "metadata": {
        "colab": {
          "base_uri": "https://localhost:8080/"
        },
        "id": "26Ngy9aEeRaS",
        "outputId": "95f46157-a6af-4685-c587-170862b799c7"
      },
      "execution_count": null,
      "outputs": [
        {
          "output_type": "stream",
          "name": "stdout",
          "text": [
            "La suma de a y b es: 30\n"
          ]
        }
      ]
    },
    {
      "cell_type": "markdown",
      "source": [
        "## Uso de Funciones"
      ],
      "metadata": {
        "id": "rbc-xbtee7no"
      }
    },
    {
      "cell_type": "code",
      "source": [
        "# Definición de la función\n",
        "def sumar(a, b):\n",
        "    return a + b\n",
        "\n",
        "# Llamada a la función\n",
        "resultado1 = sumar(10, 20)\n",
        "resultado2 = sumar(5, 7)\n",
        "\n",
        "# Imprimir el resultado\n",
        "print('El resultado de la suma 10 y 20 es:', resultado1)\n",
        "print('El resultado de la suma 5 y 7 es:', resultado2)\n"
      ],
      "metadata": {
        "colab": {
          "base_uri": "https://localhost:8080/"
        },
        "id": "3kxIIqjre08n",
        "outputId": "5b0ee07c-a072-4b2e-e0d1-2cbe2ad5ff31"
      },
      "execution_count": null,
      "outputs": [
        {
          "output_type": "stream",
          "name": "stdout",
          "text": [
            "El resultado de la suma 10 y 20 es: 30\n",
            "El resultado de la suma 5 y 7 es: 12\n"
          ]
        }
      ]
    },
    {
      "cell_type": "markdown",
      "source": [
        "## Conclusión\n",
        "\n",
        "En esta tarea, aprendí a usar Google Colaboratory para escribir y ejecutar código en Python. También repasé algunas operaciones matemáticas básicas y cómo definir y utilizar funciones en Python."
      ],
      "metadata": {
        "id": "0JH9QPXtffZl"
      }
    }
  ]
}