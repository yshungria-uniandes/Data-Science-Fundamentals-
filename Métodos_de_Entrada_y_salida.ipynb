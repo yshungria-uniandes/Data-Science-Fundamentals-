{
  "nbformat": 4,
  "nbformat_minor": 0,
  "metadata": {
    "colab": {
      "provenance": [],
      "authorship_tag": "ABX9TyNNCE7z1CGqRJuBPw3COrS9",
      "include_colab_link": true
    },
    "kernelspec": {
      "name": "python3",
      "display_name": "Python 3"
    },
    "language_info": {
      "name": "python"
    }
  },
  "cells": [
    {
      "cell_type": "markdown",
      "metadata": {
        "id": "view-in-github",
        "colab_type": "text"
      },
      "source": [
        "<a href=\"https://colab.research.google.com/github/yshungria-uniandes/Data-Science-Fundamentals-/blob/main/M%C3%A9todos_de_Entrada_y_salida.ipynb\" target=\"_parent\"><img src=\"https://colab.research.google.com/assets/colab-badge.svg\" alt=\"Open In Colab\"/></a>"
      ]
    },
    {
      "cell_type": "code",
      "execution_count": 3,
      "metadata": {
        "colab": {
          "base_uri": "https://localhost:8080/"
        },
        "id": "4FeNaygN3nKL",
        "outputId": "35713483-14fe-47c7-cefc-5064a81072a0"
      },
      "outputs": [
        {
          "output_type": "stream",
          "name": "stdout",
          "text": [
            "Bienvenidos a nuestro bootcamp\n"
          ]
        }
      ],
      "source": [
        "print(\"Bienvenidos a nuestro bootcamp\")"
      ]
    },
    {
      "cell_type": "code",
      "source": [
        "nombre = 'Yojan'\n",
        "edad = 25\n",
        "print(\"Nombre:\", nombre, \"Edad:\", edad)"
      ],
      "metadata": {
        "colab": {
          "base_uri": "https://localhost:8080/"
        },
        "id": "gIKJICBU3x0Y",
        "outputId": "8c8f990e-999f-4cb6-eb76-08b4e1cce761"
      },
      "execution_count": 18,
      "outputs": [
        {
          "output_type": "stream",
          "name": "stdout",
          "text": [
            "Nombre: Yojan Edad: 25\n"
          ]
        }
      ]
    },
    {
      "cell_type": "code",
      "source": [
        "print(f\"Nombre: {nombre} Edad: {edad}\")"
      ],
      "metadata": {
        "colab": {
          "base_uri": "https://localhost:8080/"
        },
        "id": "Z_uOOg1I4IbW",
        "outputId": "2473bf0c-dba4-42ee-a006-45c63afc5e7b"
      },
      "execution_count": 9,
      "outputs": [
        {
          "output_type": "stream",
          "name": "stdout",
          "text": [
            "Nombre: Yojan Edad: 25\n"
          ]
        }
      ]
    },
    {
      "cell_type": "code",
      "source": [
        "print(\"Nombre: {} Edad: {}\".format(nombre, edad))"
      ],
      "metadata": {
        "colab": {
          "base_uri": "https://localhost:8080/"
        },
        "id": "skkVRfrB4QlN",
        "outputId": "7aefefbb-e349-4ffa-ff2b-2c0d935f3870"
      },
      "execution_count": 11,
      "outputs": [
        {
          "output_type": "stream",
          "name": "stdout",
          "text": [
            "Nombre: Yojan Edad: 25\n"
          ]
        }
      ]
    },
    {
      "cell_type": "markdown",
      "source": [
        "## Método pprint\n",
        "\n",
        "El método pprint (pretty print) del módulo pprint se utiliza para imprimir estructuras de datos complejas de manera más legible. Esto es particularmente útil para listas y diccionarios anidados.\n",
        "\n",
        "### Parámetros de pprint\n",
        "\n",
        "El método pprint permite ajustar la anchura de la salida y el nivel de anidamiento:\n",
        "\n",
        "```\n",
        "pprint(datos, width=40, depth=2)\n",
        "\n",
        "```\n",
        "Este ajuste limita la anchura de cada línea a 40 caracteres y el nivel de anidamiento a 2 niveles, haciendo la salida aún más legible en ciertos casos.\n",
        "\n",
        "El resultado será una salida más organizada y legible así:\n",
        "\n"
      ],
      "metadata": {
        "id": "qddUM09a853h"
      }
    },
    {
      "cell_type": "code",
      "source": [
        "from pprint import pprint\n",
        "# pprint(dir(nombre))\n",
        "datos = {\n",
        "    \"nombre\": \"Yojan\",\n",
        "    \"edad\": 25,\n",
        "    \"cursos\": [\"Python\", \"Django\", \"JavaScript\", \"React\", \"SQLAlchemy\", \"Flask\"],\n",
        "    \"hobbies\": [\"Leer\", \"dormir\", \"Programar\", \"Aprender idiomas\"],\n",
        "    \"educacion\": {\n",
        "        \"primaria\": \"Colegio Bachilleraro Patía\",\n",
        "        \"secundaria\": \"Colegio Bachilleraro Patía\",\n",
        "        \"universidad\": \"Universidad Nacional de Colombia\",\n",
        "        \"carrera\": \"Ingeniería de Sistemas Computacionales\",\n",
        "        \"promedio\": 4.0,\n",
        "        \"semestre\": 10\n",
        "    }\n",
        "}\n",
        "\n",
        "\n",
        "pprint(datos, width=40, depth=2)\n"
      ],
      "metadata": {
        "colab": {
          "base_uri": "https://localhost:8080/"
        },
        "id": "sXtb3Tqs4V19",
        "outputId": "3a449d64-99eb-4def-f3b4-a5fc352a272f"
      },
      "execution_count": 21,
      "outputs": [
        {
          "output_type": "stream",
          "name": "stdout",
          "text": [
            "{'cursos': ['Python',\n",
            "            'Django',\n",
            "            'JavaScript',\n",
            "            'React',\n",
            "            'SQLAlchemy',\n",
            "            'Flask'],\n",
            " 'edad': 25,\n",
            " 'educacion': {'carrera': 'Ingeniería '\n",
            "                          'de Sistemas '\n",
            "                          'Computacionales',\n",
            "               'primaria': 'Colegio '\n",
            "                           'Bachilleraro '\n",
            "                           'Patía',\n",
            "               'promedio': 4.0,\n",
            "               'secundaria': 'Colegio '\n",
            "                             'Bachilleraro '\n",
            "                             'Patía',\n",
            "               'semestre': 10,\n",
            "               'universidad': 'Universidad '\n",
            "                              'Nacional '\n",
            "                              'de '\n",
            "                              'Colombia'},\n",
            " 'hobbies': ['Leer',\n",
            "             'dormir',\n",
            "             'Programar',\n",
            "             'Aprender idiomas'],\n",
            " 'nombre': 'Yojan'}\n"
          ]
        }
      ]
    },
    {
      "cell_type": "markdown",
      "source": [
        "## Conversión de tipos\n",
        "\n",
        "La entrada de input siempre es una cadena, por lo que si necesitas un número, deberás convertirlo.\n",
        "\n",
        "Si el usuario ingresa algo que no puede convertirse a un número, el programa generará un error, por lo que es buena práctica manejar las excepciones:"
      ],
      "metadata": {
        "id": "8RF8Oep5-wHX"
      }
    },
    {
      "source": [
        "while True:\n",
        "    edad = input('Ingrese su edad: ')\n",
        "    if edad.isdigit():\n",
        "        edad = int(edad)\n",
        "        break\n",
        "    else:\n",
        "        print('El valor ingresado no es un número válido. Por favor, ingrese un número entero.')\n",
        "\n",
        "try:\n",
        "    if edad >= 18:\n",
        "        print(f'El usuario tiene {edad} años y es mayor de edad')\n",
        "    else:\n",
        "        print(f'El usuario tiene {edad} años y es menor de edad')\n",
        "except ValueError:\n",
        "    print('El valor ingresado no es un número')"
      ],
      "cell_type": "code",
      "metadata": {
        "colab": {
          "base_uri": "https://localhost:8080/"
        },
        "id": "NXzKxEHx-W39",
        "outputId": "838ecdae-fe40-426a-a6d4-4372287e2cff"
      },
      "execution_count": 42,
      "outputs": [
        {
          "output_type": "stream",
          "name": "stdout",
          "text": [
            "Ingrese su edad: fff\n",
            "El valor ingresado no es un número válido. Por favor, ingrese un número entero.\n",
            "Ingrese su edad: 32\n",
            "El usuario tiene 32 años y es mayor de edad\n"
          ]
        }
      ]
    },
    {
      "cell_type": "markdown",
      "source": [
        "## Método Input\n",
        "\n",
        "El método input se utiliza para capturar la entrada del usuario. Esta función espera a que el usuario ingrese datos y luego devuelve lo que se haya escrito como una cadena de texto.\n"
      ],
      "metadata": {
        "id": "4u2dRPS09qUW"
      }
    },
    {
      "cell_type": "code",
      "source": [
        "nombre = input('Ingrese su nombre: ')\n",
        "print(f'Hola estimado {nombre}, gusto en saludarte')"
      ],
      "metadata": {
        "colab": {
          "base_uri": "https://localhost:8080/"
        },
        "id": "zuGF9IAY7sOe",
        "outputId": "906f26d3-fcef-41d3-c84d-eab748c98647"
      },
      "execution_count": 32,
      "outputs": [
        {
          "output_type": "stream",
          "name": "stdout",
          "text": [
            "Ingrese su nombre: Yojan\n",
            "Hola estimado Yojan, gusto en saludarte\n"
          ]
        }
      ]
    },
    {
      "cell_type": "code",
      "source": [
        "nombre = \"Juan\"\n",
        "edad = 30\n",
        "print(\"Nombre:\", nombre, \"Edad:\", edad, sep=\" - \")"
      ],
      "metadata": {
        "colab": {
          "base_uri": "https://localhost:8080/"
        },
        "id": "uFB_kx5c8SHf",
        "outputId": "e7a348a4-7501-4124-f048-2bb292d704ba"
      },
      "execution_count": 35,
      "outputs": [
        {
          "output_type": "stream",
          "name": "stdout",
          "text": [
            "Nombre: - Juan - Edad: - 30\n"
          ]
        }
      ]
    },
    {
      "cell_type": "code",
      "source": [
        "print(\"Hola\", end=\" \")\n",
        "print(\"Mundo!\")"
      ],
      "metadata": {
        "colab": {
          "base_uri": "https://localhost:8080/"
        },
        "id": "R_TLPbtC8jc9",
        "outputId": "c4ccbca5-eac9-4cfc-b4ac-d44d9980ebad"
      },
      "execution_count": 38,
      "outputs": [
        {
          "output_type": "stream",
          "name": "stdout",
          "text": [
            "Hola Mundo!\n"
          ]
        }
      ]
    },
    {
      "cell_type": "markdown",
      "source": [
        "## Cadenas y Métodos de Cadenas\n",
        "\n",
        "Las cadenas en Python son secuencias de caracteres. Python ofrece una amplia variedad de métodos para trabajar con cadenas. Vamos a explorar algunos de los métodos más comunes y útiles.\n",
        "\n",
        "### Concatenación de Cadenas\n",
        "\n",
        "Puedes concatenar (unir) cadenas utilizando el operador +:\n",
        "\n",
        "```\n",
        "saludo = \"Hola\"\n",
        "nombre = \"Juan\"\n",
        "mensaje = saludo + \" \" + nombre\n",
        "print(mensaje)\n",
        "```\n",
        "\n",
        "El resultado será:\n",
        "\n",
        "```\n",
        "Hola Juan\n",
        "```\n",
        "\n",
        "### Métodos de Cadenas\n",
        "* upper y lower : Estos métodos convierten una cadena a mayúsculas o minúsculas respectivamente.\n",
        "\n",
        "* len: Devuelve la longitud de una cadena.\n",
        "\n",
        "* strip, lstrip, rstrip: Estos métodos eliminan los espacios en blanco desde ambos extremos, el inicio o el final de una cadena.\n",
        "\n",
        "* split y join: split divide una cadena en una lista de subcadenas, y join une una lista de subcadenas en una sola cadena.\n",
        "\n",
        "* replace: Reemplaza una subcadena por otra.\n",
        "\n",
        "* find y index: Buscan una subcadena dentro de una cadena y devuelven la posición de su primer carácter. find devuelve -1 si no encuentra la subcadena, mientras que index genera una excepción.\n",
        "\n",
        "* startswith y endswith: Verifican si una cadena comienza o termina con una subcadena específica.\n",
        "\n",
        "* count: Cuenta el número de veces que una subcadena aparece en una cadena.\n",
        "\n",
        "\n"
      ],
      "metadata": {
        "id": "OXU5KKD0_GX1"
      }
    },
    {
      "cell_type": "code",
      "source": [
        "#1. Upper y lowe\n",
        "texto = \"Hola Mundo\"\n",
        "print(texto.upper())  # \"HOLA MUNDO\"\n",
        "print(texto.lower())  # \"hola mundo\"\n",
        "#2. len\n",
        "print(len(texto))  # 10\n",
        "texto = \"   Hola Mundo   \"\n",
        "#3. strip, lstrip y rstrip\n",
        "print(texto.strip())   # \"Hola Mundo\"\n",
        "print(texto.lstrip())  # \"Hola Mundo   \"\n",
        "print(texto.rstrip())  # \"   Hola Mundo\"\n",
        "#4. split\n",
        "texto = \"Hola, Mundo, Python\"\n",
        "lista = texto.split(\", \")  # ['Hola', 'Mundo', 'Python']\n",
        "print(lista)\n",
        "nuevo_texto = \" \".join(lista)\n",
        "print(nuevo_texto)  # \"Hola Mundo Python\"\n",
        "#5. replace\n",
        "texto = \"Hola Mundo\"\n",
        "nuevo_texto = texto.replace(\"Mundo\", \"Python\")\n",
        "print(nuevo_texto)  # \"Hola Python\"\n",
        "#6. find, index\n",
        "texto = \"Hola Mundo\"\n",
        "print(texto.find(\"Mundo\"))  # 5\n",
        "print(texto.index(\"Mundo\"))  # 5\n",
        "#7. startswith, endswith\n",
        "texto = \"Hola Mundo\"\n",
        "print(texto.startswith(\"Hola\"))  # True\n",
        "print(texto.endswith(\"Mundo\"))  # True\n",
        "#8. count\n",
        "texto = \"Hola Mundo Hola\"\n",
        "print(texto.count(\"Hola\"))  # 2"
      ],
      "metadata": {
        "colab": {
          "base_uri": "https://localhost:8080/"
        },
        "id": "6CMzfA-j8rLd",
        "outputId": "9ae38a4e-50d9-4063-f341-4156b3fd0ba2"
      },
      "execution_count": 43,
      "outputs": [
        {
          "output_type": "stream",
          "name": "stdout",
          "text": [
            "HOLA MUNDO\n",
            "hola mundo\n",
            "10\n",
            "Hola Mundo\n",
            "Hola Mundo   \n",
            "   Hola Mundo\n",
            "['Hola', 'Mundo', 'Python']\n",
            "Hola Mundo Python\n",
            "Hola Python\n",
            "5\n",
            "5\n",
            "True\n",
            "True\n",
            "2\n"
          ]
        }
      ]
    }
  ]
}