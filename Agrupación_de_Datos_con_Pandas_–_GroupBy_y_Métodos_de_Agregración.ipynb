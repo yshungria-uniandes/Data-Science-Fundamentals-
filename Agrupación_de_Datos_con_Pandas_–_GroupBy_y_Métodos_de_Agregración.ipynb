{
  "nbformat": 4,
  "nbformat_minor": 0,
  "metadata": {
    "colab": {
      "provenance": [],
      "authorship_tag": "ABX9TyM7sem8IfDqWfKSFgrcs4wy",
      "include_colab_link": true
    },
    "kernelspec": {
      "name": "python3",
      "display_name": "Python 3"
    },
    "language_info": {
      "name": "python"
    }
  },
  "cells": [
    {
      "cell_type": "markdown",
      "metadata": {
        "id": "view-in-github",
        "colab_type": "text"
      },
      "source": [
        "<a href=\"https://colab.research.google.com/github/yshungria-uniandes/Data-Science-Fundamentals-/blob/main/Agrupaci%C3%B3n_de_Datos_con_Pandas_%E2%80%93_GroupBy_y_M%C3%A9todos_de_Agregraci%C3%B3n.ipynb\" target=\"_parent\"><img src=\"https://colab.research.google.com/assets/colab-badge.svg\" alt=\"Open In Colab\"/></a>"
      ]
    },
    {
      "cell_type": "markdown",
      "source": [
        "# Agrupación de Datos con Pandas – GroupBy y Métodos de Agregración\n",
        "\n",
        "\n",
        "La agrupación de datos es una de las capacidades más poderosas y útiles que ofrece Pandas para el análisis de datos. El método groupby de Pandas permite dividir los datos en grupos basados en uno o más criterios, y luego aplicar funciones de agregación, transformación o filtrado a cada grupo individualmente. Este capítulo cubrirá en detalle el funcionamiento de groupby, sus aplicaciones, y métodos de agregación, junto con ejemplos prácticos para facilitar la comprensión.\n",
        "\n",
        "\n",
        "\n",
        "## La Teoría detrás de GroupBy (Concepto de Agrupación)\n",
        "\n",
        "Agrupar datos implica dividir un conjunto de datos en partes más pequeñas basadas en una o más características comunes. Este proceso facilita el análisis agregado y específico de cada grupo. Por ejemplo, en un conjunto de datos de ventas, podrías querer agrupar las ventas por producto, tienda o período de tiempo para analizar patrones específicos.\n",
        "\n",
        "\n",
        "\n",
        "## Etapas del GroupBy\n",
        "\n",
        "El proceso de groupby en Pandas generalmente implica tres etapas:\n",
        "\n",
        "División (Splitting): Dividir el DataFrame en grupos según un criterio dado.\n",
        "\n",
        "Aplicación (Applying): Aplicar una función a cada grupo de manera independiente.\n",
        "\n",
        "Combinación (Combining): Combinar los resultados de las funciones aplicadas en una estructura de datos.\n",
        "\n",
        "Este proceso se conoce como el «paradigma Split-Apply-Combine».\n",
        "\n",
        "\n",
        "\n",
        "## Uso Básico del Método groupby\n",
        "\n",
        "El método groupby de Pandas se utiliza para dividir un DataFrame en grupos según uno o más criterios y aplicar funciones de agregación a estos grupos. Sintaxis Básica:"
      ],
      "metadata": {
        "id": "uD4yXW4DFrnE"
      }
    },
    {
      "cell_type": "code",
      "execution_count": 1,
      "metadata": {
        "id": "WDtaDNFrFkW6"
      },
      "outputs": [],
      "source": [
        "import pandas as pd\n",
        "\n",
        "# Crear un DataFrame de ejemplo\n",
        "data = {\n",
        "    'Producto': ['Manzanas', 'Naranjas', 'Bananas', 'Manzanas', 'Naranjas', 'Bananas'],\n",
        "    'Ventas': [50, 30, 20, 60, 40, 30],\n",
        "    'Tienda': ['A', 'A', 'A', 'B', 'B', 'B']\n",
        "}\n",
        "df = pd.DataFrame(data)\n",
        "\n",
        "# Agrupar por columna 'Producto'\n",
        "grouped = df.groupby('Producto')"
      ]
    },
    {
      "cell_type": "code",
      "source": [
        "print(grouped)"
      ],
      "metadata": {
        "colab": {
          "base_uri": "https://localhost:8080/"
        },
        "id": "mESRIujvHjgY",
        "outputId": "5b3b3043-651a-439a-ca4c-ac08ff21868e"
      },
      "execution_count": 3,
      "outputs": [
        {
          "output_type": "stream",
          "name": "stdout",
          "text": [
            "<pandas.core.groupby.generic.DataFrameGroupBy object at 0x7ba3d0b6ad40>\n"
          ]
        }
      ]
    },
    {
      "cell_type": "markdown",
      "source": [
        "## Aplicaciones Comunes de groupby\n",
        "\n",
        "1. Agregación (Aggregation): La agregación implica aplicar una función que resuma los datos de cada grupo. Las funciones de agregación comunes incluyen sum, mean, count, min, max, etc.\n"
      ],
      "metadata": {
        "id": "WWYzkrfSH_rP"
      }
    },
    {
      "cell_type": "code",
      "source": [
        "# Suma de ventas por producto\n",
        "ventas_por_producto = grouped['Ventas'].sum()\n",
        "print(ventas_por_producto)\n",
        "\n",
        "# Promedio de ventas por producto\n",
        "promedio_ventas_por_producto = grouped['Ventas'].mean()\n",
        "print(promedio_ventas_por_producto)\n",
        "\n",
        "# Número de ventas por producto\n",
        "conteo_ventas_por_producto = grouped['Ventas'].count()\n",
        "print(conteo_ventas_por_producto)"
      ],
      "metadata": {
        "colab": {
          "base_uri": "https://localhost:8080/"
        },
        "id": "dXzsMVRnHowK",
        "outputId": "4eb8be74-a2ef-4c91-9521-cf1b71dbcb8b"
      },
      "execution_count": 4,
      "outputs": [
        {
          "output_type": "stream",
          "name": "stdout",
          "text": [
            "Producto\n",
            "Bananas      50\n",
            "Manzanas    110\n",
            "Naranjas     70\n",
            "Name: Ventas, dtype: int64\n",
            "Producto\n",
            "Bananas     25.0\n",
            "Manzanas    55.0\n",
            "Naranjas    35.0\n",
            "Name: Ventas, dtype: float64\n",
            "Producto\n",
            "Bananas     2\n",
            "Manzanas    2\n",
            "Naranjas    2\n",
            "Name: Ventas, dtype: int64\n"
          ]
        }
      ]
    },
    {
      "cell_type": "markdown",
      "source": [
        " 2. Transformación (Transformation): La transformación implica aplicar una función a cada elemento de un grupo, produciendo un DataFrame del mismo tamaño que el original. Las funciones de transformación comunes incluyen apply, transform, etc."
      ],
      "metadata": {
        "id": "8KKSPc9EKD6w"
      }
    },
    {
      "cell_type": "code",
      "source": [
        "# Calcular el porcentaje de ventas de cada producto en su tienda\n",
        "df['Porcentaje'] = grouped['Ventas'].transform(lambda x: x / x.sum() * 100)\n",
        "print(df)"
      ],
      "metadata": {
        "colab": {
          "base_uri": "https://localhost:8080/"
        },
        "id": "zfIolEJUIJHy",
        "outputId": "98e3cb24-1302-41a7-da33-06c27da2063c"
      },
      "execution_count": 5,
      "outputs": [
        {
          "output_type": "stream",
          "name": "stdout",
          "text": [
            "   Producto  Ventas Tienda  Porcentaje\n",
            "0  Manzanas      50      A   45.454545\n",
            "1  Naranjas      30      A   42.857143\n",
            "2   Bananas      20      A   40.000000\n",
            "3  Manzanas      60      B   54.545455\n",
            "4  Naranjas      40      B   57.142857\n",
            "5   Bananas      30      B   60.000000\n"
          ]
        }
      ]
    },
    {
      "cell_type": "markdown",
      "source": [
        "\n",
        "3. Filtrado (Filtering): El filtrado implica aplicar una condición a cada grupo y devolver un subconjunto del DataFrame que cumple con esa condición."
      ],
      "metadata": {
        "id": "6oE8e7XRK44B"
      }
    },
    {
      "cell_type": "code",
      "source": [
        "# Filtrar productos con ventas totales mayores a 50\n",
        "filtro = grouped.filter(lambda x: x['Ventas'].sum() > 50)\n",
        "print(filtro)"
      ],
      "metadata": {
        "colab": {
          "base_uri": "https://localhost:8080/"
        },
        "id": "HpDB0Wj3KZp7",
        "outputId": "965e5052-8b9b-49ca-fc68-1a7cf6c6794a"
      },
      "execution_count": 6,
      "outputs": [
        {
          "output_type": "stream",
          "name": "stdout",
          "text": [
            "   Producto  Ventas Tienda  Porcentaje\n",
            "0  Manzanas      50      A   45.454545\n",
            "1  Naranjas      30      A   42.857143\n",
            "3  Manzanas      60      B   54.545455\n",
            "4  Naranjas      40      B   57.142857\n"
          ]
        }
      ]
    },
    {
      "cell_type": "markdown",
      "source": [
        "## Métodos de Agregación en Detalle\n",
        "\n",
        "1. sum(): La función sum calcula la suma de los valores en cada grupo.\n"
      ],
      "metadata": {
        "id": "5VfgQj5YLEXI"
      }
    },
    {
      "cell_type": "code",
      "source": [
        "# Suma de ventas por tienda\n",
        "ventas_por_tienda = df.groupby('Tienda')['Ventas'].sum()\n",
        "print(ventas_por_tienda)"
      ],
      "metadata": {
        "colab": {
          "base_uri": "https://localhost:8080/"
        },
        "id": "bBRMViD5K981",
        "outputId": "38df7d26-5f37-4e79-adf3-eb63fa77ce59"
      },
      "execution_count": 7,
      "outputs": [
        {
          "output_type": "stream",
          "name": "stdout",
          "text": [
            "Tienda\n",
            "A    100\n",
            "B    130\n",
            "Name: Ventas, dtype: int64\n"
          ]
        }
      ]
    },
    {
      "cell_type": "markdown",
      "source": [
        "2. mean(): La función mean calcula el promedio de los valores en cada grupo.\n"
      ],
      "metadata": {
        "id": "fX9dj8zvLWYg"
      }
    },
    {
      "cell_type": "code",
      "source": [
        "# Promedio de ventas por tienda\n",
        "promedio_ventas_por_tienda = df.groupby('Tienda')['Ventas'].mean()\n",
        "print(promedio_ventas_por_tienda)"
      ],
      "metadata": {
        "colab": {
          "base_uri": "https://localhost:8080/"
        },
        "id": "bdmbHlaSLJhc",
        "outputId": "32b38b98-9b00-4878-b9f0-36e8f8487baa"
      },
      "execution_count": 8,
      "outputs": [
        {
          "output_type": "stream",
          "name": "stdout",
          "text": [
            "Tienda\n",
            "A    33.333333\n",
            "B    43.333333\n",
            "Name: Ventas, dtype: float64\n"
          ]
        }
      ]
    },
    {
      "cell_type": "code",
      "source": [],
      "metadata": {
        "id": "Onp9ZLxOLXya"
      },
      "execution_count": null,
      "outputs": []
    }
  ]
}