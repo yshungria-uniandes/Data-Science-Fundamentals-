{
  "nbformat": 4,
  "nbformat_minor": 0,
  "metadata": {
    "colab": {
      "provenance": [],
      "authorship_tag": "ABX9TyNptSf3BG3FTU1l10C3uSUu",
      "include_colab_link": true
    },
    "kernelspec": {
      "name": "python3",
      "display_name": "Python 3"
    },
    "language_info": {
      "name": "python"
    }
  },
  "cells": [
    {
      "cell_type": "markdown",
      "metadata": {
        "id": "view-in-github",
        "colab_type": "text"
      },
      "source": [
        "<a href=\"https://colab.research.google.com/github/yshungria-uniandes/Data-Science-Fundamentals-/blob/main/Agrupaci%C3%B3n_de_Datos_con_Pandas_%E2%80%93_GroupBy_y_M%C3%A9todos_de_Agregraci%C3%B3n.ipynb\" target=\"_parent\"><img src=\"https://colab.research.google.com/assets/colab-badge.svg\" alt=\"Open In Colab\"/></a>"
      ]
    },
    {
      "cell_type": "markdown",
      "source": [
        "# Agrupación de Datos con Pandas – GroupBy y Métodos de Agregración\n",
        "\n",
        "\n",
        "La agrupación de datos es una de las capacidades más poderosas y útiles que ofrece Pandas para el análisis de datos. El método groupby de Pandas permite dividir los datos en grupos basados en uno o más criterios, y luego aplicar funciones de agregación, transformación o filtrado a cada grupo individualmente. Este capítulo cubrirá en detalle el funcionamiento de groupby, sus aplicaciones, y métodos de agregación, junto con ejemplos prácticos para facilitar la comprensión.\n",
        "\n",
        "\n",
        "\n",
        "## La Teoría detrás de GroupBy (Concepto de Agrupación)\n",
        "\n",
        "Agrupar datos implica dividir un conjunto de datos en partes más pequeñas basadas en una o más características comunes. Este proceso facilita el análisis agregado y específico de cada grupo. Por ejemplo, en un conjunto de datos de ventas, podrías querer agrupar las ventas por producto, tienda o período de tiempo para analizar patrones específicos.\n",
        "\n",
        "\n",
        "\n",
        "## Etapas del GroupBy\n",
        "\n",
        "El proceso de groupby en Pandas generalmente implica tres etapas:\n",
        "\n",
        "División (Splitting): Dividir el DataFrame en grupos según un criterio dado.\n",
        "\n",
        "Aplicación (Applying): Aplicar una función a cada grupo de manera independiente.\n",
        "\n",
        "Combinación (Combining): Combinar los resultados de las funciones aplicadas en una estructura de datos.\n",
        "\n",
        "Este proceso se conoce como el «paradigma Split-Apply-Combine».\n",
        "\n",
        "\n",
        "\n",
        "## Uso Básico del Método groupby\n",
        "\n",
        "El método groupby de Pandas se utiliza para dividir un DataFrame en grupos según uno o más criterios y aplicar funciones de agregación a estos grupos. Sintaxis Básica:"
      ],
      "metadata": {
        "id": "uD4yXW4DFrnE"
      }
    },
    {
      "cell_type": "code",
      "execution_count": 3,
      "metadata": {
        "id": "WDtaDNFrFkW6"
      },
      "outputs": [],
      "source": [
        "import pandas as pd\n",
        "\n",
        "# Crear un DataFrame de ejemplo\n",
        "data = {\n",
        "    'Producto': ['Manzanas', 'Naranjas', 'Bananas', 'Manzanas', 'Naranjas', 'Bananas'],\n",
        "    'Ventas': [50, 30, 20, 60, 40, 30],\n",
        "    'Tienda': ['A', 'A', 'A', 'B', 'B', 'B']\n",
        "}\n",
        "df = pd.DataFrame(data)\n",
        "\n",
        "# Agrupar por columna 'Producto'\n",
        "grouped = df.groupby('Producto')"
      ]
    },
    {
      "cell_type": "code",
      "source": [
        "print(grouped)"
      ],
      "metadata": {
        "colab": {
          "base_uri": "https://localhost:8080/"
        },
        "id": "mESRIujvHjgY",
        "outputId": "7105268d-b14c-4a21-b609-a209957cdcc7"
      },
      "execution_count": 4,
      "outputs": [
        {
          "output_type": "stream",
          "name": "stdout",
          "text": [
            "<pandas.core.groupby.generic.DataFrameGroupBy object at 0x7df3a4f2b2e0>\n"
          ]
        }
      ]
    },
    {
      "cell_type": "markdown",
      "source": [
        "## Aplicaciones Comunes de groupby\n",
        "\n",
        "1. Agregación (Aggregation): La agregación implica aplicar una función que resuma los datos de cada grupo. Las funciones de agregación comunes incluyen sum, mean, count, min, max, etc.\n"
      ],
      "metadata": {
        "id": "WWYzkrfSH_rP"
      }
    },
    {
      "cell_type": "code",
      "source": [
        "# Suma de ventas por producto\n",
        "ventas_por_producto = grouped['Ventas'].sum()\n",
        "print(ventas_por_producto)\n",
        "\n",
        "# Promedio de ventas por producto\n",
        "promedio_ventas_por_producto = grouped['Ventas'].mean()\n",
        "print(promedio_ventas_por_producto)\n",
        "\n",
        "# Número de ventas por producto\n",
        "conteo_ventas_por_producto = grouped['Ventas'].count()\n",
        "print(conteo_ventas_por_producto)"
      ],
      "metadata": {
        "colab": {
          "base_uri": "https://localhost:8080/"
        },
        "id": "dXzsMVRnHowK",
        "outputId": "249bbfd7-75fb-49d4-c8a9-dbc7b24aa6b5"
      },
      "execution_count": 5,
      "outputs": [
        {
          "output_type": "stream",
          "name": "stdout",
          "text": [
            "Producto\n",
            "Bananas      50\n",
            "Manzanas    110\n",
            "Naranjas     70\n",
            "Name: Ventas, dtype: int64\n",
            "Producto\n",
            "Bananas     25.0\n",
            "Manzanas    55.0\n",
            "Naranjas    35.0\n",
            "Name: Ventas, dtype: float64\n",
            "Producto\n",
            "Bananas     2\n",
            "Manzanas    2\n",
            "Naranjas    2\n",
            "Name: Ventas, dtype: int64\n"
          ]
        }
      ]
    },
    {
      "cell_type": "markdown",
      "source": [
        " 2. Transformación (Transformation): La transformación implica aplicar una función a cada elemento de un grupo, produciendo un DataFrame del mismo tamaño que el original. Las funciones de transformación comunes incluyen apply, transform, etc."
      ],
      "metadata": {
        "id": "8KKSPc9EKD6w"
      }
    },
    {
      "cell_type": "code",
      "source": [
        "# Calcular el porcentaje de ventas de cada producto en su tienda\n",
        "df['Porcentaje'] = grouped['Ventas'].transform(lambda x: x / x.sum() * 100)\n",
        "print(df)"
      ],
      "metadata": {
        "colab": {
          "base_uri": "https://localhost:8080/"
        },
        "id": "zfIolEJUIJHy",
        "outputId": "e7afd2d4-a2bf-4684-896a-9bc2c9e02cd6"
      },
      "execution_count": 6,
      "outputs": [
        {
          "output_type": "stream",
          "name": "stdout",
          "text": [
            "   Producto  Ventas Tienda  Porcentaje\n",
            "0  Manzanas      50      A   45.454545\n",
            "1  Naranjas      30      A   42.857143\n",
            "2   Bananas      20      A   40.000000\n",
            "3  Manzanas      60      B   54.545455\n",
            "4  Naranjas      40      B   57.142857\n",
            "5   Bananas      30      B   60.000000\n"
          ]
        }
      ]
    },
    {
      "cell_type": "markdown",
      "source": [
        "\n",
        "3. Filtrado (Filtering): El filtrado implica aplicar una condición a cada grupo y devolver un subconjunto del DataFrame que cumple con esa condición."
      ],
      "metadata": {
        "id": "6oE8e7XRK44B"
      }
    },
    {
      "cell_type": "code",
      "source": [
        "# Filtrar productos con ventas totales mayores a 50\n",
        "filtro = grouped.filter(lambda x: x['Ventas'].sum() > 50)\n",
        "print(filtro)"
      ],
      "metadata": {
        "colab": {
          "base_uri": "https://localhost:8080/"
        },
        "id": "HpDB0Wj3KZp7",
        "outputId": "295690dc-e7a3-4983-dbcd-e0b9d5f90522"
      },
      "execution_count": 7,
      "outputs": [
        {
          "output_type": "stream",
          "name": "stdout",
          "text": [
            "   Producto  Ventas Tienda  Porcentaje\n",
            "0  Manzanas      50      A   45.454545\n",
            "1  Naranjas      30      A   42.857143\n",
            "3  Manzanas      60      B   54.545455\n",
            "4  Naranjas      40      B   57.142857\n"
          ]
        }
      ]
    },
    {
      "cell_type": "markdown",
      "source": [
        "## Métodos de Agregación en Detalle\n",
        "\n",
        "1. sum(): La función sum calcula la suma de los valores en cada grupo.\n"
      ],
      "metadata": {
        "id": "5VfgQj5YLEXI"
      }
    },
    {
      "cell_type": "code",
      "source": [
        "# Suma de ventas por tienda\n",
        "ventas_por_tienda = df.groupby('Tienda')['Ventas'].sum()\n",
        "print(ventas_por_tienda)"
      ],
      "metadata": {
        "colab": {
          "base_uri": "https://localhost:8080/"
        },
        "id": "bBRMViD5K981",
        "outputId": "6a1fc3b3-dce5-49be-ae28-56ea14242afa"
      },
      "execution_count": 8,
      "outputs": [
        {
          "output_type": "stream",
          "name": "stdout",
          "text": [
            "Tienda\n",
            "A    100\n",
            "B    130\n",
            "Name: Ventas, dtype: int64\n"
          ]
        }
      ]
    },
    {
      "cell_type": "markdown",
      "source": [
        "2. mean(): La función mean calcula el promedio de los valores en cada grupo.\n"
      ],
      "metadata": {
        "id": "fX9dj8zvLWYg"
      }
    },
    {
      "cell_type": "code",
      "source": [
        "# Promedio de ventas por tienda\n",
        "promedio_ventas_por_tienda = df.groupby('Tienda')['Ventas'].mean()\n",
        "print(promedio_ventas_por_tienda)"
      ],
      "metadata": {
        "colab": {
          "base_uri": "https://localhost:8080/"
        },
        "id": "bdmbHlaSLJhc",
        "outputId": "fa8eb860-9a95-4761-f6a6-3b8c17335662"
      },
      "execution_count": 9,
      "outputs": [
        {
          "output_type": "stream",
          "name": "stdout",
          "text": [
            "Tienda\n",
            "A    33.333333\n",
            "B    43.333333\n",
            "Name: Ventas, dtype: float64\n"
          ]
        }
      ]
    },
    {
      "cell_type": "markdown",
      "source": [
        "3. count(): La función count cuenta el número de valores no nulos en cada grupo.\n"
      ],
      "metadata": {
        "id": "UKp0zZ7MLmA_"
      }
    },
    {
      "cell_type": "code",
      "source": [
        "# Número de ventas por tienda\n",
        "conteo_ventas_por_tienda = df.groupby('Tienda')['Ventas'].count()\n",
        "print(conteo_ventas_por_tienda)"
      ],
      "metadata": {
        "colab": {
          "base_uri": "https://localhost:8080/"
        },
        "id": "Onp9ZLxOLXya",
        "outputId": "7ecb00c6-3c99-457a-e716-192ff6ae76fe"
      },
      "execution_count": 10,
      "outputs": [
        {
          "output_type": "stream",
          "name": "stdout",
          "text": [
            "Tienda\n",
            "A    3\n",
            "B    3\n",
            "Name: Ventas, dtype: int64\n"
          ]
        }
      ]
    },
    {
      "cell_type": "markdown",
      "source": [
        "4. min() y max(): Las funciones min y max encuentran el valor mínimo y máximo en cada grupo, respectivamente.\n"
      ],
      "metadata": {
        "id": "FIjxC06YLw6I"
      }
    },
    {
      "cell_type": "code",
      "source": [
        "# Ventas mínimas y máximas por tienda\n",
        "ventas_minimas_por_tienda = df.groupby('Tienda')['Ventas'].min()\n",
        "ventas_maximas_por_tienda = df.groupby('Tienda')['Ventas'].max()\n",
        "print(ventas_minimas_por_tienda)\n",
        "print(ventas_maximas_por_tienda)"
      ],
      "metadata": {
        "colab": {
          "base_uri": "https://localhost:8080/"
        },
        "id": "OX0l9Iw1LowG",
        "outputId": "40d2006b-b316-4121-b7a2-169da9782f77"
      },
      "execution_count": 11,
      "outputs": [
        {
          "output_type": "stream",
          "name": "stdout",
          "text": [
            "Tienda\n",
            "A    20\n",
            "B    30\n",
            "Name: Ventas, dtype: int64\n",
            "Tienda\n",
            "A    50\n",
            "B    60\n",
            "Name: Ventas, dtype: int64\n"
          ]
        }
      ]
    },
    {
      "cell_type": "markdown",
      "source": [
        "5. std() y var(): Las funciones std y var calculan la desviación estándar y la varianza de los valores en cada grupo."
      ],
      "metadata": {
        "id": "SRLmhlcQL9SW"
      }
    },
    {
      "cell_type": "code",
      "source": [
        "# Desviación estándar de las ventas por tienda\n",
        "desviacion_estandar_ventas = df.groupby('Tienda')['Ventas'].std()\n",
        "print(desviacion_estandar_ventas)\n",
        "\n",
        "# Varianza de las ventas por tienda\n",
        "varianza_ventas = df.groupby('Tienda')['Ventas'].var()\n",
        "print(varianza_ventas)"
      ],
      "metadata": {
        "colab": {
          "base_uri": "https://localhost:8080/"
        },
        "id": "gXOtB4WYL0sa",
        "outputId": "bab02d32-eaaa-4b92-9e92-911febf71f5a"
      },
      "execution_count": 12,
      "outputs": [
        {
          "output_type": "stream",
          "name": "stdout",
          "text": [
            "Tienda\n",
            "A    15.275252\n",
            "B    15.275252\n",
            "Name: Ventas, dtype: float64\n",
            "Tienda\n",
            "A    233.333333\n",
            "B    233.333333\n",
            "Name: Ventas, dtype: float64\n"
          ]
        }
      ]
    },
    {
      "cell_type": "markdown",
      "source": [
        "## Agrupación por Múltiples Columnas\n",
        "\n",
        "Pandas permite agrupar por múltiples columnas, lo que facilita el análisis jerárquico de los datos. Ejemplo:\n",
        "\n"
      ],
      "metadata": {
        "id": "A3KhFAf_MA50"
      }
    },
    {
      "cell_type": "code",
      "source": [
        "# Agrupar por 'Producto' y 'Tienda'\n",
        "grouped_multi = df.groupby(['Producto', 'Tienda'])\n",
        "\n",
        "# Suma de ventas por producto y tienda\n",
        "ventas_por_producto_y_tienda = grouped_multi['Ventas'].sum()\n",
        "print(ventas_por_producto_y_tienda)\n",
        "\n",
        "# Promedio de ventas por producto y tienda\n",
        "promedio_ventas_por_producto_y_tienda = grouped_multi['Ventas'].mean()\n",
        "print(promedio_ventas_por_producto_y_tienda)"
      ],
      "metadata": {
        "colab": {
          "base_uri": "https://localhost:8080/"
        },
        "id": "lyLp0wDPMCjl",
        "outputId": "27d2b254-d1a8-4c59-dc63-e2bdca3c81be"
      },
      "execution_count": 13,
      "outputs": [
        {
          "output_type": "stream",
          "name": "stdout",
          "text": [
            "Producto  Tienda\n",
            "Bananas   A         20\n",
            "          B         30\n",
            "Manzanas  A         50\n",
            "          B         60\n",
            "Naranjas  A         30\n",
            "          B         40\n",
            "Name: Ventas, dtype: int64\n",
            "Producto  Tienda\n",
            "Bananas   A         20.0\n",
            "          B         30.0\n",
            "Manzanas  A         50.0\n",
            "          B         60.0\n",
            "Naranjas  A         30.0\n",
            "          B         40.0\n",
            "Name: Ventas, dtype: float64\n"
          ]
        }
      ]
    },
    {
      "cell_type": "code",
      "source": [],
      "metadata": {
        "id": "f6ukit3ZMFvN"
      },
      "execution_count": 13,
      "outputs": []
    },
    {
      "cell_type": "markdown",
      "source": [
        "### Uso de agg() para Aplicar Múltiples Funciones\n",
        "\n",
        "El método agg permite aplicar múltiples funciones de agregación a las columnas agrupadas de un DataFrame. Ejemplo:"
      ],
      "metadata": {
        "id": "XusUb1BIMYEg"
      }
    },
    {
      "cell_type": "code",
      "source": [
        "# Aplicar múltiples funciones de agregación a 'Ventas' agrupadas por 'Producto'\n",
        "agg_result = df.groupby('Producto')['Ventas'].agg(['sum', 'mean', 'count'])\n",
        "print(agg_result)"
      ],
      "metadata": {
        "colab": {
          "base_uri": "https://localhost:8080/"
        },
        "id": "nRg-PjdgMahF",
        "outputId": "35232b35-ea36-4f5a-d5b1-7457501f28a7"
      },
      "execution_count": 14,
      "outputs": [
        {
          "output_type": "stream",
          "name": "stdout",
          "text": [
            "          sum  mean  count\n",
            "Producto                  \n",
            "Bananas    50  25.0      2\n",
            "Manzanas  110  55.0      2\n",
            "Naranjas   70  35.0      2\n"
          ]
        }
      ]
    },
    {
      "cell_type": "markdown",
      "source": [
        "### Agregación Personalizada con apply()\n",
        "\n",
        "El método apply permite aplicar funciones personalizadas a cada grupo, proporcionando una gran flexibilidad en el análisis de datos. Ejemplo:"
      ],
      "metadata": {
        "id": "ChL4g7inM129"
      }
    },
    {
      "cell_type": "code",
      "source": [
        "# Calcular el rango (max - min) de ventas por producto\n",
        "rango_ventas_por_producto = df.groupby('Producto')['Ventas'].apply(lambda x: x.max() - x.min())\n",
        "print(rango_ventas_por_producto)"
      ],
      "metadata": {
        "colab": {
          "base_uri": "https://localhost:8080/"
        },
        "id": "51AppUikMdrt",
        "outputId": "a598ce36-8ead-44f8-a573-c462a6e7d16b"
      },
      "execution_count": 15,
      "outputs": [
        {
          "output_type": "stream",
          "name": "stdout",
          "text": [
            "Producto\n",
            "Bananas     10\n",
            "Manzanas    10\n",
            "Naranjas    10\n",
            "Name: Ventas, dtype: int64\n"
          ]
        }
      ]
    },
    {
      "cell_type": "code",
      "source": [],
      "metadata": {
        "id": "ulZElFHKM6yd"
      },
      "execution_count": null,
      "outputs": []
    }
  ]
}