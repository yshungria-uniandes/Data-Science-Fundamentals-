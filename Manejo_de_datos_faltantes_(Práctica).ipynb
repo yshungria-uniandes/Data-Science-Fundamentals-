{
  "nbformat": 4,
  "nbformat_minor": 0,
  "metadata": {
    "colab": {
      "provenance": [],
      "authorship_tag": "ABX9TyOAcunsUt4ThQqoEsDaddV8",
      "include_colab_link": true
    },
    "kernelspec": {
      "name": "python3",
      "display_name": "Python 3"
    },
    "language_info": {
      "name": "python"
    }
  },
  "cells": [
    {
      "cell_type": "markdown",
      "metadata": {
        "id": "view-in-github",
        "colab_type": "text"
      },
      "source": [
        "<a href=\"https://colab.research.google.com/github/yshungria-uniandes/Data-Science-Fundamentals-/blob/main/Manejo_de_datos_faltantes_(Pr%C3%A1ctica).ipynb\" target=\"_parent\"><img src=\"https://colab.research.google.com/assets/colab-badge.svg\" alt=\"Open In Colab\"/></a>"
      ]
    },
    {
      "cell_type": "markdown",
      "source": [
        "## Ejemplos Prácticos de Limpieza de Datos\n",
        "\n",
        "### Ejemplo 1: Interpolación y Relleno\n",
        "\n",
        "Supongamos que tenemos un dataset con datos de ventas diarias y algunas entradas están faltantes. Podemos usar interpolación y relleno para manejar estos datos faltantes.\n",
        "\n"
      ],
      "metadata": {
        "id": "FTAHWc4DiJI6"
      }
    },
    {
      "cell_type": "code",
      "execution_count": null,
      "metadata": {
        "id": "pLgDob-GiEOZ"
      },
      "outputs": [],
      "source": []
    }
  ]
}