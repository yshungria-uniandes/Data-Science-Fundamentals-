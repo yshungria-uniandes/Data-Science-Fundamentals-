{
  "nbformat": 4,
  "nbformat_minor": 0,
  "metadata": {
    "colab": {
      "provenance": [],
      "authorship_tag": "ABX9TyOkaSCeeacqsNa/mQmJcJSx",
      "include_colab_link": true
    },
    "kernelspec": {
      "name": "python3",
      "display_name": "Python 3"
    },
    "language_info": {
      "name": "python"
    }
  },
  "cells": [
    {
      "cell_type": "markdown",
      "metadata": {
        "id": "view-in-github",
        "colab_type": "text"
      },
      "source": [
        "<a href=\"https://colab.research.google.com/github/yshungria-uniandes/Data-Science-Fundamentals-/blob/main/Exportaci%C3%B3n_y_conversi%C3%B3n_de_dataframes_en_Pandas.ipynb\" target=\"_parent\"><img src=\"https://colab.research.google.com/assets/colab-badge.svg\" alt=\"Open In Colab\"/></a>"
      ]
    },
    {
      "cell_type": "markdown",
      "source": [
        "# Exportación y conversión de dataframes en Pandas\n",
        "\n",
        "En este capítulo, exploraremos diversas técnicas y formatos para convertir y guardar DataFrames en Pandas. Estos métodos son esenciales para compartir, almacenar y procesar datos de manera eficiente. Los formatos que discutiremos incluyen diccionarios, arrays, CSV, JSON, Excel, y otros. También veremos cómo importar y exportar datos utilizando estos formatos.\n",
        "\n",
        "## Conversión de DataFrames a Diferentes Formatos\n",
        "\n",
        "### 1. Convertir DataFrames a Diccionarios:\n",
        "\n",
        "Convertir un DataFrame a un diccionario puede ser útil cuando necesitas manipular los datos en un formato más flexible o integrarlos en aplicaciones que manejan datos en forma de diccionario."
      ],
      "metadata": {
        "id": "P6sKw1HpU_Pr"
      }
    },
    {
      "cell_type": "code",
      "execution_count": 1,
      "metadata": {
        "colab": {
          "base_uri": "https://localhost:8080/"
        },
        "id": "nZ_4TBdBU7hh",
        "outputId": "1f76b226-714f-4460-bd41-1a931a132187"
      },
      "outputs": [
        {
          "output_type": "stream",
          "name": "stdout",
          "text": [
            "DataFrame convertido a diccionario:\n",
            "{'Producto': {0: 'Manzanas', 1: 'Naranjas', 2: 'Bananas'}, 'Ventas': {0: 50, 1: 30, 2: 20}, 'Precio': {0: 0.5, 1: 0.75, 2: 0.3}}\n"
          ]
        }
      ],
      "source": [
        "import pandas as pd\n",
        "\n",
        "# Crear un DataFrame de ejemplo\n",
        "data = {\n",
        "    'Producto': ['Manzanas', 'Naranjas', 'Bananas'],\n",
        "    'Ventas': [50, 30, 20],\n",
        "    'Precio': [0.5, 0.75, 0.3]\n",
        "}\n",
        "df = pd.DataFrame(data)\n",
        "\n",
        "# Convertir a un diccionario\n",
        "dict_data = df.to_dict()\n",
        "print(\"DataFrame convertido a diccionario:\")\n",
        "print(dict_data)"
      ]
    },
    {
      "cell_type": "markdown",
      "source": [
        "### 2. Convertir DataFrames a Arrays de NumPy:\n",
        "\n",
        "Los arrays de NumPy son útiles para realizar operaciones matemáticas y estadísticas avanzadas que pueden ser más eficientes en NumPy."
      ],
      "metadata": {
        "id": "U8_FcV4GV5Z0"
      }
    },
    {
      "cell_type": "code",
      "source": [
        "import numpy as np\n",
        "\n",
        "# Convertir a un array de NumPy\n",
        "array_data = df.to_numpy()\n",
        "print(\"DataFrame convertido a array de NumPy:\")\n",
        "print(array_data)"
      ],
      "metadata": {
        "colab": {
          "base_uri": "https://localhost:8080/"
        },
        "id": "Tzv8SvOwVjxi",
        "outputId": "c124471e-d906-440d-c9b7-c92a5e4617b2"
      },
      "execution_count": 3,
      "outputs": [
        {
          "output_type": "stream",
          "name": "stdout",
          "text": [
            "DataFrame convertido a array de NumPy:\n",
            "[['Manzanas' 50 0.5]\n",
            " ['Naranjas' 30 0.75]\n",
            " ['Bananas' 20 0.3]]\n"
          ]
        }
      ]
    },
    {
      "cell_type": "markdown",
      "source": [
        "\n",
        "### 3. Convertir DataFrames a CSV:\n",
        "\n",
        "CSV (Comma Separated Values) es uno de los formatos más comunes para almacenar y compartir datos tabulares.\n"
      ],
      "metadata": {
        "id": "p7v97557WfWb"
      }
    },
    {
      "cell_type": "code",
      "source": [
        "# Guardar el DataFrame en un archivo CSV\n",
        "df.to_csv('ventas.csv', index=False)\n",
        "print(\"DataFrame guardado como archivo CSV\")"
      ],
      "metadata": {
        "colab": {
          "base_uri": "https://localhost:8080/"
        },
        "id": "YHgp7AenWIjr",
        "outputId": "47bd8cb0-ee20-4058-fc9d-f1545394e0fb"
      },
      "execution_count": 4,
      "outputs": [
        {
          "output_type": "stream",
          "name": "stdout",
          "text": [
            "DataFrame guardado como archivo CSV\n"
          ]
        }
      ]
    },
    {
      "cell_type": "markdown",
      "source": [
        "### 4. Convertir DataFrames a JSON:\n",
        "\n",
        "JSON (JavaScript Object Notation) es un formato ampliamente utilizado para el intercambio de datos, especialmente en aplicaciones web y APIs."
      ],
      "metadata": {
        "id": "KUMs6jYrW_z9"
      }
    },
    {
      "cell_type": "code",
      "source": [
        "# Convertir a JSON\n",
        "json_data = df.to_json()\n",
        "print(\"DataFrame convertido a JSON:\")\n",
        "print(json_data)\n",
        "\n",
        "# Guardar el DataFrame en un archivo JSON\n",
        "df.to_json('ventas.json', orient='records', lines=True)\n",
        "print(\"DataFrame guardado como archivo JSON\")"
      ],
      "metadata": {
        "colab": {
          "base_uri": "https://localhost:8080/"
        },
        "id": "OLIgDsqnWoUr",
        "outputId": "8f499542-0abd-4af8-d4b9-71a5b8c330b4"
      },
      "execution_count": 5,
      "outputs": [
        {
          "output_type": "stream",
          "name": "stdout",
          "text": [
            "DataFrame convertido a JSON:\n",
            "{\"Producto\":{\"0\":\"Manzanas\",\"1\":\"Naranjas\",\"2\":\"Bananas\"},\"Ventas\":{\"0\":50,\"1\":30,\"2\":20},\"Precio\":{\"0\":0.5,\"1\":0.75,\"2\":0.3}}\n",
            "DataFrame guardado como archivo JSON\n"
          ]
        }
      ]
    },
    {
      "cell_type": "markdown",
      "source": [
        "### 5. Convertir DataFrames a Excel:\n",
        "\n",
        "Excel es un formato muy popular para almacenar y compartir datos en entornos empresariales y académicos.\n"
      ],
      "metadata": {
        "id": "7_w-dN7yXhTM"
      }
    },
    {
      "cell_type": "code",
      "source": [
        "# Guardar el DataFrame en un archivo Excel\n",
        "df.to_excel('ventas.xlsx', index=False)\n",
        "print(\"DataFrame guardado como archivo Excel\")"
      ],
      "metadata": {
        "colab": {
          "base_uri": "https://localhost:8080/"
        },
        "id": "i61d7dRQXH_2",
        "outputId": "2e832d0a-a734-43ee-fb49-6dd706ea69c6"
      },
      "execution_count": 6,
      "outputs": [
        {
          "output_type": "stream",
          "name": "stdout",
          "text": [
            "DataFrame guardado como archivo Excel\n"
          ]
        }
      ]
    },
    {
      "cell_type": "markdown",
      "source": [
        "### Consideraciones y Mejores Prácticas\n",
        "\n",
        "1. Elegir el Formato Adecuado: Seleccionar el formato adecuado para almacenar o compartir datos depende del contexto y los requisitos específicos.\n",
        "\n",
        "Por ejemplo:\n",
        "\n",
        "CSV: Ideal para datos tabulares simples y para interoperabilidad con muchas aplicaciones.\n",
        "\n",
        "JSON: Adecuado para datos estructurados y semi-estructurados, especialmente en aplicaciones web y APIs.\n",
        "\n",
        "Excel: Útil para datos que requieren análisis manual o presentación en entornos empresariales.\n",
        "\n",
        "NumPy Arrays: Mejor para operaciones matemáticas y estadísticas intensivas.\n",
        "\n",
        "2. Manejar la Codificación de Caracteres: Cuando trabajes con datos que contienen caracteres especiales o no latinos, asegúrate de manejar correctamente la codificación de caracteres.\n"
      ],
      "metadata": {
        "id": "QG3oML5LYHVQ"
      }
    },
    {
      "cell_type": "code",
      "source": [
        "# Guardar un archivo CSV con codificación UTF-8\n",
        "df.to_csv('ventas_utf8.csv', index=False, encoding='utf-8')\n",
        "\n",
        "# Leer un archivo CSV con codificación UTF-8\n",
        "df_from_csv_utf8 = pd.read_csv('ventas_utf8.csv', encoding='utf-8')"
      ],
      "metadata": {
        "id": "6aGZb3u7XpQs"
      },
      "execution_count": 7,
      "outputs": []
    },
    {
      "cell_type": "markdown",
      "source": [
        "3. Gestión de Archivos Grandes: Para datasets muy grandes, considera usar compresión para ahorrar espacio y mejorar la eficiencia."
      ],
      "metadata": {
        "id": "k-Mx3NNfYkDd"
      }
    },
    {
      "cell_type": "code",
      "source": [
        "# Guardar un archivo CSV comprimido\n",
        "df.to_csv('ventas_comprimido.csv.gz', index=False, compression='gzip')\n",
        "\n",
        "# Leer un archivo CSV comprimido\n",
        "df_from_compressed_csv = pd.read_csv('ventas_comprimido.csv.gz', compression='gzip')\n",
        "\n",
        "df_from_compressed_csv"
      ],
      "metadata": {
        "colab": {
          "base_uri": "https://localhost:8080/",
          "height": 143
        },
        "id": "diQpGB_AYcvL",
        "outputId": "23a729b0-fd6b-481d-ffc2-e6389b9fcc88"
      },
      "execution_count": 9,
      "outputs": [
        {
          "output_type": "execute_result",
          "data": {
            "text/plain": [
              "   Producto  Ventas  Precio\n",
              "0  Manzanas      50    0.50\n",
              "1  Naranjas      30    0.75\n",
              "2   Bananas      20    0.30"
            ],
            "text/html": [
              "\n",
              "  <div id=\"df-1ea21496-ec18-46c5-b214-7feaae007225\" class=\"colab-df-container\">\n",
              "    <div>\n",
              "<style scoped>\n",
              "    .dataframe tbody tr th:only-of-type {\n",
              "        vertical-align: middle;\n",
              "    }\n",
              "\n",
              "    .dataframe tbody tr th {\n",
              "        vertical-align: top;\n",
              "    }\n",
              "\n",
              "    .dataframe thead th {\n",
              "        text-align: right;\n",
              "    }\n",
              "</style>\n",
              "<table border=\"1\" class=\"dataframe\">\n",
              "  <thead>\n",
              "    <tr style=\"text-align: right;\">\n",
              "      <th></th>\n",
              "      <th>Producto</th>\n",
              "      <th>Ventas</th>\n",
              "      <th>Precio</th>\n",
              "    </tr>\n",
              "  </thead>\n",
              "  <tbody>\n",
              "    <tr>\n",
              "      <th>0</th>\n",
              "      <td>Manzanas</td>\n",
              "      <td>50</td>\n",
              "      <td>0.50</td>\n",
              "    </tr>\n",
              "    <tr>\n",
              "      <th>1</th>\n",
              "      <td>Naranjas</td>\n",
              "      <td>30</td>\n",
              "      <td>0.75</td>\n",
              "    </tr>\n",
              "    <tr>\n",
              "      <th>2</th>\n",
              "      <td>Bananas</td>\n",
              "      <td>20</td>\n",
              "      <td>0.30</td>\n",
              "    </tr>\n",
              "  </tbody>\n",
              "</table>\n",
              "</div>\n",
              "    <div class=\"colab-df-buttons\">\n",
              "\n",
              "  <div class=\"colab-df-container\">\n",
              "    <button class=\"colab-df-convert\" onclick=\"convertToInteractive('df-1ea21496-ec18-46c5-b214-7feaae007225')\"\n",
              "            title=\"Convert this dataframe to an interactive table.\"\n",
              "            style=\"display:none;\">\n",
              "\n",
              "  <svg xmlns=\"http://www.w3.org/2000/svg\" height=\"24px\" viewBox=\"0 -960 960 960\">\n",
              "    <path d=\"M120-120v-720h720v720H120Zm60-500h600v-160H180v160Zm220 220h160v-160H400v160Zm0 220h160v-160H400v160ZM180-400h160v-160H180v160Zm440 0h160v-160H620v160ZM180-180h160v-160H180v160Zm440 0h160v-160H620v160Z\"/>\n",
              "  </svg>\n",
              "    </button>\n",
              "\n",
              "  <style>\n",
              "    .colab-df-container {\n",
              "      display:flex;\n",
              "      gap: 12px;\n",
              "    }\n",
              "\n",
              "    .colab-df-convert {\n",
              "      background-color: #E8F0FE;\n",
              "      border: none;\n",
              "      border-radius: 50%;\n",
              "      cursor: pointer;\n",
              "      display: none;\n",
              "      fill: #1967D2;\n",
              "      height: 32px;\n",
              "      padding: 0 0 0 0;\n",
              "      width: 32px;\n",
              "    }\n",
              "\n",
              "    .colab-df-convert:hover {\n",
              "      background-color: #E2EBFA;\n",
              "      box-shadow: 0px 1px 2px rgba(60, 64, 67, 0.3), 0px 1px 3px 1px rgba(60, 64, 67, 0.15);\n",
              "      fill: #174EA6;\n",
              "    }\n",
              "\n",
              "    .colab-df-buttons div {\n",
              "      margin-bottom: 4px;\n",
              "    }\n",
              "\n",
              "    [theme=dark] .colab-df-convert {\n",
              "      background-color: #3B4455;\n",
              "      fill: #D2E3FC;\n",
              "    }\n",
              "\n",
              "    [theme=dark] .colab-df-convert:hover {\n",
              "      background-color: #434B5C;\n",
              "      box-shadow: 0px 1px 3px 1px rgba(0, 0, 0, 0.15);\n",
              "      filter: drop-shadow(0px 1px 2px rgba(0, 0, 0, 0.3));\n",
              "      fill: #FFFFFF;\n",
              "    }\n",
              "  </style>\n",
              "\n",
              "    <script>\n",
              "      const buttonEl =\n",
              "        document.querySelector('#df-1ea21496-ec18-46c5-b214-7feaae007225 button.colab-df-convert');\n",
              "      buttonEl.style.display =\n",
              "        google.colab.kernel.accessAllowed ? 'block' : 'none';\n",
              "\n",
              "      async function convertToInteractive(key) {\n",
              "        const element = document.querySelector('#df-1ea21496-ec18-46c5-b214-7feaae007225');\n",
              "        const dataTable =\n",
              "          await google.colab.kernel.invokeFunction('convertToInteractive',\n",
              "                                                    [key], {});\n",
              "        if (!dataTable) return;\n",
              "\n",
              "        const docLinkHtml = 'Like what you see? Visit the ' +\n",
              "          '<a target=\"_blank\" href=https://colab.research.google.com/notebooks/data_table.ipynb>data table notebook</a>'\n",
              "          + ' to learn more about interactive tables.';\n",
              "        element.innerHTML = '';\n",
              "        dataTable['output_type'] = 'display_data';\n",
              "        await google.colab.output.renderOutput(dataTable, element);\n",
              "        const docLink = document.createElement('div');\n",
              "        docLink.innerHTML = docLinkHtml;\n",
              "        element.appendChild(docLink);\n",
              "      }\n",
              "    </script>\n",
              "  </div>\n",
              "\n",
              "\n",
              "<div id=\"df-f52ac642-abac-4f46-aa04-ef0c3085ff46\">\n",
              "  <button class=\"colab-df-quickchart\" onclick=\"quickchart('df-f52ac642-abac-4f46-aa04-ef0c3085ff46')\"\n",
              "            title=\"Suggest charts\"\n",
              "            style=\"display:none;\">\n",
              "\n",
              "<svg xmlns=\"http://www.w3.org/2000/svg\" height=\"24px\"viewBox=\"0 0 24 24\"\n",
              "     width=\"24px\">\n",
              "    <g>\n",
              "        <path d=\"M19 3H5c-1.1 0-2 .9-2 2v14c0 1.1.9 2 2 2h14c1.1 0 2-.9 2-2V5c0-1.1-.9-2-2-2zM9 17H7v-7h2v7zm4 0h-2V7h2v10zm4 0h-2v-4h2v4z\"/>\n",
              "    </g>\n",
              "</svg>\n",
              "  </button>\n",
              "\n",
              "<style>\n",
              "  .colab-df-quickchart {\n",
              "      --bg-color: #E8F0FE;\n",
              "      --fill-color: #1967D2;\n",
              "      --hover-bg-color: #E2EBFA;\n",
              "      --hover-fill-color: #174EA6;\n",
              "      --disabled-fill-color: #AAA;\n",
              "      --disabled-bg-color: #DDD;\n",
              "  }\n",
              "\n",
              "  [theme=dark] .colab-df-quickchart {\n",
              "      --bg-color: #3B4455;\n",
              "      --fill-color: #D2E3FC;\n",
              "      --hover-bg-color: #434B5C;\n",
              "      --hover-fill-color: #FFFFFF;\n",
              "      --disabled-bg-color: #3B4455;\n",
              "      --disabled-fill-color: #666;\n",
              "  }\n",
              "\n",
              "  .colab-df-quickchart {\n",
              "    background-color: var(--bg-color);\n",
              "    border: none;\n",
              "    border-radius: 50%;\n",
              "    cursor: pointer;\n",
              "    display: none;\n",
              "    fill: var(--fill-color);\n",
              "    height: 32px;\n",
              "    padding: 0;\n",
              "    width: 32px;\n",
              "  }\n",
              "\n",
              "  .colab-df-quickchart:hover {\n",
              "    background-color: var(--hover-bg-color);\n",
              "    box-shadow: 0 1px 2px rgba(60, 64, 67, 0.3), 0 1px 3px 1px rgba(60, 64, 67, 0.15);\n",
              "    fill: var(--button-hover-fill-color);\n",
              "  }\n",
              "\n",
              "  .colab-df-quickchart-complete:disabled,\n",
              "  .colab-df-quickchart-complete:disabled:hover {\n",
              "    background-color: var(--disabled-bg-color);\n",
              "    fill: var(--disabled-fill-color);\n",
              "    box-shadow: none;\n",
              "  }\n",
              "\n",
              "  .colab-df-spinner {\n",
              "    border: 2px solid var(--fill-color);\n",
              "    border-color: transparent;\n",
              "    border-bottom-color: var(--fill-color);\n",
              "    animation:\n",
              "      spin 1s steps(1) infinite;\n",
              "  }\n",
              "\n",
              "  @keyframes spin {\n",
              "    0% {\n",
              "      border-color: transparent;\n",
              "      border-bottom-color: var(--fill-color);\n",
              "      border-left-color: var(--fill-color);\n",
              "    }\n",
              "    20% {\n",
              "      border-color: transparent;\n",
              "      border-left-color: var(--fill-color);\n",
              "      border-top-color: var(--fill-color);\n",
              "    }\n",
              "    30% {\n",
              "      border-color: transparent;\n",
              "      border-left-color: var(--fill-color);\n",
              "      border-top-color: var(--fill-color);\n",
              "      border-right-color: var(--fill-color);\n",
              "    }\n",
              "    40% {\n",
              "      border-color: transparent;\n",
              "      border-right-color: var(--fill-color);\n",
              "      border-top-color: var(--fill-color);\n",
              "    }\n",
              "    60% {\n",
              "      border-color: transparent;\n",
              "      border-right-color: var(--fill-color);\n",
              "    }\n",
              "    80% {\n",
              "      border-color: transparent;\n",
              "      border-right-color: var(--fill-color);\n",
              "      border-bottom-color: var(--fill-color);\n",
              "    }\n",
              "    90% {\n",
              "      border-color: transparent;\n",
              "      border-bottom-color: var(--fill-color);\n",
              "    }\n",
              "  }\n",
              "</style>\n",
              "\n",
              "  <script>\n",
              "    async function quickchart(key) {\n",
              "      const quickchartButtonEl =\n",
              "        document.querySelector('#' + key + ' button');\n",
              "      quickchartButtonEl.disabled = true;  // To prevent multiple clicks.\n",
              "      quickchartButtonEl.classList.add('colab-df-spinner');\n",
              "      try {\n",
              "        const charts = await google.colab.kernel.invokeFunction(\n",
              "            'suggestCharts', [key], {});\n",
              "      } catch (error) {\n",
              "        console.error('Error during call to suggestCharts:', error);\n",
              "      }\n",
              "      quickchartButtonEl.classList.remove('colab-df-spinner');\n",
              "      quickchartButtonEl.classList.add('colab-df-quickchart-complete');\n",
              "    }\n",
              "    (() => {\n",
              "      let quickchartButtonEl =\n",
              "        document.querySelector('#df-f52ac642-abac-4f46-aa04-ef0c3085ff46 button');\n",
              "      quickchartButtonEl.style.display =\n",
              "        google.colab.kernel.accessAllowed ? 'block' : 'none';\n",
              "    })();\n",
              "  </script>\n",
              "</div>\n",
              "\n",
              "  <div id=\"id_86a9da28-cc4d-4b46-a5c0-9ed957236594\">\n",
              "    <style>\n",
              "      .colab-df-generate {\n",
              "        background-color: #E8F0FE;\n",
              "        border: none;\n",
              "        border-radius: 50%;\n",
              "        cursor: pointer;\n",
              "        display: none;\n",
              "        fill: #1967D2;\n",
              "        height: 32px;\n",
              "        padding: 0 0 0 0;\n",
              "        width: 32px;\n",
              "      }\n",
              "\n",
              "      .colab-df-generate:hover {\n",
              "        background-color: #E2EBFA;\n",
              "        box-shadow: 0px 1px 2px rgba(60, 64, 67, 0.3), 0px 1px 3px 1px rgba(60, 64, 67, 0.15);\n",
              "        fill: #174EA6;\n",
              "      }\n",
              "\n",
              "      [theme=dark] .colab-df-generate {\n",
              "        background-color: #3B4455;\n",
              "        fill: #D2E3FC;\n",
              "      }\n",
              "\n",
              "      [theme=dark] .colab-df-generate:hover {\n",
              "        background-color: #434B5C;\n",
              "        box-shadow: 0px 1px 3px 1px rgba(0, 0, 0, 0.15);\n",
              "        filter: drop-shadow(0px 1px 2px rgba(0, 0, 0, 0.3));\n",
              "        fill: #FFFFFF;\n",
              "      }\n",
              "    </style>\n",
              "    <button class=\"colab-df-generate\" onclick=\"generateWithVariable('df_from_compressed_csv')\"\n",
              "            title=\"Generate code using this dataframe.\"\n",
              "            style=\"display:none;\">\n",
              "\n",
              "  <svg xmlns=\"http://www.w3.org/2000/svg\" height=\"24px\"viewBox=\"0 0 24 24\"\n",
              "       width=\"24px\">\n",
              "    <path d=\"M7,19H8.4L18.45,9,17,7.55,7,17.6ZM5,21V16.75L18.45,3.32a2,2,0,0,1,2.83,0l1.4,1.43a1.91,1.91,0,0,1,.58,1.4,1.91,1.91,0,0,1-.58,1.4L9.25,21ZM18.45,9,17,7.55Zm-12,3A5.31,5.31,0,0,0,4.9,8.1,5.31,5.31,0,0,0,1,6.5,5.31,5.31,0,0,0,4.9,4.9,5.31,5.31,0,0,0,6.5,1,5.31,5.31,0,0,0,8.1,4.9,5.31,5.31,0,0,0,12,6.5,5.46,5.46,0,0,0,6.5,12Z\"/>\n",
              "  </svg>\n",
              "    </button>\n",
              "    <script>\n",
              "      (() => {\n",
              "      const buttonEl =\n",
              "        document.querySelector('#id_86a9da28-cc4d-4b46-a5c0-9ed957236594 button.colab-df-generate');\n",
              "      buttonEl.style.display =\n",
              "        google.colab.kernel.accessAllowed ? 'block' : 'none';\n",
              "\n",
              "      buttonEl.onclick = () => {\n",
              "        google.colab.notebook.generateWithVariable('df_from_compressed_csv');\n",
              "      }\n",
              "      })();\n",
              "    </script>\n",
              "  </div>\n",
              "\n",
              "    </div>\n",
              "  </div>\n"
            ],
            "application/vnd.google.colaboratory.intrinsic+json": {
              "type": "dataframe",
              "variable_name": "df_from_compressed_csv",
              "summary": "{\n  \"name\": \"df_from_compressed_csv\",\n  \"rows\": 3,\n  \"fields\": [\n    {\n      \"column\": \"Producto\",\n      \"properties\": {\n        \"dtype\": \"string\",\n        \"num_unique_values\": 3,\n        \"samples\": [\n          \"Manzanas\",\n          \"Naranjas\",\n          \"Bananas\"\n        ],\n        \"semantic_type\": \"\",\n        \"description\": \"\"\n      }\n    },\n    {\n      \"column\": \"Ventas\",\n      \"properties\": {\n        \"dtype\": \"number\",\n        \"std\": 15,\n        \"min\": 20,\n        \"max\": 50,\n        \"num_unique_values\": 3,\n        \"samples\": [\n          50,\n          30,\n          20\n        ],\n        \"semantic_type\": \"\",\n        \"description\": \"\"\n      }\n    },\n    {\n      \"column\": \"Precio\",\n      \"properties\": {\n        \"dtype\": \"number\",\n        \"std\": 0.2254624876411447,\n        \"min\": 0.3,\n        \"max\": 0.75,\n        \"num_unique_values\": 3,\n        \"samples\": [\n          0.5,\n          0.75,\n          0.3\n        ],\n        \"semantic_type\": \"\",\n        \"description\": \"\"\n      }\n    }\n  ]\n}"
            }
          },
          "metadata": {},
          "execution_count": 9
        }
      ]
    },
    {
      "cell_type": "markdown",
      "source": [
        "4. Documentación y Reproducibilidad: Documenta todos los pasos y parámetros utilizados en la conversión y exportación de datos. Esto es crucial para la reproducibilidad y la transparencia del análisis.\n"
      ],
      "metadata": {
        "id": "1wUueQuZY4DJ"
      }
    },
    {
      "cell_type": "code",
      "source": [
        "# Ejemplo de documentación en el código\n",
        "\"\"\"\n",
        "Este script convierte un DataFrame a diferentes formatos y guarda los resultados en archivos.\n",
        "- DataFrame original: df\n",
        "- Formatos: diccionario, NumPy array, CSV, JSON, Excel\n",
        "- Fecha: 01/01/2023\n",
        "- Autor: Jesús Ortiz\n",
        "\"\"\""
      ],
      "metadata": {
        "colab": {
          "base_uri": "https://localhost:8080/",
          "height": 53
        },
        "id": "dGaxR6wGYugY",
        "outputId": "083d6da2-54a6-4b83-fc9e-d85a094231fc"
      },
      "execution_count": 10,
      "outputs": [
        {
          "output_type": "execute_result",
          "data": {
            "text/plain": [
              "'\\nEste script convierte un DataFrame a diferentes formatos y guarda los resultados en archivos.\\n- DataFrame original: df\\n- Formatos: diccionario, NumPy array, CSV, JSON, Excel\\n- Fecha: 01/01/2023\\n- Autor: Jesús Ortiz\\n'"
            ],
            "application/vnd.google.colaboratory.intrinsic+json": {
              "type": "string"
            }
          },
          "metadata": {},
          "execution_count": 10
        }
      ]
    }
  ]
}