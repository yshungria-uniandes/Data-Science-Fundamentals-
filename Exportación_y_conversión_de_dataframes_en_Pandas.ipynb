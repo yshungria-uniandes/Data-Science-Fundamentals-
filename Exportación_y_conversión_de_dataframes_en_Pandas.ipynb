{
  "nbformat": 4,
  "nbformat_minor": 0,
  "metadata": {
    "colab": {
      "provenance": [],
      "authorship_tag": "ABX9TyMD+In0r0spVhFSvUosvkAM",
      "include_colab_link": true
    },
    "kernelspec": {
      "name": "python3",
      "display_name": "Python 3"
    },
    "language_info": {
      "name": "python"
    }
  },
  "cells": [
    {
      "cell_type": "markdown",
      "metadata": {
        "id": "view-in-github",
        "colab_type": "text"
      },
      "source": [
        "<a href=\"https://colab.research.google.com/github/yshungria-uniandes/Data-Science-Fundamentals-/blob/main/Exportaci%C3%B3n_y_conversi%C3%B3n_de_dataframes_en_Pandas.ipynb\" target=\"_parent\"><img src=\"https://colab.research.google.com/assets/colab-badge.svg\" alt=\"Open In Colab\"/></a>"
      ]
    },
    {
      "cell_type": "markdown",
      "source": [
        "# Exportación y conversión de dataframes en Pandas\n",
        "\n",
        "En este capítulo, exploraremos diversas técnicas y formatos para convertir y guardar DataFrames en Pandas. Estos métodos son esenciales para compartir, almacenar y procesar datos de manera eficiente. Los formatos que discutiremos incluyen diccionarios, arrays, CSV, JSON, Excel, y otros. También veremos cómo importar y exportar datos utilizando estos formatos.\n",
        "\n",
        "## Conversión de DataFrames a Diferentes Formatos\n",
        "\n",
        "Convertir DataFrames a Diccionarios: Convertir un DataFrame a un diccionario puede ser útil cuando necesitas manipular los datos en un formato más flexible o integrarlos en aplicaciones que manejan datos en forma de diccionario."
      ],
      "metadata": {
        "id": "P6sKw1HpU_Pr"
      }
    },
    {
      "cell_type": "code",
      "execution_count": 1,
      "metadata": {
        "colab": {
          "base_uri": "https://localhost:8080/"
        },
        "id": "nZ_4TBdBU7hh",
        "outputId": "1f76b226-714f-4460-bd41-1a931a132187"
      },
      "outputs": [
        {
          "output_type": "stream",
          "name": "stdout",
          "text": [
            "DataFrame convertido a diccionario:\n",
            "{'Producto': {0: 'Manzanas', 1: 'Naranjas', 2: 'Bananas'}, 'Ventas': {0: 50, 1: 30, 2: 20}, 'Precio': {0: 0.5, 1: 0.75, 2: 0.3}}\n"
          ]
        }
      ],
      "source": [
        "import pandas as pd\n",
        "\n",
        "# Crear un DataFrame de ejemplo\n",
        "data = {\n",
        "    'Producto': ['Manzanas', 'Naranjas', 'Bananas'],\n",
        "    'Ventas': [50, 30, 20],\n",
        "    'Precio': [0.5, 0.75, 0.3]\n",
        "}\n",
        "df = pd.DataFrame(data)\n",
        "\n",
        "# Convertir a un diccionario\n",
        "dict_data = df.to_dict()\n",
        "print(\"DataFrame convertido a diccionario:\")\n",
        "print(dict_data)"
      ]
    },
    {
      "cell_type": "code",
      "source": [],
      "metadata": {
        "id": "Tzv8SvOwVjxi"
      },
      "execution_count": null,
      "outputs": []
    }
  ]
}