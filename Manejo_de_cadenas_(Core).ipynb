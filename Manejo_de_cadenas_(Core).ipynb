{
  "nbformat": 4,
  "nbformat_minor": 0,
  "metadata": {
    "colab": {
      "provenance": [],
      "authorship_tag": "ABX9TyMpTvosMFri0hCubD4Jn9Bl",
      "include_colab_link": true
    },
    "kernelspec": {
      "name": "python3",
      "display_name": "Python 3"
    },
    "language_info": {
      "name": "python"
    }
  },
  "cells": [
    {
      "cell_type": "markdown",
      "metadata": {
        "id": "view-in-github",
        "colab_type": "text"
      },
      "source": [
        "<a href=\"https://colab.research.google.com/github/yshungria-uniandes/Data-Science-Fundamentals-/blob/main/Manejo_de_cadenas_(Core).ipynb\" target=\"_parent\"><img src=\"https://colab.research.google.com/assets/colab-badge.svg\" alt=\"Open In Colab\"/></a>"
      ]
    },
    {
      "cell_type": "markdown",
      "source": [
        "# Manejo de cadenas"
      ],
      "metadata": {
        "id": "mC8ZLJyzBvh3"
      }
    },
    {
      "cell_type": "markdown",
      "source": [
        "## Ejercicio 1: Saludo Personalizado"
      ],
      "metadata": {
        "id": "FnoSEozfB2XV"
      }
    },
    {
      "cell_type": "code",
      "source": [
        "nombre = input(\"Ingrese su nombre: \")\n",
        "print(\"Bienvenido apreciado, \" + nombre + \"!\")\n",
        "edad = int(input(\"Ingrese su edad: \"))\n",
        "print(f\"{nombre} Tienes {edad} años.\")"
      ],
      "metadata": {
        "colab": {
          "base_uri": "https://localhost:8080/"
        },
        "id": "eWKHfyxxB08N",
        "outputId": "1e4be127-e31c-4b3b-dd12-5573b005f22f"
      },
      "execution_count": 4,
      "outputs": [
        {
          "output_type": "stream",
          "name": "stdout",
          "text": [
            "Ingrese su nombre: Yojan\n",
            "Bienvenido apreciado, Yojan!\n",
            "Ingrese su edad: 32\n",
            "Yojan Tienes 32 años.\n"
          ]
        }
      ]
    },
    {
      "cell_type": "markdown",
      "source": [
        "## Ejercicio 2: Manipulación de Cadenas\n",
        "* Crea una cadena con tu nombre completo.\n",
        "\n",
        "* Usa los métodos de cadenas para:\n",
        "\n",
        "      Convertir el nombre a mayúsculas y minúsculas.\n",
        "\n",
        "      Contar el número de letras en tu nombre.\n",
        "\n",
        "      Reemplazar tu primer nombre por otro nombre."
      ],
      "metadata": {
        "id": "6IMlp_TWCnJG"
      }
    },
    {
      "cell_type": "code",
      "source": [
        "nombre_completo = 'Yojan Stiben Hungría'\n",
        "print(nombre_completo.upper())\n",
        "print(nombre_completo.lower())\n",
        "print(len(nombre_completo))\n",
        "print(nombre_completo.replace('Yojan', 'Juan'))"
      ],
      "metadata": {
        "colab": {
          "base_uri": "https://localhost:8080/"
        },
        "id": "edyRUmW2CfEC",
        "outputId": "249bd781-a0cd-4374-f5bc-895b1f4fd74a"
      },
      "execution_count": 5,
      "outputs": [
        {
          "output_type": "stream",
          "name": "stdout",
          "text": [
            "YOJAN STIBEN HUNGRÍA\n",
            "yojan stiben hungría\n",
            "20\n",
            "Juan Stiben Hungría\n"
          ]
        }
      ]
    },
    {
      "cell_type": "markdown",
      "source": [
        "## Ejercicio 3: Lista de Nombres\n",
        "\n",
        "* Pide al usuario que ingrese una lista de nombres separados por comas.\n",
        "* Usa split para convertir esta cadena en una lista de nombres.\n",
        "* Imprime cada nombre en una línea separada."
      ],
      "metadata": {
        "id": "LcctB7QJCjbO"
      }
    },
    {
      "cell_type": "code",
      "source": [
        "lista_nombres = input(\"Ingrese una lista de nombres separados por comas: \")\n",
        "lista_nombres = lista_nombres.split(',')\n",
        "print(\"Lista de nombres:\", lista_nombres)\n",
        "for nombre in lista_nombres:\n",
        "    print(nombre.strip())"
      ],
      "metadata": {
        "colab": {
          "base_uri": "https://localhost:8080/"
        },
        "id": "REHFrZrXDS_6",
        "outputId": "af2acae8-07b9-4436-a495-5612ddfcc51e"
      },
      "execution_count": 10,
      "outputs": [
        {
          "output_type": "stream",
          "name": "stdout",
          "text": [
            "Ingrese una lista de nombres separados por comas: Yojan, Stiben, Hungría\n",
            "Lista de nombres: ['Yojan', ' Stiben', ' Hungría']\n",
            "Yojan\n",
            "Stiben\n",
            "Hungría\n"
          ]
        }
      ]
    }
  ]
}